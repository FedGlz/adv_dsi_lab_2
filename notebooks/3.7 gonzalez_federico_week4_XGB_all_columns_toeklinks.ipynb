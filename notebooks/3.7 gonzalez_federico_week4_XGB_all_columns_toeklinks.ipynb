{
 "cells": [
  {
   "cell_type": "markdown",
   "id": "ac5718b6-58d3-4146-970c-644f1d4d57d1",
   "metadata": {},
   "source": [
    "<h3> NBA 5 year careeer prediction using XBoost Classifier"
   ]
  },
  {
   "cell_type": "code",
   "execution_count": 1,
   "id": "ca6cf86d-1201-4b42-9890-54e3132bcc93",
   "metadata": {},
   "outputs": [],
   "source": [
    "import pandas as pd\n",
    "import numpy as np"
   ]
  },
  {
   "cell_type": "markdown",
   "id": "17869c91-ff43-4c0c-b517-336880c0c840",
   "metadata": {},
   "source": [
    "<h4> 1. Load processed sets"
   ]
  },
  {
   "cell_type": "markdown",
   "id": "f5ab5745-696c-42cf-b86d-bf3225460f89",
   "metadata": {},
   "source": [
    "<h5> Loading scaled training, validation and test sets from data_prep step saved on the data/processed folder saving them into X_train, X_val, y_train, y_val, X_test, X_test_ID variables"
   ]
  },
  {
   "cell_type": "code",
   "execution_count": 2,
   "id": "33ed92b8-6971-44f6-9419-a48f8d45871b",
   "metadata": {},
   "outputs": [],
   "source": [
    "#Load Test and validation sets using custom function load_sets\n",
    "from src.data.sets import load_sets"
   ]
  },
  {
   "cell_type": "code",
   "execution_count": 3,
   "id": "8f896d87-99c8-4209-b79b-efd4c0ad28d3",
   "metadata": {},
   "outputs": [],
   "source": [
    "X_train, X_val, y_train, y_val, X_test, X_test_ID = load_sets()"
   ]
  },
  {
   "cell_type": "markdown",
   "id": "ec23177f-384f-465a-a8fe-6397fad3799c",
   "metadata": {},
   "source": [
    "<h5> Reviewing weight of the minority vs mayority class to be used from the imported sets that had been re-sampled. As we can see, the training sets are 50% balanced"
   ]
  },
  {
   "cell_type": "code",
   "execution_count": 4,
   "id": "3c479379-7f05-43e4-b1e9-db9b6504496c",
   "metadata": {},
   "outputs": [
    {
     "data": {
      "text/plain": [
       "1.0"
      ]
     },
     "execution_count": 4,
     "metadata": {},
     "output_type": "execute_result"
    }
   ],
   "source": [
    "# calculating weights for unbalanced data validation\n",
    "sum_wpos = len([item for item in y_train if item==1 ])\n",
    "sum_wneg = len([item for item in y_train if item==0 ])\n",
    "sum_wneg/sum_wpos"
   ]
  },
  {
   "cell_type": "markdown",
   "id": "6c9dd78f-7205-4310-9bfe-5c30cacd4c06",
   "metadata": {},
   "source": [
    "<h4> 2. Import Random Forest"
   ]
  },
  {
   "cell_type": "markdown",
   "id": "0a8f5c91-9d2e-43ef-87ba-f193bb7f8375",
   "metadata": {},
   "source": [
    "<h5> Importing and fitting Random Forest Classifier"
   ]
  },
  {
   "cell_type": "code",
   "execution_count": 5,
   "id": "49734e9d-1a7f-4e1d-9174-38a9e4a27000",
   "metadata": {},
   "outputs": [],
   "source": [
    "import xgboost as xgb"
   ]
  },
  {
   "cell_type": "code",
   "execution_count": 6,
   "id": "5db7e76f-f01d-42b6-a74f-d154d9435236",
   "metadata": {},
   "outputs": [],
   "source": [
    "ml_model = xgb.XGBClassifier(\n",
    "                                max_depth = 4,\n",
    "                                learning_rate = 0.1,\n",
    "                                min_child_weight = 2,\n",
    "                                subsample = 0.5,\n",
    "                                colsample_bytree = 0.5,\n",
    "                                reg_alpha = 0,\n",
    "                                reg_lambda = 1,\n",
    "                                scale_pos_weight= sum_wneg/sum_wpos\n",
    "                            )"
   ]
  },
  {
   "cell_type": "code",
   "execution_count": 7,
   "id": "d1235ddb-34a6-404d-81c2-a08eb021b8d3",
   "metadata": {},
   "outputs": [],
   "source": [
    "from sklearn.linear_model import LogisticRegression"
   ]
  },
  {
   "cell_type": "markdown",
   "id": "fddd2125-7920-4e5f-8770-20f9d3396d32",
   "metadata": {},
   "source": [
    "<h4> 2.2 Importing predictors names saved"
   ]
  },
  {
   "cell_type": "markdown",
   "id": "579e2530-770f-409c-a77c-8ff97214b528",
   "metadata": {},
   "source": [
    "<h5> As column importance is given in order of appearance on the scaled set, importing column names saved in data_prep for easy visualization and identification will be performed"
   ]
  },
  {
   "cell_type": "markdown",
   "id": "1d8e19d9-0fff-40d2-9fac-a6d55a545641",
   "metadata": {},
   "source": [
    "<h5> Importing predictor column names and combining with relevant columns to find out the best feature predictors"
   ]
  },
  {
   "cell_type": "code",
   "execution_count": 8,
   "id": "04693028-5f0c-43d7-89d3-82a7c45d1b76",
   "metadata": {},
   "outputs": [],
   "source": [
    "#predictors  = pd.read_csv('../data/interim/predictor_names.csv')"
   ]
  },
  {
   "cell_type": "code",
   "execution_count": 9,
   "id": "33a33d15-2458-433b-b32b-51877eb92426",
   "metadata": {},
   "outputs": [],
   "source": [
    "#predictors_df = predictors.copy()"
   ]
  },
  {
   "cell_type": "code",
   "execution_count": 10,
   "id": "3d64d12d-a538-4532-8f30-139a8ff1fa30",
   "metadata": {},
   "outputs": [],
   "source": [
    "#predictors = predictors['names'].tolist()"
   ]
  },
  {
   "cell_type": "markdown",
   "id": "8249683a-d4a1-41c0-a98a-2102dc55df5f",
   "metadata": {},
   "source": [
    "<h4> 3. Train RF Classifier with new calculated training sets"
   ]
  },
  {
   "cell_type": "markdown",
   "id": "d3e3d63e-6b67-4bd7-9e05-cb26fd1f7c31",
   "metadata": {},
   "source": [
    "<h5> Next up, the RF classifier will be imported and trained with the new training set and saved into the models folder"
   ]
  },
  {
   "cell_type": "code",
   "execution_count": 11,
   "id": "d16f5a64-be9a-4490-b849-296495959c28",
   "metadata": {},
   "outputs": [
    {
     "name": "stdout",
     "output_type": "stream",
     "text": [
      "[0]\tvalidation_0-auc:0.67313\n",
      "[1]\tvalidation_0-auc:0.66058\n",
      "[2]\tvalidation_0-auc:0.69473\n"
     ]
    },
    {
     "name": "stderr",
     "output_type": "stream",
     "text": [
      "/opt/conda/lib/python3.10/site-packages/xgboost/sklearn.py:861: UserWarning: `eval_metric` in `fit` method is deprecated for better compatibility with scikit-learn, use `eval_metric` in constructor or`set_params` instead.\n",
      "  warnings.warn(\n",
      "/opt/conda/lib/python3.10/site-packages/xgboost/sklearn.py:861: UserWarning: `early_stopping_rounds` in `fit` method is deprecated for better compatibility with scikit-learn, use `early_stopping_rounds` in constructor or`set_params` instead.\n",
      "  warnings.warn(\n"
     ]
    },
    {
     "name": "stdout",
     "output_type": "stream",
     "text": [
      "[3]\tvalidation_0-auc:0.69229\n",
      "[4]\tvalidation_0-auc:0.69014\n",
      "[5]\tvalidation_0-auc:0.69283\n",
      "[6]\tvalidation_0-auc:0.69080\n",
      "[7]\tvalidation_0-auc:0.69104\n",
      "[8]\tvalidation_0-auc:0.69004\n",
      "[9]\tvalidation_0-auc:0.68933\n",
      "[10]\tvalidation_0-auc:0.69470\n",
      "[11]\tvalidation_0-auc:0.69463\n",
      "[12]\tvalidation_0-auc:0.69683\n",
      "[13]\tvalidation_0-auc:0.69286\n",
      "[14]\tvalidation_0-auc:0.69009\n",
      "[15]\tvalidation_0-auc:0.69468\n",
      "[16]\tvalidation_0-auc:0.70103\n",
      "[17]\tvalidation_0-auc:0.70102\n",
      "[18]\tvalidation_0-auc:0.70054\n",
      "[19]\tvalidation_0-auc:0.69994\n",
      "[20]\tvalidation_0-auc:0.70255\n",
      "[21]\tvalidation_0-auc:0.69860\n",
      "[22]\tvalidation_0-auc:0.69901\n",
      "[23]\tvalidation_0-auc:0.69787\n",
      "[24]\tvalidation_0-auc:0.69703\n",
      "[25]\tvalidation_0-auc:0.69775\n",
      "[26]\tvalidation_0-auc:0.69627\n",
      "[27]\tvalidation_0-auc:0.69683\n",
      "[28]\tvalidation_0-auc:0.69786\n",
      "[29]\tvalidation_0-auc:0.69613\n",
      "[30]\tvalidation_0-auc:0.69494\n"
     ]
    },
    {
     "data": {
      "text/html": [
       "<style>#sk-container-id-1 {color: black;background-color: white;}#sk-container-id-1 pre{padding: 0;}#sk-container-id-1 div.sk-toggleable {background-color: white;}#sk-container-id-1 label.sk-toggleable__label {cursor: pointer;display: block;width: 100%;margin-bottom: 0;padding: 0.3em;box-sizing: border-box;text-align: center;}#sk-container-id-1 label.sk-toggleable__label-arrow:before {content: \"▸\";float: left;margin-right: 0.25em;color: #696969;}#sk-container-id-1 label.sk-toggleable__label-arrow:hover:before {color: black;}#sk-container-id-1 div.sk-estimator:hover label.sk-toggleable__label-arrow:before {color: black;}#sk-container-id-1 div.sk-toggleable__content {max-height: 0;max-width: 0;overflow: hidden;text-align: left;background-color: #f0f8ff;}#sk-container-id-1 div.sk-toggleable__content pre {margin: 0.2em;color: black;border-radius: 0.25em;background-color: #f0f8ff;}#sk-container-id-1 input.sk-toggleable__control:checked~div.sk-toggleable__content {max-height: 200px;max-width: 100%;overflow: auto;}#sk-container-id-1 input.sk-toggleable__control:checked~label.sk-toggleable__label-arrow:before {content: \"▾\";}#sk-container-id-1 div.sk-estimator input.sk-toggleable__control:checked~label.sk-toggleable__label {background-color: #d4ebff;}#sk-container-id-1 div.sk-label input.sk-toggleable__control:checked~label.sk-toggleable__label {background-color: #d4ebff;}#sk-container-id-1 input.sk-hidden--visually {border: 0;clip: rect(1px 1px 1px 1px);clip: rect(1px, 1px, 1px, 1px);height: 1px;margin: -1px;overflow: hidden;padding: 0;position: absolute;width: 1px;}#sk-container-id-1 div.sk-estimator {font-family: monospace;background-color: #f0f8ff;border: 1px dotted black;border-radius: 0.25em;box-sizing: border-box;margin-bottom: 0.5em;}#sk-container-id-1 div.sk-estimator:hover {background-color: #d4ebff;}#sk-container-id-1 div.sk-parallel-item::after {content: \"\";width: 100%;border-bottom: 1px solid gray;flex-grow: 1;}#sk-container-id-1 div.sk-label:hover label.sk-toggleable__label {background-color: #d4ebff;}#sk-container-id-1 div.sk-serial::before {content: \"\";position: absolute;border-left: 1px solid gray;box-sizing: border-box;top: 0;bottom: 0;left: 50%;z-index: 0;}#sk-container-id-1 div.sk-serial {display: flex;flex-direction: column;align-items: center;background-color: white;padding-right: 0.2em;padding-left: 0.2em;position: relative;}#sk-container-id-1 div.sk-item {position: relative;z-index: 1;}#sk-container-id-1 div.sk-parallel {display: flex;align-items: stretch;justify-content: center;background-color: white;position: relative;}#sk-container-id-1 div.sk-item::before, #sk-container-id-1 div.sk-parallel-item::before {content: \"\";position: absolute;border-left: 1px solid gray;box-sizing: border-box;top: 0;bottom: 0;left: 50%;z-index: -1;}#sk-container-id-1 div.sk-parallel-item {display: flex;flex-direction: column;z-index: 1;position: relative;background-color: white;}#sk-container-id-1 div.sk-parallel-item:first-child::after {align-self: flex-end;width: 50%;}#sk-container-id-1 div.sk-parallel-item:last-child::after {align-self: flex-start;width: 50%;}#sk-container-id-1 div.sk-parallel-item:only-child::after {width: 0;}#sk-container-id-1 div.sk-dashed-wrapped {border: 1px dashed gray;margin: 0 0.4em 0.5em 0.4em;box-sizing: border-box;padding-bottom: 0.4em;background-color: white;}#sk-container-id-1 div.sk-label label {font-family: monospace;font-weight: bold;display: inline-block;line-height: 1.2em;}#sk-container-id-1 div.sk-label-container {text-align: center;}#sk-container-id-1 div.sk-container {/* jupyter's `normalize.less` sets `[hidden] { display: none; }` but bootstrap.min.css set `[hidden] { display: none !important; }` so we also need the `!important` here to be able to override the default hidden behavior on the sphinx rendered scikit-learn.org. See: https://github.com/scikit-learn/scikit-learn/issues/21755 */display: inline-block !important;position: relative;}#sk-container-id-1 div.sk-text-repr-fallback {display: none;}</style><div id=\"sk-container-id-1\" class=\"sk-top-container\"><div class=\"sk-text-repr-fallback\"><pre>XGBClassifier(base_score=0.5, booster=&#x27;gbtree&#x27;, callbacks=None,\n",
       "              colsample_bylevel=1, colsample_bynode=1, colsample_bytree=0.5,\n",
       "              early_stopping_rounds=None, enable_categorical=False,\n",
       "              eval_metric=None, feature_types=None, gamma=0, gpu_id=-1,\n",
       "              grow_policy=&#x27;depthwise&#x27;, importance_type=None,\n",
       "              interaction_constraints=&#x27;&#x27;, learning_rate=0.1, max_bin=256,\n",
       "              max_cat_threshold=64, max_cat_to_onehot=4, max_delta_step=0,\n",
       "              max_depth=4, max_leaves=0, min_child_weight=2, missing=nan,\n",
       "              monotone_constraints=&#x27;()&#x27;, n_estimators=100, n_jobs=0,\n",
       "              num_parallel_tree=1, predictor=&#x27;auto&#x27;, random_state=0, ...)</pre><b>In a Jupyter environment, please rerun this cell to show the HTML representation or trust the notebook. <br />On GitHub, the HTML representation is unable to render, please try loading this page with nbviewer.org.</b></div><div class=\"sk-container\" hidden><div class=\"sk-item\"><div class=\"sk-estimator sk-toggleable\"><input class=\"sk-toggleable__control sk-hidden--visually\" id=\"sk-estimator-id-1\" type=\"checkbox\" checked><label for=\"sk-estimator-id-1\" class=\"sk-toggleable__label sk-toggleable__label-arrow\">XGBClassifier</label><div class=\"sk-toggleable__content\"><pre>XGBClassifier(base_score=0.5, booster=&#x27;gbtree&#x27;, callbacks=None,\n",
       "              colsample_bylevel=1, colsample_bynode=1, colsample_bytree=0.5,\n",
       "              early_stopping_rounds=None, enable_categorical=False,\n",
       "              eval_metric=None, feature_types=None, gamma=0, gpu_id=-1,\n",
       "              grow_policy=&#x27;depthwise&#x27;, importance_type=None,\n",
       "              interaction_constraints=&#x27;&#x27;, learning_rate=0.1, max_bin=256,\n",
       "              max_cat_threshold=64, max_cat_to_onehot=4, max_delta_step=0,\n",
       "              max_depth=4, max_leaves=0, min_child_weight=2, missing=nan,\n",
       "              monotone_constraints=&#x27;()&#x27;, n_estimators=100, n_jobs=0,\n",
       "              num_parallel_tree=1, predictor=&#x27;auto&#x27;, random_state=0, ...)</pre></div></div></div></div></div>"
      ],
      "text/plain": [
       "XGBClassifier(base_score=0.5, booster='gbtree', callbacks=None,\n",
       "              colsample_bylevel=1, colsample_bynode=1, colsample_bytree=0.5,\n",
       "              early_stopping_rounds=None, enable_categorical=False,\n",
       "              eval_metric=None, feature_types=None, gamma=0, gpu_id=-1,\n",
       "              grow_policy='depthwise', importance_type=None,\n",
       "              interaction_constraints='', learning_rate=0.1, max_bin=256,\n",
       "              max_cat_threshold=64, max_cat_to_onehot=4, max_delta_step=0,\n",
       "              max_depth=4, max_leaves=0, min_child_weight=2, missing=nan,\n",
       "              monotone_constraints='()', n_estimators=100, n_jobs=0,\n",
       "              num_parallel_tree=1, predictor='auto', random_state=0, ...)"
      ]
     },
     "execution_count": 11,
     "metadata": {},
     "output_type": "execute_result"
    }
   ],
   "source": [
    "ml_model.fit(X_train, y_train , early_stopping_rounds=10, \n",
    "              eval_metric='auc', eval_set=[(X_val,y_val)])"
   ]
  },
  {
   "cell_type": "markdown",
   "id": "2160c5dd-64fd-43a7-8ffc-45176dc62d0e",
   "metadata": {},
   "source": [
    "<h5> After the model has been fitted, it will be saved in the models folder in case it needs to be re-called on a later process"
   ]
  },
  {
   "cell_type": "code",
   "execution_count": 12,
   "id": "e9981f3d-8bf5-41c0-8e26-c00024790792",
   "metadata": {},
   "outputs": [],
   "source": [
    "from sklearn.metrics import accuracy_score"
   ]
  },
  {
   "cell_type": "code",
   "execution_count": 13,
   "id": "c6d9f5c5-60f8-4f34-928c-0fd0fb55d5b1",
   "metadata": {},
   "outputs": [],
   "source": [
    "#Save model in the models folder\n",
    "#from joblib import dump\n",
    "#dump(rf_model, '../models/RF5.joblib')"
   ]
  },
  {
   "cell_type": "markdown",
   "id": "db6d4407-9b8c-40d8-98ce-42250adf55b0",
   "metadata": {},
   "source": [
    "<h4> 3.1 Generate predictions for training and validation sets in order to compare accuracy and AUROC"
   ]
  },
  {
   "cell_type": "markdown",
   "id": "ae4ab9df-423e-4aed-a10c-ff2788a7a055",
   "metadata": {},
   "source": [
    "<h5> The fitted model will be used to predict the validation and test set"
   ]
  },
  {
   "cell_type": "code",
   "execution_count": 14,
   "id": "741ccb0d-fbd0-4a6a-8113-aac33fb9e30e",
   "metadata": {},
   "outputs": [],
   "source": [
    "y_val_preds = ml_model.predict(X_val)"
   ]
  },
  {
   "cell_type": "code",
   "execution_count": 15,
   "id": "fb4dbc32-1dde-43a0-96a0-f02be0fb726f",
   "metadata": {},
   "outputs": [],
   "source": [
    "y_trainpreds = ml_model.predict(X_train)"
   ]
  },
  {
   "cell_type": "markdown",
   "id": "170de4fd-e7eb-4bf8-aa7d-d2ff41f874b0",
   "metadata": {},
   "source": [
    "<h4> 3.2 Calculate model score in training and validation sets to assess fitting accuracy"
   ]
  },
  {
   "cell_type": "code",
   "execution_count": 16,
   "id": "524da714-e72a-4550-9b0d-438e68e0e0e7",
   "metadata": {},
   "outputs": [
    {
     "data": {
      "text/plain": [
       "0.8020659780073309"
      ]
     },
     "execution_count": 16,
     "metadata": {},
     "output_type": "execute_result"
    }
   ],
   "source": [
    "ml_model.score(X_train, y_train)"
   ]
  },
  {
   "cell_type": "code",
   "execution_count": 17,
   "id": "77248cb8-8ef9-457e-9088-197dfbe29149",
   "metadata": {},
   "outputs": [
    {
     "data": {
      "text/plain": [
       "0.7425"
      ]
     },
     "execution_count": 17,
     "metadata": {},
     "output_type": "execute_result"
    }
   ],
   "source": [
    "ml_model.score(X_val, y_val)"
   ]
  },
  {
   "cell_type": "markdown",
   "id": "71c86383-241b-47cc-a2c7-388d02c5ff55",
   "metadata": {},
   "source": [
    "<h5> The training model shows a perfect fit with the training set, however, the model score drops to 0.82 on the validation set suggesting there is overfitting in the training set"
   ]
  },
  {
   "cell_type": "markdown",
   "id": "da6dde7e-639d-4f88-98cb-210e2eb34873",
   "metadata": {},
   "source": [
    "<h4> 4 Analysis of the validation set"
   ]
  },
  {
   "cell_type": "markdown",
   "id": "db565169-7cf6-45e2-9488-ac2fa22f74a9",
   "metadata": {},
   "source": [
    "<h5> 4.1 Confusion Matrix"
   ]
  },
  {
   "cell_type": "markdown",
   "id": "4d914344-5105-455f-8bd5-c842bec9ee41",
   "metadata": {},
   "source": [
    "<h5> Analysis of the results will be done through a confusion matrix and AUROC to gather insights as to where the accuracy/innacuracy exists in order to improve the model in future experiments <br> <br> We'll look into a confusion matrix to see the distribution of the predictions from the model"
   ]
  },
  {
   "cell_type": "code",
   "execution_count": 18,
   "id": "db6126a4-a848-472f-aa79-d3888cada307",
   "metadata": {},
   "outputs": [],
   "source": [
    "from sklearn.metrics import confusion_matrix\n",
    "from sklearn.metrics import plot_confusion_matrix\n",
    "import matplotlib.pyplot as plt"
   ]
  },
  {
   "cell_type": "code",
   "execution_count": 25,
   "id": "98143b95-42ad-4a36-b89b-ab3be1efc4af",
   "metadata": {
    "tags": []
   },
   "outputs": [
    {
     "data": {
      "image/png": "[encoded data removed]",
      "text/plain": [
       "<Figure size 500x500 with 1 Axes>"
      ]
     },
     "metadata": {},
     "output_type": "display_data"
    }
   ],
   "source": [
    "cm = confusion_matrix(y_val, y_val_preds , normalize='true'\n",
    "                     )\n",
    "\n",
    "fig, ax = plt.subplots(figsize=(5, 5))\n",
    "ax.imshow(cm)\n",
    "ax.grid(False)\n",
    "ax.xaxis.set(ticks=(0, 1), ticklabels=('Predicted 0s', 'Predicted 1s'))\n",
    "ax.yaxis.set(ticks=(0, 1), ticklabels=('Actual 0s', 'Actual 1s'))\n",
    "ax.set_ylim(1.5, -0.5)\n",
    "for i in range(2):\n",
    "    for j in range(2):\n",
    "        ax.text(j, i, cm[i, j], ha='center', va='center', color='white')\n",
    "plt.show()"
   ]
  },
  {
   "cell_type": "markdown",
   "id": "e3052554-0c95-40d8-a11c-746f8158a3ce",
   "metadata": {},
   "source": [
    "<h5> As seen in the confusion matrix, 92% of true positive target was predicted correctly, however, 97% of negative target was predicted incorrectly (false positive)"
   ]
  },
  {
   "cell_type": "markdown",
   "id": "a603580b-d49d-490a-ae94-b901bdc8e830",
   "metadata": {},
   "source": [
    "<h5> 4.2 AUROC"
   ]
  },
  {
   "cell_type": "code",
   "execution_count": 20,
   "id": "25162f77-d3aa-458e-b2da-3cd2be78a0d9",
   "metadata": {},
   "outputs": [],
   "source": [
    "import scikitplot as skplt\n",
    "import matplotlib.pyplot as plt"
   ]
  },
  {
   "cell_type": "code",
   "execution_count": 21,
   "id": "7b2248fa-90c6-4bf5-aee9-2af25a601a01",
   "metadata": {},
   "outputs": [],
   "source": [
    "y_val_prob = ml_model.predict_proba(X_val)"
   ]
  },
  {
   "cell_type": "code",
   "execution_count": 22,
   "id": "9afa6131-5a87-474d-b7ef-364197de664d",
   "metadata": {},
   "outputs": [
    {
     "data": {
      "image/png": "[encoded data removed]",
      "text/plain": [
       "<Figure size 640x480 with 1 Axes>"
      ]
     },
     "metadata": {},
     "output_type": "display_data"
    }
   ],
   "source": [
    "skplt.metrics.plot_roc(y_val, y_val_prob)\n",
    "plt.show()"
   ]
  },
  {
   "cell_type": "markdown",
   "id": "8e01ed36-85e1-453f-aaca-9fffb7448054",
   "metadata": {},
   "source": [
    "<h5> When analysing AUROC on the validation set, the mean ROC AUC is 0.67, meaning the model is predicting only 69% of the instances correctly"
   ]
  },
  {
   "cell_type": "markdown",
   "id": "e5262103-a90d-4a4e-a822-10bfa9be3b55",
   "metadata": {},
   "source": [
    "<h5> 4.3 Analysis of false positives vs positives to identify patterns"
   ]
  },
  {
   "cell_type": "markdown",
   "id": "388c73ce-1172-40a6-a3d6-11729cdf9eb6",
   "metadata": {},
   "source": [
    "<h5> Analysing true positives vs false positives as this is where the model is not accurately predicting the target"
   ]
  },
  {
   "cell_type": "code",
   "execution_count": 23,
   "id": "84871292-e375-47f4-890f-9797ee88fc23",
   "metadata": {},
   "outputs": [],
   "source": [
    "#X_val_df = pd. DataFrame(X_val, columns = predictors)"
   ]
  },
  {
   "cell_type": "code",
   "execution_count": 24,
   "id": "dd0421e9-009b-4146-932f-f277484311fd",
   "metadata": {},
   "outputs": [
    {
     "ename": "NameError",
     "evalue": "name 'X_val_df' is not defined",
     "output_type": "error",
     "traceback": [
      "\u001b[0;31m---------------------------------------------------------------------------\u001b[0m",
      "\u001b[0;31mNameError\u001b[0m                                 Traceback (most recent call last)",
      "Cell \u001b[0;32mIn [24], line 2\u001b[0m\n\u001b[1;32m      1\u001b[0m y_val_list \u001b[38;5;241m=\u001b[39m y_val\u001b[38;5;241m.\u001b[39mtolist()\n\u001b[0;32m----> 2\u001b[0m \u001b[43mX_val_df\u001b[49m[\u001b[38;5;124m'\u001b[39m\u001b[38;5;124my_val\u001b[39m\u001b[38;5;124m'\u001b[39m]\u001b[38;5;241m=\u001b[39my_val_list\n",
      "\u001b[0;31mNameError\u001b[0m: name 'X_val_df' is not defined"
     ]
    }
   ],
   "source": [
    "y_val_list = y_val.tolist()\n",
    "X_val_df['y_val']=y_val_list"
   ]
  },
  {
   "cell_type": "code",
   "execution_count": null,
   "id": "a9bd8c4e-a766-41a8-9f72-d08cf54c5628",
   "metadata": {},
   "outputs": [],
   "source": [
    "X_val_df['y_val_preds']=y_val_preds"
   ]
  },
  {
   "cell_type": "code",
   "execution_count": null,
   "id": "cb6cae0a-8cd4-4e48-8759-ed7e27251d3c",
   "metadata": {},
   "outputs": [],
   "source": [
    "#True Negatives\n",
    "X_val_true_neg = X_val_df[(X_val_df['y_val']==0)&(X_val_df['y_val_preds']==0)]\n",
    "X_val_true_neg.describe()"
   ]
  },
  {
   "cell_type": "code",
   "execution_count": null,
   "id": "05b1aa3a-96ad-4a18-933f-7e3701a3a370",
   "metadata": {},
   "outputs": [],
   "source": [
    "X_val_true_neg.shape"
   ]
  },
  {
   "cell_type": "code",
   "execution_count": null,
   "id": "664d16e9-2da6-4735-8bf0-19f16274adb6",
   "metadata": {},
   "outputs": [],
   "source": [
    "#False Positive\n",
    "X_val_false_pos = X_val_df[(X_val_df['y_val']==0)&(X_val_df['y_val_preds']==1)]\n",
    "X_val_false_pos.describe()"
   ]
  },
  {
   "cell_type": "code",
   "execution_count": null,
   "id": "6cb03f9c-a7de-4012-93de-47a2d940f8f9",
   "metadata": {},
   "outputs": [],
   "source": [
    "X_val_false_pos.shape"
   ]
  },
  {
   "cell_type": "code",
   "execution_count": null,
   "id": "71de1250-de4d-46ef-875f-0bbe6d3d088e",
   "metadata": {},
   "outputs": [],
   "source": [
    "# True Positives\n",
    "X_val_true_pos = X_val_df[(X_val_df['y_val']==1)&(X_val_df['y_val_preds']==1)]\n",
    "X_val_true_pos.describe()"
   ]
  },
  {
   "cell_type": "code",
   "execution_count": null,
   "id": "c052876d-0f70-4012-adcd-baa51b9eb228",
   "metadata": {},
   "outputs": [],
   "source": [
    "X_val_true_pos.shape"
   ]
  },
  {
   "cell_type": "code",
   "execution_count": null,
   "id": "90822c48-701c-4164-9740-2a83a8aeb45d",
   "metadata": {},
   "outputs": [],
   "source": [
    "# False Negative\n",
    "X_val_false_neg = X_val_df[(X_val_df['y_val']==1)&(X_val_df['y_val_preds']==0)]\n",
    "X_val_false_neg.describe()"
   ]
  },
  {
   "cell_type": "code",
   "execution_count": null,
   "id": "93bea6fa-5f09-415a-9ca6-04aebd89ba45",
   "metadata": {},
   "outputs": [],
   "source": [
    "X_val_false_neg.shape"
   ]
  },
  {
   "cell_type": "markdown",
   "id": "a150af8a-3989-4085-b7e9-1c4200eccd64",
   "metadata": {},
   "source": [
    "<h5> True positives have very similar statistics than false positives making it difficult for the model to correclty classify the observations from that boundary <br> <br>\n",
    "    additional sampling experimentation needs to be done for the observations in this boundary\n",
    "    "
   ]
  },
  {
   "cell_type": "markdown",
   "id": "cc27377b-6186-4b9b-ba43-739046c8b30e",
   "metadata": {},
   "source": [
    "<h4> 5 Generate predictions on the test set for Kaggle submission"
   ]
  },
  {
   "cell_type": "markdown",
   "id": "6a6c50f5-0d06-4416-aa3c-7267212b8dd5",
   "metadata": {},
   "source": [
    "<h5> The final step is to generate the prediction probabilities from the test set in order to evaluate the score from Kaggle via csv upload"
   ]
  },
  {
   "cell_type": "code",
   "execution_count": null,
   "id": "76a69c1f-3c7e-48c7-a470-d72060654870",
   "metadata": {},
   "outputs": [],
   "source": [
    "y_test_preds = ml_model.predict_proba(X_test)"
   ]
  },
  {
   "cell_type": "code",
   "execution_count": null,
   "id": "d8b3ea43-2d09-45a1-ab43-f5c4659f0ef3",
   "metadata": {},
   "outputs": [],
   "source": [
    "#Create Data Frame for Doc printing\n",
    "df =pd.DataFrame()"
   ]
  },
  {
   "cell_type": "code",
   "execution_count": null,
   "id": "2a395ced-dc63-4875-a0b2-972b9158d158",
   "metadata": {},
   "outputs": [],
   "source": [
    "y_test_preds"
   ]
  },
  {
   "cell_type": "code",
   "execution_count": null,
   "id": "b0221d9b-b513-44fd-ae69-f2979e18d266",
   "metadata": {},
   "outputs": [],
   "source": [
    "target_prob = y_test_preds\n",
    "target_prob = [item[1] for item in y_test_preds]"
   ]
  },
  {
   "cell_type": "code",
   "execution_count": null,
   "id": "e0440476-83b2-4909-a46b-6cedfb5b8f03",
   "metadata": {},
   "outputs": [],
   "source": [
    "df['Id'] = X_test_ID\n",
    "df['TARGET_5Yrs'] = target_prob"
   ]
  },
  {
   "cell_type": "code",
   "execution_count": null,
   "id": "4909e66f-ed64-45f5-95fd-340ad1b731d7",
   "metadata": {},
   "outputs": [],
   "source": [
    "df.head()"
   ]
  },
  {
   "cell_type": "code",
   "execution_count": null,
   "id": "d6eb3b2d-e232-4b64-a20d-169898089bdd",
   "metadata": {},
   "outputs": [],
   "source": [
    "#Saving predictions into csv\n",
    "df.to_csv('../data/external/Kaggle_submission_XGB_smote_team_trial.csv', index=False)"
   ]
  },
  {
   "cell_type": "markdown",
   "id": "8896664f-a046-4a8b-bd39-789705b4c09f",
   "metadata": {},
   "source": [
    "<h5> Kaggle submission score is 0.68 which is in line with the AUROC metric"
   ]
  }
 ],
 "metadata": {
  "kernelspec": {
   "display_name": "Python 3 (ipykernel)",
   "language": "python",
   "name": "python3"
  },
  "language_info": {
   "codemirror_mode": {
    "name": "ipython",
    "version": 3
   },
   "file_extension": ".py",
   "mimetype": "text/x-python",
   "name": "python",
   "nbconvert_exporter": "python",
   "pygments_lexer": "ipython3",
   "version": "3.10.6"
  }
 },
 "nbformat": 4,
 "nbformat_minor": 5
}
