{
 "cells": [
  {
   "cell_type": "markdown",
   "id": "ac5718b6-58d3-4146-970c-644f1d4d57d1",
   "metadata": {},
   "source": [
    "<h3> NBA 5 year careeer prediction using XBoost Classifier"
   ]
  },
  {
   "cell_type": "code",
   "execution_count": 1,
   "id": "ca6cf86d-1201-4b42-9890-54e3132bcc93",
   "metadata": {},
   "outputs": [],
   "source": [
    "import pandas as pd\n",
    "import numpy as np"
   ]
  },
  {
   "cell_type": "markdown",
   "id": "17869c91-ff43-4c0c-b517-336880c0c840",
   "metadata": {},
   "source": [
    "<h4> 1. Load processed sets"
   ]
  },
  {
   "cell_type": "markdown",
   "id": "f5ab5745-696c-42cf-b86d-bf3225460f89",
   "metadata": {},
   "source": [
    "<h5> Loading scaled training, validation and test sets from data_prep step saved on the data/processed folder saving them into X_train, X_val, y_train, y_val, X_test, X_test_ID variables"
   ]
  },
  {
   "cell_type": "code",
   "execution_count": 2,
   "id": "33ed92b8-6971-44f6-9419-a48f8d45871b",
   "metadata": {},
   "outputs": [],
   "source": [
    "#Load Test and validation sets using custom function load_sets\n",
    "from src.data.sets import load_sets"
   ]
  },
  {
   "cell_type": "code",
   "execution_count": 3,
   "id": "8f896d87-99c8-4209-b79b-efd4c0ad28d3",
   "metadata": {},
   "outputs": [],
   "source": [
    "X_train, X_val, y_train, y_val, X_test, X_test_ID = load_sets()"
   ]
  },
  {
   "cell_type": "markdown",
   "id": "6c9dd78f-7205-4310-9bfe-5c30cacd4c06",
   "metadata": {},
   "source": [
    "<h4> 2. Import XGBoost"
   ]
  },
  {
   "cell_type": "markdown",
   "id": "0a8f5c91-9d2e-43ef-87ba-f193bb7f8375",
   "metadata": {},
   "source": [
    "<h5> Importing and fitting XGBoost Classifier specifying early_stopping_rounds=10 to stop the model after 10 iterations without improving in the predictions, n_estimators=200 and evaluation metric=aucpr to meassure the accuracy of the model vs the validation set"
   ]
  },
  {
   "cell_type": "code",
   "execution_count": 4,
   "id": "49734e9d-1a7f-4e1d-9174-38a9e4a27000",
   "metadata": {},
   "outputs": [],
   "source": [
    "import xgboost as xgb"
   ]
  },
  {
   "cell_type": "markdown",
   "id": "38bd5577-2d72-420d-95a5-a99afb4beb02",
   "metadata": {},
   "source": [
    "<h4> 2.1 Analyse features importance in random forest model with current training sets"
   ]
  },
  {
   "cell_type": "code",
   "execution_count": 5,
   "id": "5db7e76f-f01d-42b6-a74f-d154d9435236",
   "metadata": {},
   "outputs": [],
   "source": [
    "xgb_model = xgb.XGBClassifier()"
   ]
  },
  {
   "cell_type": "code",
   "execution_count": 6,
   "id": "e9247957-c127-48ba-8631-e187a72acb2d",
   "metadata": {},
   "outputs": [
    {
     "data": {
      "text/html": [
       "<style>#sk-container-id-1 {color: black;background-color: white;}#sk-container-id-1 pre{padding: 0;}#sk-container-id-1 div.sk-toggleable {background-color: white;}#sk-container-id-1 label.sk-toggleable__label {cursor: pointer;display: block;width: 100%;margin-bottom: 0;padding: 0.3em;box-sizing: border-box;text-align: center;}#sk-container-id-1 label.sk-toggleable__label-arrow:before {content: \"▸\";float: left;margin-right: 0.25em;color: #696969;}#sk-container-id-1 label.sk-toggleable__label-arrow:hover:before {color: black;}#sk-container-id-1 div.sk-estimator:hover label.sk-toggleable__label-arrow:before {color: black;}#sk-container-id-1 div.sk-toggleable__content {max-height: 0;max-width: 0;overflow: hidden;text-align: left;background-color: #f0f8ff;}#sk-container-id-1 div.sk-toggleable__content pre {margin: 0.2em;color: black;border-radius: 0.25em;background-color: #f0f8ff;}#sk-container-id-1 input.sk-toggleable__control:checked~div.sk-toggleable__content {max-height: 200px;max-width: 100%;overflow: auto;}#sk-container-id-1 input.sk-toggleable__control:checked~label.sk-toggleable__label-arrow:before {content: \"▾\";}#sk-container-id-1 div.sk-estimator input.sk-toggleable__control:checked~label.sk-toggleable__label {background-color: #d4ebff;}#sk-container-id-1 div.sk-label input.sk-toggleable__control:checked~label.sk-toggleable__label {background-color: #d4ebff;}#sk-container-id-1 input.sk-hidden--visually {border: 0;clip: rect(1px 1px 1px 1px);clip: rect(1px, 1px, 1px, 1px);height: 1px;margin: -1px;overflow: hidden;padding: 0;position: absolute;width: 1px;}#sk-container-id-1 div.sk-estimator {font-family: monospace;background-color: #f0f8ff;border: 1px dotted black;border-radius: 0.25em;box-sizing: border-box;margin-bottom: 0.5em;}#sk-container-id-1 div.sk-estimator:hover {background-color: #d4ebff;}#sk-container-id-1 div.sk-parallel-item::after {content: \"\";width: 100%;border-bottom: 1px solid gray;flex-grow: 1;}#sk-container-id-1 div.sk-label:hover label.sk-toggleable__label {background-color: #d4ebff;}#sk-container-id-1 div.sk-serial::before {content: \"\";position: absolute;border-left: 1px solid gray;box-sizing: border-box;top: 0;bottom: 0;left: 50%;z-index: 0;}#sk-container-id-1 div.sk-serial {display: flex;flex-direction: column;align-items: center;background-color: white;padding-right: 0.2em;padding-left: 0.2em;position: relative;}#sk-container-id-1 div.sk-item {position: relative;z-index: 1;}#sk-container-id-1 div.sk-parallel {display: flex;align-items: stretch;justify-content: center;background-color: white;position: relative;}#sk-container-id-1 div.sk-item::before, #sk-container-id-1 div.sk-parallel-item::before {content: \"\";position: absolute;border-left: 1px solid gray;box-sizing: border-box;top: 0;bottom: 0;left: 50%;z-index: -1;}#sk-container-id-1 div.sk-parallel-item {display: flex;flex-direction: column;z-index: 1;position: relative;background-color: white;}#sk-container-id-1 div.sk-parallel-item:first-child::after {align-self: flex-end;width: 50%;}#sk-container-id-1 div.sk-parallel-item:last-child::after {align-self: flex-start;width: 50%;}#sk-container-id-1 div.sk-parallel-item:only-child::after {width: 0;}#sk-container-id-1 div.sk-dashed-wrapped {border: 1px dashed gray;margin: 0 0.4em 0.5em 0.4em;box-sizing: border-box;padding-bottom: 0.4em;background-color: white;}#sk-container-id-1 div.sk-label label {font-family: monospace;font-weight: bold;display: inline-block;line-height: 1.2em;}#sk-container-id-1 div.sk-label-container {text-align: center;}#sk-container-id-1 div.sk-container {/* jupyter's `normalize.less` sets `[hidden] { display: none; }` but bootstrap.min.css set `[hidden] { display: none !important; }` so we also need the `!important` here to be able to override the default hidden behavior on the sphinx rendered scikit-learn.org. See: https://github.com/scikit-learn/scikit-learn/issues/21755 */display: inline-block !important;position: relative;}#sk-container-id-1 div.sk-text-repr-fallback {display: none;}</style><div id=\"sk-container-id-1\" class=\"sk-top-container\"><div class=\"sk-text-repr-fallback\"><pre>SelectFromModel(estimator=XGBClassifier(base_score=None, booster=None,\n",
       "                                        callbacks=None, colsample_bylevel=None,\n",
       "                                        colsample_bynode=None,\n",
       "                                        colsample_bytree=None,\n",
       "                                        early_stopping_rounds=None,\n",
       "                                        enable_categorical=False,\n",
       "                                        eval_metric=None, feature_types=None,\n",
       "                                        gamma=None, gpu_id=None,\n",
       "                                        grow_policy=None, importance_type=None,\n",
       "                                        interaction_constraints=None,\n",
       "                                        learning_rate=None, max_bin=None,\n",
       "                                        max_cat_threshold=None,\n",
       "                                        max_cat_to_onehot=None,\n",
       "                                        max_delta_step=None, max_depth=None,\n",
       "                                        max_leaves=None, min_child_weight=None,\n",
       "                                        missing=nan, monotone_constraints=None,\n",
       "                                        n_estimators=100, n_jobs=None,\n",
       "                                        num_parallel_tree=None, predictor=None,\n",
       "                                        random_state=None, ...))</pre><b>In a Jupyter environment, please rerun this cell to show the HTML representation or trust the notebook. <br />On GitHub, the HTML representation is unable to render, please try loading this page with nbviewer.org.</b></div><div class=\"sk-container\" hidden><div class=\"sk-item sk-dashed-wrapped\"><div class=\"sk-label-container\"><div class=\"sk-label sk-toggleable\"><input class=\"sk-toggleable__control sk-hidden--visually\" id=\"sk-estimator-id-1\" type=\"checkbox\" ><label for=\"sk-estimator-id-1\" class=\"sk-toggleable__label sk-toggleable__label-arrow\">SelectFromModel</label><div class=\"sk-toggleable__content\"><pre>SelectFromModel(estimator=XGBClassifier(base_score=None, booster=None,\n",
       "                                        callbacks=None, colsample_bylevel=None,\n",
       "                                        colsample_bynode=None,\n",
       "                                        colsample_bytree=None,\n",
       "                                        early_stopping_rounds=None,\n",
       "                                        enable_categorical=False,\n",
       "                                        eval_metric=None, feature_types=None,\n",
       "                                        gamma=None, gpu_id=None,\n",
       "                                        grow_policy=None, importance_type=None,\n",
       "                                        interaction_constraints=None,\n",
       "                                        learning_rate=None, max_bin=None,\n",
       "                                        max_cat_threshold=None,\n",
       "                                        max_cat_to_onehot=None,\n",
       "                                        max_delta_step=None, max_depth=None,\n",
       "                                        max_leaves=None, min_child_weight=None,\n",
       "                                        missing=nan, monotone_constraints=None,\n",
       "                                        n_estimators=100, n_jobs=None,\n",
       "                                        num_parallel_tree=None, predictor=None,\n",
       "                                        random_state=None, ...))</pre></div></div></div><div class=\"sk-parallel\"><div class=\"sk-parallel-item\"><div class=\"sk-item\"><div class=\"sk-label-container\"><div class=\"sk-label sk-toggleable\"><input class=\"sk-toggleable__control sk-hidden--visually\" id=\"sk-estimator-id-2\" type=\"checkbox\" ><label for=\"sk-estimator-id-2\" class=\"sk-toggleable__label sk-toggleable__label-arrow\">estimator: XGBClassifier</label><div class=\"sk-toggleable__content\"><pre>XGBClassifier(base_score=None, booster=None, callbacks=None,\n",
       "              colsample_bylevel=None, colsample_bynode=None,\n",
       "              colsample_bytree=None, early_stopping_rounds=None,\n",
       "              enable_categorical=False, eval_metric=None, feature_types=None,\n",
       "              gamma=None, gpu_id=None, grow_policy=None, importance_type=None,\n",
       "              interaction_constraints=None, learning_rate=None, max_bin=None,\n",
       "              max_cat_threshold=None, max_cat_to_onehot=None,\n",
       "              max_delta_step=None, max_depth=None, max_leaves=None,\n",
       "              min_child_weight=None, missing=nan, monotone_constraints=None,\n",
       "              n_estimators=100, n_jobs=None, num_parallel_tree=None,\n",
       "              predictor=None, random_state=None, ...)</pre></div></div></div><div class=\"sk-serial\"><div class=\"sk-item\"><div class=\"sk-estimator sk-toggleable\"><input class=\"sk-toggleable__control sk-hidden--visually\" id=\"sk-estimator-id-3\" type=\"checkbox\" ><label for=\"sk-estimator-id-3\" class=\"sk-toggleable__label sk-toggleable__label-arrow\">XGBClassifier</label><div class=\"sk-toggleable__content\"><pre>XGBClassifier(base_score=None, booster=None, callbacks=None,\n",
       "              colsample_bylevel=None, colsample_bynode=None,\n",
       "              colsample_bytree=None, early_stopping_rounds=None,\n",
       "              enable_categorical=False, eval_metric=None, feature_types=None,\n",
       "              gamma=None, gpu_id=None, grow_policy=None, importance_type=None,\n",
       "              interaction_constraints=None, learning_rate=None, max_bin=None,\n",
       "              max_cat_threshold=None, max_cat_to_onehot=None,\n",
       "              max_delta_step=None, max_depth=None, max_leaves=None,\n",
       "              min_child_weight=None, missing=nan, monotone_constraints=None,\n",
       "              n_estimators=100, n_jobs=None, num_parallel_tree=None,\n",
       "              predictor=None, random_state=None, ...)</pre></div></div></div></div></div></div></div></div></div></div>"
      ],
      "text/plain": [
       "SelectFromModel(estimator=XGBClassifier(base_score=None, booster=None,\n",
       "                                        callbacks=None, colsample_bylevel=None,\n",
       "                                        colsample_bynode=None,\n",
       "                                        colsample_bytree=None,\n",
       "                                        early_stopping_rounds=None,\n",
       "                                        enable_categorical=False,\n",
       "                                        eval_metric=None, feature_types=None,\n",
       "                                        gamma=None, gpu_id=None,\n",
       "                                        grow_policy=None, importance_type=None,\n",
       "                                        interaction_constraints=None,\n",
       "                                        learning_rate=None, max_bin=None,\n",
       "                                        max_cat_threshold=None,\n",
       "                                        max_cat_to_onehot=None,\n",
       "                                        max_delta_step=None, max_depth=None,\n",
       "                                        max_leaves=None, min_child_weight=None,\n",
       "                                        missing=nan, monotone_constraints=None,\n",
       "                                        n_estimators=100, n_jobs=None,\n",
       "                                        num_parallel_tree=None, predictor=None,\n",
       "                                        random_state=None, ...))"
      ]
     },
     "execution_count": 6,
     "metadata": {},
     "output_type": "execute_result"
    }
   ],
   "source": [
    "from sklearn.feature_selection import SelectFromModel\n",
    "sel = SelectFromModel(xgb_model)\n",
    "sel.fit(X_train, y_train)"
   ]
  },
  {
   "cell_type": "markdown",
   "id": "fddd2125-7920-4e5f-8770-20f9d3396d32",
   "metadata": {},
   "source": [
    "<h4> 2.2 Finding the most relevant features in making predictions"
   ]
  },
  {
   "cell_type": "markdown",
   "id": "b8051ee1-8dd5-4db4-a2e7-4134fc6a339e",
   "metadata": {},
   "source": [
    "<h5> After the model has been fitted, we use get.support to find out which features are most relevant in the predictions"
   ]
  },
  {
   "cell_type": "code",
   "execution_count": 7,
   "id": "f22bcf7d-a087-4eb1-944c-d2707629d3d2",
   "metadata": {},
   "outputs": [
    {
     "data": {
      "text/plain": [
       "[True,\n",
       " True,\n",
       " False,\n",
       " False,\n",
       " False,\n",
       " False,\n",
       " False,\n",
       " False,\n",
       " False,\n",
       " False,\n",
       " False,\n",
       " False,\n",
       " False,\n",
       " False,\n",
       " True,\n",
       " True,\n",
       " False,\n",
       " False,\n",
       " False]"
      ]
     },
     "execution_count": 7,
     "metadata": {},
     "output_type": "execute_result"
    }
   ],
   "source": [
    "columns = sel.get_support()\n",
    "columns = columns.tolist()\n",
    "columns"
   ]
  },
  {
   "cell_type": "markdown",
   "id": "579e2530-770f-409c-a77c-8ff97214b528",
   "metadata": {},
   "source": [
    "<h5> As column importance is given in order of appearance on the scaled set, importing column names saved in data_prep for easy visualization and identification will be performed"
   ]
  },
  {
   "cell_type": "markdown",
   "id": "1d8e19d9-0fff-40d2-9fac-a6d55a545641",
   "metadata": {},
   "source": [
    "<h5> Importing predictor column names and combining with relevant columns to find out the best feature predictors"
   ]
  },
  {
   "cell_type": "code",
   "execution_count": 8,
   "id": "04693028-5f0c-43d7-89d3-82a7c45d1b76",
   "metadata": {},
   "outputs": [],
   "source": [
    "predictors  = pd.read_csv('../data/interim/predictor_names.csv')"
   ]
  },
  {
   "cell_type": "code",
   "execution_count": 9,
   "id": "1a99ba35-53b2-4b82-85b4-d21eff8bdd4e",
   "metadata": {},
   "outputs": [],
   "source": [
    "predictors['Relevant_Feature'] = columns"
   ]
  },
  {
   "cell_type": "code",
   "execution_count": 10,
   "id": "a10c9e29-6bd0-4578-8929-cdeeabbc62a2",
   "metadata": {},
   "outputs": [
    {
     "data": {
      "text/html": [
       "<div>\n",
       "<style scoped>\n",
       "    .dataframe tbody tr th:only-of-type {\n",
       "        vertical-align: middle;\n",
       "    }\n",
       "\n",
       "    .dataframe tbody tr th {\n",
       "        vertical-align: top;\n",
       "    }\n",
       "\n",
       "    .dataframe thead th {\n",
       "        text-align: right;\n",
       "    }\n",
       "</style>\n",
       "<table border=\"1\" class=\"dataframe\">\n",
       "  <thead>\n",
       "    <tr style=\"text-align: right;\">\n",
       "      <th></th>\n",
       "      <th>names</th>\n",
       "      <th>Relevant_Feature</th>\n",
       "    </tr>\n",
       "  </thead>\n",
       "  <tbody>\n",
       "    <tr>\n",
       "      <th>0</th>\n",
       "      <td>GP</td>\n",
       "      <td>True</td>\n",
       "    </tr>\n",
       "    <tr>\n",
       "      <th>1</th>\n",
       "      <td>MIN</td>\n",
       "      <td>True</td>\n",
       "    </tr>\n",
       "    <tr>\n",
       "      <th>2</th>\n",
       "      <td>PTS</td>\n",
       "      <td>False</td>\n",
       "    </tr>\n",
       "    <tr>\n",
       "      <th>3</th>\n",
       "      <td>FGM</td>\n",
       "      <td>False</td>\n",
       "    </tr>\n",
       "    <tr>\n",
       "      <th>4</th>\n",
       "      <td>FGA</td>\n",
       "      <td>False</td>\n",
       "    </tr>\n",
       "    <tr>\n",
       "      <th>5</th>\n",
       "      <td>FG%</td>\n",
       "      <td>False</td>\n",
       "    </tr>\n",
       "    <tr>\n",
       "      <th>6</th>\n",
       "      <td>3P Made</td>\n",
       "      <td>False</td>\n",
       "    </tr>\n",
       "    <tr>\n",
       "      <th>7</th>\n",
       "      <td>3PA</td>\n",
       "      <td>False</td>\n",
       "    </tr>\n",
       "    <tr>\n",
       "      <th>8</th>\n",
       "      <td>3P%</td>\n",
       "      <td>False</td>\n",
       "    </tr>\n",
       "    <tr>\n",
       "      <th>9</th>\n",
       "      <td>FTM</td>\n",
       "      <td>False</td>\n",
       "    </tr>\n",
       "    <tr>\n",
       "      <th>10</th>\n",
       "      <td>FTA</td>\n",
       "      <td>False</td>\n",
       "    </tr>\n",
       "    <tr>\n",
       "      <th>11</th>\n",
       "      <td>FT%</td>\n",
       "      <td>False</td>\n",
       "    </tr>\n",
       "    <tr>\n",
       "      <th>12</th>\n",
       "      <td>OREB</td>\n",
       "      <td>False</td>\n",
       "    </tr>\n",
       "    <tr>\n",
       "      <th>13</th>\n",
       "      <td>DREB</td>\n",
       "      <td>False</td>\n",
       "    </tr>\n",
       "    <tr>\n",
       "      <th>14</th>\n",
       "      <td>REB</td>\n",
       "      <td>True</td>\n",
       "    </tr>\n",
       "    <tr>\n",
       "      <th>15</th>\n",
       "      <td>AST</td>\n",
       "      <td>True</td>\n",
       "    </tr>\n",
       "    <tr>\n",
       "      <th>16</th>\n",
       "      <td>STL</td>\n",
       "      <td>False</td>\n",
       "    </tr>\n",
       "    <tr>\n",
       "      <th>17</th>\n",
       "      <td>BLK</td>\n",
       "      <td>False</td>\n",
       "    </tr>\n",
       "    <tr>\n",
       "      <th>18</th>\n",
       "      <td>TOV</td>\n",
       "      <td>False</td>\n",
       "    </tr>\n",
       "  </tbody>\n",
       "</table>\n",
       "</div>"
      ],
      "text/plain": [
       "      names  Relevant_Feature\n",
       "0        GP              True\n",
       "1       MIN              True\n",
       "2       PTS             False\n",
       "3       FGM             False\n",
       "4       FGA             False\n",
       "5       FG%             False\n",
       "6   3P Made             False\n",
       "7       3PA             False\n",
       "8       3P%             False\n",
       "9       FTM             False\n",
       "10      FTA             False\n",
       "11      FT%             False\n",
       "12     OREB             False\n",
       "13     DREB             False\n",
       "14      REB              True\n",
       "15      AST              True\n",
       "16      STL             False\n",
       "17      BLK             False\n",
       "18      TOV             False"
      ]
     },
     "execution_count": 10,
     "metadata": {},
     "output_type": "execute_result"
    }
   ],
   "source": [
    "predictors"
   ]
  },
  {
   "cell_type": "code",
   "execution_count": 11,
   "id": "4242914f-634f-448e-97ba-34a7a35b342e",
   "metadata": {},
   "outputs": [
    {
     "data": {
      "text/html": [
       "<div>\n",
       "<style scoped>\n",
       "    .dataframe tbody tr th:only-of-type {\n",
       "        vertical-align: middle;\n",
       "    }\n",
       "\n",
       "    .dataframe tbody tr th {\n",
       "        vertical-align: top;\n",
       "    }\n",
       "\n",
       "    .dataframe thead th {\n",
       "        text-align: right;\n",
       "    }\n",
       "</style>\n",
       "<table border=\"1\" class=\"dataframe\">\n",
       "  <thead>\n",
       "    <tr style=\"text-align: right;\">\n",
       "      <th></th>\n",
       "      <th>names</th>\n",
       "      <th>Relevant_Feature</th>\n",
       "    </tr>\n",
       "  </thead>\n",
       "  <tbody>\n",
       "    <tr>\n",
       "      <th>0</th>\n",
       "      <td>GP</td>\n",
       "      <td>True</td>\n",
       "    </tr>\n",
       "    <tr>\n",
       "      <th>1</th>\n",
       "      <td>MIN</td>\n",
       "      <td>True</td>\n",
       "    </tr>\n",
       "    <tr>\n",
       "      <th>14</th>\n",
       "      <td>REB</td>\n",
       "      <td>True</td>\n",
       "    </tr>\n",
       "    <tr>\n",
       "      <th>15</th>\n",
       "      <td>AST</td>\n",
       "      <td>True</td>\n",
       "    </tr>\n",
       "  </tbody>\n",
       "</table>\n",
       "</div>"
      ],
      "text/plain": [
       "   names  Relevant_Feature\n",
       "0     GP              True\n",
       "1    MIN              True\n",
       "14   REB              True\n",
       "15   AST              True"
      ]
     },
     "execution_count": 11,
     "metadata": {},
     "output_type": "execute_result"
    }
   ],
   "source": [
    "predictors.loc[predictors['Relevant_Feature'] == 1]"
   ]
  },
  {
   "cell_type": "markdown",
   "id": "4727b6da-c474-4ab6-b926-02e7b82e0031",
   "metadata": {},
   "source": [
    "<h5> <b>CONCLUSION ON PREDICTORS: </b> Based on the rebalanced training set from data_prep, 6 features are the most relevant predictors. Therefore new data prep will be generated for usage of these columns within the model"
   ]
  },
  {
   "cell_type": "markdown",
   "id": "b5cc2ff1-4c68-4288-8650-344b789152c3",
   "metadata": {},
   "source": [
    "<h4> 2.3 New data prep to be performed and data sets saved in the ../data/interim folder"
   ]
  },
  {
   "cell_type": "markdown",
   "id": "bf23f938-d6d7-4295-b638-66ec7f963cea",
   "metadata": {},
   "source": [
    "<h5> 2.3.1 Get a list of column names to be removed from data set"
   ]
  },
  {
   "cell_type": "code",
   "execution_count": 12,
   "id": "12ff1482-f6b1-416c-9200-c3d48bdd16f0",
   "metadata": {},
   "outputs": [],
   "source": [
    "columns_to_remove_df = predictors.loc[predictors['Relevant_Feature'] == 0]"
   ]
  },
  {
   "cell_type": "code",
   "execution_count": 13,
   "id": "35d6db27-457f-4d26-b825-8467871a9f11",
   "metadata": {},
   "outputs": [],
   "source": [
    "columns_to_remove = columns_to_remove_df.pop(\"names\")"
   ]
  },
  {
   "cell_type": "code",
   "execution_count": 14,
   "id": "b0c9be50-79e6-45ad-b79d-335402ec6b69",
   "metadata": {},
   "outputs": [],
   "source": [
    "columns_to_remove_list = columns_to_remove.values.tolist()"
   ]
  },
  {
   "cell_type": "markdown",
   "id": "35af02a5-71d2-420e-8d43-335ce8a9ecee",
   "metadata": {},
   "source": [
    "<h5> 2.3.2 Read csvs and remove unwanted columns"
   ]
  },
  {
   "cell_type": "code",
   "execution_count": 15,
   "id": "7f5f3a2e-dc14-43cc-aae3-adac7dd2038b",
   "metadata": {},
   "outputs": [],
   "source": [
    "df = pd.read_csv('../data/raw/2022_train.csv')"
   ]
  },
  {
   "cell_type": "code",
   "execution_count": 16,
   "id": "03909d2b-90d8-4181-849c-627e5014a44b",
   "metadata": {},
   "outputs": [],
   "source": [
    "df_cleaned = df.copy()\n",
    "df_cleaned.drop(columns=columns_to_remove_list, axis=1, inplace=True)\n",
    "df_cleaned.drop(\"Id\", axis=1, inplace=True)"
   ]
  },
  {
   "cell_type": "code",
   "execution_count": 17,
   "id": "08edb978-358f-4fde-8f07-684c5a538596",
   "metadata": {},
   "outputs": [
    {
     "data": {
      "text/html": [
       "<div>\n",
       "<style scoped>\n",
       "    .dataframe tbody tr th:only-of-type {\n",
       "        vertical-align: middle;\n",
       "    }\n",
       "\n",
       "    .dataframe tbody tr th {\n",
       "        vertical-align: top;\n",
       "    }\n",
       "\n",
       "    .dataframe thead th {\n",
       "        text-align: right;\n",
       "    }\n",
       "</style>\n",
       "<table border=\"1\" class=\"dataframe\">\n",
       "  <thead>\n",
       "    <tr style=\"text-align: right;\">\n",
       "      <th></th>\n",
       "      <th>GP</th>\n",
       "      <th>MIN</th>\n",
       "      <th>REB</th>\n",
       "      <th>AST</th>\n",
       "      <th>TARGET_5Yrs</th>\n",
       "    </tr>\n",
       "  </thead>\n",
       "  <tbody>\n",
       "    <tr>\n",
       "      <th>0</th>\n",
       "      <td>80</td>\n",
       "      <td>24.3</td>\n",
       "      <td>3.8</td>\n",
       "      <td>3.2</td>\n",
       "      <td>1</td>\n",
       "    </tr>\n",
       "    <tr>\n",
       "      <th>1</th>\n",
       "      <td>75</td>\n",
       "      <td>21.8</td>\n",
       "      <td>6.6</td>\n",
       "      <td>0.7</td>\n",
       "      <td>1</td>\n",
       "    </tr>\n",
       "    <tr>\n",
       "      <th>2</th>\n",
       "      <td>85</td>\n",
       "      <td>19.1</td>\n",
       "      <td>2.4</td>\n",
       "      <td>0.8</td>\n",
       "      <td>1</td>\n",
       "    </tr>\n",
       "    <tr>\n",
       "      <th>3</th>\n",
       "      <td>63</td>\n",
       "      <td>19.1</td>\n",
       "      <td>3.0</td>\n",
       "      <td>1.8</td>\n",
       "      <td>1</td>\n",
       "    </tr>\n",
       "    <tr>\n",
       "      <th>4</th>\n",
       "      <td>63</td>\n",
       "      <td>17.8</td>\n",
       "      <td>4.9</td>\n",
       "      <td>0.4</td>\n",
       "      <td>1</td>\n",
       "    </tr>\n",
       "  </tbody>\n",
       "</table>\n",
       "</div>"
      ],
      "text/plain": [
       "   GP   MIN  REB  AST  TARGET_5Yrs\n",
       "0  80  24.3  3.8  3.2            1\n",
       "1  75  21.8  6.6  0.7            1\n",
       "2  85  19.1  2.4  0.8            1\n",
       "3  63  19.1  3.0  1.8            1\n",
       "4  63  17.8  4.9  0.4            1"
      ]
     },
     "execution_count": 17,
     "metadata": {},
     "output_type": "execute_result"
    }
   ],
   "source": [
    "df_cleaned.head()"
   ]
  },
  {
   "cell_type": "markdown",
   "id": "76a51b78-af01-4b3e-adf5-9a2e8fbdb325",
   "metadata": {},
   "source": [
    "<h5> 2.3.3 Rebalance imbalance set with custom function"
   ]
  },
  {
   "cell_type": "markdown",
   "id": "55bac131-b586-4fe8-9bb7-37a3d8c7c4bc",
   "metadata": {},
   "source": [
    "<h5> This function will undersample the mayority class to have the same number of observations of the minority class. <br> <br> This function is saved in the src folder"
   ]
  },
  {
   "cell_type": "code",
   "execution_count": 18,
   "id": "da4dfdb3-40ac-4d61-b5cd-c8e511dc2cfd",
   "metadata": {},
   "outputs": [],
   "source": [
    "from src.data.sets import rebalance_mayority_class"
   ]
  },
  {
   "cell_type": "code",
   "execution_count": 19,
   "id": "d1488893-206b-4646-9d62-26489c3e8095",
   "metadata": {},
   "outputs": [],
   "source": [
    "df_rebalanced = df_cleaned.copy()"
   ]
  },
  {
   "cell_type": "code",
   "execution_count": 20,
   "id": "40b6726f-d325-4b2b-9d4d-0334a054b131",
   "metadata": {},
   "outputs": [],
   "source": [
    "df_rebalanced = rebalance_mayority_class(df_cleaned, \"TARGET_5Yrs\")"
   ]
  },
  {
   "cell_type": "markdown",
   "id": "4760f84f-4b99-423e-bf93-b1d96d1b3614",
   "metadata": {},
   "source": [
    "<h5> 2.3.4 Scaling and generating training and validation set"
   ]
  },
  {
   "cell_type": "markdown",
   "id": "5a4ac99b-6f95-4555-9a0a-7a88175cb7fe",
   "metadata": {},
   "source": [
    "<h5> The rebalanced data set will be split into training and validation set for fitting and evaluation of the XGB classifier model <br><br> The rebalancing will be performed with a custom function saved in the src folder"
   ]
  },
  {
   "cell_type": "code",
   "execution_count": 21,
   "id": "a7890975-a22d-4f6a-99c9-3b2017868196",
   "metadata": {},
   "outputs": [],
   "source": [
    "from sklearn.preprocessing import StandardScaler\n",
    "scaler = StandardScaler()"
   ]
  },
  {
   "cell_type": "code",
   "execution_count": 22,
   "id": "cf22e016-1609-4cba-a1cb-60db9fb09648",
   "metadata": {},
   "outputs": [],
   "source": [
    "target = df_rebalanced.pop(\"TARGET_5Yrs\")"
   ]
  },
  {
   "cell_type": "code",
   "execution_count": 23,
   "id": "5c806a9a-7e26-49a1-88b5-dcbfa899f567",
   "metadata": {},
   "outputs": [],
   "source": [
    "df_rebalanced_clean = scaler.fit_transform(df_rebalanced)"
   ]
  },
  {
   "cell_type": "code",
   "execution_count": 24,
   "id": "16fce584-3ca2-49b5-9105-3d0a4109e6ae",
   "metadata": {},
   "outputs": [],
   "source": [
    "#Import subset function for getting training and valudation sets\n",
    "from src.data.sets import subset_x_y"
   ]
  },
  {
   "cell_type": "code",
   "execution_count": 25,
   "id": "d4368da3-c312-493f-970f-0d98a16e41a5",
   "metadata": {},
   "outputs": [],
   "source": [
    "X_train, X_val, y_train, y_val = subset_x_y(df_rebalanced_clean, target)"
   ]
  },
  {
   "cell_type": "markdown",
   "id": "69d53b91-422e-4050-a1df-953c1cd7800d",
   "metadata": {},
   "source": [
    "<h5> 2.3.5 Clean, transform and scale Test set"
   ]
  },
  {
   "cell_type": "markdown",
   "id": "cc1fcf38-e763-4ff7-a404-1ae6f195df72",
   "metadata": {},
   "source": [
    "<h5> This step will clean, trasnform and scale the test data set with the same steps from the training set"
   ]
  },
  {
   "cell_type": "code",
   "execution_count": 26,
   "id": "01c44881-47e4-4c4a-89e4-7bdd087ead5d",
   "metadata": {},
   "outputs": [],
   "source": [
    "df_test = pd.read_csv('../data/raw/2022_test.csv')"
   ]
  },
  {
   "cell_type": "code",
   "execution_count": 27,
   "id": "8f6717d2-ff07-478b-8cc0-d089f0c30eca",
   "metadata": {},
   "outputs": [],
   "source": [
    "X_test_ID = df_test.pop('Id')"
   ]
  },
  {
   "cell_type": "code",
   "execution_count": 28,
   "id": "1070e583-4695-4f90-a4fe-03365ec1554b",
   "metadata": {},
   "outputs": [],
   "source": [
    "X_test = df_test.copy()"
   ]
  },
  {
   "cell_type": "code",
   "execution_count": 29,
   "id": "21671dd8-8f40-44bc-bc22-4cab75cb4455",
   "metadata": {},
   "outputs": [],
   "source": [
    "X_test.drop(columns=columns_to_remove_list, axis=1, inplace=True)"
   ]
  },
  {
   "cell_type": "code",
   "execution_count": 30,
   "id": "cb883e18-c71a-4f39-b810-d5b7733c697d",
   "metadata": {},
   "outputs": [],
   "source": [
    "X_test = scaler.fit_transform(X_test)"
   ]
  },
  {
   "cell_type": "markdown",
   "id": "aed33ec5-7814-4280-95b3-1aeaab513e75",
   "metadata": {},
   "source": [
    "<h5> 2.3.6 Save train, evaluate and test sets in ../data/interim folder"
   ]
  },
  {
   "cell_type": "markdown",
   "id": "711511e2-699b-4232-b1e7-9917a6f173b5",
   "metadata": {},
   "source": [
    "<h5> Finally, all cleaned and transfor sets will be saved in the data/interim folder using a custom function saved in the src folder"
   ]
  },
  {
   "cell_type": "code",
   "execution_count": 31,
   "id": "ad40b5f1-18fe-42cc-b5c7-2956aa3734d4",
   "metadata": {},
   "outputs": [],
   "source": [
    "from src.data.sets import save_sets_interim"
   ]
  },
  {
   "cell_type": "code",
   "execution_count": 32,
   "id": "6a6972e4-c669-495c-8c97-c2cbb615986f",
   "metadata": {},
   "outputs": [],
   "source": [
    "save_sets_interim(X_train, X_val, y_train, y_val, X_test, X_test_ID)"
   ]
  },
  {
   "cell_type": "markdown",
   "id": "8249683a-d4a1-41c0-a98a-2102dc55df5f",
   "metadata": {},
   "source": [
    "<h4> 3 Train XGB Classifier with new calculated training sets"
   ]
  },
  {
   "cell_type": "markdown",
   "id": "d3e3d63e-6b67-4bd7-9e05-cb26fd1f7c31",
   "metadata": {},
   "source": [
    "<h5> Next up, the XGB classifier will be imported and trained with the new training set and saved into the models folder"
   ]
  },
  {
   "cell_type": "code",
   "execution_count": 33,
   "id": "d16f5a64-be9a-4490-b849-296495959c28",
   "metadata": {},
   "outputs": [
    {
     "name": "stdout",
     "output_type": "stream",
     "text": [
      "[0]\tvalidation_0-aucpr:0.67578\n",
      "[1]\tvalidation_0-aucpr:0.67956\n",
      "[2]\tvalidation_0-aucpr:0.69072\n",
      "[3]\tvalidation_0-aucpr:0.69317\n",
      "[4]\tvalidation_0-aucpr:0.68970\n",
      "[5]\tvalidation_0-aucpr:0.69260\n",
      "[6]\tvalidation_0-aucpr:0.69114\n",
      "[7]\tvalidation_0-aucpr:0.68762\n",
      "[8]\tvalidation_0-aucpr:0.69109\n",
      "[9]\tvalidation_0-aucpr:0.69611\n",
      "[10]\tvalidation_0-aucpr:0.69960\n",
      "[11]\tvalidation_0-aucpr:0.70146\n"
     ]
    },
    {
     "name": "stderr",
     "output_type": "stream",
     "text": [
      "/opt/conda/lib/python3.10/site-packages/xgboost/sklearn.py:861: UserWarning: `eval_metric` in `fit` method is deprecated for better compatibility with scikit-learn, use `eval_metric` in constructor or`set_params` instead.\n",
      "  warnings.warn(\n",
      "/opt/conda/lib/python3.10/site-packages/xgboost/sklearn.py:861: UserWarning: `early_stopping_rounds` in `fit` method is deprecated for better compatibility with scikit-learn, use `early_stopping_rounds` in constructor or`set_params` instead.\n",
      "  warnings.warn(\n"
     ]
    },
    {
     "name": "stdout",
     "output_type": "stream",
     "text": [
      "[12]\tvalidation_0-aucpr:0.70010\n",
      "[13]\tvalidation_0-aucpr:0.70103\n",
      "[14]\tvalidation_0-aucpr:0.70389\n",
      "[15]\tvalidation_0-aucpr:0.70403\n",
      "[16]\tvalidation_0-aucpr:0.70156\n",
      "[17]\tvalidation_0-aucpr:0.70433\n",
      "[18]\tvalidation_0-aucpr:0.70426\n",
      "[19]\tvalidation_0-aucpr:0.70386\n",
      "[20]\tvalidation_0-aucpr:0.70121\n",
      "[21]\tvalidation_0-aucpr:0.70319\n",
      "[22]\tvalidation_0-aucpr:0.70503\n",
      "[23]\tvalidation_0-aucpr:0.70403\n",
      "[24]\tvalidation_0-aucpr:0.70243\n",
      "[25]\tvalidation_0-aucpr:0.70242\n",
      "[26]\tvalidation_0-aucpr:0.70358\n",
      "[27]\tvalidation_0-aucpr:0.70638\n",
      "[28]\tvalidation_0-aucpr:0.70720\n",
      "[29]\tvalidation_0-aucpr:0.70669\n",
      "[30]\tvalidation_0-aucpr:0.70211\n",
      "[31]\tvalidation_0-aucpr:0.69968\n",
      "[32]\tvalidation_0-aucpr:0.70043\n",
      "[33]\tvalidation_0-aucpr:0.70072\n",
      "[34]\tvalidation_0-aucpr:0.69945\n",
      "[35]\tvalidation_0-aucpr:0.69876\n",
      "[36]\tvalidation_0-aucpr:0.69957\n",
      "[37]\tvalidation_0-aucpr:0.69934\n"
     ]
    },
    {
     "data": {
      "text/html": [
       "<style>#sk-container-id-2 {color: black;background-color: white;}#sk-container-id-2 pre{padding: 0;}#sk-container-id-2 div.sk-toggleable {background-color: white;}#sk-container-id-2 label.sk-toggleable__label {cursor: pointer;display: block;width: 100%;margin-bottom: 0;padding: 0.3em;box-sizing: border-box;text-align: center;}#sk-container-id-2 label.sk-toggleable__label-arrow:before {content: \"▸\";float: left;margin-right: 0.25em;color: #696969;}#sk-container-id-2 label.sk-toggleable__label-arrow:hover:before {color: black;}#sk-container-id-2 div.sk-estimator:hover label.sk-toggleable__label-arrow:before {color: black;}#sk-container-id-2 div.sk-toggleable__content {max-height: 0;max-width: 0;overflow: hidden;text-align: left;background-color: #f0f8ff;}#sk-container-id-2 div.sk-toggleable__content pre {margin: 0.2em;color: black;border-radius: 0.25em;background-color: #f0f8ff;}#sk-container-id-2 input.sk-toggleable__control:checked~div.sk-toggleable__content {max-height: 200px;max-width: 100%;overflow: auto;}#sk-container-id-2 input.sk-toggleable__control:checked~label.sk-toggleable__label-arrow:before {content: \"▾\";}#sk-container-id-2 div.sk-estimator input.sk-toggleable__control:checked~label.sk-toggleable__label {background-color: #d4ebff;}#sk-container-id-2 div.sk-label input.sk-toggleable__control:checked~label.sk-toggleable__label {background-color: #d4ebff;}#sk-container-id-2 input.sk-hidden--visually {border: 0;clip: rect(1px 1px 1px 1px);clip: rect(1px, 1px, 1px, 1px);height: 1px;margin: -1px;overflow: hidden;padding: 0;position: absolute;width: 1px;}#sk-container-id-2 div.sk-estimator {font-family: monospace;background-color: #f0f8ff;border: 1px dotted black;border-radius: 0.25em;box-sizing: border-box;margin-bottom: 0.5em;}#sk-container-id-2 div.sk-estimator:hover {background-color: #d4ebff;}#sk-container-id-2 div.sk-parallel-item::after {content: \"\";width: 100%;border-bottom: 1px solid gray;flex-grow: 1;}#sk-container-id-2 div.sk-label:hover label.sk-toggleable__label {background-color: #d4ebff;}#sk-container-id-2 div.sk-serial::before {content: \"\";position: absolute;border-left: 1px solid gray;box-sizing: border-box;top: 0;bottom: 0;left: 50%;z-index: 0;}#sk-container-id-2 div.sk-serial {display: flex;flex-direction: column;align-items: center;background-color: white;padding-right: 0.2em;padding-left: 0.2em;position: relative;}#sk-container-id-2 div.sk-item {position: relative;z-index: 1;}#sk-container-id-2 div.sk-parallel {display: flex;align-items: stretch;justify-content: center;background-color: white;position: relative;}#sk-container-id-2 div.sk-item::before, #sk-container-id-2 div.sk-parallel-item::before {content: \"\";position: absolute;border-left: 1px solid gray;box-sizing: border-box;top: 0;bottom: 0;left: 50%;z-index: -1;}#sk-container-id-2 div.sk-parallel-item {display: flex;flex-direction: column;z-index: 1;position: relative;background-color: white;}#sk-container-id-2 div.sk-parallel-item:first-child::after {align-self: flex-end;width: 50%;}#sk-container-id-2 div.sk-parallel-item:last-child::after {align-self: flex-start;width: 50%;}#sk-container-id-2 div.sk-parallel-item:only-child::after {width: 0;}#sk-container-id-2 div.sk-dashed-wrapped {border: 1px dashed gray;margin: 0 0.4em 0.5em 0.4em;box-sizing: border-box;padding-bottom: 0.4em;background-color: white;}#sk-container-id-2 div.sk-label label {font-family: monospace;font-weight: bold;display: inline-block;line-height: 1.2em;}#sk-container-id-2 div.sk-label-container {text-align: center;}#sk-container-id-2 div.sk-container {/* jupyter's `normalize.less` sets `[hidden] { display: none; }` but bootstrap.min.css set `[hidden] { display: none !important; }` so we also need the `!important` here to be able to override the default hidden behavior on the sphinx rendered scikit-learn.org. See: https://github.com/scikit-learn/scikit-learn/issues/21755 */display: inline-block !important;position: relative;}#sk-container-id-2 div.sk-text-repr-fallback {display: none;}</style><div id=\"sk-container-id-2\" class=\"sk-top-container\"><div class=\"sk-text-repr-fallback\"><pre>XGBClassifier(base_score=0.5, booster=&#x27;gbtree&#x27;, callbacks=None,\n",
       "              colsample_bylevel=1, colsample_bynode=1, colsample_bytree=1,\n",
       "              early_stopping_rounds=None, enable_categorical=False,\n",
       "              eval_metric=None, feature_types=None, gamma=0, gpu_id=-1,\n",
       "              grow_policy=&#x27;depthwise&#x27;, importance_type=None,\n",
       "              interaction_constraints=&#x27;&#x27;, learning_rate=0.300000012,\n",
       "              max_bin=256, max_cat_threshold=64, max_cat_to_onehot=4,\n",
       "              max_delta_step=0, max_depth=6, max_leaves=0, min_child_weight=1,\n",
       "              missing=nan, monotone_constraints=&#x27;()&#x27;, n_estimators=100,\n",
       "              n_jobs=0, num_parallel_tree=1, predictor=&#x27;auto&#x27;, random_state=0, ...)</pre><b>In a Jupyter environment, please rerun this cell to show the HTML representation or trust the notebook. <br />On GitHub, the HTML representation is unable to render, please try loading this page with nbviewer.org.</b></div><div class=\"sk-container\" hidden><div class=\"sk-item\"><div class=\"sk-estimator sk-toggleable\"><input class=\"sk-toggleable__control sk-hidden--visually\" id=\"sk-estimator-id-4\" type=\"checkbox\" checked><label for=\"sk-estimator-id-4\" class=\"sk-toggleable__label sk-toggleable__label-arrow\">XGBClassifier</label><div class=\"sk-toggleable__content\"><pre>XGBClassifier(base_score=0.5, booster=&#x27;gbtree&#x27;, callbacks=None,\n",
       "              colsample_bylevel=1, colsample_bynode=1, colsample_bytree=1,\n",
       "              early_stopping_rounds=None, enable_categorical=False,\n",
       "              eval_metric=None, feature_types=None, gamma=0, gpu_id=-1,\n",
       "              grow_policy=&#x27;depthwise&#x27;, importance_type=None,\n",
       "              interaction_constraints=&#x27;&#x27;, learning_rate=0.300000012,\n",
       "              max_bin=256, max_cat_threshold=64, max_cat_to_onehot=4,\n",
       "              max_delta_step=0, max_depth=6, max_leaves=0, min_child_weight=1,\n",
       "              missing=nan, monotone_constraints=&#x27;()&#x27;, n_estimators=100,\n",
       "              n_jobs=0, num_parallel_tree=1, predictor=&#x27;auto&#x27;, random_state=0, ...)</pre></div></div></div></div></div>"
      ],
      "text/plain": [
       "XGBClassifier(base_score=0.5, booster='gbtree', callbacks=None,\n",
       "              colsample_bylevel=1, colsample_bynode=1, colsample_bytree=1,\n",
       "              early_stopping_rounds=None, enable_categorical=False,\n",
       "              eval_metric=None, feature_types=None, gamma=0, gpu_id=-1,\n",
       "              grow_policy='depthwise', importance_type=None,\n",
       "              interaction_constraints='', learning_rate=0.300000012,\n",
       "              max_bin=256, max_cat_threshold=64, max_cat_to_onehot=4,\n",
       "              max_delta_step=0, max_depth=6, max_leaves=0, min_child_weight=1,\n",
       "              missing=nan, monotone_constraints='()', n_estimators=100,\n",
       "              n_jobs=0, num_parallel_tree=1, predictor='auto', random_state=0, ...)"
      ]
     },
     "execution_count": 33,
     "metadata": {},
     "output_type": "execute_result"
    }
   ],
   "source": [
    "xgb_model.fit(X_train, y_train , early_stopping_rounds=10, \n",
    "              eval_metric='aucpr', eval_set=[(X_val,y_val)])"
   ]
  },
  {
   "cell_type": "markdown",
   "id": "2160c5dd-64fd-43a7-8ffc-45176dc62d0e",
   "metadata": {},
   "source": [
    "<h5> After the model has been fitted, it will be saved in the models folder in case it needs to be re-called on a later process"
   ]
  },
  {
   "cell_type": "code",
   "execution_count": 34,
   "id": "e9981f3d-8bf5-41c0-8e26-c00024790792",
   "metadata": {},
   "outputs": [],
   "source": [
    "from sklearn.metrics import accuracy_score"
   ]
  },
  {
   "cell_type": "code",
   "execution_count": 35,
   "id": "c6d9f5c5-60f8-4f34-928c-0fd0fb55d5b1",
   "metadata": {},
   "outputs": [
    {
     "data": {
      "text/plain": [
       "['../models/XGBoost.joblib']"
      ]
     },
     "execution_count": 35,
     "metadata": {},
     "output_type": "execute_result"
    }
   ],
   "source": [
    "#Save model in the models folder\n",
    "from joblib import dump\n",
    "dump(xgb_model, '../models/XGBoost.joblib')"
   ]
  },
  {
   "cell_type": "markdown",
   "id": "db6d4407-9b8c-40d8-98ce-42250adf55b0",
   "metadata": {},
   "source": [
    "<h4> 3.1 Generate predictions for training and validation sets in order to compare accuracy vs Baseline"
   ]
  },
  {
   "cell_type": "markdown",
   "id": "ae4ab9df-423e-4aed-a10c-ff2788a7a055",
   "metadata": {},
   "source": [
    "<h5> The fitted model will be used to predict the validation set and accuracy willl be calculated to compare vs the baseline"
   ]
  },
  {
   "cell_type": "code",
   "execution_count": 36,
   "id": "741ccb0d-fbd0-4a6a-8113-aac33fb9e30e",
   "metadata": {},
   "outputs": [],
   "source": [
    "y_val_preds = xgb_model.predict(X_val)"
   ]
  },
  {
   "cell_type": "code",
   "execution_count": 37,
   "id": "fb4dbc32-1dde-43a0-96a0-f02be0fb726f",
   "metadata": {},
   "outputs": [],
   "source": [
    "y_trainpreds = xgb_model.predict(X_train)"
   ]
  },
  {
   "cell_type": "code",
   "execution_count": 38,
   "id": "969bd1bb-85f6-428f-912a-a198c24fbb9c",
   "metadata": {},
   "outputs": [
    {
     "data": {
      "text/plain": [
       "0.6378986866791745"
      ]
     },
     "execution_count": 38,
     "metadata": {},
     "output_type": "execute_result"
    }
   ],
   "source": [
    "accuracy = accuracy_score(y_val, y_val_preds)\n",
    "accuracy"
   ]
  },
  {
   "cell_type": "markdown",
   "id": "170de4fd-e7eb-4bf8-aa7d-d2ff41f874b0",
   "metadata": {},
   "source": [
    "<h4> 3.2 Calculate mse and mae to assess fiting accuracy for the training and validation sets"
   ]
  },
  {
   "cell_type": "code",
   "execution_count": 39,
   "id": "198e37f0-2d94-443e-a505-136b1e8d10ad",
   "metadata": {},
   "outputs": [],
   "source": [
    "#Get error/score metrics\n",
    "from sklearn.metrics import mean_squared_error as mse\n",
    "from sklearn.metrics import mean_absolute_error as mae"
   ]
  },
  {
   "cell_type": "code",
   "execution_count": 40,
   "id": "b858620f-5e67-42d5-bb37-a369d7ad0160",
   "metadata": {},
   "outputs": [
    {
     "name": "stdout",
     "output_type": "stream",
     "text": [
      "0.40079770153724525\n",
      "0.16063879755753874\n"
     ]
    }
   ],
   "source": [
    "print(mse(y_train, y_trainpreds, squared=False))\n",
    "print(mae(y_train, y_trainpreds))"
   ]
  },
  {
   "cell_type": "code",
   "execution_count": 41,
   "id": "4b79b6c2-7013-41c0-ba59-d648f2878a29",
   "metadata": {},
   "outputs": [
    {
     "name": "stdout",
     "output_type": "stream",
     "text": [
      "0.6017485465880458\n",
      "0.3621013133208255\n"
     ]
    }
   ],
   "source": [
    "print(mse(y_val, y_val_preds, squared=False))\n",
    "print(mae(y_val, y_val_preds))"
   ]
  },
  {
   "cell_type": "code",
   "execution_count": 42,
   "id": "524da714-e72a-4550-9b0d-438e68e0e0e7",
   "metadata": {},
   "outputs": [
    {
     "data": {
      "text/plain": [
       "0.8393612024424613"
      ]
     },
     "execution_count": 42,
     "metadata": {},
     "output_type": "execute_result"
    }
   ],
   "source": [
    "xgb_model.score(X_train, y_train)"
   ]
  },
  {
   "cell_type": "code",
   "execution_count": 43,
   "id": "77248cb8-8ef9-457e-9088-197dfbe29149",
   "metadata": {},
   "outputs": [
    {
     "data": {
      "text/plain": [
       "0.6378986866791745"
      ]
     },
     "execution_count": 43,
     "metadata": {},
     "output_type": "execute_result"
    }
   ],
   "source": [
    "xgb_model.score(X_val, y_val)"
   ]
  },
  {
   "cell_type": "markdown",
   "id": "da6dde7e-639d-4f88-98cb-210e2eb34873",
   "metadata": {},
   "source": [
    "<h4> 3 Analysis of athe validation set"
   ]
  },
  {
   "cell_type": "markdown",
   "id": "4d914344-5105-455f-8bd5-c842bec9ee41",
   "metadata": {},
   "source": [
    "<h5> Analysis of the results will be done through a confusion matrix to gather insights as to where the accuracy/innacuracy exists in order to improve the model in future experiments"
   ]
  },
  {
   "cell_type": "code",
   "execution_count": 44,
   "id": "db6126a4-a848-472f-aa79-d3888cada307",
   "metadata": {},
   "outputs": [],
   "source": [
    "from sklearn.metrics import confusion_matrix\n",
    "from sklearn.metrics import plot_confusion_matrix\n",
    "import matplotlib.pyplot as plt"
   ]
  },
  {
   "cell_type": "code",
   "execution_count": 45,
   "id": "98143b95-42ad-4a36-b89b-ab3be1efc4af",
   "metadata": {},
   "outputs": [
    {
     "data": {
      "image/png": "[encoded data removed]",
      "text/plain": [
       "<Figure size 300x300 with 1 Axes>"
      ]
     },
     "metadata": {},
     "output_type": "display_data"
    }
   ],
   "source": [
    "cm = confusion_matrix(y_val, y_val_preds)\n",
    "\n",
    "fig, ax = plt.subplots(figsize=(3, 3))\n",
    "ax.imshow(cm)\n",
    "ax.grid(False)\n",
    "ax.xaxis.set(ticks=(0, 1), ticklabels=('Predicted 0s', 'Predicted 1s'))\n",
    "ax.yaxis.set(ticks=(0, 1), ticklabels=('Actual 0s', 'Actual 1s'))\n",
    "ax.set_ylim(1.5, -0.5)\n",
    "for i in range(2):\n",
    "    for j in range(2):\n",
    "        ax.text(j, i, cm[i, j], ha='center', va='center', color='white')\n",
    "plt.show()"
   ]
  },
  {
   "cell_type": "markdown",
   "id": "cc27377b-6186-4b9b-ba43-739046c8b30e",
   "metadata": {},
   "source": [
    "<h4> 4 Generate predictions on the test set for Kaggle submission"
   ]
  },
  {
   "cell_type": "markdown",
   "id": "6a6c50f5-0d06-4416-aa3c-7267212b8dd5",
   "metadata": {},
   "source": [
    "<h5> The final step is to generate the prediction probabilities from the test set in order to evaluate the score from Kaggle via csv upload"
   ]
  },
  {
   "cell_type": "code",
   "execution_count": 46,
   "id": "76a69c1f-3c7e-48c7-a470-d72060654870",
   "metadata": {},
   "outputs": [],
   "source": [
    "y_test_preds = xgb_model.predict_proba(X_test)"
   ]
  },
  {
   "cell_type": "code",
   "execution_count": 47,
   "id": "d8b3ea43-2d09-45a1-ab43-f5c4659f0ef3",
   "metadata": {},
   "outputs": [],
   "source": [
    "#Create Data Frame for Doc printing\n",
    "df =pd.DataFrame()"
   ]
  },
  {
   "cell_type": "code",
   "execution_count": 48,
   "id": "2a395ced-dc63-4875-a0b2-972b9158d158",
   "metadata": {},
   "outputs": [
    {
     "data": {
      "text/plain": [
       "array([[0.6706842 , 0.32931575],\n",
       "       [0.93286765, 0.06713238],\n",
       "       [0.17476249, 0.8252375 ],\n",
       "       ...,\n",
       "       [0.6576508 , 0.34234914],\n",
       "       [0.65342605, 0.34657398],\n",
       "       [0.745271  , 0.25472897]], dtype=float32)"
      ]
     },
     "execution_count": 48,
     "metadata": {},
     "output_type": "execute_result"
    }
   ],
   "source": [
    "y_test_preds\n"
   ]
  },
  {
   "cell_type": "code",
   "execution_count": 49,
   "id": "b0221d9b-b513-44fd-ae69-f2979e18d266",
   "metadata": {},
   "outputs": [],
   "source": [
    "target_prob = y_test_preds\n",
    "target_prob = [item[1] for item in y_test_preds]"
   ]
  },
  {
   "cell_type": "code",
   "execution_count": 50,
   "id": "e0440476-83b2-4909-a46b-6cedfb5b8f03",
   "metadata": {},
   "outputs": [],
   "source": [
    "df['Id'] = X_test_ID\n",
    "df['TARGET_5Yrs'] = target_prob"
   ]
  },
  {
   "cell_type": "code",
   "execution_count": 51,
   "id": "4909e66f-ed64-45f5-95fd-340ad1b731d7",
   "metadata": {},
   "outputs": [
    {
     "data": {
      "text/html": [
       "<div>\n",
       "<style scoped>\n",
       "    .dataframe tbody tr th:only-of-type {\n",
       "        vertical-align: middle;\n",
       "    }\n",
       "\n",
       "    .dataframe tbody tr th {\n",
       "        vertical-align: top;\n",
       "    }\n",
       "\n",
       "    .dataframe thead th {\n",
       "        text-align: right;\n",
       "    }\n",
       "</style>\n",
       "<table border=\"1\" class=\"dataframe\">\n",
       "  <thead>\n",
       "    <tr style=\"text-align: right;\">\n",
       "      <th></th>\n",
       "      <th>Id</th>\n",
       "      <th>TARGET_5Yrs</th>\n",
       "    </tr>\n",
       "  </thead>\n",
       "  <tbody>\n",
       "    <tr>\n",
       "      <th>0</th>\n",
       "      <td>0</td>\n",
       "      <td>0.329316</td>\n",
       "    </tr>\n",
       "    <tr>\n",
       "      <th>1</th>\n",
       "      <td>1</td>\n",
       "      <td>0.067132</td>\n",
       "    </tr>\n",
       "    <tr>\n",
       "      <th>2</th>\n",
       "      <td>2</td>\n",
       "      <td>0.825238</td>\n",
       "    </tr>\n",
       "    <tr>\n",
       "      <th>3</th>\n",
       "      <td>3</td>\n",
       "      <td>0.503672</td>\n",
       "    </tr>\n",
       "    <tr>\n",
       "      <th>4</th>\n",
       "      <td>4</td>\n",
       "      <td>0.342900</td>\n",
       "    </tr>\n",
       "  </tbody>\n",
       "</table>\n",
       "</div>"
      ],
      "text/plain": [
       "   Id  TARGET_5Yrs\n",
       "0   0     0.329316\n",
       "1   1     0.067132\n",
       "2   2     0.825238\n",
       "3   3     0.503672\n",
       "4   4     0.342900"
      ]
     },
     "execution_count": 51,
     "metadata": {},
     "output_type": "execute_result"
    }
   ],
   "source": [
    "df.head()"
   ]
  },
  {
   "cell_type": "code",
   "execution_count": 52,
   "id": "d6eb3b2d-e232-4b64-a20d-169898089bdd",
   "metadata": {},
   "outputs": [],
   "source": [
    "#Saving predictions into csv\n",
    "df.to_csv('../data/external/Kaggle_submission_XGBoost.csv', index=False)"
   ]
  },
  {
   "cell_type": "code",
   "execution_count": null,
   "id": "3d2d55e2-5b17-48b9-8d98-07c7ab734dc8",
   "metadata": {},
   "outputs": [],
   "source": []
  }
 ],
 "metadata": {
  "kernelspec": {
   "display_name": "Python 3 (ipykernel)",
   "language": "python",
   "name": "python3"
  },
  "language_info": {
   "codemirror_mode": {
    "name": "ipython",
    "version": 3
   },
   "file_extension": ".py",
   "mimetype": "text/x-python",
   "name": "python",
   "nbconvert_exporter": "python",
   "pygments_lexer": "ipython3",
   "version": "3.10.6"
  }
 },
 "nbformat": 4,
 "nbformat_minor": 5
}
