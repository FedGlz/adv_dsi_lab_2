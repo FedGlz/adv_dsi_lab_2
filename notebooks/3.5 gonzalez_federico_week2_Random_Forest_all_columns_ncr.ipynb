{
 "cells": [
  {
   "cell_type": "markdown",
   "id": "ac5718b6-58d3-4146-970c-644f1d4d57d1",
   "metadata": {},
   "source": [
    "<h3> NBA 5 year careeer prediction using XBoost Classifier"
   ]
  },
  {
   "cell_type": "code",
   "execution_count": 1,
   "id": "ca6cf86d-1201-4b42-9890-54e3132bcc93",
   "metadata": {},
   "outputs": [],
   "source": [
    "import pandas as pd\n",
    "import numpy as np"
   ]
  },
  {
   "cell_type": "markdown",
   "id": "17869c91-ff43-4c0c-b517-336880c0c840",
   "metadata": {},
   "source": [
    "<h4> 1. Load processed sets"
   ]
  },
  {
   "cell_type": "markdown",
   "id": "f5ab5745-696c-42cf-b86d-bf3225460f89",
   "metadata": {},
   "source": [
    "<h5> Loading scaled training, validation and test sets from data_prep step saved on the data/processed folder saving them into X_train, X_val, y_train, y_val, X_test, X_test_ID variables"
   ]
  },
  {
   "cell_type": "code",
   "execution_count": 2,
   "id": "33ed92b8-6971-44f6-9419-a48f8d45871b",
   "metadata": {},
   "outputs": [],
   "source": [
    "#Load Test and validation sets using custom function load_sets\n",
    "from src.data.sets import load_sets"
   ]
  },
  {
   "cell_type": "code",
   "execution_count": 3,
   "id": "8f896d87-99c8-4209-b79b-efd4c0ad28d3",
   "metadata": {},
   "outputs": [],
   "source": [
    "X_train, X_val, y_train, y_val, X_test, X_test_ID = load_sets()"
   ]
  },
  {
   "cell_type": "markdown",
   "id": "6c9dd78f-7205-4310-9bfe-5c30cacd4c06",
   "metadata": {},
   "source": [
    "<h4> 2. Import Random Forest"
   ]
  },
  {
   "cell_type": "markdown",
   "id": "0a8f5c91-9d2e-43ef-87ba-f193bb7f8375",
   "metadata": {},
   "source": [
    "<h5> Importing and fitting Random Forest Classifier with 300 estimators"
   ]
  },
  {
   "cell_type": "code",
   "execution_count": 4,
   "id": "49734e9d-1a7f-4e1d-9174-38a9e4a27000",
   "metadata": {},
   "outputs": [],
   "source": [
    "from sklearn.ensemble import RandomForestClassifier"
   ]
  },
  {
   "cell_type": "code",
   "execution_count": 5,
   "id": "3c479379-7f05-43e4-b1e9-db9b6504496c",
   "metadata": {},
   "outputs": [
    {
     "data": {
      "text/plain": [
       "1.0"
      ]
     },
     "execution_count": 5,
     "metadata": {},
     "output_type": "execute_result"
    }
   ],
   "source": [
    "# calculating weights for unbalanced data validation\n",
    "sum_wpos = len([item for item in y_train if item==1 ])\n",
    "sum_wneg = len([item for item in y_train if item==0 ])\n",
    "sum_wneg/sum_wpos"
   ]
  },
  {
   "cell_type": "markdown",
   "id": "9603b907-3638-4d8a-9330-587fdb90e1f7",
   "metadata": {},
   "source": [
    "<h5> We can see that the trainins get after samlping is evenly distributed between classes"
   ]
  },
  {
   "cell_type": "markdown",
   "id": "38bd5577-2d72-420d-95a5-a99afb4beb02",
   "metadata": {},
   "source": [
    "<h4> 2.1 Analyse features importance in random forest model with current training sets"
   ]
  },
  {
   "cell_type": "markdown",
   "id": "43fc1539-27f9-4415-8fdd-8c504d0fb630",
   "metadata": {},
   "source": [
    "<h5> Random Search of parameters usin cross validation"
   ]
  },
  {
   "cell_type": "code",
   "execution_count": 45,
   "id": "db89a290-c275-4d0b-b925-aa8e02e395ed",
   "metadata": {},
   "outputs": [],
   "source": [
    "from sklearn.model_selection import RandomizedSearchCV"
   ]
  },
  {
   "cell_type": "code",
   "execution_count": 46,
   "id": "8726753f-6e39-4125-9cf0-213e2834617e",
   "metadata": {},
   "outputs": [
    {
     "name": "stdout",
     "output_type": "stream",
     "text": [
      "{'n_estimators': [200, 400, 600, 800, 1000, 1200, 1400, 1600, 1800, 2000], 'max_features': ['auto', 'sqrt'], 'max_depth': [10, 20, 30, 40, 50, 60, 70, 80, 90, 100, 110, None], 'min_samples_split': [2, 5, 10], 'min_samples_leaf': [1, 2, 4], 'bootstrap': [True, False]}\n"
     ]
    }
   ],
   "source": [
    "#Generating a Random grid\n",
    "# Number of trees in random forest\n",
    "n_estimators = [int(x) for x in np.linspace(start = 200, stop = 2000, num = 10)]\n",
    "# Number of features to consider at every split\n",
    "max_features = ['auto', 'sqrt']\n",
    "# Maximum number of levels in tree\n",
    "max_depth = [int(x) for x in np.linspace(10, 110, num = 11)]\n",
    "max_depth.append(None)\n",
    "# Minimum number of samples required to split a node\n",
    "min_samples_split = [2, 5, 10]\n",
    "# Minimum number of samples required at each leaf node\n",
    "min_samples_leaf = [1, 2, 4]\n",
    "# Method of selecting samples for training each tree\n",
    "bootstrap = [True, False]\n",
    "# Create the random grid\n",
    "random_grid = {'n_estimators': n_estimators,\n",
    "               'max_features': max_features,\n",
    "               'max_depth': max_depth,\n",
    "               'min_samples_split': min_samples_split,\n",
    "               'min_samples_leaf': min_samples_leaf,\n",
    "               'bootstrap': bootstrap}"
   ]
  },
  {
   "cell_type": "code",
   "execution_count": null,
   "id": "efe2d9f1-b5ad-483b-8517-1ea0793009a9",
   "metadata": {},
   "outputs": [
    {
     "name": "stdout",
     "output_type": "stream",
     "text": [
      "Fitting 3 folds for each of 100 candidates, totalling 300 fits\n"
     ]
    },
    {
     "name": "stderr",
     "output_type": "stream",
     "text": [
      "/opt/conda/lib/python3.10/site-packages/sklearn/ensemble/_forest.py:427: FutureWarning: `max_features='auto'` has been deprecated in 1.1 and will be removed in 1.3. To keep the past behaviour, explicitly set `max_features='sqrt'` or remove this parameter as it is also the default value for RandomForestClassifiers and ExtraTreesClassifiers.\n",
      "  warn(\n",
      "/opt/conda/lib/python3.10/site-packages/sklearn/ensemble/_forest.py:427: FutureWarning: `max_features='auto'` has been deprecated in 1.1 and will be removed in 1.3. To keep the past behaviour, explicitly set `max_features='sqrt'` or remove this parameter as it is also the default value for RandomForestClassifiers and ExtraTreesClassifiers.\n",
      "  warn(\n",
      "/opt/conda/lib/python3.10/site-packages/sklearn/ensemble/_forest.py:427: FutureWarning: `max_features='auto'` has been deprecated in 1.1 and will be removed in 1.3. To keep the past behaviour, explicitly set `max_features='sqrt'` or remove this parameter as it is also the default value for RandomForestClassifiers and ExtraTreesClassifiers.\n",
      "  warn(\n",
      "/opt/conda/lib/python3.10/site-packages/sklearn/ensemble/_forest.py:427: FutureWarning: `max_features='auto'` has been deprecated in 1.1 and will be removed in 1.3. To keep the past behaviour, explicitly set `max_features='sqrt'` or remove this parameter as it is also the default value for RandomForestClassifiers and ExtraTreesClassifiers.\n",
      "  warn(\n"
     ]
    }
   ],
   "source": [
    "# Use the random grid to search for best hyperparameters\n",
    "# First create the base model to tune\n",
    "rf = RandomForestClassifier()\n",
    "# Random search of parameters, using 3 fold cross validation, \n",
    "# search across 100 different combinations, and use all available cores\n",
    "rf_random = RandomizedSearchCV(estimator = rf, param_distributions = random_grid, \n",
    "                               n_iter = 100, cv = 3, verbose=2, random_state=42, n_jobs = -1)\n",
    "# Fit the random search model\n",
    "rf_random.fit(X_train, y_train)"
   ]
  },
  {
   "cell_type": "code",
   "execution_count": null,
   "id": "e9c3768d-3318-44cf-8f7e-2bb42fb35594",
   "metadata": {},
   "outputs": [],
   "source": [
    "rf_random.best_params_"
   ]
  },
  {
   "cell_type": "code",
   "execution_count": 6,
   "id": "5db7e76f-f01d-42b6-a74f-d154d9435236",
   "metadata": {},
   "outputs": [],
   "source": [
    "rf_model = RandomForestClassifier(n_estimators = 300, random_state=44, \n",
    "                                  max_depth = 5 )"
   ]
  },
  {
   "cell_type": "code",
   "execution_count": 7,
   "id": "e9247957-c127-48ba-8631-e187a72acb2d",
   "metadata": {},
   "outputs": [
    {
     "data": {
      "text/html": [
       "<style>#sk-container-id-1 {color: black;background-color: white;}#sk-container-id-1 pre{padding: 0;}#sk-container-id-1 div.sk-toggleable {background-color: white;}#sk-container-id-1 label.sk-toggleable__label {cursor: pointer;display: block;width: 100%;margin-bottom: 0;padding: 0.3em;box-sizing: border-box;text-align: center;}#sk-container-id-1 label.sk-toggleable__label-arrow:before {content: \"▸\";float: left;margin-right: 0.25em;color: #696969;}#sk-container-id-1 label.sk-toggleable__label-arrow:hover:before {color: black;}#sk-container-id-1 div.sk-estimator:hover label.sk-toggleable__label-arrow:before {color: black;}#sk-container-id-1 div.sk-toggleable__content {max-height: 0;max-width: 0;overflow: hidden;text-align: left;background-color: #f0f8ff;}#sk-container-id-1 div.sk-toggleable__content pre {margin: 0.2em;color: black;border-radius: 0.25em;background-color: #f0f8ff;}#sk-container-id-1 input.sk-toggleable__control:checked~div.sk-toggleable__content {max-height: 200px;max-width: 100%;overflow: auto;}#sk-container-id-1 input.sk-toggleable__control:checked~label.sk-toggleable__label-arrow:before {content: \"▾\";}#sk-container-id-1 div.sk-estimator input.sk-toggleable__control:checked~label.sk-toggleable__label {background-color: #d4ebff;}#sk-container-id-1 div.sk-label input.sk-toggleable__control:checked~label.sk-toggleable__label {background-color: #d4ebff;}#sk-container-id-1 input.sk-hidden--visually {border: 0;clip: rect(1px 1px 1px 1px);clip: rect(1px, 1px, 1px, 1px);height: 1px;margin: -1px;overflow: hidden;padding: 0;position: absolute;width: 1px;}#sk-container-id-1 div.sk-estimator {font-family: monospace;background-color: #f0f8ff;border: 1px dotted black;border-radius: 0.25em;box-sizing: border-box;margin-bottom: 0.5em;}#sk-container-id-1 div.sk-estimator:hover {background-color: #d4ebff;}#sk-container-id-1 div.sk-parallel-item::after {content: \"\";width: 100%;border-bottom: 1px solid gray;flex-grow: 1;}#sk-container-id-1 div.sk-label:hover label.sk-toggleable__label {background-color: #d4ebff;}#sk-container-id-1 div.sk-serial::before {content: \"\";position: absolute;border-left: 1px solid gray;box-sizing: border-box;top: 0;bottom: 0;left: 50%;z-index: 0;}#sk-container-id-1 div.sk-serial {display: flex;flex-direction: column;align-items: center;background-color: white;padding-right: 0.2em;padding-left: 0.2em;position: relative;}#sk-container-id-1 div.sk-item {position: relative;z-index: 1;}#sk-container-id-1 div.sk-parallel {display: flex;align-items: stretch;justify-content: center;background-color: white;position: relative;}#sk-container-id-1 div.sk-item::before, #sk-container-id-1 div.sk-parallel-item::before {content: \"\";position: absolute;border-left: 1px solid gray;box-sizing: border-box;top: 0;bottom: 0;left: 50%;z-index: -1;}#sk-container-id-1 div.sk-parallel-item {display: flex;flex-direction: column;z-index: 1;position: relative;background-color: white;}#sk-container-id-1 div.sk-parallel-item:first-child::after {align-self: flex-end;width: 50%;}#sk-container-id-1 div.sk-parallel-item:last-child::after {align-self: flex-start;width: 50%;}#sk-container-id-1 div.sk-parallel-item:only-child::after {width: 0;}#sk-container-id-1 div.sk-dashed-wrapped {border: 1px dashed gray;margin: 0 0.4em 0.5em 0.4em;box-sizing: border-box;padding-bottom: 0.4em;background-color: white;}#sk-container-id-1 div.sk-label label {font-family: monospace;font-weight: bold;display: inline-block;line-height: 1.2em;}#sk-container-id-1 div.sk-label-container {text-align: center;}#sk-container-id-1 div.sk-container {/* jupyter's `normalize.less` sets `[hidden] { display: none; }` but bootstrap.min.css set `[hidden] { display: none !important; }` so we also need the `!important` here to be able to override the default hidden behavior on the sphinx rendered scikit-learn.org. See: https://github.com/scikit-learn/scikit-learn/issues/21755 */display: inline-block !important;position: relative;}#sk-container-id-1 div.sk-text-repr-fallback {display: none;}</style><div id=\"sk-container-id-1\" class=\"sk-top-container\"><div class=\"sk-text-repr-fallback\"><pre>SelectFromModel(estimator=RandomForestClassifier(max_depth=6, n_estimators=300,\n",
       "                                                 random_state=44))</pre><b>In a Jupyter environment, please rerun this cell to show the HTML representation or trust the notebook. <br />On GitHub, the HTML representation is unable to render, please try loading this page with nbviewer.org.</b></div><div class=\"sk-container\" hidden><div class=\"sk-item sk-dashed-wrapped\"><div class=\"sk-label-container\"><div class=\"sk-label sk-toggleable\"><input class=\"sk-toggleable__control sk-hidden--visually\" id=\"sk-estimator-id-1\" type=\"checkbox\" ><label for=\"sk-estimator-id-1\" class=\"sk-toggleable__label sk-toggleable__label-arrow\">SelectFromModel</label><div class=\"sk-toggleable__content\"><pre>SelectFromModel(estimator=RandomForestClassifier(max_depth=6, n_estimators=300,\n",
       "                                                 random_state=44))</pre></div></div></div><div class=\"sk-parallel\"><div class=\"sk-parallel-item\"><div class=\"sk-item\"><div class=\"sk-label-container\"><div class=\"sk-label sk-toggleable\"><input class=\"sk-toggleable__control sk-hidden--visually\" id=\"sk-estimator-id-2\" type=\"checkbox\" ><label for=\"sk-estimator-id-2\" class=\"sk-toggleable__label sk-toggleable__label-arrow\">estimator: RandomForestClassifier</label><div class=\"sk-toggleable__content\"><pre>RandomForestClassifier(max_depth=6, n_estimators=300, random_state=44)</pre></div></div></div><div class=\"sk-serial\"><div class=\"sk-item\"><div class=\"sk-estimator sk-toggleable\"><input class=\"sk-toggleable__control sk-hidden--visually\" id=\"sk-estimator-id-3\" type=\"checkbox\" ><label for=\"sk-estimator-id-3\" class=\"sk-toggleable__label sk-toggleable__label-arrow\">RandomForestClassifier</label><div class=\"sk-toggleable__content\"><pre>RandomForestClassifier(max_depth=6, n_estimators=300, random_state=44)</pre></div></div></div></div></div></div></div></div></div></div>"
      ],
      "text/plain": [
       "SelectFromModel(estimator=RandomForestClassifier(max_depth=6, n_estimators=300,\n",
       "                                                 random_state=44))"
      ]
     },
     "execution_count": 7,
     "metadata": {},
     "output_type": "execute_result"
    }
   ],
   "source": [
    "from sklearn.feature_selection import SelectFromModel\n",
    "sel = SelectFromModel(rf_model\n",
    "                     # , threshold = \"0.98*mean\"\n",
    "                     )\n",
    "sel.fit(X_train, y_train)"
   ]
  },
  {
   "cell_type": "markdown",
   "id": "fddd2125-7920-4e5f-8770-20f9d3396d32",
   "metadata": {},
   "source": [
    "<h4> 2.2 Finding the most relevant features in making predictions"
   ]
  },
  {
   "cell_type": "markdown",
   "id": "b8051ee1-8dd5-4db4-a2e7-4134fc6a339e",
   "metadata": {},
   "source": [
    "<h5> After the model has been fitted, we use get.support to find out which features are most relevant in the predictions"
   ]
  },
  {
   "cell_type": "code",
   "execution_count": 8,
   "id": "f22bcf7d-a087-4eb1-944c-d2707629d3d2",
   "metadata": {},
   "outputs": [],
   "source": [
    "columns = sel.get_support()\n",
    "columns = columns.tolist()"
   ]
  },
  {
   "cell_type": "markdown",
   "id": "579e2530-770f-409c-a77c-8ff97214b528",
   "metadata": {},
   "source": [
    "<h5> As column importance is given in order of appearance on the scaled set, importing column names saved in data_prep for easy visualization and identification will be performed"
   ]
  },
  {
   "cell_type": "markdown",
   "id": "1d8e19d9-0fff-40d2-9fac-a6d55a545641",
   "metadata": {},
   "source": [
    "<h5> Importing predictor column names and combining with relevant columns to find out the best feature predictors"
   ]
  },
  {
   "cell_type": "code",
   "execution_count": 9,
   "id": "04693028-5f0c-43d7-89d3-82a7c45d1b76",
   "metadata": {},
   "outputs": [],
   "source": [
    "predictors  = pd.read_csv('../data/interim/predictor_names.csv')"
   ]
  },
  {
   "cell_type": "code",
   "execution_count": 10,
   "id": "33a33d15-2458-433b-b32b-51877eb92426",
   "metadata": {},
   "outputs": [],
   "source": [
    "predictors_df = predictors.copy()"
   ]
  },
  {
   "cell_type": "code",
   "execution_count": 11,
   "id": "3d64d12d-a538-4532-8f30-139a8ff1fa30",
   "metadata": {},
   "outputs": [],
   "source": [
    "predictors = predictors['names'].tolist()"
   ]
  },
  {
   "cell_type": "code",
   "execution_count": 12,
   "id": "1a99ba35-53b2-4b82-85b4-d21eff8bdd4e",
   "metadata": {},
   "outputs": [],
   "source": [
    "predictors_df['Relevant_Feature'] = columns"
   ]
  },
  {
   "cell_type": "code",
   "execution_count": 13,
   "id": "4242914f-634f-448e-97ba-34a7a35b342e",
   "metadata": {},
   "outputs": [],
   "source": [
    "#print(predictors_df.loc[predictors_df['Relevant_Feature'] == 1])"
   ]
  },
  {
   "cell_type": "markdown",
   "id": "4727b6da-c474-4ab6-b926-02e7b82e0031",
   "metadata": {},
   "source": [
    "<h5> <b>CONCLUSION ON PREDICTORS: </b> Based on the rebalanced training set from data_prep, 6 features are the most relevant predictors. Therefore new data prep will be generated for usage of these columns within the model"
   ]
  },
  {
   "cell_type": "markdown",
   "id": "8249683a-d4a1-41c0-a98a-2102dc55df5f",
   "metadata": {},
   "source": [
    "<h4> 3 Train RF Classifier with new calculated training sets"
   ]
  },
  {
   "cell_type": "markdown",
   "id": "d3e3d63e-6b67-4bd7-9e05-cb26fd1f7c31",
   "metadata": {},
   "source": [
    "<h5> Next up, the RF classifier will be imported and trained with the new training set and saved into the models folder"
   ]
  },
  {
   "cell_type": "code",
   "execution_count": 14,
   "id": "d16f5a64-be9a-4490-b849-296495959c28",
   "metadata": {},
   "outputs": [
    {
     "data": {
      "text/html": [
       "<style>#sk-container-id-2 {color: black;background-color: white;}#sk-container-id-2 pre{padding: 0;}#sk-container-id-2 div.sk-toggleable {background-color: white;}#sk-container-id-2 label.sk-toggleable__label {cursor: pointer;display: block;width: 100%;margin-bottom: 0;padding: 0.3em;box-sizing: border-box;text-align: center;}#sk-container-id-2 label.sk-toggleable__label-arrow:before {content: \"▸\";float: left;margin-right: 0.25em;color: #696969;}#sk-container-id-2 label.sk-toggleable__label-arrow:hover:before {color: black;}#sk-container-id-2 div.sk-estimator:hover label.sk-toggleable__label-arrow:before {color: black;}#sk-container-id-2 div.sk-toggleable__content {max-height: 0;max-width: 0;overflow: hidden;text-align: left;background-color: #f0f8ff;}#sk-container-id-2 div.sk-toggleable__content pre {margin: 0.2em;color: black;border-radius: 0.25em;background-color: #f0f8ff;}#sk-container-id-2 input.sk-toggleable__control:checked~div.sk-toggleable__content {max-height: 200px;max-width: 100%;overflow: auto;}#sk-container-id-2 input.sk-toggleable__control:checked~label.sk-toggleable__label-arrow:before {content: \"▾\";}#sk-container-id-2 div.sk-estimator input.sk-toggleable__control:checked~label.sk-toggleable__label {background-color: #d4ebff;}#sk-container-id-2 div.sk-label input.sk-toggleable__control:checked~label.sk-toggleable__label {background-color: #d4ebff;}#sk-container-id-2 input.sk-hidden--visually {border: 0;clip: rect(1px 1px 1px 1px);clip: rect(1px, 1px, 1px, 1px);height: 1px;margin: -1px;overflow: hidden;padding: 0;position: absolute;width: 1px;}#sk-container-id-2 div.sk-estimator {font-family: monospace;background-color: #f0f8ff;border: 1px dotted black;border-radius: 0.25em;box-sizing: border-box;margin-bottom: 0.5em;}#sk-container-id-2 div.sk-estimator:hover {background-color: #d4ebff;}#sk-container-id-2 div.sk-parallel-item::after {content: \"\";width: 100%;border-bottom: 1px solid gray;flex-grow: 1;}#sk-container-id-2 div.sk-label:hover label.sk-toggleable__label {background-color: #d4ebff;}#sk-container-id-2 div.sk-serial::before {content: \"\";position: absolute;border-left: 1px solid gray;box-sizing: border-box;top: 0;bottom: 0;left: 50%;z-index: 0;}#sk-container-id-2 div.sk-serial {display: flex;flex-direction: column;align-items: center;background-color: white;padding-right: 0.2em;padding-left: 0.2em;position: relative;}#sk-container-id-2 div.sk-item {position: relative;z-index: 1;}#sk-container-id-2 div.sk-parallel {display: flex;align-items: stretch;justify-content: center;background-color: white;position: relative;}#sk-container-id-2 div.sk-item::before, #sk-container-id-2 div.sk-parallel-item::before {content: \"\";position: absolute;border-left: 1px solid gray;box-sizing: border-box;top: 0;bottom: 0;left: 50%;z-index: -1;}#sk-container-id-2 div.sk-parallel-item {display: flex;flex-direction: column;z-index: 1;position: relative;background-color: white;}#sk-container-id-2 div.sk-parallel-item:first-child::after {align-self: flex-end;width: 50%;}#sk-container-id-2 div.sk-parallel-item:last-child::after {align-self: flex-start;width: 50%;}#sk-container-id-2 div.sk-parallel-item:only-child::after {width: 0;}#sk-container-id-2 div.sk-dashed-wrapped {border: 1px dashed gray;margin: 0 0.4em 0.5em 0.4em;box-sizing: border-box;padding-bottom: 0.4em;background-color: white;}#sk-container-id-2 div.sk-label label {font-family: monospace;font-weight: bold;display: inline-block;line-height: 1.2em;}#sk-container-id-2 div.sk-label-container {text-align: center;}#sk-container-id-2 div.sk-container {/* jupyter's `normalize.less` sets `[hidden] { display: none; }` but bootstrap.min.css set `[hidden] { display: none !important; }` so we also need the `!important` here to be able to override the default hidden behavior on the sphinx rendered scikit-learn.org. See: https://github.com/scikit-learn/scikit-learn/issues/21755 */display: inline-block !important;position: relative;}#sk-container-id-2 div.sk-text-repr-fallback {display: none;}</style><div id=\"sk-container-id-2\" class=\"sk-top-container\"><div class=\"sk-text-repr-fallback\"><pre>RandomForestClassifier(max_depth=6, n_estimators=300, random_state=44)</pre><b>In a Jupyter environment, please rerun this cell to show the HTML representation or trust the notebook. <br />On GitHub, the HTML representation is unable to render, please try loading this page with nbviewer.org.</b></div><div class=\"sk-container\" hidden><div class=\"sk-item\"><div class=\"sk-estimator sk-toggleable\"><input class=\"sk-toggleable__control sk-hidden--visually\" id=\"sk-estimator-id-4\" type=\"checkbox\" checked><label for=\"sk-estimator-id-4\" class=\"sk-toggleable__label sk-toggleable__label-arrow\">RandomForestClassifier</label><div class=\"sk-toggleable__content\"><pre>RandomForestClassifier(max_depth=6, n_estimators=300, random_state=44)</pre></div></div></div></div></div>"
      ],
      "text/plain": [
       "RandomForestClassifier(max_depth=6, n_estimators=300, random_state=44)"
      ]
     },
     "execution_count": 14,
     "metadata": {},
     "output_type": "execute_result"
    }
   ],
   "source": [
    "rf_model.fit(X_train, y_train)"
   ]
  },
  {
   "cell_type": "markdown",
   "id": "2160c5dd-64fd-43a7-8ffc-45176dc62d0e",
   "metadata": {},
   "source": [
    "<h5> After the model has been fitted, it will be saved in the models folder in case it needs to be re-called on a later process"
   ]
  },
  {
   "cell_type": "code",
   "execution_count": 15,
   "id": "e9981f3d-8bf5-41c0-8e26-c00024790792",
   "metadata": {},
   "outputs": [],
   "source": [
    "from sklearn.metrics import accuracy_score"
   ]
  },
  {
   "cell_type": "code",
   "execution_count": 16,
   "id": "c6d9f5c5-60f8-4f34-928c-0fd0fb55d5b1",
   "metadata": {},
   "outputs": [],
   "source": [
    "#Save model in the models folder\n",
    "#from joblib import dump\n",
    "#dump(rf_model, '../models/RF3.joblib')"
   ]
  },
  {
   "cell_type": "markdown",
   "id": "db6d4407-9b8c-40d8-98ce-42250adf55b0",
   "metadata": {},
   "source": [
    "<h4> 3.1 Generate predictions for training and validation sets in order to compare accuracy vs Baseline"
   ]
  },
  {
   "cell_type": "markdown",
   "id": "ae4ab9df-423e-4aed-a10c-ff2788a7a055",
   "metadata": {},
   "source": [
    "<h5> The fitted model will be used to predict the validation set and accuracy willl be calculated to compare vs the baseline"
   ]
  },
  {
   "cell_type": "code",
   "execution_count": 17,
   "id": "741ccb0d-fbd0-4a6a-8113-aac33fb9e30e",
   "metadata": {},
   "outputs": [],
   "source": [
    "y_val_preds = rf_model.predict(X_val)"
   ]
  },
  {
   "cell_type": "code",
   "execution_count": 18,
   "id": "fb4dbc32-1dde-43a0-96a0-f02be0fb726f",
   "metadata": {},
   "outputs": [],
   "source": [
    "y_trainpreds = rf_model.predict(X_train)"
   ]
  },
  {
   "cell_type": "markdown",
   "id": "170de4fd-e7eb-4bf8-aa7d-d2ff41f874b0",
   "metadata": {},
   "source": [
    "<h4> 3.2 Calculate mse and mae to assess fiting accuracy for the training and validation sets"
   ]
  },
  {
   "cell_type": "code",
   "execution_count": 19,
   "id": "198e37f0-2d94-443e-a505-136b1e8d10ad",
   "metadata": {},
   "outputs": [],
   "source": [
    "#Get error/score metrics\n",
    "from sklearn.metrics import mean_squared_error as mse\n",
    "from sklearn.metrics import mean_absolute_error as mae"
   ]
  },
  {
   "cell_type": "code",
   "execution_count": 20,
   "id": "524da714-e72a-4550-9b0d-438e68e0e0e7",
   "metadata": {},
   "outputs": [
    {
     "data": {
      "text/plain": [
       "0.7550140581068416"
      ]
     },
     "execution_count": 20,
     "metadata": {},
     "output_type": "execute_result"
    }
   ],
   "source": [
    "rf_model.score(X_train, y_train)"
   ]
  },
  {
   "cell_type": "code",
   "execution_count": 21,
   "id": "77248cb8-8ef9-457e-9088-197dfbe29149",
   "metadata": {},
   "outputs": [
    {
     "data": {
      "text/plain": [
       "0.66"
      ]
     },
     "execution_count": 21,
     "metadata": {},
     "output_type": "execute_result"
    }
   ],
   "source": [
    "rf_model.score(X_val, y_val)"
   ]
  },
  {
   "cell_type": "markdown",
   "id": "71c86383-241b-47cc-a2c7-388d02c5ff55",
   "metadata": {},
   "source": [
    "<h5> The training model shows a perfect fit, however the model score drops to 0.80 on the validation set"
   ]
  },
  {
   "cell_type": "markdown",
   "id": "da6dde7e-639d-4f88-98cb-210e2eb34873",
   "metadata": {},
   "source": [
    "<h4> 3 Analysis of the validation set"
   ]
  },
  {
   "cell_type": "markdown",
   "id": "4d914344-5105-455f-8bd5-c842bec9ee41",
   "metadata": {},
   "source": [
    "<h5> Analysis of the results will be done through a confusion matrix to gather insights as to where the accuracy/innacuracy exists in order to improve the model in future experiments <br> <br> We'll look into a confusion matrix to see the distribution of the predictions from the model"
   ]
  },
  {
   "cell_type": "code",
   "execution_count": 22,
   "id": "db6126a4-a848-472f-aa79-d3888cada307",
   "metadata": {},
   "outputs": [],
   "source": [
    "from sklearn.metrics import confusion_matrix\n",
    "from sklearn.metrics import plot_confusion_matrix\n",
    "import matplotlib.pyplot as plt"
   ]
  },
  {
   "cell_type": "code",
   "execution_count": 23,
   "id": "98143b95-42ad-4a36-b89b-ab3be1efc4af",
   "metadata": {
    "tags": []
   },
   "outputs": [
    {
     "data": {
      "image/png": "[encoded data removed]",
      "text/plain": [
       "<Figure size 500x500 with 1 Axes>"
      ]
     },
     "metadata": {},
     "output_type": "display_data"
    }
   ],
   "source": [
    "cm = confusion_matrix(y_val, y_val_preds , normalize='true'\n",
    "                     )\n",
    "\n",
    "fig, ax = plt.subplots(figsize=(5, 5))\n",
    "ax.imshow(cm)\n",
    "ax.grid(False)\n",
    "ax.xaxis.set(ticks=(0, 1), ticklabels=('Predicted 0s', 'Predicted 1s'))\n",
    "ax.yaxis.set(ticks=(0, 1), ticklabels=('Actual 0s', 'Actual 1s'))\n",
    "ax.set_ylim(1.5, -0.5)\n",
    "for i in range(2):\n",
    "    for j in range(2):\n",
    "        ax.text(j, i, cm[i, j], ha='center', va='center', color='white')\n",
    "plt.show()"
   ]
  },
  {
   "cell_type": "markdown",
   "id": "e3052554-0c95-40d8-a11c-746f8158a3ce",
   "metadata": {},
   "source": [
    "<h5> As seen in the confusion matrix, 92% of true positive target was predicted correctly, however, 81% of negative target was predicted incorrectly (false positive)"
   ]
  },
  {
   "cell_type": "code",
   "execution_count": 24,
   "id": "25162f77-d3aa-458e-b2da-3cd2be78a0d9",
   "metadata": {},
   "outputs": [],
   "source": [
    "import scikitplot as skplt\n",
    "import matplotlib.pyplot as plt"
   ]
  },
  {
   "cell_type": "code",
   "execution_count": 25,
   "id": "7b2248fa-90c6-4bf5-aee9-2af25a601a01",
   "metadata": {},
   "outputs": [],
   "source": [
    "y_val_prob = rf_model.predict_proba(X_val)"
   ]
  },
  {
   "cell_type": "code",
   "execution_count": 26,
   "id": "9afa6131-5a87-474d-b7ef-364197de664d",
   "metadata": {},
   "outputs": [
    {
     "data": {
      "image/png": "[encoded data removed]",
      "text/plain": [
       "<Figure size 640x480 with 1 Axes>"
      ]
     },
     "metadata": {},
     "output_type": "display_data"
    }
   ],
   "source": [
    "skplt.metrics.plot_roc(y_val, y_val_prob)\n",
    "plt.show()"
   ]
  },
  {
   "cell_type": "markdown",
   "id": "8e01ed36-85e1-453f-aaca-9fffb7448054",
   "metadata": {},
   "source": [
    "<h5> When analysing the results on the validation set, the mean ROC AUC is 0.68, meaning the model is predicting only 69% of the instances correctly"
   ]
  },
  {
   "cell_type": "code",
   "execution_count": null,
   "id": "4567eff6-69a7-4dff-868d-00ed8da3ed50",
   "metadata": {},
   "outputs": [],
   "source": []
  },
  {
   "cell_type": "markdown",
   "id": "388c73ce-1172-40a6-a3d6-11729cdf9eb6",
   "metadata": {},
   "source": [
    "<h5> Analysing true positives vs false positives as this is where the model is not accurately predicting the target"
   ]
  },
  {
   "cell_type": "code",
   "execution_count": 27,
   "id": "84871292-e375-47f4-890f-9797ee88fc23",
   "metadata": {},
   "outputs": [],
   "source": [
    "X_val_df = pd. DataFrame(X_val, columns = predictors)"
   ]
  },
  {
   "cell_type": "code",
   "execution_count": 28,
   "id": "dd0421e9-009b-4146-932f-f277484311fd",
   "metadata": {},
   "outputs": [],
   "source": [
    "y_val_list = y_val.tolist()\n",
    "X_val_df['y_val']=y_val_list"
   ]
  },
  {
   "cell_type": "code",
   "execution_count": 29,
   "id": "a9bd8c4e-a766-41a8-9f72-d08cf54c5628",
   "metadata": {},
   "outputs": [],
   "source": [
    "X_val_df['y_val_preds']=y_val_preds"
   ]
  },
  {
   "cell_type": "code",
   "execution_count": 30,
   "id": "cb6cae0a-8cd4-4e48-8759-ed7e27251d3c",
   "metadata": {},
   "outputs": [
    {
     "data": {
      "text/html": [
       "<div>\n",
       "<style scoped>\n",
       "    .dataframe tbody tr th:only-of-type {\n",
       "        vertical-align: middle;\n",
       "    }\n",
       "\n",
       "    .dataframe tbody tr th {\n",
       "        vertical-align: top;\n",
       "    }\n",
       "\n",
       "    .dataframe thead th {\n",
       "        text-align: right;\n",
       "    }\n",
       "</style>\n",
       "<table border=\"1\" class=\"dataframe\">\n",
       "  <thead>\n",
       "    <tr style=\"text-align: right;\">\n",
       "      <th></th>\n",
       "      <th>GP</th>\n",
       "      <th>MIN</th>\n",
       "      <th>PTS</th>\n",
       "      <th>FGM</th>\n",
       "      <th>FGA</th>\n",
       "      <th>FG%</th>\n",
       "      <th>3P Made</th>\n",
       "      <th>3PA</th>\n",
       "      <th>3P%</th>\n",
       "      <th>FTM</th>\n",
       "      <th>...</th>\n",
       "      <th>3P_per_GP</th>\n",
       "      <th>Stl_per_GP</th>\n",
       "      <th>ORtg</th>\n",
       "      <th>PPP</th>\n",
       "      <th>TSP</th>\n",
       "      <th>Reb_per_GP</th>\n",
       "      <th>Min_per_GP</th>\n",
       "      <th>Blk_per_GP</th>\n",
       "      <th>y_val</th>\n",
       "      <th>y_val_preds</th>\n",
       "    </tr>\n",
       "  </thead>\n",
       "  <tbody>\n",
       "    <tr>\n",
       "      <th>count</th>\n",
       "      <td>167.000000</td>\n",
       "      <td>167.000000</td>\n",
       "      <td>167.000000</td>\n",
       "      <td>167.000000</td>\n",
       "      <td>167.000000</td>\n",
       "      <td>167.000000</td>\n",
       "      <td>167.000000</td>\n",
       "      <td>167.000000</td>\n",
       "      <td>167.000000</td>\n",
       "      <td>167.000000</td>\n",
       "      <td>...</td>\n",
       "      <td>167.000000</td>\n",
       "      <td>167.000000</td>\n",
       "      <td>167.000000</td>\n",
       "      <td>167.000000</td>\n",
       "      <td>167.000000</td>\n",
       "      <td>167.000000</td>\n",
       "      <td>167.000000</td>\n",
       "      <td>167.000000</td>\n",
       "      <td>167.0</td>\n",
       "      <td>167.0</td>\n",
       "    </tr>\n",
       "    <tr>\n",
       "      <th>mean</th>\n",
       "      <td>45.880240</td>\n",
       "      <td>11.489820</td>\n",
       "      <td>3.852695</td>\n",
       "      <td>1.474850</td>\n",
       "      <td>3.741916</td>\n",
       "      <td>40.178443</td>\n",
       "      <td>0.271856</td>\n",
       "      <td>0.837126</td>\n",
       "      <td>22.165868</td>\n",
       "      <td>0.697006</td>\n",
       "      <td>...</td>\n",
       "      <td>0.006176</td>\n",
       "      <td>0.010333</td>\n",
       "      <td>77.455523</td>\n",
       "      <td>0.774555</td>\n",
       "      <td>0.463609</td>\n",
       "      <td>0.037212</td>\n",
       "      <td>0.266699</td>\n",
       "      <td>0.002877</td>\n",
       "      <td>0.0</td>\n",
       "      <td>0.0</td>\n",
       "    </tr>\n",
       "    <tr>\n",
       "      <th>std</th>\n",
       "      <td>13.537455</td>\n",
       "      <td>4.868062</td>\n",
       "      <td>1.973768</td>\n",
       "      <td>0.759971</td>\n",
       "      <td>1.992587</td>\n",
       "      <td>5.543814</td>\n",
       "      <td>0.291834</td>\n",
       "      <td>0.850973</td>\n",
       "      <td>15.941266</td>\n",
       "      <td>0.456338</td>\n",
       "      <td>...</td>\n",
       "      <td>0.007338</td>\n",
       "      <td>0.006775</td>\n",
       "      <td>10.837586</td>\n",
       "      <td>0.108376</td>\n",
       "      <td>0.054064</td>\n",
       "      <td>0.023365</td>\n",
       "      <td>0.127116</td>\n",
       "      <td>0.003590</td>\n",
       "      <td>0.0</td>\n",
       "      <td>0.0</td>\n",
       "    </tr>\n",
       "    <tr>\n",
       "      <th>min</th>\n",
       "      <td>4.000000</td>\n",
       "      <td>2.900000</td>\n",
       "      <td>0.800000</td>\n",
       "      <td>0.300000</td>\n",
       "      <td>0.800000</td>\n",
       "      <td>27.500000</td>\n",
       "      <td>0.000000</td>\n",
       "      <td>0.000000</td>\n",
       "      <td>0.000000</td>\n",
       "      <td>0.000000</td>\n",
       "      <td>...</td>\n",
       "      <td>0.000000</td>\n",
       "      <td>0.001852</td>\n",
       "      <td>44.426494</td>\n",
       "      <td>0.444265</td>\n",
       "      <td>0.333333</td>\n",
       "      <td>0.006383</td>\n",
       "      <td>0.082979</td>\n",
       "      <td>0.000000</td>\n",
       "      <td>0.0</td>\n",
       "      <td>0.0</td>\n",
       "    </tr>\n",
       "    <tr>\n",
       "      <th>25%</th>\n",
       "      <td>37.500000</td>\n",
       "      <td>7.900000</td>\n",
       "      <td>2.450000</td>\n",
       "      <td>0.900000</td>\n",
       "      <td>2.200000</td>\n",
       "      <td>36.600000</td>\n",
       "      <td>0.000000</td>\n",
       "      <td>0.000000</td>\n",
       "      <td>9.400000</td>\n",
       "      <td>0.400000</td>\n",
       "      <td>...</td>\n",
       "      <td>0.000000</td>\n",
       "      <td>0.005128</td>\n",
       "      <td>70.639414</td>\n",
       "      <td>0.706394</td>\n",
       "      <td>0.427958</td>\n",
       "      <td>0.021320</td>\n",
       "      <td>0.188105</td>\n",
       "      <td>0.000000</td>\n",
       "      <td>0.0</td>\n",
       "      <td>0.0</td>\n",
       "    </tr>\n",
       "    <tr>\n",
       "      <th>50%</th>\n",
       "      <td>47.000000</td>\n",
       "      <td>11.000000</td>\n",
       "      <td>3.600000</td>\n",
       "      <td>1.400000</td>\n",
       "      <td>3.300000</td>\n",
       "      <td>39.800000</td>\n",
       "      <td>0.200000</td>\n",
       "      <td>0.700000</td>\n",
       "      <td>20.900000</td>\n",
       "      <td>0.600000</td>\n",
       "      <td>...</td>\n",
       "      <td>0.004762</td>\n",
       "      <td>0.009302</td>\n",
       "      <td>76.871658</td>\n",
       "      <td>0.768717</td>\n",
       "      <td>0.460025</td>\n",
       "      <td>0.030645</td>\n",
       "      <td>0.242188</td>\n",
       "      <td>0.001887</td>\n",
       "      <td>0.0</td>\n",
       "      <td>0.0</td>\n",
       "    </tr>\n",
       "    <tr>\n",
       "      <th>75%</th>\n",
       "      <td>54.000000</td>\n",
       "      <td>14.200000</td>\n",
       "      <td>5.100000</td>\n",
       "      <td>1.900000</td>\n",
       "      <td>4.800000</td>\n",
       "      <td>43.250000</td>\n",
       "      <td>0.500000</td>\n",
       "      <td>1.300000</td>\n",
       "      <td>32.300000</td>\n",
       "      <td>0.900000</td>\n",
       "      <td>...</td>\n",
       "      <td>0.009347</td>\n",
       "      <td>0.013333</td>\n",
       "      <td>82.314920</td>\n",
       "      <td>0.823149</td>\n",
       "      <td>0.489149</td>\n",
       "      <td>0.047673</td>\n",
       "      <td>0.313837</td>\n",
       "      <td>0.005196</td>\n",
       "      <td>0.0</td>\n",
       "      <td>0.0</td>\n",
       "    </tr>\n",
       "    <tr>\n",
       "      <th>max</th>\n",
       "      <td>80.000000</td>\n",
       "      <td>26.000000</td>\n",
       "      <td>10.400000</td>\n",
       "      <td>4.000000</td>\n",
       "      <td>10.500000</td>\n",
       "      <td>58.100000</td>\n",
       "      <td>1.400000</td>\n",
       "      <td>3.900000</td>\n",
       "      <td>73.700000</td>\n",
       "      <td>2.900000</td>\n",
       "      <td>...</td>\n",
       "      <td>0.038462</td>\n",
       "      <td>0.043750</td>\n",
       "      <td>128.406709</td>\n",
       "      <td>1.284067</td>\n",
       "      <td>0.717213</td>\n",
       "      <td>0.118750</td>\n",
       "      <td>0.950000</td>\n",
       "      <td>0.025000</td>\n",
       "      <td>0.0</td>\n",
       "      <td>0.0</td>\n",
       "    </tr>\n",
       "  </tbody>\n",
       "</table>\n",
       "<p>8 rows × 29 columns</p>\n",
       "</div>"
      ],
      "text/plain": [
       "               GP         MIN         PTS         FGM         FGA         FG%  \\\n",
       "count  167.000000  167.000000  167.000000  167.000000  167.000000  167.000000   \n",
       "mean    45.880240   11.489820    3.852695    1.474850    3.741916   40.178443   \n",
       "std     13.537455    4.868062    1.973768    0.759971    1.992587    5.543814   \n",
       "min      4.000000    2.900000    0.800000    0.300000    0.800000   27.500000   \n",
       "25%     37.500000    7.900000    2.450000    0.900000    2.200000   36.600000   \n",
       "50%     47.000000   11.000000    3.600000    1.400000    3.300000   39.800000   \n",
       "75%     54.000000   14.200000    5.100000    1.900000    4.800000   43.250000   \n",
       "max     80.000000   26.000000   10.400000    4.000000   10.500000   58.100000   \n",
       "\n",
       "          3P Made         3PA         3P%         FTM  ...   3P_per_GP  \\\n",
       "count  167.000000  167.000000  167.000000  167.000000  ...  167.000000   \n",
       "mean     0.271856    0.837126   22.165868    0.697006  ...    0.006176   \n",
       "std      0.291834    0.850973   15.941266    0.456338  ...    0.007338   \n",
       "min      0.000000    0.000000    0.000000    0.000000  ...    0.000000   \n",
       "25%      0.000000    0.000000    9.400000    0.400000  ...    0.000000   \n",
       "50%      0.200000    0.700000   20.900000    0.600000  ...    0.004762   \n",
       "75%      0.500000    1.300000   32.300000    0.900000  ...    0.009347   \n",
       "max      1.400000    3.900000   73.700000    2.900000  ...    0.038462   \n",
       "\n",
       "       Stl_per_GP        ORtg         PPP         TSP  Reb_per_GP  Min_per_GP  \\\n",
       "count  167.000000  167.000000  167.000000  167.000000  167.000000  167.000000   \n",
       "mean     0.010333   77.455523    0.774555    0.463609    0.037212    0.266699   \n",
       "std      0.006775   10.837586    0.108376    0.054064    0.023365    0.127116   \n",
       "min      0.001852   44.426494    0.444265    0.333333    0.006383    0.082979   \n",
       "25%      0.005128   70.639414    0.706394    0.427958    0.021320    0.188105   \n",
       "50%      0.009302   76.871658    0.768717    0.460025    0.030645    0.242188   \n",
       "75%      0.013333   82.314920    0.823149    0.489149    0.047673    0.313837   \n",
       "max      0.043750  128.406709    1.284067    0.717213    0.118750    0.950000   \n",
       "\n",
       "       Blk_per_GP  y_val  y_val_preds  \n",
       "count  167.000000  167.0        167.0  \n",
       "mean     0.002877    0.0          0.0  \n",
       "std      0.003590    0.0          0.0  \n",
       "min      0.000000    0.0          0.0  \n",
       "25%      0.000000    0.0          0.0  \n",
       "50%      0.001887    0.0          0.0  \n",
       "75%      0.005196    0.0          0.0  \n",
       "max      0.025000    0.0          0.0  \n",
       "\n",
       "[8 rows x 29 columns]"
      ]
     },
     "execution_count": 30,
     "metadata": {},
     "output_type": "execute_result"
    }
   ],
   "source": [
    "#True Negatives\n",
    "X_val_true_neg = X_val_df[(X_val_df['y_val']==0)&(X_val_df['y_val_preds']==0)]\n",
    "X_val_true_neg.describe()"
   ]
  },
  {
   "cell_type": "code",
   "execution_count": 31,
   "id": "05b1aa3a-96ad-4a18-933f-7e3701a3a370",
   "metadata": {},
   "outputs": [
    {
     "data": {
      "text/plain": [
       "(167, 29)"
      ]
     },
     "execution_count": 31,
     "metadata": {},
     "output_type": "execute_result"
    }
   ],
   "source": [
    "X_val_true_neg.shape"
   ]
  },
  {
   "cell_type": "code",
   "execution_count": 32,
   "id": "664d16e9-2da6-4735-8bf0-19f16274adb6",
   "metadata": {},
   "outputs": [
    {
     "data": {
      "text/html": [
       "<div>\n",
       "<style scoped>\n",
       "    .dataframe tbody tr th:only-of-type {\n",
       "        vertical-align: middle;\n",
       "    }\n",
       "\n",
       "    .dataframe tbody tr th {\n",
       "        vertical-align: top;\n",
       "    }\n",
       "\n",
       "    .dataframe thead th {\n",
       "        text-align: right;\n",
       "    }\n",
       "</style>\n",
       "<table border=\"1\" class=\"dataframe\">\n",
       "  <thead>\n",
       "    <tr style=\"text-align: right;\">\n",
       "      <th></th>\n",
       "      <th>GP</th>\n",
       "      <th>MIN</th>\n",
       "      <th>PTS</th>\n",
       "      <th>FGM</th>\n",
       "      <th>FGA</th>\n",
       "      <th>FG%</th>\n",
       "      <th>3P Made</th>\n",
       "      <th>3PA</th>\n",
       "      <th>3P%</th>\n",
       "      <th>FTM</th>\n",
       "      <th>...</th>\n",
       "      <th>3P_per_GP</th>\n",
       "      <th>Stl_per_GP</th>\n",
       "      <th>ORtg</th>\n",
       "      <th>PPP</th>\n",
       "      <th>TSP</th>\n",
       "      <th>Reb_per_GP</th>\n",
       "      <th>Min_per_GP</th>\n",
       "      <th>Blk_per_GP</th>\n",
       "      <th>y_val</th>\n",
       "      <th>y_val_preds</th>\n",
       "    </tr>\n",
       "  </thead>\n",
       "  <tbody>\n",
       "    <tr>\n",
       "      <th>count</th>\n",
       "      <td>99.000000</td>\n",
       "      <td>99.000000</td>\n",
       "      <td>99.000000</td>\n",
       "      <td>99.000000</td>\n",
       "      <td>99.000000</td>\n",
       "      <td>99.000000</td>\n",
       "      <td>99.000000</td>\n",
       "      <td>99.000000</td>\n",
       "      <td>99.000000</td>\n",
       "      <td>99.000000</td>\n",
       "      <td>...</td>\n",
       "      <td>99.000000</td>\n",
       "      <td>99.000000</td>\n",
       "      <td>99.000000</td>\n",
       "      <td>99.000000</td>\n",
       "      <td>99.000000</td>\n",
       "      <td>99.000000</td>\n",
       "      <td>99.000000</td>\n",
       "      <td>99.000000</td>\n",
       "      <td>99.0</td>\n",
       "      <td>99.0</td>\n",
       "    </tr>\n",
       "    <tr>\n",
       "      <th>mean</th>\n",
       "      <td>64.717172</td>\n",
       "      <td>19.241414</td>\n",
       "      <td>7.709091</td>\n",
       "      <td>2.977778</td>\n",
       "      <td>6.587879</td>\n",
       "      <td>45.284848</td>\n",
       "      <td>0.367677</td>\n",
       "      <td>1.072727</td>\n",
       "      <td>22.614141</td>\n",
       "      <td>1.441414</td>\n",
       "      <td>...</td>\n",
       "      <td>0.005887</td>\n",
       "      <td>0.009862</td>\n",
       "      <td>88.207685</td>\n",
       "      <td>0.882077</td>\n",
       "      <td>0.519501</td>\n",
       "      <td>0.058541</td>\n",
       "      <td>0.303842</td>\n",
       "      <td>0.006626</td>\n",
       "      <td>0.0</td>\n",
       "      <td>1.0</td>\n",
       "    </tr>\n",
       "    <tr>\n",
       "      <th>std</th>\n",
       "      <td>13.343989</td>\n",
       "      <td>6.277869</td>\n",
       "      <td>2.805246</td>\n",
       "      <td>1.116075</td>\n",
       "      <td>2.520782</td>\n",
       "      <td>5.098126</td>\n",
       "      <td>0.257471</td>\n",
       "      <td>0.728266</td>\n",
       "      <td>15.538905</td>\n",
       "      <td>0.708262</td>\n",
       "      <td>...</td>\n",
       "      <td>0.004244</td>\n",
       "      <td>0.005396</td>\n",
       "      <td>9.291536</td>\n",
       "      <td>0.092915</td>\n",
       "      <td>0.046577</td>\n",
       "      <td>0.033848</td>\n",
       "      <td>0.098684</td>\n",
       "      <td>0.012710</td>\n",
       "      <td>0.0</td>\n",
       "      <td>0.0</td>\n",
       "    </tr>\n",
       "    <tr>\n",
       "      <th>min</th>\n",
       "      <td>27.000000</td>\n",
       "      <td>10.100000</td>\n",
       "      <td>2.700000</td>\n",
       "      <td>1.100000</td>\n",
       "      <td>2.300000</td>\n",
       "      <td>31.200000</td>\n",
       "      <td>0.000000</td>\n",
       "      <td>0.000000</td>\n",
       "      <td>0.000000</td>\n",
       "      <td>0.300000</td>\n",
       "      <td>...</td>\n",
       "      <td>0.000000</td>\n",
       "      <td>0.000000</td>\n",
       "      <td>62.682216</td>\n",
       "      <td>0.626822</td>\n",
       "      <td>0.386691</td>\n",
       "      <td>0.006154</td>\n",
       "      <td>0.142222</td>\n",
       "      <td>0.000000</td>\n",
       "      <td>0.0</td>\n",
       "      <td>1.0</td>\n",
       "    </tr>\n",
       "    <tr>\n",
       "      <th>25%</th>\n",
       "      <td>56.000000</td>\n",
       "      <td>15.050000</td>\n",
       "      <td>5.600000</td>\n",
       "      <td>2.100000</td>\n",
       "      <td>4.650000</td>\n",
       "      <td>42.450000</td>\n",
       "      <td>0.200000</td>\n",
       "      <td>0.500000</td>\n",
       "      <td>11.300000</td>\n",
       "      <td>0.900000</td>\n",
       "      <td>...</td>\n",
       "      <td>0.002941</td>\n",
       "      <td>0.005848</td>\n",
       "      <td>82.813103</td>\n",
       "      <td>0.828131</td>\n",
       "      <td>0.492884</td>\n",
       "      <td>0.034471</td>\n",
       "      <td>0.235208</td>\n",
       "      <td>0.001575</td>\n",
       "      <td>0.0</td>\n",
       "      <td>1.0</td>\n",
       "    </tr>\n",
       "    <tr>\n",
       "      <th>50%</th>\n",
       "      <td>65.000000</td>\n",
       "      <td>18.300000</td>\n",
       "      <td>6.900000</td>\n",
       "      <td>2.700000</td>\n",
       "      <td>6.300000</td>\n",
       "      <td>45.000000</td>\n",
       "      <td>0.400000</td>\n",
       "      <td>1.100000</td>\n",
       "      <td>21.600000</td>\n",
       "      <td>1.200000</td>\n",
       "      <td>...</td>\n",
       "      <td>0.005455</td>\n",
       "      <td>0.009722</td>\n",
       "      <td>88.674549</td>\n",
       "      <td>0.886745</td>\n",
       "      <td>0.521807</td>\n",
       "      <td>0.054118</td>\n",
       "      <td>0.289231</td>\n",
       "      <td>0.003896</td>\n",
       "      <td>0.0</td>\n",
       "      <td>1.0</td>\n",
       "    </tr>\n",
       "    <tr>\n",
       "      <th>75%</th>\n",
       "      <td>73.000000</td>\n",
       "      <td>22.850000</td>\n",
       "      <td>9.650000</td>\n",
       "      <td>3.700000</td>\n",
       "      <td>8.000000</td>\n",
       "      <td>48.250000</td>\n",
       "      <td>0.500000</td>\n",
       "      <td>1.450000</td>\n",
       "      <td>31.300000</td>\n",
       "      <td>1.900000</td>\n",
       "      <td>...</td>\n",
       "      <td>0.008631</td>\n",
       "      <td>0.012500</td>\n",
       "      <td>94.199881</td>\n",
       "      <td>0.941999</td>\n",
       "      <td>0.543382</td>\n",
       "      <td>0.075523</td>\n",
       "      <td>0.357576</td>\n",
       "      <td>0.007418</td>\n",
       "      <td>0.0</td>\n",
       "      <td>1.0</td>\n",
       "    </tr>\n",
       "    <tr>\n",
       "      <th>max</th>\n",
       "      <td>93.000000</td>\n",
       "      <td>38.100000</td>\n",
       "      <td>15.800000</td>\n",
       "      <td>6.200000</td>\n",
       "      <td>14.800000</td>\n",
       "      <td>57.700000</td>\n",
       "      <td>1.100000</td>\n",
       "      <td>3.200000</td>\n",
       "      <td>72.800000</td>\n",
       "      <td>4.200000</td>\n",
       "      <td>...</td>\n",
       "      <td>0.019298</td>\n",
       "      <td>0.031034</td>\n",
       "      <td>119.132290</td>\n",
       "      <td>1.191323</td>\n",
       "      <td>0.653786</td>\n",
       "      <td>0.186842</td>\n",
       "      <td>0.656897</td>\n",
       "      <td>0.118182</td>\n",
       "      <td>0.0</td>\n",
       "      <td>1.0</td>\n",
       "    </tr>\n",
       "  </tbody>\n",
       "</table>\n",
       "<p>8 rows × 29 columns</p>\n",
       "</div>"
      ],
      "text/plain": [
       "              GP        MIN        PTS        FGM        FGA        FG%  \\\n",
       "count  99.000000  99.000000  99.000000  99.000000  99.000000  99.000000   \n",
       "mean   64.717172  19.241414   7.709091   2.977778   6.587879  45.284848   \n",
       "std    13.343989   6.277869   2.805246   1.116075   2.520782   5.098126   \n",
       "min    27.000000  10.100000   2.700000   1.100000   2.300000  31.200000   \n",
       "25%    56.000000  15.050000   5.600000   2.100000   4.650000  42.450000   \n",
       "50%    65.000000  18.300000   6.900000   2.700000   6.300000  45.000000   \n",
       "75%    73.000000  22.850000   9.650000   3.700000   8.000000  48.250000   \n",
       "max    93.000000  38.100000  15.800000   6.200000  14.800000  57.700000   \n",
       "\n",
       "         3P Made        3PA        3P%        FTM  ...  3P_per_GP  Stl_per_GP  \\\n",
       "count  99.000000  99.000000  99.000000  99.000000  ...  99.000000   99.000000   \n",
       "mean    0.367677   1.072727  22.614141   1.441414  ...   0.005887    0.009862   \n",
       "std     0.257471   0.728266  15.538905   0.708262  ...   0.004244    0.005396   \n",
       "min     0.000000   0.000000   0.000000   0.300000  ...   0.000000    0.000000   \n",
       "25%     0.200000   0.500000  11.300000   0.900000  ...   0.002941    0.005848   \n",
       "50%     0.400000   1.100000  21.600000   1.200000  ...   0.005455    0.009722   \n",
       "75%     0.500000   1.450000  31.300000   1.900000  ...   0.008631    0.012500   \n",
       "max     1.100000   3.200000  72.800000   4.200000  ...   0.019298    0.031034   \n",
       "\n",
       "             ORtg        PPP        TSP  Reb_per_GP  Min_per_GP  Blk_per_GP  \\\n",
       "count   99.000000  99.000000  99.000000   99.000000   99.000000   99.000000   \n",
       "mean    88.207685   0.882077   0.519501    0.058541    0.303842    0.006626   \n",
       "std      9.291536   0.092915   0.046577    0.033848    0.098684    0.012710   \n",
       "min     62.682216   0.626822   0.386691    0.006154    0.142222    0.000000   \n",
       "25%     82.813103   0.828131   0.492884    0.034471    0.235208    0.001575   \n",
       "50%     88.674549   0.886745   0.521807    0.054118    0.289231    0.003896   \n",
       "75%     94.199881   0.941999   0.543382    0.075523    0.357576    0.007418   \n",
       "max    119.132290   1.191323   0.653786    0.186842    0.656897    0.118182   \n",
       "\n",
       "       y_val  y_val_preds  \n",
       "count   99.0         99.0  \n",
       "mean     0.0          1.0  \n",
       "std      0.0          0.0  \n",
       "min      0.0          1.0  \n",
       "25%      0.0          1.0  \n",
       "50%      0.0          1.0  \n",
       "75%      0.0          1.0  \n",
       "max      0.0          1.0  \n",
       "\n",
       "[8 rows x 29 columns]"
      ]
     },
     "execution_count": 32,
     "metadata": {},
     "output_type": "execute_result"
    }
   ],
   "source": [
    "#False Positive\n",
    "X_val_false_pos = X_val_df[(X_val_df['y_val']==0)&(X_val_df['y_val_preds']==1)]\n",
    "X_val_false_pos.describe()"
   ]
  },
  {
   "cell_type": "code",
   "execution_count": 33,
   "id": "6cb03f9c-a7de-4012-93de-47a2d940f8f9",
   "metadata": {},
   "outputs": [
    {
     "data": {
      "text/plain": [
       "(99, 29)"
      ]
     },
     "execution_count": 33,
     "metadata": {},
     "output_type": "execute_result"
    }
   ],
   "source": [
    "X_val_false_pos.shape"
   ]
  },
  {
   "cell_type": "code",
   "execution_count": 34,
   "id": "71de1250-de4d-46ef-875f-0bbe6d3d088e",
   "metadata": {},
   "outputs": [
    {
     "data": {
      "text/html": [
       "<div>\n",
       "<style scoped>\n",
       "    .dataframe tbody tr th:only-of-type {\n",
       "        vertical-align: middle;\n",
       "    }\n",
       "\n",
       "    .dataframe tbody tr th {\n",
       "        vertical-align: top;\n",
       "    }\n",
       "\n",
       "    .dataframe thead th {\n",
       "        text-align: right;\n",
       "    }\n",
       "</style>\n",
       "<table border=\"1\" class=\"dataframe\">\n",
       "  <thead>\n",
       "    <tr style=\"text-align: right;\">\n",
       "      <th></th>\n",
       "      <th>GP</th>\n",
       "      <th>MIN</th>\n",
       "      <th>PTS</th>\n",
       "      <th>FGM</th>\n",
       "      <th>FGA</th>\n",
       "      <th>FG%</th>\n",
       "      <th>3P Made</th>\n",
       "      <th>3PA</th>\n",
       "      <th>3P%</th>\n",
       "      <th>FTM</th>\n",
       "      <th>...</th>\n",
       "      <th>3P_per_GP</th>\n",
       "      <th>Stl_per_GP</th>\n",
       "      <th>ORtg</th>\n",
       "      <th>PPP</th>\n",
       "      <th>TSP</th>\n",
       "      <th>Reb_per_GP</th>\n",
       "      <th>Min_per_GP</th>\n",
       "      <th>Blk_per_GP</th>\n",
       "      <th>y_val</th>\n",
       "      <th>y_val_preds</th>\n",
       "    </tr>\n",
       "  </thead>\n",
       "  <tbody>\n",
       "    <tr>\n",
       "      <th>count</th>\n",
       "      <td>889.000000</td>\n",
       "      <td>889.000000</td>\n",
       "      <td>889.000000</td>\n",
       "      <td>889.000000</td>\n",
       "      <td>889.000000</td>\n",
       "      <td>889.000000</td>\n",
       "      <td>889.00000</td>\n",
       "      <td>889.000000</td>\n",
       "      <td>889.000000</td>\n",
       "      <td>889.000000</td>\n",
       "      <td>...</td>\n",
       "      <td>889.000000</td>\n",
       "      <td>889.000000</td>\n",
       "      <td>889.000000</td>\n",
       "      <td>889.000000</td>\n",
       "      <td>889.000000</td>\n",
       "      <td>889.000000</td>\n",
       "      <td>889.000000</td>\n",
       "      <td>889.000000</td>\n",
       "      <td>889.0</td>\n",
       "      <td>889.0</td>\n",
       "    </tr>\n",
       "    <tr>\n",
       "      <th>mean</th>\n",
       "      <td>71.776153</td>\n",
       "      <td>22.243082</td>\n",
       "      <td>9.086839</td>\n",
       "      <td>3.517548</td>\n",
       "      <td>7.575703</td>\n",
       "      <td>46.746232</td>\n",
       "      <td>0.34027</td>\n",
       "      <td>0.997863</td>\n",
       "      <td>20.298988</td>\n",
       "      <td>1.773678</td>\n",
       "      <td>...</td>\n",
       "      <td>0.004817</td>\n",
       "      <td>0.010907</td>\n",
       "      <td>89.225066</td>\n",
       "      <td>0.892251</td>\n",
       "      <td>0.526623</td>\n",
       "      <td>0.057646</td>\n",
       "      <td>0.312556</td>\n",
       "      <td>0.005986</td>\n",
       "      <td>1.0</td>\n",
       "      <td>1.0</td>\n",
       "    </tr>\n",
       "    <tr>\n",
       "      <th>std</th>\n",
       "      <td>13.794194</td>\n",
       "      <td>8.758475</td>\n",
       "      <td>4.263116</td>\n",
       "      <td>1.689330</td>\n",
       "      <td>3.650817</td>\n",
       "      <td>5.723977</td>\n",
       "      <td>0.30734</td>\n",
       "      <td>0.877641</td>\n",
       "      <td>14.416332</td>\n",
       "      <td>0.908025</td>\n",
       "      <td>...</td>\n",
       "      <td>0.004420</td>\n",
       "      <td>0.005902</td>\n",
       "      <td>9.145007</td>\n",
       "      <td>0.091450</td>\n",
       "      <td>0.047691</td>\n",
       "      <td>0.029129</td>\n",
       "      <td>0.111569</td>\n",
       "      <td>0.011153</td>\n",
       "      <td>0.0</td>\n",
       "      <td>0.0</td>\n",
       "    </tr>\n",
       "    <tr>\n",
       "      <th>min</th>\n",
       "      <td>33.000000</td>\n",
       "      <td>6.900000</td>\n",
       "      <td>1.700000</td>\n",
       "      <td>0.700000</td>\n",
       "      <td>1.500000</td>\n",
       "      <td>28.500000</td>\n",
       "      <td>0.00000</td>\n",
       "      <td>0.000000</td>\n",
       "      <td>0.000000</td>\n",
       "      <td>0.200000</td>\n",
       "      <td>...</td>\n",
       "      <td>0.000000</td>\n",
       "      <td>0.000000</td>\n",
       "      <td>65.309842</td>\n",
       "      <td>0.653098</td>\n",
       "      <td>0.396310</td>\n",
       "      <td>0.007143</td>\n",
       "      <td>0.089610</td>\n",
       "      <td>0.000000</td>\n",
       "      <td>1.0</td>\n",
       "      <td>1.0</td>\n",
       "    </tr>\n",
       "    <tr>\n",
       "      <th>25%</th>\n",
       "      <td>62.000000</td>\n",
       "      <td>15.500000</td>\n",
       "      <td>6.000000</td>\n",
       "      <td>2.300000</td>\n",
       "      <td>4.900000</td>\n",
       "      <td>43.000000</td>\n",
       "      <td>0.00000</td>\n",
       "      <td>0.200000</td>\n",
       "      <td>8.700000</td>\n",
       "      <td>1.100000</td>\n",
       "      <td>...</td>\n",
       "      <td>0.000000</td>\n",
       "      <td>0.006849</td>\n",
       "      <td>83.001328</td>\n",
       "      <td>0.830013</td>\n",
       "      <td>0.495536</td>\n",
       "      <td>0.035821</td>\n",
       "      <td>0.230667</td>\n",
       "      <td>0.002247</td>\n",
       "      <td>1.0</td>\n",
       "      <td>1.0</td>\n",
       "    </tr>\n",
       "    <tr>\n",
       "      <th>50%</th>\n",
       "      <td>71.000000</td>\n",
       "      <td>20.500000</td>\n",
       "      <td>8.100000</td>\n",
       "      <td>3.100000</td>\n",
       "      <td>6.700000</td>\n",
       "      <td>46.500000</td>\n",
       "      <td>0.30000</td>\n",
       "      <td>0.900000</td>\n",
       "      <td>19.100000</td>\n",
       "      <td>1.600000</td>\n",
       "      <td>...</td>\n",
       "      <td>0.004301</td>\n",
       "      <td>0.009756</td>\n",
       "      <td>88.552916</td>\n",
       "      <td>0.885529</td>\n",
       "      <td>0.522629</td>\n",
       "      <td>0.053125</td>\n",
       "      <td>0.297872</td>\n",
       "      <td>0.004000</td>\n",
       "      <td>1.0</td>\n",
       "      <td>1.0</td>\n",
       "    </tr>\n",
       "    <tr>\n",
       "      <th>75%</th>\n",
       "      <td>81.000000</td>\n",
       "      <td>27.500000</td>\n",
       "      <td>11.500000</td>\n",
       "      <td>4.400000</td>\n",
       "      <td>9.600000</td>\n",
       "      <td>50.500000</td>\n",
       "      <td>0.50000</td>\n",
       "      <td>1.600000</td>\n",
       "      <td>30.000000</td>\n",
       "      <td>2.300000</td>\n",
       "      <td>...</td>\n",
       "      <td>0.007576</td>\n",
       "      <td>0.013580</td>\n",
       "      <td>94.488189</td>\n",
       "      <td>0.944882</td>\n",
       "      <td>0.554623</td>\n",
       "      <td>0.073134</td>\n",
       "      <td>0.375472</td>\n",
       "      <td>0.006667</td>\n",
       "      <td>1.0</td>\n",
       "      <td>1.0</td>\n",
       "    </tr>\n",
       "    <tr>\n",
       "      <th>max</th>\n",
       "      <td>115.000000</td>\n",
       "      <td>59.400000</td>\n",
       "      <td>30.300000</td>\n",
       "      <td>12.000000</td>\n",
       "      <td>28.600000</td>\n",
       "      <td>63.600000</td>\n",
       "      <td>1.60000</td>\n",
       "      <td>4.400000</td>\n",
       "      <td>72.300000</td>\n",
       "      <td>7.000000</td>\n",
       "      <td>...</td>\n",
       "      <td>0.027027</td>\n",
       "      <td>0.044444</td>\n",
       "      <td>130.813953</td>\n",
       "      <td>1.308140</td>\n",
       "      <td>0.724249</td>\n",
       "      <td>0.257576</td>\n",
       "      <td>0.962162</td>\n",
       "      <td>0.225000</td>\n",
       "      <td>1.0</td>\n",
       "      <td>1.0</td>\n",
       "    </tr>\n",
       "  </tbody>\n",
       "</table>\n",
       "<p>8 rows × 29 columns</p>\n",
       "</div>"
      ],
      "text/plain": [
       "               GP         MIN         PTS         FGM         FGA         FG%  \\\n",
       "count  889.000000  889.000000  889.000000  889.000000  889.000000  889.000000   \n",
       "mean    71.776153   22.243082    9.086839    3.517548    7.575703   46.746232   \n",
       "std     13.794194    8.758475    4.263116    1.689330    3.650817    5.723977   \n",
       "min     33.000000    6.900000    1.700000    0.700000    1.500000   28.500000   \n",
       "25%     62.000000   15.500000    6.000000    2.300000    4.900000   43.000000   \n",
       "50%     71.000000   20.500000    8.100000    3.100000    6.700000   46.500000   \n",
       "75%     81.000000   27.500000   11.500000    4.400000    9.600000   50.500000   \n",
       "max    115.000000   59.400000   30.300000   12.000000   28.600000   63.600000   \n",
       "\n",
       "         3P Made         3PA         3P%         FTM  ...   3P_per_GP  \\\n",
       "count  889.00000  889.000000  889.000000  889.000000  ...  889.000000   \n",
       "mean     0.34027    0.997863   20.298988    1.773678  ...    0.004817   \n",
       "std      0.30734    0.877641   14.416332    0.908025  ...    0.004420   \n",
       "min      0.00000    0.000000    0.000000    0.200000  ...    0.000000   \n",
       "25%      0.00000    0.200000    8.700000    1.100000  ...    0.000000   \n",
       "50%      0.30000    0.900000   19.100000    1.600000  ...    0.004301   \n",
       "75%      0.50000    1.600000   30.000000    2.300000  ...    0.007576   \n",
       "max      1.60000    4.400000   72.300000    7.000000  ...    0.027027   \n",
       "\n",
       "       Stl_per_GP        ORtg         PPP         TSP  Reb_per_GP  Min_per_GP  \\\n",
       "count  889.000000  889.000000  889.000000  889.000000  889.000000  889.000000   \n",
       "mean     0.010907   89.225066    0.892251    0.526623    0.057646    0.312556   \n",
       "std      0.005902    9.145007    0.091450    0.047691    0.029129    0.111569   \n",
       "min      0.000000   65.309842    0.653098    0.396310    0.007143    0.089610   \n",
       "25%      0.006849   83.001328    0.830013    0.495536    0.035821    0.230667   \n",
       "50%      0.009756   88.552916    0.885529    0.522629    0.053125    0.297872   \n",
       "75%      0.013580   94.488189    0.944882    0.554623    0.073134    0.375472   \n",
       "max      0.044444  130.813953    1.308140    0.724249    0.257576    0.962162   \n",
       "\n",
       "       Blk_per_GP  y_val  y_val_preds  \n",
       "count  889.000000  889.0        889.0  \n",
       "mean     0.005986    1.0          1.0  \n",
       "std      0.011153    0.0          0.0  \n",
       "min      0.000000    1.0          1.0  \n",
       "25%      0.002247    1.0          1.0  \n",
       "50%      0.004000    1.0          1.0  \n",
       "75%      0.006667    1.0          1.0  \n",
       "max      0.225000    1.0          1.0  \n",
       "\n",
       "[8 rows x 29 columns]"
      ]
     },
     "execution_count": 34,
     "metadata": {},
     "output_type": "execute_result"
    }
   ],
   "source": [
    "# True Positives\n",
    "X_val_true_pos = X_val_df[(X_val_df['y_val']==1)&(X_val_df['y_val_preds']==1)]\n",
    "X_val_true_pos.describe()"
   ]
  },
  {
   "cell_type": "code",
   "execution_count": 35,
   "id": "c052876d-0f70-4012-adcd-baa51b9eb228",
   "metadata": {},
   "outputs": [
    {
     "data": {
      "text/plain": [
       "(889, 29)"
      ]
     },
     "execution_count": 35,
     "metadata": {},
     "output_type": "execute_result"
    }
   ],
   "source": [
    "X_val_true_pos.shape"
   ]
  },
  {
   "cell_type": "code",
   "execution_count": 36,
   "id": "90822c48-701c-4164-9740-2a83a8aeb45d",
   "metadata": {},
   "outputs": [
    {
     "data": {
      "text/html": [
       "<div>\n",
       "<style scoped>\n",
       "    .dataframe tbody tr th:only-of-type {\n",
       "        vertical-align: middle;\n",
       "    }\n",
       "\n",
       "    .dataframe tbody tr th {\n",
       "        vertical-align: top;\n",
       "    }\n",
       "\n",
       "    .dataframe thead th {\n",
       "        text-align: right;\n",
       "    }\n",
       "</style>\n",
       "<table border=\"1\" class=\"dataframe\">\n",
       "  <thead>\n",
       "    <tr style=\"text-align: right;\">\n",
       "      <th></th>\n",
       "      <th>GP</th>\n",
       "      <th>MIN</th>\n",
       "      <th>PTS</th>\n",
       "      <th>FGM</th>\n",
       "      <th>FGA</th>\n",
       "      <th>FG%</th>\n",
       "      <th>3P Made</th>\n",
       "      <th>3PA</th>\n",
       "      <th>3P%</th>\n",
       "      <th>FTM</th>\n",
       "      <th>...</th>\n",
       "      <th>3P_per_GP</th>\n",
       "      <th>Stl_per_GP</th>\n",
       "      <th>ORtg</th>\n",
       "      <th>PPP</th>\n",
       "      <th>TSP</th>\n",
       "      <th>Reb_per_GP</th>\n",
       "      <th>Min_per_GP</th>\n",
       "      <th>Blk_per_GP</th>\n",
       "      <th>y_val</th>\n",
       "      <th>y_val_preds</th>\n",
       "    </tr>\n",
       "  </thead>\n",
       "  <tbody>\n",
       "    <tr>\n",
       "      <th>count</th>\n",
       "      <td>445.000000</td>\n",
       "      <td>445.000000</td>\n",
       "      <td>445.000000</td>\n",
       "      <td>445.000000</td>\n",
       "      <td>445.000000</td>\n",
       "      <td>445.000000</td>\n",
       "      <td>445.000000</td>\n",
       "      <td>445.000000</td>\n",
       "      <td>445.000000</td>\n",
       "      <td>445.000000</td>\n",
       "      <td>...</td>\n",
       "      <td>445.000000</td>\n",
       "      <td>445.000000</td>\n",
       "      <td>445.000000</td>\n",
       "      <td>445.000000</td>\n",
       "      <td>445.000000</td>\n",
       "      <td>445.000000</td>\n",
       "      <td>445.000000</td>\n",
       "      <td>445.000000</td>\n",
       "      <td>445.0</td>\n",
       "      <td>445.0</td>\n",
       "    </tr>\n",
       "    <tr>\n",
       "      <th>mean</th>\n",
       "      <td>49.406742</td>\n",
       "      <td>12.677079</td>\n",
       "      <td>4.243820</td>\n",
       "      <td>1.617528</td>\n",
       "      <td>3.974607</td>\n",
       "      <td>41.345393</td>\n",
       "      <td>0.294607</td>\n",
       "      <td>0.895955</td>\n",
       "      <td>20.983820</td>\n",
       "      <td>0.793034</td>\n",
       "      <td>...</td>\n",
       "      <td>0.006228</td>\n",
       "      <td>0.009693</td>\n",
       "      <td>80.131602</td>\n",
       "      <td>0.801316</td>\n",
       "      <td>0.476081</td>\n",
       "      <td>0.040269</td>\n",
       "      <td>0.265530</td>\n",
       "      <td>0.003540</td>\n",
       "      <td>1.0</td>\n",
       "      <td>0.0</td>\n",
       "    </tr>\n",
       "    <tr>\n",
       "      <th>std</th>\n",
       "      <td>11.415315</td>\n",
       "      <td>5.163233</td>\n",
       "      <td>2.118545</td>\n",
       "      <td>0.800314</td>\n",
       "      <td>2.028381</td>\n",
       "      <td>5.490229</td>\n",
       "      <td>0.305162</td>\n",
       "      <td>0.878949</td>\n",
       "      <td>14.712447</td>\n",
       "      <td>0.484602</td>\n",
       "      <td>...</td>\n",
       "      <td>0.006809</td>\n",
       "      <td>0.006029</td>\n",
       "      <td>10.586905</td>\n",
       "      <td>0.105869</td>\n",
       "      <td>0.053492</td>\n",
       "      <td>0.023809</td>\n",
       "      <td>0.107420</td>\n",
       "      <td>0.005261</td>\n",
       "      <td>0.0</td>\n",
       "      <td>0.0</td>\n",
       "    </tr>\n",
       "    <tr>\n",
       "      <th>min</th>\n",
       "      <td>10.000000</td>\n",
       "      <td>4.000000</td>\n",
       "      <td>1.000000</td>\n",
       "      <td>0.400000</td>\n",
       "      <td>1.100000</td>\n",
       "      <td>27.500000</td>\n",
       "      <td>0.000000</td>\n",
       "      <td>0.000000</td>\n",
       "      <td>0.000000</td>\n",
       "      <td>0.000000</td>\n",
       "      <td>...</td>\n",
       "      <td>0.000000</td>\n",
       "      <td>0.000000</td>\n",
       "      <td>54.207537</td>\n",
       "      <td>0.542075</td>\n",
       "      <td>0.355450</td>\n",
       "      <td>0.007500</td>\n",
       "      <td>0.085106</td>\n",
       "      <td>0.000000</td>\n",
       "      <td>1.0</td>\n",
       "      <td>0.0</td>\n",
       "    </tr>\n",
       "    <tr>\n",
       "      <th>25%</th>\n",
       "      <td>43.000000</td>\n",
       "      <td>9.300000</td>\n",
       "      <td>2.800000</td>\n",
       "      <td>1.100000</td>\n",
       "      <td>2.500000</td>\n",
       "      <td>37.500000</td>\n",
       "      <td>0.000000</td>\n",
       "      <td>0.000000</td>\n",
       "      <td>8.300000</td>\n",
       "      <td>0.400000</td>\n",
       "      <td>...</td>\n",
       "      <td>0.000000</td>\n",
       "      <td>0.005263</td>\n",
       "      <td>73.099415</td>\n",
       "      <td>0.730994</td>\n",
       "      <td>0.440379</td>\n",
       "      <td>0.025000</td>\n",
       "      <td>0.185106</td>\n",
       "      <td>0.000000</td>\n",
       "      <td>1.0</td>\n",
       "      <td>0.0</td>\n",
       "    </tr>\n",
       "    <tr>\n",
       "      <th>50%</th>\n",
       "      <td>50.000000</td>\n",
       "      <td>11.700000</td>\n",
       "      <td>3.900000</td>\n",
       "      <td>1.500000</td>\n",
       "      <td>3.500000</td>\n",
       "      <td>40.900000</td>\n",
       "      <td>0.200000</td>\n",
       "      <td>0.700000</td>\n",
       "      <td>19.500000</td>\n",
       "      <td>0.700000</td>\n",
       "      <td>...</td>\n",
       "      <td>0.004545</td>\n",
       "      <td>0.008163</td>\n",
       "      <td>79.011345</td>\n",
       "      <td>0.790113</td>\n",
       "      <td>0.469005</td>\n",
       "      <td>0.034694</td>\n",
       "      <td>0.241463</td>\n",
       "      <td>0.002273</td>\n",
       "      <td>1.0</td>\n",
       "      <td>0.0</td>\n",
       "    </tr>\n",
       "    <tr>\n",
       "      <th>75%</th>\n",
       "      <td>58.000000</td>\n",
       "      <td>15.000000</td>\n",
       "      <td>5.200000</td>\n",
       "      <td>2.000000</td>\n",
       "      <td>4.800000</td>\n",
       "      <td>44.800000</td>\n",
       "      <td>0.500000</td>\n",
       "      <td>1.500000</td>\n",
       "      <td>32.500000</td>\n",
       "      <td>1.000000</td>\n",
       "      <td>...</td>\n",
       "      <td>0.010000</td>\n",
       "      <td>0.013208</td>\n",
       "      <td>87.101557</td>\n",
       "      <td>0.871016</td>\n",
       "      <td>0.510899</td>\n",
       "      <td>0.050000</td>\n",
       "      <td>0.328814</td>\n",
       "      <td>0.005085</td>\n",
       "      <td>1.0</td>\n",
       "      <td>0.0</td>\n",
       "    </tr>\n",
       "    <tr>\n",
       "      <th>max</th>\n",
       "      <td>81.000000</td>\n",
       "      <td>37.900000</td>\n",
       "      <td>12.700000</td>\n",
       "      <td>5.100000</td>\n",
       "      <td>12.500000</td>\n",
       "      <td>57.500000</td>\n",
       "      <td>1.700000</td>\n",
       "      <td>4.700000</td>\n",
       "      <td>62.600000</td>\n",
       "      <td>2.700000</td>\n",
       "      <td>...</td>\n",
       "      <td>0.050000</td>\n",
       "      <td>0.035897</td>\n",
       "      <td>118.938701</td>\n",
       "      <td>1.189387</td>\n",
       "      <td>0.689290</td>\n",
       "      <td>0.168293</td>\n",
       "      <td>0.634483</td>\n",
       "      <td>0.073913</td>\n",
       "      <td>1.0</td>\n",
       "      <td>0.0</td>\n",
       "    </tr>\n",
       "  </tbody>\n",
       "</table>\n",
       "<p>8 rows × 29 columns</p>\n",
       "</div>"
      ],
      "text/plain": [
       "               GP         MIN         PTS         FGM         FGA         FG%  \\\n",
       "count  445.000000  445.000000  445.000000  445.000000  445.000000  445.000000   \n",
       "mean    49.406742   12.677079    4.243820    1.617528    3.974607   41.345393   \n",
       "std     11.415315    5.163233    2.118545    0.800314    2.028381    5.490229   \n",
       "min     10.000000    4.000000    1.000000    0.400000    1.100000   27.500000   \n",
       "25%     43.000000    9.300000    2.800000    1.100000    2.500000   37.500000   \n",
       "50%     50.000000   11.700000    3.900000    1.500000    3.500000   40.900000   \n",
       "75%     58.000000   15.000000    5.200000    2.000000    4.800000   44.800000   \n",
       "max     81.000000   37.900000   12.700000    5.100000   12.500000   57.500000   \n",
       "\n",
       "          3P Made         3PA         3P%         FTM  ...   3P_per_GP  \\\n",
       "count  445.000000  445.000000  445.000000  445.000000  ...  445.000000   \n",
       "mean     0.294607    0.895955   20.983820    0.793034  ...    0.006228   \n",
       "std      0.305162    0.878949   14.712447    0.484602  ...    0.006809   \n",
       "min      0.000000    0.000000    0.000000    0.000000  ...    0.000000   \n",
       "25%      0.000000    0.000000    8.300000    0.400000  ...    0.000000   \n",
       "50%      0.200000    0.700000   19.500000    0.700000  ...    0.004545   \n",
       "75%      0.500000    1.500000   32.500000    1.000000  ...    0.010000   \n",
       "max      1.700000    4.700000   62.600000    2.700000  ...    0.050000   \n",
       "\n",
       "       Stl_per_GP        ORtg         PPP         TSP  Reb_per_GP  Min_per_GP  \\\n",
       "count  445.000000  445.000000  445.000000  445.000000  445.000000  445.000000   \n",
       "mean     0.009693   80.131602    0.801316    0.476081    0.040269    0.265530   \n",
       "std      0.006029   10.586905    0.105869    0.053492    0.023809    0.107420   \n",
       "min      0.000000   54.207537    0.542075    0.355450    0.007500    0.085106   \n",
       "25%      0.005263   73.099415    0.730994    0.440379    0.025000    0.185106   \n",
       "50%      0.008163   79.011345    0.790113    0.469005    0.034694    0.241463   \n",
       "75%      0.013208   87.101557    0.871016    0.510899    0.050000    0.328814   \n",
       "max      0.035897  118.938701    1.189387    0.689290    0.168293    0.634483   \n",
       "\n",
       "       Blk_per_GP  y_val  y_val_preds  \n",
       "count  445.000000  445.0        445.0  \n",
       "mean     0.003540    1.0          0.0  \n",
       "std      0.005261    0.0          0.0  \n",
       "min      0.000000    1.0          0.0  \n",
       "25%      0.000000    1.0          0.0  \n",
       "50%      0.002273    1.0          0.0  \n",
       "75%      0.005085    1.0          0.0  \n",
       "max      0.073913    1.0          0.0  \n",
       "\n",
       "[8 rows x 29 columns]"
      ]
     },
     "execution_count": 36,
     "metadata": {},
     "output_type": "execute_result"
    }
   ],
   "source": [
    "# False Negative\n",
    "X_val_false_neg = X_val_df[(X_val_df['y_val']==1)&(X_val_df['y_val_preds']==0)]\n",
    "X_val_false_neg.describe()"
   ]
  },
  {
   "cell_type": "code",
   "execution_count": 37,
   "id": "93bea6fa-5f09-415a-9ca6-04aebd89ba45",
   "metadata": {},
   "outputs": [
    {
     "data": {
      "text/plain": [
       "(445, 29)"
      ]
     },
     "execution_count": 37,
     "metadata": {},
     "output_type": "execute_result"
    }
   ],
   "source": [
    "X_val_false_neg.shape"
   ]
  },
  {
   "cell_type": "code",
   "execution_count": null,
   "id": "eea3225b-ce9c-482d-84c2-50568eeed2af",
   "metadata": {},
   "outputs": [],
   "source": []
  },
  {
   "cell_type": "code",
   "execution_count": null,
   "id": "79313750-b247-4f9d-b7a7-3a2c78330f90",
   "metadata": {},
   "outputs": [],
   "source": []
  },
  {
   "cell_type": "markdown",
   "id": "cc27377b-6186-4b9b-ba43-739046c8b30e",
   "metadata": {},
   "source": [
    "<h4> 4 Generate predictions on the test set for Kaggle submission"
   ]
  },
  {
   "cell_type": "markdown",
   "id": "6a6c50f5-0d06-4416-aa3c-7267212b8dd5",
   "metadata": {},
   "source": [
    "<h5> The final step is to generate the prediction probabilities from the test set in order to evaluate the score from Kaggle via csv upload"
   ]
  },
  {
   "cell_type": "code",
   "execution_count": 38,
   "id": "76a69c1f-3c7e-48c7-a470-d72060654870",
   "metadata": {},
   "outputs": [],
   "source": [
    "y_test_preds = rf_model.predict_proba(X_test)"
   ]
  },
  {
   "cell_type": "code",
   "execution_count": 39,
   "id": "d8b3ea43-2d09-45a1-ab43-f5c4659f0ef3",
   "metadata": {},
   "outputs": [],
   "source": [
    "#Create Data Frame for Doc printing\n",
    "df =pd.DataFrame()"
   ]
  },
  {
   "cell_type": "code",
   "execution_count": 40,
   "id": "2a395ced-dc63-4875-a0b2-972b9158d158",
   "metadata": {},
   "outputs": [
    {
     "data": {
      "text/plain": [
       "array([[0.61376641, 0.38623359],\n",
       "       [0.56787672, 0.43212328],\n",
       "       [0.25798781, 0.74201219],\n",
       "       ...,\n",
       "       [0.66087353, 0.33912647],\n",
       "       [0.22229296, 0.77770704],\n",
       "       [0.53605676, 0.46394324]])"
      ]
     },
     "execution_count": 40,
     "metadata": {},
     "output_type": "execute_result"
    }
   ],
   "source": [
    "y_test_preds"
   ]
  },
  {
   "cell_type": "code",
   "execution_count": 41,
   "id": "b0221d9b-b513-44fd-ae69-f2979e18d266",
   "metadata": {},
   "outputs": [],
   "source": [
    "target_prob = y_test_preds\n",
    "target_prob = [item[1] for item in y_test_preds]"
   ]
  },
  {
   "cell_type": "code",
   "execution_count": 42,
   "id": "e0440476-83b2-4909-a46b-6cedfb5b8f03",
   "metadata": {},
   "outputs": [],
   "source": [
    "df['Id'] = X_test_ID\n",
    "df['TARGET_5Yrs'] = target_prob"
   ]
  },
  {
   "cell_type": "code",
   "execution_count": 43,
   "id": "4909e66f-ed64-45f5-95fd-340ad1b731d7",
   "metadata": {},
   "outputs": [
    {
     "data": {
      "text/html": [
       "<div>\n",
       "<style scoped>\n",
       "    .dataframe tbody tr th:only-of-type {\n",
       "        vertical-align: middle;\n",
       "    }\n",
       "\n",
       "    .dataframe tbody tr th {\n",
       "        vertical-align: top;\n",
       "    }\n",
       "\n",
       "    .dataframe thead th {\n",
       "        text-align: right;\n",
       "    }\n",
       "</style>\n",
       "<table border=\"1\" class=\"dataframe\">\n",
       "  <thead>\n",
       "    <tr style=\"text-align: right;\">\n",
       "      <th></th>\n",
       "      <th>Id</th>\n",
       "      <th>TARGET_5Yrs</th>\n",
       "    </tr>\n",
       "  </thead>\n",
       "  <tbody>\n",
       "    <tr>\n",
       "      <th>0</th>\n",
       "      <td>0</td>\n",
       "      <td>0.386234</td>\n",
       "    </tr>\n",
       "    <tr>\n",
       "      <th>1</th>\n",
       "      <td>1</td>\n",
       "      <td>0.432123</td>\n",
       "    </tr>\n",
       "    <tr>\n",
       "      <th>2</th>\n",
       "      <td>2</td>\n",
       "      <td>0.742012</td>\n",
       "    </tr>\n",
       "    <tr>\n",
       "      <th>3</th>\n",
       "      <td>3</td>\n",
       "      <td>0.789388</td>\n",
       "    </tr>\n",
       "    <tr>\n",
       "      <th>4</th>\n",
       "      <td>4</td>\n",
       "      <td>0.506371</td>\n",
       "    </tr>\n",
       "  </tbody>\n",
       "</table>\n",
       "</div>"
      ],
      "text/plain": [
       "   Id  TARGET_5Yrs\n",
       "0   0     0.386234\n",
       "1   1     0.432123\n",
       "2   2     0.742012\n",
       "3   3     0.789388\n",
       "4   4     0.506371"
      ]
     },
     "execution_count": 43,
     "metadata": {},
     "output_type": "execute_result"
    }
   ],
   "source": [
    "df.head()"
   ]
  },
  {
   "cell_type": "code",
   "execution_count": 44,
   "id": "d6eb3b2d-e232-4b64-a20d-169898089bdd",
   "metadata": {},
   "outputs": [],
   "source": [
    "#Saving predictions into csv\n",
    "df.to_csv('../data/external/Kaggle_submission_RF_ncr_all_cols.csv', index=False)"
   ]
  },
  {
   "cell_type": "code",
   "execution_count": null,
   "id": "00e1c6cb-993c-4e51-9d52-070faf507b3b",
   "metadata": {},
   "outputs": [],
   "source": []
  }
 ],
 "metadata": {
  "kernelspec": {
   "display_name": "Python 3 (ipykernel)",
   "language": "python",
   "name": "python3"
  },
  "language_info": {
   "codemirror_mode": {
    "name": "ipython",
    "version": 3
   },
   "file_extension": ".py",
   "mimetype": "text/x-python",
   "name": "python",
   "nbconvert_exporter": "python",
   "pygments_lexer": "ipython3",
   "version": "3.10.6"
  }
 },
 "nbformat": 4,
 "nbformat_minor": 5
}
