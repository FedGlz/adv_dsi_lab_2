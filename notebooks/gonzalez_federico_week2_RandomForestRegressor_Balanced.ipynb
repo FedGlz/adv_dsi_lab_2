{
 "cells": [
  {
   "cell_type": "markdown",
   "id": "99500cf8-813c-4f4d-b390-c6039b70fd44",
   "metadata": {},
   "source": [
    "<h3> NBA 5 year careeer prediction using Random Forest Classifier"
   ]
  },
  {
   "cell_type": "code",
   "execution_count": 1,
   "id": "ca6cf86d-1201-4b42-9890-54e3132bcc93",
   "metadata": {},
   "outputs": [],
   "source": [
    "import pandas as pd\n",
    "import numpy as np"
   ]
  },
  {
   "cell_type": "markdown",
   "id": "17869c91-ff43-4c0c-b517-336880c0c840",
   "metadata": {},
   "source": [
    "<h4> 1. Load processed sets"
   ]
  },
  {
   "cell_type": "markdown",
   "id": "0647f972-9a5e-4149-b63d-ead52b98f0e6",
   "metadata": {},
   "source": [
    "<h5> Load the balanced train, validation and test sets using a custom built function"
   ]
  },
  {
   "cell_type": "code",
   "execution_count": 2,
   "id": "33ed92b8-6971-44f6-9419-a48f8d45871b",
   "metadata": {},
   "outputs": [],
   "source": [
    "#Load Test and validation sets from custom function\n",
    "from src.data.sets import load_sets"
   ]
  },
  {
   "cell_type": "code",
   "execution_count": 3,
   "id": "8f896d87-99c8-4209-b79b-efd4c0ad28d3",
   "metadata": {},
   "outputs": [],
   "source": [
    "X_train, X_val, y_train, y_val, X_test, X_test_ID = load_sets( )"
   ]
  },
  {
   "cell_type": "markdown",
   "id": "6c9dd78f-7205-4310-9bfe-5c30cacd4c06",
   "metadata": {},
   "source": [
    "<h4> 2. Import Random Forest Classifier"
   ]
  },
  {
   "cell_type": "code",
   "execution_count": 4,
   "id": "0aa1d3e7-5694-425a-bc84-54870356cc67",
   "metadata": {},
   "outputs": [],
   "source": [
    "from sklearn.ensemble import RandomForestRegressor"
   ]
  },
  {
   "cell_type": "markdown",
   "id": "39f7b1fe-34f5-4560-addc-085f90b977ea",
   "metadata": {},
   "source": [
    "<h4> 2.1 Analyse features importance in random forest model with current training sets"
   ]
  },
  {
   "cell_type": "code",
   "execution_count": 5,
   "id": "99240cb8-bda3-448f-a3a8-57ed41c07697",
   "metadata": {},
   "outputs": [
    {
     "data": {
      "text/html": [
       "<style>#sk-container-id-1 {color: black;background-color: white;}#sk-container-id-1 pre{padding: 0;}#sk-container-id-1 div.sk-toggleable {background-color: white;}#sk-container-id-1 label.sk-toggleable__label {cursor: pointer;display: block;width: 100%;margin-bottom: 0;padding: 0.3em;box-sizing: border-box;text-align: center;}#sk-container-id-1 label.sk-toggleable__label-arrow:before {content: \"▸\";float: left;margin-right: 0.25em;color: #696969;}#sk-container-id-1 label.sk-toggleable__label-arrow:hover:before {color: black;}#sk-container-id-1 div.sk-estimator:hover label.sk-toggleable__label-arrow:before {color: black;}#sk-container-id-1 div.sk-toggleable__content {max-height: 0;max-width: 0;overflow: hidden;text-align: left;background-color: #f0f8ff;}#sk-container-id-1 div.sk-toggleable__content pre {margin: 0.2em;color: black;border-radius: 0.25em;background-color: #f0f8ff;}#sk-container-id-1 input.sk-toggleable__control:checked~div.sk-toggleable__content {max-height: 200px;max-width: 100%;overflow: auto;}#sk-container-id-1 input.sk-toggleable__control:checked~label.sk-toggleable__label-arrow:before {content: \"▾\";}#sk-container-id-1 div.sk-estimator input.sk-toggleable__control:checked~label.sk-toggleable__label {background-color: #d4ebff;}#sk-container-id-1 div.sk-label input.sk-toggleable__control:checked~label.sk-toggleable__label {background-color: #d4ebff;}#sk-container-id-1 input.sk-hidden--visually {border: 0;clip: rect(1px 1px 1px 1px);clip: rect(1px, 1px, 1px, 1px);height: 1px;margin: -1px;overflow: hidden;padding: 0;position: absolute;width: 1px;}#sk-container-id-1 div.sk-estimator {font-family: monospace;background-color: #f0f8ff;border: 1px dotted black;border-radius: 0.25em;box-sizing: border-box;margin-bottom: 0.5em;}#sk-container-id-1 div.sk-estimator:hover {background-color: #d4ebff;}#sk-container-id-1 div.sk-parallel-item::after {content: \"\";width: 100%;border-bottom: 1px solid gray;flex-grow: 1;}#sk-container-id-1 div.sk-label:hover label.sk-toggleable__label {background-color: #d4ebff;}#sk-container-id-1 div.sk-serial::before {content: \"\";position: absolute;border-left: 1px solid gray;box-sizing: border-box;top: 0;bottom: 0;left: 50%;z-index: 0;}#sk-container-id-1 div.sk-serial {display: flex;flex-direction: column;align-items: center;background-color: white;padding-right: 0.2em;padding-left: 0.2em;position: relative;}#sk-container-id-1 div.sk-item {position: relative;z-index: 1;}#sk-container-id-1 div.sk-parallel {display: flex;align-items: stretch;justify-content: center;background-color: white;position: relative;}#sk-container-id-1 div.sk-item::before, #sk-container-id-1 div.sk-parallel-item::before {content: \"\";position: absolute;border-left: 1px solid gray;box-sizing: border-box;top: 0;bottom: 0;left: 50%;z-index: -1;}#sk-container-id-1 div.sk-parallel-item {display: flex;flex-direction: column;z-index: 1;position: relative;background-color: white;}#sk-container-id-1 div.sk-parallel-item:first-child::after {align-self: flex-end;width: 50%;}#sk-container-id-1 div.sk-parallel-item:last-child::after {align-self: flex-start;width: 50%;}#sk-container-id-1 div.sk-parallel-item:only-child::after {width: 0;}#sk-container-id-1 div.sk-dashed-wrapped {border: 1px dashed gray;margin: 0 0.4em 0.5em 0.4em;box-sizing: border-box;padding-bottom: 0.4em;background-color: white;}#sk-container-id-1 div.sk-label label {font-family: monospace;font-weight: bold;display: inline-block;line-height: 1.2em;}#sk-container-id-1 div.sk-label-container {text-align: center;}#sk-container-id-1 div.sk-container {/* jupyter's `normalize.less` sets `[hidden] { display: none; }` but bootstrap.min.css set `[hidden] { display: none !important; }` so we also need the `!important` here to be able to override the default hidden behavior on the sphinx rendered scikit-learn.org. See: https://github.com/scikit-learn/scikit-learn/issues/21755 */display: inline-block !important;position: relative;}#sk-container-id-1 div.sk-text-repr-fallback {display: none;}</style><div id=\"sk-container-id-1\" class=\"sk-top-container\"><div class=\"sk-text-repr-fallback\"><pre>SelectFromModel(estimator=RandomForestRegressor(n_estimators=300,\n",
       "                                                random_state=44))</pre><b>In a Jupyter environment, please rerun this cell to show the HTML representation or trust the notebook. <br />On GitHub, the HTML representation is unable to render, please try loading this page with nbviewer.org.</b></div><div class=\"sk-container\" hidden><div class=\"sk-item sk-dashed-wrapped\"><div class=\"sk-label-container\"><div class=\"sk-label sk-toggleable\"><input class=\"sk-toggleable__control sk-hidden--visually\" id=\"sk-estimator-id-1\" type=\"checkbox\" ><label for=\"sk-estimator-id-1\" class=\"sk-toggleable__label sk-toggleable__label-arrow\">SelectFromModel</label><div class=\"sk-toggleable__content\"><pre>SelectFromModel(estimator=RandomForestRegressor(n_estimators=300,\n",
       "                                                random_state=44))</pre></div></div></div><div class=\"sk-parallel\"><div class=\"sk-parallel-item\"><div class=\"sk-item\"><div class=\"sk-label-container\"><div class=\"sk-label sk-toggleable\"><input class=\"sk-toggleable__control sk-hidden--visually\" id=\"sk-estimator-id-2\" type=\"checkbox\" ><label for=\"sk-estimator-id-2\" class=\"sk-toggleable__label sk-toggleable__label-arrow\">estimator: RandomForestRegressor</label><div class=\"sk-toggleable__content\"><pre>RandomForestRegressor(n_estimators=300, random_state=44)</pre></div></div></div><div class=\"sk-serial\"><div class=\"sk-item\"><div class=\"sk-estimator sk-toggleable\"><input class=\"sk-toggleable__control sk-hidden--visually\" id=\"sk-estimator-id-3\" type=\"checkbox\" ><label for=\"sk-estimator-id-3\" class=\"sk-toggleable__label sk-toggleable__label-arrow\">RandomForestRegressor</label><div class=\"sk-toggleable__content\"><pre>RandomForestRegressor(n_estimators=300, random_state=44)</pre></div></div></div></div></div></div></div></div></div></div>"
      ],
      "text/plain": [
       "SelectFromModel(estimator=RandomForestRegressor(n_estimators=300,\n",
       "                                                random_state=44))"
      ]
     },
     "execution_count": 5,
     "metadata": {},
     "output_type": "execute_result"
    }
   ],
   "source": [
    "from sklearn.feature_selection import SelectFromModel\n",
    "sel = SelectFromModel(RandomForestRegressor(n_estimators = 300, random_state=44))\n",
    "sel.fit(X_train, y_train)"
   ]
  },
  {
   "cell_type": "markdown",
   "id": "16b52246-c13c-4661-b4ee-f8f312363753",
   "metadata": {},
   "source": [
    "<h4> 2.2 Finding the most relevant features in making predictions"
   ]
  },
  {
   "cell_type": "code",
   "execution_count": 6,
   "id": "e53a390b-8db7-4dae-8161-ce22b890f088",
   "metadata": {},
   "outputs": [
    {
     "data": {
      "text/plain": [
       "[True,\n",
       " True,\n",
       " False,\n",
       " False,\n",
       " False,\n",
       " True,\n",
       " False,\n",
       " False,\n",
       " True,\n",
       " False,\n",
       " False,\n",
       " True,\n",
       " False,\n",
       " False,\n",
       " False,\n",
       " True,\n",
       " False,\n",
       " False,\n",
       " False]"
      ]
     },
     "execution_count": 6,
     "metadata": {},
     "output_type": "execute_result"
    }
   ],
   "source": [
    "columns = sel.get_support()\n",
    "columns = columns.tolist()\n",
    "columns"
   ]
  },
  {
   "cell_type": "markdown",
   "id": "4f3f22de-ab34-405c-8b69-78ffb16b2871",
   "metadata": {},
   "source": [
    "<h5> As column importance is given in order of appearance on the scaled set, importing column names saved in data_prep for easy visualization will be performed"
   ]
  },
  {
   "cell_type": "markdown",
   "id": "bc3d0c4b-f031-4f93-87f8-71ba3255f552",
   "metadata": {},
   "source": [
    "<h5> Importing predictor column names and combining with relevant columns to find out the best column predictors"
   ]
  },
  {
   "cell_type": "code",
   "execution_count": 7,
   "id": "b56540d5-4812-4ee5-8003-7a403bb0602b",
   "metadata": {},
   "outputs": [],
   "source": [
    "predictors  = pd.read_csv('../data/interim/predictor_names.csv')"
   ]
  },
  {
   "cell_type": "code",
   "execution_count": 8,
   "id": "8bb5d1c8-2dab-4756-a150-963b8c8c0acf",
   "metadata": {},
   "outputs": [],
   "source": [
    "predictors['Relevant_Feature'] = columns"
   ]
  },
  {
   "cell_type": "code",
   "execution_count": 9,
   "id": "263bee8e-b9dd-404f-9c32-c9881f420d90",
   "metadata": {},
   "outputs": [
    {
     "data": {
      "text/html": [
       "<div>\n",
       "<style scoped>\n",
       "    .dataframe tbody tr th:only-of-type {\n",
       "        vertical-align: middle;\n",
       "    }\n",
       "\n",
       "    .dataframe tbody tr th {\n",
       "        vertical-align: top;\n",
       "    }\n",
       "\n",
       "    .dataframe thead th {\n",
       "        text-align: right;\n",
       "    }\n",
       "</style>\n",
       "<table border=\"1\" class=\"dataframe\">\n",
       "  <thead>\n",
       "    <tr style=\"text-align: right;\">\n",
       "      <th></th>\n",
       "      <th>names</th>\n",
       "      <th>Relevant_Feature</th>\n",
       "    </tr>\n",
       "  </thead>\n",
       "  <tbody>\n",
       "    <tr>\n",
       "      <th>0</th>\n",
       "      <td>GP</td>\n",
       "      <td>True</td>\n",
       "    </tr>\n",
       "    <tr>\n",
       "      <th>1</th>\n",
       "      <td>MIN</td>\n",
       "      <td>True</td>\n",
       "    </tr>\n",
       "    <tr>\n",
       "      <th>2</th>\n",
       "      <td>PTS</td>\n",
       "      <td>False</td>\n",
       "    </tr>\n",
       "    <tr>\n",
       "      <th>3</th>\n",
       "      <td>FGM</td>\n",
       "      <td>False</td>\n",
       "    </tr>\n",
       "    <tr>\n",
       "      <th>4</th>\n",
       "      <td>FGA</td>\n",
       "      <td>False</td>\n",
       "    </tr>\n",
       "    <tr>\n",
       "      <th>5</th>\n",
       "      <td>FG%</td>\n",
       "      <td>True</td>\n",
       "    </tr>\n",
       "    <tr>\n",
       "      <th>6</th>\n",
       "      <td>3P Made</td>\n",
       "      <td>False</td>\n",
       "    </tr>\n",
       "    <tr>\n",
       "      <th>7</th>\n",
       "      <td>3PA</td>\n",
       "      <td>False</td>\n",
       "    </tr>\n",
       "    <tr>\n",
       "      <th>8</th>\n",
       "      <td>3P%</td>\n",
       "      <td>True</td>\n",
       "    </tr>\n",
       "    <tr>\n",
       "      <th>9</th>\n",
       "      <td>FTM</td>\n",
       "      <td>False</td>\n",
       "    </tr>\n",
       "    <tr>\n",
       "      <th>10</th>\n",
       "      <td>FTA</td>\n",
       "      <td>False</td>\n",
       "    </tr>\n",
       "    <tr>\n",
       "      <th>11</th>\n",
       "      <td>FT%</td>\n",
       "      <td>True</td>\n",
       "    </tr>\n",
       "    <tr>\n",
       "      <th>12</th>\n",
       "      <td>OREB</td>\n",
       "      <td>False</td>\n",
       "    </tr>\n",
       "    <tr>\n",
       "      <th>13</th>\n",
       "      <td>DREB</td>\n",
       "      <td>False</td>\n",
       "    </tr>\n",
       "    <tr>\n",
       "      <th>14</th>\n",
       "      <td>REB</td>\n",
       "      <td>False</td>\n",
       "    </tr>\n",
       "    <tr>\n",
       "      <th>15</th>\n",
       "      <td>AST</td>\n",
       "      <td>True</td>\n",
       "    </tr>\n",
       "    <tr>\n",
       "      <th>16</th>\n",
       "      <td>STL</td>\n",
       "      <td>False</td>\n",
       "    </tr>\n",
       "    <tr>\n",
       "      <th>17</th>\n",
       "      <td>BLK</td>\n",
       "      <td>False</td>\n",
       "    </tr>\n",
       "    <tr>\n",
       "      <th>18</th>\n",
       "      <td>TOV</td>\n",
       "      <td>False</td>\n",
       "    </tr>\n",
       "  </tbody>\n",
       "</table>\n",
       "</div>"
      ],
      "text/plain": [
       "      names  Relevant_Feature\n",
       "0        GP              True\n",
       "1       MIN              True\n",
       "2       PTS             False\n",
       "3       FGM             False\n",
       "4       FGA             False\n",
       "5       FG%              True\n",
       "6   3P Made             False\n",
       "7       3PA             False\n",
       "8       3P%              True\n",
       "9       FTM             False\n",
       "10      FTA             False\n",
       "11      FT%              True\n",
       "12     OREB             False\n",
       "13     DREB             False\n",
       "14      REB             False\n",
       "15      AST              True\n",
       "16      STL             False\n",
       "17      BLK             False\n",
       "18      TOV             False"
      ]
     },
     "execution_count": 9,
     "metadata": {},
     "output_type": "execute_result"
    }
   ],
   "source": [
    "predictors"
   ]
  },
  {
   "cell_type": "code",
   "execution_count": 10,
   "id": "08978caf-2117-48f7-8e6a-cb7ecaf13314",
   "metadata": {},
   "outputs": [
    {
     "data": {
      "text/html": [
       "<div>\n",
       "<style scoped>\n",
       "    .dataframe tbody tr th:only-of-type {\n",
       "        vertical-align: middle;\n",
       "    }\n",
       "\n",
       "    .dataframe tbody tr th {\n",
       "        vertical-align: top;\n",
       "    }\n",
       "\n",
       "    .dataframe thead th {\n",
       "        text-align: right;\n",
       "    }\n",
       "</style>\n",
       "<table border=\"1\" class=\"dataframe\">\n",
       "  <thead>\n",
       "    <tr style=\"text-align: right;\">\n",
       "      <th></th>\n",
       "      <th>names</th>\n",
       "      <th>Relevant_Feature</th>\n",
       "    </tr>\n",
       "  </thead>\n",
       "  <tbody>\n",
       "    <tr>\n",
       "      <th>0</th>\n",
       "      <td>GP</td>\n",
       "      <td>True</td>\n",
       "    </tr>\n",
       "    <tr>\n",
       "      <th>1</th>\n",
       "      <td>MIN</td>\n",
       "      <td>True</td>\n",
       "    </tr>\n",
       "    <tr>\n",
       "      <th>5</th>\n",
       "      <td>FG%</td>\n",
       "      <td>True</td>\n",
       "    </tr>\n",
       "    <tr>\n",
       "      <th>8</th>\n",
       "      <td>3P%</td>\n",
       "      <td>True</td>\n",
       "    </tr>\n",
       "    <tr>\n",
       "      <th>11</th>\n",
       "      <td>FT%</td>\n",
       "      <td>True</td>\n",
       "    </tr>\n",
       "    <tr>\n",
       "      <th>15</th>\n",
       "      <td>AST</td>\n",
       "      <td>True</td>\n",
       "    </tr>\n",
       "  </tbody>\n",
       "</table>\n",
       "</div>"
      ],
      "text/plain": [
       "   names  Relevant_Feature\n",
       "0     GP              True\n",
       "1    MIN              True\n",
       "5    FG%              True\n",
       "8    3P%              True\n",
       "11   FT%              True\n",
       "15   AST              True"
      ]
     },
     "execution_count": 10,
     "metadata": {},
     "output_type": "execute_result"
    }
   ],
   "source": [
    "predictors.loc[predictors['Relevant_Feature'] == 1]"
   ]
  },
  {
   "cell_type": "markdown",
   "id": "6a2923e7-9dba-437a-8bfa-f4b858803acc",
   "metadata": {},
   "source": [
    "<h5> <b>CONCLUSION ON PREDICTORS: </b> Based on the rebalanced training set from data_prep, 7 columns are the most relevant predictors. Therefore new data prep will be generated for usage of these columns within the model"
   ]
  },
  {
   "cell_type": "markdown",
   "id": "0299e081-e0a6-4098-a1d4-f2b36c5bac7e",
   "metadata": {},
   "source": [
    "<h4> 2.3 New data prep to be saved in the interim folder"
   ]
  },
  {
   "cell_type": "markdown",
   "id": "609cd622-3be6-4463-8e71-7fd631aeb03f",
   "metadata": {},
   "source": [
    "<h5> 2.3.1 Get a list of column names to be removed from data set"
   ]
  },
  {
   "cell_type": "code",
   "execution_count": 11,
   "id": "833fd561-5fab-4bcd-85a7-17293ab8ceda",
   "metadata": {},
   "outputs": [],
   "source": [
    "columns_to_remove_df = predictors.loc[predictors['Relevant_Feature'] == 0]"
   ]
  },
  {
   "cell_type": "code",
   "execution_count": 12,
   "id": "323b344a-ff2f-44e1-abd7-93b91fb4b607",
   "metadata": {},
   "outputs": [],
   "source": [
    "columns_to_remove = columns_to_remove_df.pop(\"names\")"
   ]
  },
  {
   "cell_type": "code",
   "execution_count": 13,
   "id": "a9cd76ad-1c83-4ccc-88bd-13398fe6ed19",
   "metadata": {},
   "outputs": [],
   "source": [
    "columns_to_remove_list = columns_to_remove.values.tolist()"
   ]
  },
  {
   "cell_type": "markdown",
   "id": "b3da180f-0b7a-4601-be26-f52cddcad3d9",
   "metadata": {},
   "source": [
    "<h5> 2.3.2 Read csvs and remove unwanted columns"
   ]
  },
  {
   "cell_type": "code",
   "execution_count": 14,
   "id": "42b6e61e-e835-4275-a5a1-7ab17c4354cc",
   "metadata": {},
   "outputs": [],
   "source": [
    "df = pd.read_csv('../data/raw/2022_train.csv')"
   ]
  },
  {
   "cell_type": "code",
   "execution_count": 15,
   "id": "c8d195c4-913b-4db0-9579-c835b2336905",
   "metadata": {},
   "outputs": [],
   "source": [
    "df_cleaned = df.copy()\n",
    "df_cleaned.drop(columns=columns_to_remove_list, axis=1, inplace=True)\n",
    "df_cleaned.drop(\"Id\", axis=1, inplace=True)"
   ]
  },
  {
   "cell_type": "code",
   "execution_count": 16,
   "id": "c15e720d-aa59-4906-90ea-c9aa1f979ff4",
   "metadata": {},
   "outputs": [
    {
     "data": {
      "text/html": [
       "<div>\n",
       "<style scoped>\n",
       "    .dataframe tbody tr th:only-of-type {\n",
       "        vertical-align: middle;\n",
       "    }\n",
       "\n",
       "    .dataframe tbody tr th {\n",
       "        vertical-align: top;\n",
       "    }\n",
       "\n",
       "    .dataframe thead th {\n",
       "        text-align: right;\n",
       "    }\n",
       "</style>\n",
       "<table border=\"1\" class=\"dataframe\">\n",
       "  <thead>\n",
       "    <tr style=\"text-align: right;\">\n",
       "      <th></th>\n",
       "      <th>GP</th>\n",
       "      <th>MIN</th>\n",
       "      <th>FG%</th>\n",
       "      <th>3P%</th>\n",
       "      <th>FT%</th>\n",
       "      <th>AST</th>\n",
       "      <th>TARGET_5Yrs</th>\n",
       "    </tr>\n",
       "  </thead>\n",
       "  <tbody>\n",
       "    <tr>\n",
       "      <th>0</th>\n",
       "      <td>80</td>\n",
       "      <td>24.3</td>\n",
       "      <td>45.7</td>\n",
       "      <td>22.6</td>\n",
       "      <td>72.1</td>\n",
       "      <td>3.2</td>\n",
       "      <td>1</td>\n",
       "    </tr>\n",
       "    <tr>\n",
       "      <th>1</th>\n",
       "      <td>75</td>\n",
       "      <td>21.8</td>\n",
       "      <td>55.1</td>\n",
       "      <td>34.9</td>\n",
       "      <td>67.8</td>\n",
       "      <td>0.7</td>\n",
       "      <td>1</td>\n",
       "    </tr>\n",
       "    <tr>\n",
       "      <th>2</th>\n",
       "      <td>85</td>\n",
       "      <td>19.1</td>\n",
       "      <td>42.8</td>\n",
       "      <td>34.3</td>\n",
       "      <td>75.7</td>\n",
       "      <td>0.8</td>\n",
       "      <td>1</td>\n",
       "    </tr>\n",
       "    <tr>\n",
       "      <th>3</th>\n",
       "      <td>63</td>\n",
       "      <td>19.1</td>\n",
       "      <td>52.5</td>\n",
       "      <td>23.7</td>\n",
       "      <td>66.9</td>\n",
       "      <td>1.8</td>\n",
       "      <td>1</td>\n",
       "    </tr>\n",
       "    <tr>\n",
       "      <th>4</th>\n",
       "      <td>63</td>\n",
       "      <td>17.8</td>\n",
       "      <td>50.8</td>\n",
       "      <td>13.7</td>\n",
       "      <td>54.0</td>\n",
       "      <td>0.4</td>\n",
       "      <td>1</td>\n",
       "    </tr>\n",
       "  </tbody>\n",
       "</table>\n",
       "</div>"
      ],
      "text/plain": [
       "   GP   MIN   FG%   3P%   FT%  AST  TARGET_5Yrs\n",
       "0  80  24.3  45.7  22.6  72.1  3.2            1\n",
       "1  75  21.8  55.1  34.9  67.8  0.7            1\n",
       "2  85  19.1  42.8  34.3  75.7  0.8            1\n",
       "3  63  19.1  52.5  23.7  66.9  1.8            1\n",
       "4  63  17.8  50.8  13.7  54.0  0.4            1"
      ]
     },
     "execution_count": 16,
     "metadata": {},
     "output_type": "execute_result"
    }
   ],
   "source": [
    "df_cleaned.head()"
   ]
  },
  {
   "cell_type": "markdown",
   "id": "e380dc18-3f4a-41f0-8af0-20b948e6fb57",
   "metadata": {},
   "source": [
    "<h5> 2.3.3 Rebalance imbalance set with custom function"
   ]
  },
  {
   "cell_type": "code",
   "execution_count": 17,
   "id": "1cbbfc56-4580-4c29-8e04-6fa56d7a8127",
   "metadata": {},
   "outputs": [],
   "source": [
    "from src.data.sets import rebalance_mayority_class"
   ]
  },
  {
   "cell_type": "code",
   "execution_count": 18,
   "id": "8cbffdd6-4f11-4f0d-a53e-77348a62d175",
   "metadata": {},
   "outputs": [],
   "source": [
    "df_rebalanced = df_cleaned.copy()"
   ]
  },
  {
   "cell_type": "code",
   "execution_count": 19,
   "id": "8cd4c9b8-c03b-46ce-a9c3-d404a576be97",
   "metadata": {},
   "outputs": [],
   "source": [
    "df_rebalanced = rebalance_mayority_class(df_cleaned, \"TARGET_5Yrs\")"
   ]
  },
  {
   "cell_type": "markdown",
   "id": "21c8c2be-ef11-4df5-b6f8-216bc6e2ca37",
   "metadata": {},
   "source": [
    "<h5> 2.3.4 Scaling and generating training and validation set"
   ]
  },
  {
   "cell_type": "code",
   "execution_count": 20,
   "id": "4c33d49b-b848-4eca-bfaa-2c9a55c9efa1",
   "metadata": {},
   "outputs": [],
   "source": [
    "from sklearn.preprocessing import StandardScaler\n",
    "scaler = StandardScaler()"
   ]
  },
  {
   "cell_type": "code",
   "execution_count": 21,
   "id": "0cc046e3-c9b1-4eb6-b4ba-19f8bb2f4939",
   "metadata": {},
   "outputs": [],
   "source": [
    "target = df_rebalanced.pop(\"TARGET_5Yrs\")"
   ]
  },
  {
   "cell_type": "code",
   "execution_count": 22,
   "id": "2ff54b27-912f-4d63-8e90-6598020b8721",
   "metadata": {},
   "outputs": [],
   "source": [
    "df_rebalanced_clean = scaler.fit_transform(df_rebalanced)"
   ]
  },
  {
   "cell_type": "code",
   "execution_count": 23,
   "id": "8fa6a122-b992-4104-ad80-68fe1f71f790",
   "metadata": {},
   "outputs": [],
   "source": [
    "#Import subset function for getting training and valudation sets\n",
    "from src.data.sets import subset_x_y"
   ]
  },
  {
   "cell_type": "code",
   "execution_count": 24,
   "id": "a80171fd-13ba-47f9-bda3-74867a62255f",
   "metadata": {},
   "outputs": [],
   "source": [
    "X_train, X_val, y_train, y_val = subset_x_y(df_rebalanced_clean, target)"
   ]
  },
  {
   "cell_type": "markdown",
   "id": "190a8b3e-ec0b-47ae-9d69-71c35cd91244",
   "metadata": {},
   "source": [
    "<h5> 2.3.5 Clean, transform and scale Test set"
   ]
  },
  {
   "cell_type": "code",
   "execution_count": 25,
   "id": "c754ccbc-784f-46a7-b4fb-3c68c360eac1",
   "metadata": {},
   "outputs": [],
   "source": [
    "df_test = pd.read_csv('../data/raw/2022_test.csv')"
   ]
  },
  {
   "cell_type": "code",
   "execution_count": 26,
   "id": "13e079a0-e31e-489a-bc33-ee952bdc1295",
   "metadata": {},
   "outputs": [],
   "source": [
    "X_test_ID = df_test.pop('Id')"
   ]
  },
  {
   "cell_type": "code",
   "execution_count": 27,
   "id": "cc92e825-b9db-43ae-91b0-d33d8b00e66b",
   "metadata": {},
   "outputs": [],
   "source": [
    "X_test = df_test.copy()"
   ]
  },
  {
   "cell_type": "code",
   "execution_count": 28,
   "id": "b5ccefe4-d339-49ff-8a23-2792f6ca45a5",
   "metadata": {},
   "outputs": [],
   "source": [
    "X_test.drop(columns=columns_to_remove_list, axis=1, inplace=True)"
   ]
  },
  {
   "cell_type": "code",
   "execution_count": 29,
   "id": "d5eae2ac-5aec-4eca-a9d6-15062b546d97",
   "metadata": {},
   "outputs": [],
   "source": [
    "X_test = scaler.fit_transform(X_test)"
   ]
  },
  {
   "cell_type": "markdown",
   "id": "0847d816-167a-4638-a3cb-33a044729dca",
   "metadata": {},
   "source": [
    "<h5> 2.3.6 Save train, evaluate and test sets in ../data/interim folder"
   ]
  },
  {
   "cell_type": "code",
   "execution_count": 30,
   "id": "8545c75f-71de-4d17-a08e-afe20a239c86",
   "metadata": {},
   "outputs": [],
   "source": [
    "from src.data.sets import save_sets_interim"
   ]
  },
  {
   "cell_type": "code",
   "execution_count": 31,
   "id": "d5d3970e-dff0-47a1-81a0-b4acacef1941",
   "metadata": {},
   "outputs": [],
   "source": [
    "save_sets_interim(X_train, X_val, y_train, y_val, X_test, X_test_ID)"
   ]
  },
  {
   "cell_type": "code",
   "execution_count": null,
   "id": "afdc818b-8c69-4007-a551-8d3ca426a590",
   "metadata": {},
   "outputs": [],
   "source": []
  },
  {
   "cell_type": "markdown",
   "id": "31cec776-6385-45b1-96e5-56fbbc5e2e29",
   "metadata": {},
   "source": [
    "<h4> 3 Train Random Forest Classifier with new calculated training sets"
   ]
  },
  {
   "cell_type": "code",
   "execution_count": 32,
   "id": "0715cb2c-e05d-4acf-8bc2-c0bbb4665b16",
   "metadata": {},
   "outputs": [
    {
     "data": {
      "text/html": [
       "<style>#sk-container-id-2 {color: black;background-color: white;}#sk-container-id-2 pre{padding: 0;}#sk-container-id-2 div.sk-toggleable {background-color: white;}#sk-container-id-2 label.sk-toggleable__label {cursor: pointer;display: block;width: 100%;margin-bottom: 0;padding: 0.3em;box-sizing: border-box;text-align: center;}#sk-container-id-2 label.sk-toggleable__label-arrow:before {content: \"▸\";float: left;margin-right: 0.25em;color: #696969;}#sk-container-id-2 label.sk-toggleable__label-arrow:hover:before {color: black;}#sk-container-id-2 div.sk-estimator:hover label.sk-toggleable__label-arrow:before {color: black;}#sk-container-id-2 div.sk-toggleable__content {max-height: 0;max-width: 0;overflow: hidden;text-align: left;background-color: #f0f8ff;}#sk-container-id-2 div.sk-toggleable__content pre {margin: 0.2em;color: black;border-radius: 0.25em;background-color: #f0f8ff;}#sk-container-id-2 input.sk-toggleable__control:checked~div.sk-toggleable__content {max-height: 200px;max-width: 100%;overflow: auto;}#sk-container-id-2 input.sk-toggleable__control:checked~label.sk-toggleable__label-arrow:before {content: \"▾\";}#sk-container-id-2 div.sk-estimator input.sk-toggleable__control:checked~label.sk-toggleable__label {background-color: #d4ebff;}#sk-container-id-2 div.sk-label input.sk-toggleable__control:checked~label.sk-toggleable__label {background-color: #d4ebff;}#sk-container-id-2 input.sk-hidden--visually {border: 0;clip: rect(1px 1px 1px 1px);clip: rect(1px, 1px, 1px, 1px);height: 1px;margin: -1px;overflow: hidden;padding: 0;position: absolute;width: 1px;}#sk-container-id-2 div.sk-estimator {font-family: monospace;background-color: #f0f8ff;border: 1px dotted black;border-radius: 0.25em;box-sizing: border-box;margin-bottom: 0.5em;}#sk-container-id-2 div.sk-estimator:hover {background-color: #d4ebff;}#sk-container-id-2 div.sk-parallel-item::after {content: \"\";width: 100%;border-bottom: 1px solid gray;flex-grow: 1;}#sk-container-id-2 div.sk-label:hover label.sk-toggleable__label {background-color: #d4ebff;}#sk-container-id-2 div.sk-serial::before {content: \"\";position: absolute;border-left: 1px solid gray;box-sizing: border-box;top: 0;bottom: 0;left: 50%;z-index: 0;}#sk-container-id-2 div.sk-serial {display: flex;flex-direction: column;align-items: center;background-color: white;padding-right: 0.2em;padding-left: 0.2em;position: relative;}#sk-container-id-2 div.sk-item {position: relative;z-index: 1;}#sk-container-id-2 div.sk-parallel {display: flex;align-items: stretch;justify-content: center;background-color: white;position: relative;}#sk-container-id-2 div.sk-item::before, #sk-container-id-2 div.sk-parallel-item::before {content: \"\";position: absolute;border-left: 1px solid gray;box-sizing: border-box;top: 0;bottom: 0;left: 50%;z-index: -1;}#sk-container-id-2 div.sk-parallel-item {display: flex;flex-direction: column;z-index: 1;position: relative;background-color: white;}#sk-container-id-2 div.sk-parallel-item:first-child::after {align-self: flex-end;width: 50%;}#sk-container-id-2 div.sk-parallel-item:last-child::after {align-self: flex-start;width: 50%;}#sk-container-id-2 div.sk-parallel-item:only-child::after {width: 0;}#sk-container-id-2 div.sk-dashed-wrapped {border: 1px dashed gray;margin: 0 0.4em 0.5em 0.4em;box-sizing: border-box;padding-bottom: 0.4em;background-color: white;}#sk-container-id-2 div.sk-label label {font-family: monospace;font-weight: bold;display: inline-block;line-height: 1.2em;}#sk-container-id-2 div.sk-label-container {text-align: center;}#sk-container-id-2 div.sk-container {/* jupyter's `normalize.less` sets `[hidden] { display: none; }` but bootstrap.min.css set `[hidden] { display: none !important; }` so we also need the `!important` here to be able to override the default hidden behavior on the sphinx rendered scikit-learn.org. See: https://github.com/scikit-learn/scikit-learn/issues/21755 */display: inline-block !important;position: relative;}#sk-container-id-2 div.sk-text-repr-fallback {display: none;}</style><div id=\"sk-container-id-2\" class=\"sk-top-container\"><div class=\"sk-text-repr-fallback\"><pre>RandomForestRegressor(random_state=44)</pre><b>In a Jupyter environment, please rerun this cell to show the HTML representation or trust the notebook. <br />On GitHub, the HTML representation is unable to render, please try loading this page with nbviewer.org.</b></div><div class=\"sk-container\" hidden><div class=\"sk-item\"><div class=\"sk-estimator sk-toggleable\"><input class=\"sk-toggleable__control sk-hidden--visually\" id=\"sk-estimator-id-4\" type=\"checkbox\" checked><label for=\"sk-estimator-id-4\" class=\"sk-toggleable__label sk-toggleable__label-arrow\">RandomForestRegressor</label><div class=\"sk-toggleable__content\"><pre>RandomForestRegressor(random_state=44)</pre></div></div></div></div></div>"
      ],
      "text/plain": [
       "RandomForestRegressor(random_state=44)"
      ]
     },
     "execution_count": 32,
     "metadata": {},
     "output_type": "execute_result"
    }
   ],
   "source": [
    "rf_model = RandomForestRegressor(n_estimators=100, random_state=44)\n",
    "rf_model.fit(X_train, y_train)"
   ]
  },
  {
   "cell_type": "code",
   "execution_count": 33,
   "id": "d5cee688-b0c7-4402-bad4-d5480fb18abe",
   "metadata": {},
   "outputs": [
    {
     "data": {
      "text/plain": [
       "['../models/random_forest_default.joblib']"
      ]
     },
     "execution_count": 33,
     "metadata": {},
     "output_type": "execute_result"
    }
   ],
   "source": [
    "#Save model in the models folder\n",
    "from joblib import dump\n",
    "dump(rf_model, '../models/random_forest_default.joblib')"
   ]
  },
  {
   "cell_type": "markdown",
   "id": "f8c169c4-5101-44b3-8682-758c72f7350b",
   "metadata": {},
   "source": [
    "<h4> 2.1 Generate predictions for training and validation sets in order to compare accuracy vs Baseline"
   ]
  },
  {
   "cell_type": "code",
   "execution_count": 34,
   "id": "741ccb0d-fbd0-4a6a-8113-aac33fb9e30e",
   "metadata": {},
   "outputs": [],
   "source": [
    "y_trainpreds = rf_model.predict(X_train)\n",
    "y_val_preds = rf_model.predict(X_val)"
   ]
  },
  {
   "cell_type": "markdown",
   "id": "e53f1d37-f167-4f5f-84de-1058f6982cdf",
   "metadata": {},
   "source": [
    "<h4> 2.2 Calculate mse and mae to assess fiting accuracy for the training and validation sets"
   ]
  },
  {
   "cell_type": "code",
   "execution_count": 35,
   "id": "198e37f0-2d94-443e-a505-136b1e8d10ad",
   "metadata": {},
   "outputs": [],
   "source": [
    "#Get error/score metrics\n",
    "from sklearn.metrics import mean_squared_error as mse\n",
    "from sklearn.metrics import mean_absolute_error as mae"
   ]
  },
  {
   "cell_type": "code",
   "execution_count": 36,
   "id": "b858620f-5e67-42d5-bb37-a369d7ad0160",
   "metadata": {},
   "outputs": [
    {
     "name": "stdout",
     "output_type": "stream",
     "text": [
      "0.17625001457415101\n",
      "0.1560732738374824\n"
     ]
    }
   ],
   "source": [
    "print(mse(y_train, y_trainpreds, squared=False))\n",
    "print(mae(y_train, y_trainpreds))"
   ]
  },
  {
   "cell_type": "code",
   "execution_count": 37,
   "id": "4b79b6c2-7013-41c0-ba59-d648f2878a29",
   "metadata": {},
   "outputs": [
    {
     "name": "stdout",
     "output_type": "stream",
     "text": [
      "0.4627801620899658\n",
      "0.41906191369606005\n"
     ]
    }
   ],
   "source": [
    "print(mse(y_val, y_val_preds, squared=False))\n",
    "print(mae(y_val, y_val_preds))"
   ]
  },
  {
   "cell_type": "code",
   "execution_count": 38,
   "id": "524da714-e72a-4550-9b0d-438e68e0e0e7",
   "metadata": {},
   "outputs": [
    {
     "data": {
      "text/plain": [
       "0.8757404123092672"
      ]
     },
     "execution_count": 38,
     "metadata": {},
     "output_type": "execute_result"
    }
   ],
   "source": [
    "rf_model.score(X_train, y_train)"
   ]
  },
  {
   "cell_type": "code",
   "execution_count": 39,
   "id": "77248cb8-8ef9-457e-9088-197dfbe29149",
   "metadata": {},
   "outputs": [
    {
     "data": {
      "text/plain": [
       "0.14297305893621826"
      ]
     },
     "execution_count": 39,
     "metadata": {},
     "output_type": "execute_result"
    }
   ],
   "source": [
    "rf_model.score(X_val, y_val)"
   ]
  },
  {
   "cell_type": "markdown",
   "id": "217f78b4-b1dc-4851-8fd3-cebab1785418",
   "metadata": {},
   "source": [
    "<h5> Results for training set show a perfect fit to the balanced data set, however, the results drop when evaluating the validation set "
   ]
  },
  {
   "cell_type": "markdown",
   "id": "66a470cf-118d-402b-9200-e25ca4a45b09",
   "metadata": {},
   "source": [
    "<h4> 3 Analysis of the validation set"
   ]
  },
  {
   "cell_type": "markdown",
   "id": "7c32d028-38b6-4908-a389-941aca86ae40",
   "metadata": {},
   "source": [
    "<h5> Confusion matrix is analysed to find out where the innacuracy exists in order to improve the model"
   ]
  },
  {
   "cell_type": "code",
   "execution_count": 40,
   "id": "db6126a4-a848-472f-aa79-d3888cada307",
   "metadata": {},
   "outputs": [],
   "source": [
    "from sklearn.metrics import confusion_matrix\n",
    "import matplotlib.pyplot as plt"
   ]
  },
  {
   "cell_type": "markdown",
   "id": "f1020927-1893-48f6-a34a-df59c5402e99",
   "metadata": {},
   "source": [
    "<h5> Similar number of false positives and false negatives are predicted (49% for zeroes and 44% for ones) in the validation set"
   ]
  },
  {
   "cell_type": "code",
   "execution_count": null,
   "id": "a2ae214f-485d-4fff-b50e-b2da29815eba",
   "metadata": {},
   "outputs": [],
   "source": []
  },
  {
   "cell_type": "code",
   "execution_count": null,
   "id": "0d6b6178-36c4-4226-baaa-a22ad2e964e0",
   "metadata": {},
   "outputs": [],
   "source": []
  },
  {
   "cell_type": "markdown",
   "id": "64b27a05-bf4b-4be6-a6a9-3ca6699994b0",
   "metadata": {},
   "source": [
    "<h4> 4 Generate predictions on the test set for Kaggle submission"
   ]
  },
  {
   "cell_type": "code",
   "execution_count": 41,
   "id": "76a69c1f-3c7e-48c7-a470-d72060654870",
   "metadata": {},
   "outputs": [],
   "source": [
    "y_test_preds = rf_model.predict(X_test)"
   ]
  },
  {
   "cell_type": "code",
   "execution_count": 42,
   "id": "cdc88865-2a18-4fec-b58e-07d8be02b6d5",
   "metadata": {},
   "outputs": [],
   "source": [
    "y_test_preds_list = y_test_preds.tolist()\n",
    "target_prob = y_test_preds\n",
    "#target_prob = [item[1] for item in y_test_preds_list]"
   ]
  },
  {
   "cell_type": "code",
   "execution_count": null,
   "id": "0b118e3a-3598-49a2-bd0c-d153c3f135f2",
   "metadata": {},
   "outputs": [],
   "source": []
  },
  {
   "cell_type": "code",
   "execution_count": 43,
   "id": "d8b3ea43-2d09-45a1-ab43-f5c4659f0ef3",
   "metadata": {},
   "outputs": [],
   "source": [
    "#Create Data Frame for Doc printing\n",
    "df =pd.DataFrame()"
   ]
  },
  {
   "cell_type": "code",
   "execution_count": 44,
   "id": "e0440476-83b2-4909-a46b-6cedfb5b8f03",
   "metadata": {},
   "outputs": [],
   "source": [
    "df['Id'] = X_test_ID\n",
    "df['TARGET_5Yrs'] = target_prob"
   ]
  },
  {
   "cell_type": "code",
   "execution_count": 45,
   "id": "4909e66f-ed64-45f5-95fd-340ad1b731d7",
   "metadata": {},
   "outputs": [
    {
     "data": {
      "text/html": [
       "<div>\n",
       "<style scoped>\n",
       "    .dataframe tbody tr th:only-of-type {\n",
       "        vertical-align: middle;\n",
       "    }\n",
       "\n",
       "    .dataframe tbody tr th {\n",
       "        vertical-align: top;\n",
       "    }\n",
       "\n",
       "    .dataframe thead th {\n",
       "        text-align: right;\n",
       "    }\n",
       "</style>\n",
       "<table border=\"1\" class=\"dataframe\">\n",
       "  <thead>\n",
       "    <tr style=\"text-align: right;\">\n",
       "      <th></th>\n",
       "      <th>Id</th>\n",
       "      <th>TARGET_5Yrs</th>\n",
       "    </tr>\n",
       "  </thead>\n",
       "  <tbody>\n",
       "    <tr>\n",
       "      <th>0</th>\n",
       "      <td>0</td>\n",
       "      <td>0.32</td>\n",
       "    </tr>\n",
       "    <tr>\n",
       "      <th>1</th>\n",
       "      <td>1</td>\n",
       "      <td>0.36</td>\n",
       "    </tr>\n",
       "    <tr>\n",
       "      <th>2</th>\n",
       "      <td>2</td>\n",
       "      <td>0.97</td>\n",
       "    </tr>\n",
       "    <tr>\n",
       "      <th>3</th>\n",
       "      <td>3</td>\n",
       "      <td>0.57</td>\n",
       "    </tr>\n",
       "    <tr>\n",
       "      <th>4</th>\n",
       "      <td>4</td>\n",
       "      <td>0.33</td>\n",
       "    </tr>\n",
       "  </tbody>\n",
       "</table>\n",
       "</div>"
      ],
      "text/plain": [
       "   Id  TARGET_5Yrs\n",
       "0   0         0.32\n",
       "1   1         0.36\n",
       "2   2         0.97\n",
       "3   3         0.57\n",
       "4   4         0.33"
      ]
     },
     "execution_count": 45,
     "metadata": {},
     "output_type": "execute_result"
    }
   ],
   "source": [
    "df.head()"
   ]
  },
  {
   "cell_type": "code",
   "execution_count": 46,
   "id": "d6eb3b2d-e232-4b64-a20d-169898089bdd",
   "metadata": {},
   "outputs": [],
   "source": [
    "#Saving predictions into csv within ../data/external folder\n",
    "df.to_csv('../data/external/Kaggle_submission_random_forest.csv', index=False)"
   ]
  },
  {
   "cell_type": "code",
   "execution_count": null,
   "id": "3d2d55e2-5b17-48b9-8d98-07c7ab734dc8",
   "metadata": {},
   "outputs": [],
   "source": []
  }
 ],
 "metadata": {
  "kernelspec": {
   "display_name": "Python 3 (ipykernel)",
   "language": "python",
   "name": "python3"
  },
  "language_info": {
   "codemirror_mode": {
    "name": "ipython",
    "version": 3
   },
   "file_extension": ".py",
   "mimetype": "text/x-python",
   "name": "python",
   "nbconvert_exporter": "python",
   "pygments_lexer": "ipython3",
   "version": "3.10.6"
  }
 },
 "nbformat": 4,
 "nbformat_minor": 5
}
