{
 "cells": [
  {
   "cell_type": "code",
   "execution_count": 10,
   "id": "29063e90-1d36-41e0-93b2-a4728a522b55",
   "metadata": {},
   "outputs": [],
   "source": [
    "#Import Packages\n",
    "import pandas as pd\n",
    "import numpy as np\n",
    "from pandas_profiling import ProfileReport\n",
    "import matplotlib.pyplot as plt\n",
    "from sklearn.metrics import roc_auc_score"
   ]
  },
  {
   "cell_type": "code",
   "execution_count": 11,
   "id": "9c3d4ac8-dc02-41b1-9001-b9eb40630404",
   "metadata": {},
   "outputs": [],
   "source": [
    "#Loading Data\n",
    "df = pd.read_csv('../data/raw/2022_train.csv')\n",
    "df_test = pd.read_csv(\"../data/raw/2022_test.csv\")\n",
    "df_test_backup = pd.read_csv(\"../data/raw/2022_test.csv\")"
   ]
  },
  {
   "cell_type": "code",
   "execution_count": 12,
   "id": "eddecb8a-142e-4e8d-91b9-e40464faf92f",
   "metadata": {},
   "outputs": [
    {
     "data": {
      "text/html": [
       "<div>\n",
       "<style scoped>\n",
       "    .dataframe tbody tr th:only-of-type {\n",
       "        vertical-align: middle;\n",
       "    }\n",
       "\n",
       "    .dataframe tbody tr th {\n",
       "        vertical-align: top;\n",
       "    }\n",
       "\n",
       "    .dataframe thead th {\n",
       "        text-align: right;\n",
       "    }\n",
       "</style>\n",
       "<table border=\"1\" class=\"dataframe\">\n",
       "  <thead>\n",
       "    <tr style=\"text-align: right;\">\n",
       "      <th></th>\n",
       "      <th>Id</th>\n",
       "      <th>GP</th>\n",
       "      <th>MIN</th>\n",
       "      <th>PTS</th>\n",
       "      <th>FGM</th>\n",
       "      <th>FGA</th>\n",
       "      <th>FG%</th>\n",
       "      <th>3P Made</th>\n",
       "      <th>3PA</th>\n",
       "      <th>3P%</th>\n",
       "      <th>...</th>\n",
       "      <th>FTA</th>\n",
       "      <th>FT%</th>\n",
       "      <th>OREB</th>\n",
       "      <th>DREB</th>\n",
       "      <th>REB</th>\n",
       "      <th>AST</th>\n",
       "      <th>STL</th>\n",
       "      <th>BLK</th>\n",
       "      <th>TOV</th>\n",
       "      <th>TARGET_5Yrs</th>\n",
       "    </tr>\n",
       "  </thead>\n",
       "  <tbody>\n",
       "    <tr>\n",
       "      <th>0</th>\n",
       "      <td>3799</td>\n",
       "      <td>80</td>\n",
       "      <td>24.3</td>\n",
       "      <td>7.8</td>\n",
       "      <td>3.0</td>\n",
       "      <td>6.4</td>\n",
       "      <td>45.7</td>\n",
       "      <td>0.1</td>\n",
       "      <td>0.3</td>\n",
       "      <td>22.6</td>\n",
       "      <td>...</td>\n",
       "      <td>2.9</td>\n",
       "      <td>72.1</td>\n",
       "      <td>2.2</td>\n",
       "      <td>2.0</td>\n",
       "      <td>3.8</td>\n",
       "      <td>3.2</td>\n",
       "      <td>1.1</td>\n",
       "      <td>0.2</td>\n",
       "      <td>1.6</td>\n",
       "      <td>1</td>\n",
       "    </tr>\n",
       "    <tr>\n",
       "      <th>1</th>\n",
       "      <td>3800</td>\n",
       "      <td>75</td>\n",
       "      <td>21.8</td>\n",
       "      <td>10.5</td>\n",
       "      <td>4.2</td>\n",
       "      <td>7.9</td>\n",
       "      <td>55.1</td>\n",
       "      <td>-0.3</td>\n",
       "      <td>-1.0</td>\n",
       "      <td>34.9</td>\n",
       "      <td>...</td>\n",
       "      <td>3.6</td>\n",
       "      <td>67.8</td>\n",
       "      <td>3.6</td>\n",
       "      <td>3.7</td>\n",
       "      <td>6.6</td>\n",
       "      <td>0.7</td>\n",
       "      <td>0.5</td>\n",
       "      <td>0.6</td>\n",
       "      <td>1.4</td>\n",
       "      <td>1</td>\n",
       "    </tr>\n",
       "    <tr>\n",
       "      <th>2</th>\n",
       "      <td>3801</td>\n",
       "      <td>85</td>\n",
       "      <td>19.1</td>\n",
       "      <td>4.5</td>\n",
       "      <td>1.9</td>\n",
       "      <td>4.5</td>\n",
       "      <td>42.8</td>\n",
       "      <td>0.4</td>\n",
       "      <td>1.2</td>\n",
       "      <td>34.3</td>\n",
       "      <td>...</td>\n",
       "      <td>0.6</td>\n",
       "      <td>75.7</td>\n",
       "      <td>0.6</td>\n",
       "      <td>1.8</td>\n",
       "      <td>2.4</td>\n",
       "      <td>0.8</td>\n",
       "      <td>0.4</td>\n",
       "      <td>0.2</td>\n",
       "      <td>0.6</td>\n",
       "      <td>1</td>\n",
       "    </tr>\n",
       "    <tr>\n",
       "      <th>3</th>\n",
       "      <td>3802</td>\n",
       "      <td>63</td>\n",
       "      <td>19.1</td>\n",
       "      <td>8.2</td>\n",
       "      <td>3.5</td>\n",
       "      <td>6.7</td>\n",
       "      <td>52.5</td>\n",
       "      <td>0.3</td>\n",
       "      <td>0.8</td>\n",
       "      <td>23.7</td>\n",
       "      <td>...</td>\n",
       "      <td>1.5</td>\n",
       "      <td>66.9</td>\n",
       "      <td>0.8</td>\n",
       "      <td>2.0</td>\n",
       "      <td>3.0</td>\n",
       "      <td>1.8</td>\n",
       "      <td>0.4</td>\n",
       "      <td>0.1</td>\n",
       "      <td>1.9</td>\n",
       "      <td>1</td>\n",
       "    </tr>\n",
       "    <tr>\n",
       "      <th>4</th>\n",
       "      <td>3803</td>\n",
       "      <td>63</td>\n",
       "      <td>17.8</td>\n",
       "      <td>3.7</td>\n",
       "      <td>1.7</td>\n",
       "      <td>3.4</td>\n",
       "      <td>50.8</td>\n",
       "      <td>0.5</td>\n",
       "      <td>1.4</td>\n",
       "      <td>13.7</td>\n",
       "      <td>...</td>\n",
       "      <td>0.5</td>\n",
       "      <td>54.0</td>\n",
       "      <td>2.4</td>\n",
       "      <td>2.7</td>\n",
       "      <td>4.9</td>\n",
       "      <td>0.4</td>\n",
       "      <td>0.4</td>\n",
       "      <td>0.6</td>\n",
       "      <td>0.7</td>\n",
       "      <td>1</td>\n",
       "    </tr>\n",
       "  </tbody>\n",
       "</table>\n",
       "<p>5 rows × 21 columns</p>\n",
       "</div>"
      ],
      "text/plain": [
       "     Id  GP   MIN   PTS  FGM  FGA   FG%  3P Made  3PA   3P%  ...  FTA   FT%  \\\n",
       "0  3799  80  24.3   7.8  3.0  6.4  45.7      0.1  0.3  22.6  ...  2.9  72.1   \n",
       "1  3800  75  21.8  10.5  4.2  7.9  55.1     -0.3 -1.0  34.9  ...  3.6  67.8   \n",
       "2  3801  85  19.1   4.5  1.9  4.5  42.8      0.4  1.2  34.3  ...  0.6  75.7   \n",
       "3  3802  63  19.1   8.2  3.5  6.7  52.5      0.3  0.8  23.7  ...  1.5  66.9   \n",
       "4  3803  63  17.8   3.7  1.7  3.4  50.8      0.5  1.4  13.7  ...  0.5  54.0   \n",
       "\n",
       "   OREB  DREB  REB  AST  STL  BLK  TOV  TARGET_5Yrs  \n",
       "0   2.2   2.0  3.8  3.2  1.1  0.2  1.6            1  \n",
       "1   3.6   3.7  6.6  0.7  0.5  0.6  1.4            1  \n",
       "2   0.6   1.8  2.4  0.8  0.4  0.2  0.6            1  \n",
       "3   0.8   2.0  3.0  1.8  0.4  0.1  1.9            1  \n",
       "4   2.4   2.7  4.9  0.4  0.4  0.6  0.7            1  \n",
       "\n",
       "[5 rows x 21 columns]"
      ]
     },
     "execution_count": 12,
     "metadata": {},
     "output_type": "execute_result"
    }
   ],
   "source": [
    "df.head()"
   ]
  },
  {
   "cell_type": "code",
   "execution_count": 13,
   "id": "44fff949-2431-42e9-9b85-203002522f2d",
   "metadata": {},
   "outputs": [],
   "source": [
    "# EDA using Profile Report\n",
    "# ProfileReport(df, title=\"EDA of full training data\")"
   ]
  },
  {
   "cell_type": "markdown",
   "id": "945e69b3-de08-4247-891a-ae9ec9fe0705",
   "metadata": {},
   "source": [
    "### Feature Engineering\n",
    "Improve distribution of certain features that have right tails using cube root. Log is not recommened as some values are 0"
   ]
  },
  {
   "cell_type": "code",
   "execution_count": 14,
   "id": "6d4a4ab4-561a-4f76-8b83-8fdd404e266c",
   "metadata": {},
   "outputs": [],
   "source": [
    "df['MIN2'] = df['MIN']**(1/3)\n",
    "df['AST2'] = df['AST']**(1/3)\n",
    "df['PTS2'] = df['PTS']**(1/3)\n",
    "df['FGM2'] = df['FGM']**(1/3)\n",
    "df['FGA2'] = df['FGA']**(1/3)\n",
    "df['FTM2'] = df['FTM']**(1/3)\n",
    "df['FTA2'] = df['FTA']**(1/3)\n",
    "df['OREB2'] = df['OREB']**(1/3)\n",
    "df['DREB2'] = df['DREB']**(1/3)\n",
    "df['REB2'] = df['REB']**(1/3)\n",
    "df['STL2'] = df['STL']**(1/3)\n",
    "df['TOV2'] = df['TOV']**(1/3)\n",
    "\n",
    "df2 = df.drop(['Id', 'MIN', 'AST', 'PTS', 'FGM', 'FGA', 'FTM', 'FTA', 'OREB', 'DREB', 'REB', 'STL', 'TOV'], axis = 1)"
   ]
  },
  {
   "cell_type": "markdown",
   "id": "8134b200-8760-41cb-a8b4-0d463f1d569e",
   "metadata": {},
   "source": [
    "### Data Rebalancing\n",
    "\n",
    "Due to the fact that the target (Y) has fewer 0s than 1s (1333 vs 6669) we can use several tools to rebalance the data.\n",
    "\n",
    "1. Upsampling to fill in more data\n",
    "\n",
    "2. Smote to generate synthetic data\n"
   ]
  },
  {
   "cell_type": "code",
   "execution_count": 15,
   "id": "e6a3c92f-240d-4740-b80a-b4c5cc09ebaa",
   "metadata": {},
   "outputs": [
    {
     "data": {
      "text/html": [
       "<div>\n",
       "<style scoped>\n",
       "    .dataframe tbody tr th:only-of-type {\n",
       "        vertical-align: middle;\n",
       "    }\n",
       "\n",
       "    .dataframe tbody tr th {\n",
       "        vertical-align: top;\n",
       "    }\n",
       "\n",
       "    .dataframe thead th {\n",
       "        text-align: right;\n",
       "    }\n",
       "</style>\n",
       "<table border=\"1\" class=\"dataframe\">\n",
       "  <thead>\n",
       "    <tr style=\"text-align: right;\">\n",
       "      <th></th>\n",
       "      <th>GP</th>\n",
       "      <th>FG%</th>\n",
       "      <th>3P Made</th>\n",
       "      <th>3PA</th>\n",
       "      <th>3P%</th>\n",
       "      <th>FT%</th>\n",
       "      <th>BLK</th>\n",
       "      <th>TARGET_5Yrs</th>\n",
       "      <th>MIN2</th>\n",
       "      <th>AST2</th>\n",
       "      <th>PTS2</th>\n",
       "      <th>FGM2</th>\n",
       "      <th>FGA2</th>\n",
       "      <th>FTM2</th>\n",
       "      <th>FTA2</th>\n",
       "      <th>OREB2</th>\n",
       "      <th>DREB2</th>\n",
       "      <th>REB2</th>\n",
       "      <th>STL2</th>\n",
       "      <th>TOV2</th>\n",
       "    </tr>\n",
       "  </thead>\n",
       "  <tbody>\n",
       "    <tr>\n",
       "      <th>6670</th>\n",
       "      <td>32</td>\n",
       "      <td>45.7</td>\n",
       "      <td>-0.1</td>\n",
       "      <td>-0.2</td>\n",
       "      <td>14.4</td>\n",
       "      <td>63.8</td>\n",
       "      <td>0.1</td>\n",
       "      <td>0</td>\n",
       "      <td>1.743513</td>\n",
       "      <td>0.464159</td>\n",
       "      <td>1.032280</td>\n",
       "      <td>0.736806</td>\n",
       "      <td>1.032280</td>\n",
       "      <td>0.464159</td>\n",
       "      <td>0.584804</td>\n",
       "      <td>0.736806</td>\n",
       "      <td>0.843433</td>\n",
       "      <td>1.000000</td>\n",
       "      <td>0.584804</td>\n",
       "      <td>0.464159</td>\n",
       "    </tr>\n",
       "    <tr>\n",
       "      <th>5096</th>\n",
       "      <td>73</td>\n",
       "      <td>34.6</td>\n",
       "      <td>0.6</td>\n",
       "      <td>2.1</td>\n",
       "      <td>20.5</td>\n",
       "      <td>75.6</td>\n",
       "      <td>0.4</td>\n",
       "      <td>0</td>\n",
       "      <td>2.973847</td>\n",
       "      <td>1.169607</td>\n",
       "      <td>2.250617</td>\n",
       "      <td>1.638643</td>\n",
       "      <td>2.308350</td>\n",
       "      <td>1.193483</td>\n",
       "      <td>1.320006</td>\n",
       "      <td>1.193483</td>\n",
       "      <td>1.613429</td>\n",
       "      <td>1.806969</td>\n",
       "      <td>1.000000</td>\n",
       "      <td>1.216440</td>\n",
       "    </tr>\n",
       "    <tr>\n",
       "      <th>7808</th>\n",
       "      <td>64</td>\n",
       "      <td>44.1</td>\n",
       "      <td>0.2</td>\n",
       "      <td>0.7</td>\n",
       "      <td>11.0</td>\n",
       "      <td>55.0</td>\n",
       "      <td>0.2</td>\n",
       "      <td>0</td>\n",
       "      <td>2.008299</td>\n",
       "      <td>1.091393</td>\n",
       "      <td>1.338866</td>\n",
       "      <td>1.062659</td>\n",
       "      <td>1.375069</td>\n",
       "      <td>0.584804</td>\n",
       "      <td>0.736806</td>\n",
       "      <td>0.736806</td>\n",
       "      <td>0.793701</td>\n",
       "      <td>0.965489</td>\n",
       "      <td>0.669433</td>\n",
       "      <td>0.793701</td>\n",
       "    </tr>\n",
       "    <tr>\n",
       "      <th>6758</th>\n",
       "      <td>59</td>\n",
       "      <td>42.0</td>\n",
       "      <td>0.2</td>\n",
       "      <td>1.0</td>\n",
       "      <td>9.6</td>\n",
       "      <td>66.3</td>\n",
       "      <td>0.5</td>\n",
       "      <td>0</td>\n",
       "      <td>2.732394</td>\n",
       "      <td>1.169607</td>\n",
       "      <td>1.709976</td>\n",
       "      <td>1.238562</td>\n",
       "      <td>1.650964</td>\n",
       "      <td>1.032280</td>\n",
       "      <td>1.169607</td>\n",
       "      <td>1.062659</td>\n",
       "      <td>1.375069</td>\n",
       "      <td>1.587401</td>\n",
       "      <td>0.928318</td>\n",
       "      <td>1.000000</td>\n",
       "    </tr>\n",
       "    <tr>\n",
       "      <th>6478</th>\n",
       "      <td>36</td>\n",
       "      <td>38.5</td>\n",
       "      <td>0.6</td>\n",
       "      <td>1.9</td>\n",
       "      <td>8.2</td>\n",
       "      <td>71.8</td>\n",
       "      <td>0.2</td>\n",
       "      <td>0</td>\n",
       "      <td>2.147229</td>\n",
       "      <td>0.584804</td>\n",
       "      <td>1.392477</td>\n",
       "      <td>1.000000</td>\n",
       "      <td>1.375069</td>\n",
       "      <td>0.736806</td>\n",
       "      <td>0.793701</td>\n",
       "      <td>0.584804</td>\n",
       "      <td>1.000000</td>\n",
       "      <td>1.032280</td>\n",
       "      <td>0.584804</td>\n",
       "      <td>0.736806</td>\n",
       "    </tr>\n",
       "  </tbody>\n",
       "</table>\n",
       "</div>"
      ],
      "text/plain": [
       "      GP   FG%  3P Made  3PA   3P%   FT%  BLK  TARGET_5Yrs      MIN2  \\\n",
       "6670  32  45.7     -0.1 -0.2  14.4  63.8  0.1            0  1.743513   \n",
       "5096  73  34.6      0.6  2.1  20.5  75.6  0.4            0  2.973847   \n",
       "7808  64  44.1      0.2  0.7  11.0  55.0  0.2            0  2.008299   \n",
       "6758  59  42.0      0.2  1.0   9.6  66.3  0.5            0  2.732394   \n",
       "6478  36  38.5      0.6  1.9   8.2  71.8  0.2            0  2.147229   \n",
       "\n",
       "          AST2      PTS2      FGM2      FGA2      FTM2      FTA2     OREB2  \\\n",
       "6670  0.464159  1.032280  0.736806  1.032280  0.464159  0.584804  0.736806   \n",
       "5096  1.169607  2.250617  1.638643  2.308350  1.193483  1.320006  1.193483   \n",
       "7808  1.091393  1.338866  1.062659  1.375069  0.584804  0.736806  0.736806   \n",
       "6758  1.169607  1.709976  1.238562  1.650964  1.032280  1.169607  1.062659   \n",
       "6478  0.584804  1.392477  1.000000  1.375069  0.736806  0.793701  0.584804   \n",
       "\n",
       "         DREB2      REB2      STL2      TOV2  \n",
       "6670  0.843433  1.000000  0.584804  0.464159  \n",
       "5096  1.613429  1.806969  1.000000  1.216440  \n",
       "7808  0.793701  0.965489  0.669433  0.793701  \n",
       "6758  1.375069  1.587401  0.928318  1.000000  \n",
       "6478  1.000000  1.032280  0.584804  0.736806  "
      ]
     },
     "execution_count": 15,
     "metadata": {},
     "output_type": "execute_result"
    }
   ],
   "source": [
    "# Divide into datasets by the output classes\n",
    "df_over_5 = df2[df2['TARGET_5Yrs'] == 1]\n",
    "df_under_5 = df2[df2['TARGET_5Yrs'] == 0]\n",
    "\n",
    "\n",
    "# Upsampling\n",
    "from sklearn.utils import resample\n",
    "df_upsample = resample(df_under_5, replace=True, n_samples=6669, random_state=42)\n",
    "df_upsample.shape\n",
    "df_upsample.head()"
   ]
  },
  {
   "cell_type": "code",
   "execution_count": 16,
   "id": "6f879bae-328e-4b88-9719-27e7baa860f6",
   "metadata": {},
   "outputs": [
    {
     "data": {
      "text/plain": [
       "(13338, 20)"
      ]
     },
     "execution_count": 16,
     "metadata": {},
     "output_type": "execute_result"
    }
   ],
   "source": [
    "# Combine upsample with the over_5s\n",
    "df_upsampled = pd.concat([df_over_5, df_upsample])\n",
    "df_upsampled.shape"
   ]
  },
  {
   "cell_type": "code",
   "execution_count": 17,
   "id": "60cc1896-2163-4833-8d8a-d159f183a4a0",
   "metadata": {},
   "outputs": [],
   "source": [
    "# Upsampling using SMOTE\n",
    "from imblearn.over_sampling import SMOTE\n",
    "\n",
    "# separate into y and X\n",
    "y = df2.pop('TARGET_5Yrs')\n",
    "X = df2\n",
    "\n",
    "# use SMOTE\n",
    "su = SMOTE(random_state=42)\n",
    "X_smote, y_smote = su.fit_resample(X, y)"
   ]
  },
  {
   "cell_type": "code",
   "execution_count": 18,
   "id": "e0b020d8-74a5-4eb9-927b-9e01aea6f34d",
   "metadata": {},
   "outputs": [],
   "source": [
    "#X_upsamp.shape"
   ]
  },
  {
   "cell_type": "code",
   "execution_count": 19,
   "id": "517c96c6-eaaa-4d7a-8e51-ef6ad8087712",
   "metadata": {},
   "outputs": [],
   "source": [
    "#y_upsamp.shape"
   ]
  },
  {
   "cell_type": "markdown",
   "id": "bde4af81-2552-499c-99b2-c334248a396b",
   "metadata": {},
   "source": [
    "### Standard Scaling of the features X"
   ]
  },
  {
   "cell_type": "code",
   "execution_count": 20,
   "id": "3b5b01f9-3ae2-46a6-9b5a-e21ebc4a6bd2",
   "metadata": {},
   "outputs": [],
   "source": [
    "# Also split X and y for the upsampled, non-SMOTE data\n",
    "\n",
    "y_upsamp = df_upsampled.pop('TARGET_5Yrs')\n",
    "X_upsamp = df_upsampled"
   ]
  },
  {
   "cell_type": "code",
   "execution_count": 21,
   "id": "21b312c8-f475-4c0a-8bdf-63d815428494",
   "metadata": {},
   "outputs": [],
   "source": [
    "# Scale the X values for the upsampled and SMOTE sampled data\n",
    "from sklearn.preprocessing import StandardScaler\n",
    "scaler = StandardScaler()\n",
    "X_upsamp = scaler.fit_transform(X_upsamp)\n",
    "X_smote = scaler.fit_transform(X_smote)"
   ]
  },
  {
   "cell_type": "markdown",
   "id": "59c2c5df-d067-4682-8167-8e3aea6a161f",
   "metadata": {
    "tags": []
   },
   "source": [
    "### Split into Training and validation datasets with 75% training data\n",
    "\n",
    "Also will stratify y just in case"
   ]
  },
  {
   "cell_type": "code",
   "execution_count": 22,
   "id": "3541d2f0-b020-467f-8ffe-f3a65e058cdf",
   "metadata": {
    "tags": []
   },
   "outputs": [],
   "source": [
    "from sklearn.model_selection import train_test_split\n",
    "Xt_upsamp, Xv_upsamp, yt_upsamp, yv_upsamp = train_test_split(X_upsamp, y_upsamp, test_size = 0.25, stratify=y_upsamp)"
   ]
  },
  {
   "cell_type": "code",
   "execution_count": 23,
   "id": "8520f7da-0745-449a-b6ea-a05aadf956cc",
   "metadata": {},
   "outputs": [],
   "source": [
    "Xt_smote, Xv_smote, yt_smote, yv_smote = train_test_split(X_smote, y_smote, test_size = 0.25, stratify=y_smote)"
   ]
  },
  {
   "cell_type": "markdown",
   "id": "6a054c33-cf22-4cba-887f-6a24abb0ecb1",
   "metadata": {},
   "source": [
    "### Try balanced datasets using Random Forest\n",
    "\n",
    "1. Using non-smote upscaled data"
   ]
  },
  {
   "cell_type": "code",
   "execution_count": 24,
   "id": "cb4a9192-5795-43ad-a3de-6693d8f20e18",
   "metadata": {},
   "outputs": [],
   "source": [
    "from sklearn.ensemble import RandomForestClassifier\n",
    "rfc = RandomForestClassifier(max_depth = 6, random_state = 42)"
   ]
  },
  {
   "cell_type": "code",
   "execution_count": 25,
   "id": "18425b5f-8169-4283-8c93-90a9ba1ca5f0",
   "metadata": {},
   "outputs": [
    {
     "data": {
      "text/plain": [
       "RandomForestClassifier(max_depth=6, random_state=42)"
      ]
     },
     "execution_count": 25,
     "metadata": {},
     "output_type": "execute_result"
    }
   ],
   "source": [
    "# train with the upsampled data\n",
    "rfc.fit(Xt_upsamp, yt_upsamp)"
   ]
  },
  {
   "cell_type": "code",
   "execution_count": 26,
   "id": "62491112-03a1-4dea-a121-ea811ca1e69d",
   "metadata": {},
   "outputs": [],
   "source": [
    "# predict using the upsampled validation\n",
    "yv_pred = rfc.predict(Xv_upsamp)"
   ]
  },
  {
   "cell_type": "code",
   "execution_count": 27,
   "id": "dbdbd9c7-cf76-4ebb-baf2-7d2c79011e46",
   "metadata": {},
   "outputs": [
    {
     "name": "stdout",
     "output_type": "stream",
     "text": [
      "0.7037335338687658\n"
     ]
    }
   ],
   "source": [
    "# Print the AUROC score\n",
    "rfc_upsamp = roc_auc_score(yv_upsamp, yv_pred)\n",
    "print(rfc_upsamp)"
   ]
  },
  {
   "cell_type": "markdown",
   "id": "d2e3ad8c-581e-40d9-9948-9ff40d2770d4",
   "metadata": {},
   "source": [
    "2. Using the smote upscaled data"
   ]
  },
  {
   "cell_type": "code",
   "execution_count": 28,
   "id": "01fa8138-f0c8-4c45-8aea-6e15e4fa56c9",
   "metadata": {},
   "outputs": [
    {
     "name": "stdout",
     "output_type": "stream",
     "text": [
      "0.7427217793851302\n"
     ]
    }
   ],
   "source": [
    "rfc2 = RandomForestClassifier(max_depth = 6, random_state = 42)\n",
    "\n",
    "# train\n",
    "rfc2.fit(Xt_smote, yt_smote)\n",
    "\n",
    "# predict\n",
    "yv_pred2 = rfc2.predict(Xv_smote)\n",
    "\n",
    "# print auroc\n",
    "rfc_smote = roc_auc_score(yv_smote, yv_pred2)\n",
    "print(rfc_smote)"
   ]
  },
  {
   "cell_type": "markdown",
   "id": "f1dbea82-3a22-47a0-bcea-69e72cb6f4e4",
   "metadata": {},
   "source": [
    "### Get prediction probabilities of the rfc using test data"
   ]
  },
  {
   "cell_type": "code",
   "execution_count": 29,
   "id": "d1c71ddb-4dd1-4c1f-ad1e-d6c555ae7113",
   "metadata": {},
   "outputs": [],
   "source": [
    "# First complete the cleaning steps on the test data\n",
    "\n",
    "df_test['MIN2'] = df_test['MIN']**(1/3)\n",
    "df_test['AST2'] = df_test['AST']**(1/3)\n",
    "df_test['PTS2'] = df_test['PTS']**(1/3)\n",
    "df_test['FGM2'] = df_test['FGM']**(1/3)\n",
    "df_test['FGA2'] = df_test['FGA']**(1/3)\n",
    "df_test['FTM2'] = df_test['FTM']**(1/3)\n",
    "df_test['FTA2'] = df_test['FTA']**(1/3)\n",
    "df_test['OREB2'] = df_test['OREB']**(1/3)\n",
    "df_test['DREB2'] = df_test['DREB']**(1/3)\n",
    "df_test['REB2'] = df_test['REB']**(1/3)\n",
    "df_test['STL2'] = df_test['STL']**(1/3)\n",
    "df_test['TOV2'] = df_test['TOV']**(1/3)\n",
    "\n",
    "df2_test = df_test.drop(['Id', 'MIN', 'AST', 'PTS', 'FGM', 'FGA', 'FTM', 'FTA', 'OREB', 'DREB', 'REB', 'STL', 'TOV'], axis = 1)"
   ]
  },
  {
   "cell_type": "code",
   "execution_count": 30,
   "id": "2e476deb-b53c-480c-a8dd-a965441cb282",
   "metadata": {},
   "outputs": [
    {
     "data": {
      "text/plain": [
       "(3799, 19)"
      ]
     },
     "execution_count": 30,
     "metadata": {},
     "output_type": "execute_result"
    }
   ],
   "source": [
    "df2_test.shape"
   ]
  },
  {
   "cell_type": "code",
   "execution_count": 31,
   "id": "614f8da3-77d6-4437-90f8-4885e1021618",
   "metadata": {},
   "outputs": [],
   "source": [
    "# Run the Standard Scaler on our test features\n",
    "X_test = scaler.fit_transform(df2_test)"
   ]
  },
  {
   "cell_type": "code",
   "execution_count": 32,
   "id": "0e1f6163-4a40-468d-83f2-bece84054c33",
   "metadata": {},
   "outputs": [],
   "source": [
    "# Use the Random Forest Classifier trained with the SMOTE upscaled training set\n",
    "\n",
    "y_test_predictions = rfc2.predict_proba(X_test)\n",
    "\n",
    "probabilities = y_test_predictions[:,1]\n",
    "\n",
    "# create a dataframe and import back the Ids into with each prediction probability\n",
    "\n",
    "final = pd.DataFrame({'Id':df_test_backup.Id, 'TARGET_5Yrs':probabilities})\n",
    "\n",
    "# save to CSV for upload to Kaggle without the index\n",
    "\n",
    "final.to_csv(\"2022_timwang_week2try.csv\", index = False)"
   ]
  },
  {
   "cell_type": "code",
   "execution_count": 33,
   "id": "dd991c62-a48e-4d94-ba34-a351ab08ce5f",
   "metadata": {},
   "outputs": [
    {
     "data": {
      "text/html": [
       "<div>\n",
       "<style scoped>\n",
       "    .dataframe tbody tr th:only-of-type {\n",
       "        vertical-align: middle;\n",
       "    }\n",
       "\n",
       "    .dataframe tbody tr th {\n",
       "        vertical-align: top;\n",
       "    }\n",
       "\n",
       "    .dataframe thead th {\n",
       "        text-align: right;\n",
       "    }\n",
       "</style>\n",
       "<table border=\"1\" class=\"dataframe\">\n",
       "  <thead>\n",
       "    <tr style=\"text-align: right;\">\n",
       "      <th></th>\n",
       "      <th>Id</th>\n",
       "      <th>TARGET_5Yrs</th>\n",
       "    </tr>\n",
       "  </thead>\n",
       "  <tbody>\n",
       "    <tr>\n",
       "      <th>0</th>\n",
       "      <td>0</td>\n",
       "      <td>0.302103</td>\n",
       "    </tr>\n",
       "    <tr>\n",
       "      <th>1</th>\n",
       "      <td>1</td>\n",
       "      <td>0.488752</td>\n",
       "    </tr>\n",
       "    <tr>\n",
       "      <th>2</th>\n",
       "      <td>2</td>\n",
       "      <td>0.652189</td>\n",
       "    </tr>\n",
       "    <tr>\n",
       "      <th>3</th>\n",
       "      <td>3</td>\n",
       "      <td>0.813496</td>\n",
       "    </tr>\n",
       "    <tr>\n",
       "      <th>4</th>\n",
       "      <td>4</td>\n",
       "      <td>0.296814</td>\n",
       "    </tr>\n",
       "  </tbody>\n",
       "</table>\n",
       "</div>"
      ],
      "text/plain": [
       "   Id  TARGET_5Yrs\n",
       "0   0     0.302103\n",
       "1   1     0.488752\n",
       "2   2     0.652189\n",
       "3   3     0.813496\n",
       "4   4     0.296814"
      ]
     },
     "execution_count": 33,
     "metadata": {},
     "output_type": "execute_result"
    }
   ],
   "source": [
    "final.head()"
   ]
  },
  {
   "cell_type": "code",
   "execution_count": 34,
   "id": "917a879b-8fc3-4cb3-8ae4-61882259f615",
   "metadata": {},
   "outputs": [
    {
     "data": {
      "text/plain": [
       "(3799, 2)"
      ]
     },
     "execution_count": 34,
     "metadata": {},
     "output_type": "execute_result"
    }
   ],
   "source": [
    "final.shape"
   ]
  },
  {
   "cell_type": "markdown",
   "id": "7487caf9-0615-4f8e-9954-a934e54c43c1",
   "metadata": {},
   "source": [
    "### Other Models\n",
    "\n",
    "Using SMOTE data, lets try different ML algorithms: Naive Bayes, KNN, SVM, XGBoost"
   ]
  },
  {
   "cell_type": "code",
   "execution_count": 35,
   "id": "4e0f79aa-a66f-41be-8f3c-bb4613b2f110",
   "metadata": {},
   "outputs": [
    {
     "name": "stdout",
     "output_type": "stream",
     "text": [
      "0.657852422321291\n"
     ]
    }
   ],
   "source": [
    "# Gaussian Naive Bayes\n",
    "from sklearn.naive_bayes import GaussianNB\n",
    "gnb = GaussianNB()\n",
    "\n",
    "# fit model/training\n",
    "gnb.fit(Xt_smote, yt_smote)\n",
    "\n",
    "# predict\n",
    "yv_pred3 = gnb.predict(Xv_smote)\n",
    "\n",
    "# print auroc\n",
    "gnb_smote = roc_auc_score(yv_smote, yv_pred3)\n",
    "print(gnb_smote)"
   ]
  },
  {
   "cell_type": "code",
   "execution_count": 36,
   "id": "15974b3a-6c62-4861-b344-46cd76d3886e",
   "metadata": {},
   "outputs": [
    {
     "name": "stdout",
     "output_type": "stream",
     "text": [
      "0.7273786249944256\n"
     ]
    },
    {
     "name": "stderr",
     "output_type": "stream",
     "text": [
      "C:\\Users\\datat\\anaconda3\\lib\\site-packages\\sklearn\\neighbors\\_classification.py:228: FutureWarning: Unlike other reduction functions (e.g. `skew`, `kurtosis`), the default behavior of `mode` typically preserves the axis it acts along. In SciPy 1.11.0, this behavior will change: the default value of `keepdims` will become False, the `axis` over which the statistic is taken will be eliminated, and the value None will no longer be accepted. Set `keepdims` to True or False to avoid this warning.\n",
      "  mode, _ = stats.mode(_y[neigh_ind, k], axis=1)\n"
     ]
    }
   ],
   "source": [
    "# KNN\n",
    "from sklearn.neighbors import KNeighborsClassifier\n",
    "\n",
    "# instantiate model\n",
    "knn = KNeighborsClassifier(n_neighbors=5)\n",
    "\n",
    "# train/fit\n",
    "knn.fit(Xt_smote, yt_smote)\n",
    "\n",
    "# predict\n",
    "yv_pred4 = knn.predict(Xv_smote)\n",
    "\n",
    "# print auroc\n",
    "knn_smote = roc_auc_score(yv_smote, yv_pred4)\n",
    "print(knn_smote)"
   ]
  },
  {
   "cell_type": "code",
   "execution_count": 37,
   "id": "3c354f55-7dfc-41e6-acf2-94bd3842d795",
   "metadata": {},
   "outputs": [
    {
     "name": "stdout",
     "output_type": "stream",
     "text": [
      "0.7175280771183894\n"
     ]
    }
   ],
   "source": [
    "# SVM\n",
    "from sklearn.svm import SVC\n",
    "\n",
    "# instantiate\n",
    "svm = SVC(gamma='auto')\n",
    "\n",
    "# train/fit\n",
    "svm.fit(Xt_smote, yt_smote)\n",
    "\n",
    "# predict\n",
    "yv_pred5 = svm.predict(Xv_smote)\n",
    "\n",
    "# print auroc\n",
    "svm_smote = roc_auc_score(yv_smote, yv_pred5)\n",
    "print(svm_smote)"
   ]
  },
  {
   "cell_type": "code",
   "execution_count": 38,
   "id": "2b9817f6-548e-4224-a4c6-33f04af54ff5",
   "metadata": {},
   "outputs": [
    {
     "name": "stdout",
     "output_type": "stream",
     "text": [
      "0.8959740426015516\n"
     ]
    }
   ],
   "source": [
    "# XGBoost\n",
    "from sklearn.ensemble import GradientBoostingClassifier\n",
    "\n",
    "# instantiate\n",
    "xgb = GradientBoostingClassifier(n_estimators=100, learning_rate = 0.1, max_depth = 5, random_state=42)\n",
    "\n",
    "# train/fit\n",
    "xgb.fit(Xt_smote, yt_smote)\n",
    "\n",
    "# predict\n",
    "yv_pred6 = xgb.predict(Xv_smote)\n",
    "\n",
    "# print auroc\n",
    "xgb_smote = roc_auc_score(yv_smote, yv_pred6)\n",
    "print(xgb_smote)"
   ]
  },
  {
   "cell_type": "markdown",
   "id": "b6f0949a-5fd9-4739-911c-210deb4ea936",
   "metadata": {},
   "source": [
    "### Retrain XGBoost Model with whole training data (train + validation)"
   ]
  },
  {
   "cell_type": "code",
   "execution_count": 39,
   "id": "2ffc69d0-7022-445b-82c1-ba1219525a87",
   "metadata": {},
   "outputs": [
    {
     "data": {
      "text/plain": [
       "GradientBoostingClassifier(max_depth=5, random_state=42)"
      ]
     },
     "execution_count": 39,
     "metadata": {},
     "output_type": "execute_result"
    }
   ],
   "source": [
    "# instatiate\n",
    "xgb2 = GradientBoostingClassifier(n_estimators=100, learning_rate = 0.1, max_depth = 5, random_state=42)\n",
    "\n",
    "# train/fit\n",
    "xgb2.fit(X_smote, y_smote)"
   ]
  },
  {
   "cell_type": "code",
   "execution_count": 40,
   "id": "3a4fab66-631a-4cb0-a591-e8e84db92a90",
   "metadata": {},
   "outputs": [],
   "source": [
    "# Use the XGB trained with the SMOTE upscaled training set\n",
    "\n",
    "xgb_y_test_predictions = xgb2.predict_proba(X_test)\n",
    "\n",
    "probabilities = xgb_y_test_predictions[:,1]\n",
    "\n",
    "# create a dataframe and import back the Ids into with each prediction probability\n",
    "\n",
    "xgb_draft = pd.DataFrame({'Id':df_test_backup.Id, 'TARGET_5Yrs':probabilities})\n",
    "\n",
    "# save to CSV for upload to Kaggle without the index\n",
    "\n",
    "xgb_draft.to_csv(\"2022_timwang_week3try.csv\", index = False)"
   ]
  },
  {
   "cell_type": "code",
   "execution_count": 41,
   "id": "67cfeeec-9076-4ecc-8a14-c8198c2d75cf",
   "metadata": {},
   "outputs": [
    {
     "data": {
      "text/html": [
       "<div>\n",
       "<style scoped>\n",
       "    .dataframe tbody tr th:only-of-type {\n",
       "        vertical-align: middle;\n",
       "    }\n",
       "\n",
       "    .dataframe tbody tr th {\n",
       "        vertical-align: top;\n",
       "    }\n",
       "\n",
       "    .dataframe thead th {\n",
       "        text-align: right;\n",
       "    }\n",
       "</style>\n",
       "<table border=\"1\" class=\"dataframe\">\n",
       "  <thead>\n",
       "    <tr style=\"text-align: right;\">\n",
       "      <th></th>\n",
       "      <th>Id</th>\n",
       "      <th>TARGET_5Yrs</th>\n",
       "    </tr>\n",
       "  </thead>\n",
       "  <tbody>\n",
       "    <tr>\n",
       "      <th>0</th>\n",
       "      <td>0</td>\n",
       "      <td>0.014510</td>\n",
       "    </tr>\n",
       "    <tr>\n",
       "      <th>1</th>\n",
       "      <td>1</td>\n",
       "      <td>0.040764</td>\n",
       "    </tr>\n",
       "    <tr>\n",
       "      <th>2</th>\n",
       "      <td>2</td>\n",
       "      <td>0.185286</td>\n",
       "    </tr>\n",
       "    <tr>\n",
       "      <th>3</th>\n",
       "      <td>3</td>\n",
       "      <td>0.423286</td>\n",
       "    </tr>\n",
       "    <tr>\n",
       "      <th>4</th>\n",
       "      <td>4</td>\n",
       "      <td>0.055149</td>\n",
       "    </tr>\n",
       "  </tbody>\n",
       "</table>\n",
       "</div>"
      ],
      "text/plain": [
       "   Id  TARGET_5Yrs\n",
       "0   0     0.014510\n",
       "1   1     0.040764\n",
       "2   2     0.185286\n",
       "3   3     0.423286\n",
       "4   4     0.055149"
      ]
     },
     "execution_count": 41,
     "metadata": {},
     "output_type": "execute_result"
    }
   ],
   "source": [
    "xgb_draft.head()"
   ]
  },
  {
   "cell_type": "markdown",
   "id": "19837fe7-6146-4dfe-9576-294f6f832835",
   "metadata": {},
   "source": [
    "### Retrain XGBoost Model with original training data (train)\n",
    "\n",
    "By using the whole training data, are we overfitting?"
   ]
  },
  {
   "cell_type": "code",
   "execution_count": 57,
   "id": "06c63d71-453b-46a3-922b-b786793c3d6c",
   "metadata": {},
   "outputs": [],
   "source": [
    "# Use the XGB trained with the SMOTE upscaled training set\n",
    "\n",
    "xgb_train_y_test_predictions = xgb2.predict_proba(X_test)\n",
    "\n",
    "probabilities = xgb_train_y_test_predictions[:,1]\n",
    "\n",
    "# create a dataframe and import back the Ids into with each prediction probability\n",
    "\n",
    "xgb_draft_2 = pd.DataFrame({'Id':df_test_backup.Id, 'TARGET_5Yrs':probabilities})\n",
    "\n",
    "# save to CSV for upload to Kaggle without the index\n",
    "\n",
    "xgb_draft_2.to_csv(\"2022_timwang_week3try2.csv\", index = False)"
   ]
  },
  {
   "cell_type": "markdown",
   "id": "fc2f96c5-2f5f-4ad4-b519-bec8f94884dc",
   "metadata": {},
   "source": [
    "Note: XGBoost with all training, kaggle score 0.62666\n",
    "      XGBoost with no validation in training, kaggle score 0.6119\n",
    "      \n",
    "Most likely XGBoost has high AUROC but may have overfit. Low generalisation on kaggle"
   ]
  },
  {
   "cell_type": "markdown",
   "id": "73dfacb5-528d-4a81-9911-b4f2b4a5b0d5",
   "metadata": {},
   "source": [
    "How to avoid overfitting with XGBoost\n",
    "How do you avoid overfitting when building an XGBoost model? Here are some tips you can follow to avoid overfitting when building a XGBoost or gradient boosted tree model.\n",
    "\n",
    "Use fewer trees. If you find that your XGBoost model is overfitting, one option you have is to reduce the number of trees that are used in your model. Models that are highly complex with many parameters tend to overfit more than models that are small and simple. By reducing the number of trees in your model, you can reduce the complexity of your model and reduce the likelihood of overfitting.\n",
    "\n",
    "Use shallow trees. Another way to reduce the amount of complexity in a XGBoost model and prevent the model from overfitting is to limit the model to using shallow trees. This reduces the number of splits that are made in each tree, which reduces the complexity of the model.\n",
    "\n",
    "Use a lower learning rate. If you reduce the learning rate in your XGBoost model, your model will also be less likely to overfit. This will act as a regularization technique that prevents your model from paying too much attention to an unimportant feature.\n",
    "Reduce the number of features. Reducing the number of features that you model has access to is another great way to reduce complexity in a machine learning model. This is another viable option for preventing an XGboost model from overfitting."
   ]
  },
  {
   "cell_type": "markdown",
   "id": "b4740fea-f9c3-4592-814b-c7faeb146f40",
   "metadata": {},
   "source": [
    "New Model with some different hyperparameters"
   ]
  },
  {
   "cell_type": "code",
   "execution_count": 51,
   "id": "9b044bf0-34e6-4190-85d1-d85e58f090b0",
   "metadata": {},
   "outputs": [
    {
     "name": "stdout",
     "output_type": "stream",
     "text": [
      "0.8686823786321872\n"
     ]
    }
   ],
   "source": [
    "# XGBoost with lower tree depth (4), lower learning rate (0.05)\n",
    "from sklearn.ensemble import GradientBoostingClassifier\n",
    "\n",
    "# instantiate\n",
    "xgb3 = GradientBoostingClassifier(n_estimators=100, learning_rate = 0.05, max_depth = 4, random_state=42)\n",
    "\n",
    "# train/fit\n",
    "xgb3.fit(Xt_smote, yt_smote)\n",
    "\n",
    "# predict\n",
    "yv_pred7 = xgb3.predict(Xv_smote)\n",
    "\n",
    "# print auroc\n",
    "xgb_smote = roc_auc_score(yv_smote, yv_pred7)\n",
    "print(xgb_smote)"
   ]
  },
  {
   "cell_type": "code",
   "execution_count": 54,
   "id": "f3e96a45-3626-463f-a1ab-4c610791afac",
   "metadata": {},
   "outputs": [
    {
     "name": "stdout",
     "output_type": "stream",
     "text": [
      "0.7583281904770126\n"
     ]
    }
   ],
   "source": [
    "# XGBoost with lower tree depth (4), lower learning rate (0.01)\n",
    "from sklearn.ensemble import GradientBoostingClassifier\n",
    "\n",
    "# instantiate\n",
    "xgb4 = GradientBoostingClassifier(n_estimators=100, learning_rate = 0.01, max_depth = 4, random_state=42)\n",
    "\n",
    "# train/fit\n",
    "xgb4.fit(Xt_smote, yt_smote)\n",
    "\n",
    "# predict\n",
    "yv_pred8 = xgb4.predict(Xv_smote)\n",
    "\n",
    "# print auroc\n",
    "xgb_smote = roc_auc_score(yv_smote, yv_pred8)\n",
    "print(xgb_smote)"
   ]
  },
  {
   "cell_type": "code",
   "execution_count": 56,
   "id": "60e70284-0455-437b-b9a2-bc1d123ad9f8",
   "metadata": {},
   "outputs": [
    {
     "data": {
      "text/plain": [
       "GradientBoostingClassifier(learning_rate=0.01, max_depth=4, random_state=42)"
      ]
     },
     "execution_count": 56,
     "metadata": {},
     "output_type": "execute_result"
    }
   ],
   "source": [
    "# Training the lower tree depth (4) with lower learning rate (0.01) on whole training set\n",
    "\n",
    "# instatiate\n",
    "xgb5 = GradientBoostingClassifier(n_estimators=100, learning_rate = 0.01, max_depth = 4, random_state=42)\n",
    "\n",
    "# train/fit\n",
    "xgb5.fit(X_smote, y_smote)"
   ]
  },
  {
   "cell_type": "code",
   "execution_count": 58,
   "id": "e3e79431-2bc5-43ef-9313-b31743612cd9",
   "metadata": {},
   "outputs": [],
   "source": [
    "# Use the XGB trained with the SMOTE upscaled training set\n",
    "\n",
    "xgb_train_y_test_5 = xgb5.predict_proba(X_test)\n",
    "\n",
    "probabilities5 = xgb_train_y_test_5[:,1]\n",
    "\n",
    "# create a dataframe and import back the Ids into with each prediction probability\n",
    "\n",
    "xgb_draft_5 = pd.DataFrame({'Id':df_test_backup.Id, 'TARGET_5Yrs':probabilities5})\n",
    "\n",
    "# save to CSV for upload to Kaggle without the index\n",
    "\n",
    "xgb_draft_5.to_csv('../data/external/2022_timwang_week3try5.csv', index = False)"
   ]
  },
  {
   "cell_type": "markdown",
   "id": "cfc80a2f-d883-4444-9e5c-3db017434e7e",
   "metadata": {},
   "source": [
    "### Save Model into the model folder"
   ]
  },
  {
   "cell_type": "code",
   "execution_count": 59,
   "id": "d07e4d3e-4696-49e6-9152-a2afffb28b6c",
   "metadata": {},
   "outputs": [
    {
     "data": {
      "text/plain": [
       "['../models/xgb5.joblib']"
      ]
     },
     "execution_count": 59,
     "metadata": {},
     "output_type": "execute_result"
    }
   ],
   "source": [
    "from joblib import dump\n",
    "dump(xgb5, '../models/xgb5.joblib')"
   ]
  },
  {
   "cell_type": "code",
   "execution_count": null,
   "id": "a17d3729-3ef5-45f6-9162-a9c480c06a68",
   "metadata": {},
   "outputs": [],
   "source": []
  }
 ],
 "metadata": {
  "kernelspec": {
   "display_name": "Python 3 (ipykernel)",
   "language": "python",
   "name": "python3"
  },
  "language_info": {
   "codemirror_mode": {
    "name": "ipython",
    "version": 3
   },
   "file_extension": ".py",
   "mimetype": "text/x-python",
   "name": "python",
   "nbconvert_exporter": "python",
   "pygments_lexer": "ipython3",
   "version": "3.9.13"
  }
 },
 "nbformat": 4,
 "nbformat_minor": 5
}
