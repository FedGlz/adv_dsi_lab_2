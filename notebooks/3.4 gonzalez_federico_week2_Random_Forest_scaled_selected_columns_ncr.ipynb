{
 "cells": [
  {
   "cell_type": "markdown",
   "id": "ac5718b6-58d3-4146-970c-644f1d4d57d1",
   "metadata": {},
   "source": [
    "<h3> NBA 5 year careeer prediction using XBoost Classifier"
   ]
  },
  {
   "cell_type": "code",
   "execution_count": 1,
   "id": "ca6cf86d-1201-4b42-9890-54e3132bcc93",
   "metadata": {},
   "outputs": [],
   "source": [
    "import pandas as pd\n",
    "import numpy as np"
   ]
  },
  {
   "cell_type": "markdown",
   "id": "17869c91-ff43-4c0c-b517-336880c0c840",
   "metadata": {},
   "source": [
    "<h4> 1. Load processed sets"
   ]
  },
  {
   "cell_type": "markdown",
   "id": "f5ab5745-696c-42cf-b86d-bf3225460f89",
   "metadata": {},
   "source": [
    "<h5> Loading scaled training, validation and test sets from data_prep step saved on the data/processed folder saving them into X_train, X_val, y_train, y_val, X_test, X_test_ID variables"
   ]
  },
  {
   "cell_type": "code",
   "execution_count": 2,
   "id": "33ed92b8-6971-44f6-9419-a48f8d45871b",
   "metadata": {},
   "outputs": [],
   "source": [
    "#Load Test and validation sets using custom function load_sets\n",
    "from src.data.sets import load_sets"
   ]
  },
  {
   "cell_type": "code",
   "execution_count": 3,
   "id": "8f896d87-99c8-4209-b79b-efd4c0ad28d3",
   "metadata": {},
   "outputs": [],
   "source": [
    "X_train, X_val, y_train, y_val, X_test, X_test_ID = load_sets()"
   ]
  },
  {
   "cell_type": "markdown",
   "id": "6c9dd78f-7205-4310-9bfe-5c30cacd4c06",
   "metadata": {},
   "source": [
    "<h4> 2. Import Random Forest"
   ]
  },
  {
   "cell_type": "markdown",
   "id": "0a8f5c91-9d2e-43ef-87ba-f193bb7f8375",
   "metadata": {},
   "source": [
    "<h5> Importing and fitting Random Forest Classifier with 300 estimators"
   ]
  },
  {
   "cell_type": "code",
   "execution_count": 4,
   "id": "49734e9d-1a7f-4e1d-9174-38a9e4a27000",
   "metadata": {},
   "outputs": [],
   "source": [
    "from sklearn.ensemble import RandomForestClassifier"
   ]
  },
  {
   "cell_type": "code",
   "execution_count": 5,
   "id": "3c479379-7f05-43e4-b1e9-db9b6504496c",
   "metadata": {},
   "outputs": [
    {
     "data": {
      "text/plain": [
       "0.23921832884097036"
      ]
     },
     "execution_count": 5,
     "metadata": {},
     "output_type": "execute_result"
    }
   ],
   "source": [
    "# calculating weights for unbalanced data \n",
    "sum_wpos = len([item for item in y_train if item==1 ])\n",
    "sum_wneg = len([item for item in y_train if item==0 ])\n",
    "sum_wneg/sum_wpos"
   ]
  },
  {
   "cell_type": "markdown",
   "id": "38bd5577-2d72-420d-95a5-a99afb4beb02",
   "metadata": {},
   "source": [
    "<h4> 2.1 Analyse features importance in random forest model with current training sets"
   ]
  },
  {
   "cell_type": "code",
   "execution_count": 6,
   "id": "5db7e76f-f01d-42b6-a74f-d154d9435236",
   "metadata": {},
   "outputs": [],
   "source": [
    "rf_model = RandomForestClassifier(n_estimators = 300, random_state=44)"
   ]
  },
  {
   "cell_type": "code",
   "execution_count": 7,
   "id": "e9247957-c127-48ba-8631-e187a72acb2d",
   "metadata": {},
   "outputs": [
    {
     "data": {
      "text/html": [
       "<style>#sk-container-id-1 {color: black;background-color: white;}#sk-container-id-1 pre{padding: 0;}#sk-container-id-1 div.sk-toggleable {background-color: white;}#sk-container-id-1 label.sk-toggleable__label {cursor: pointer;display: block;width: 100%;margin-bottom: 0;padding: 0.3em;box-sizing: border-box;text-align: center;}#sk-container-id-1 label.sk-toggleable__label-arrow:before {content: \"▸\";float: left;margin-right: 0.25em;color: #696969;}#sk-container-id-1 label.sk-toggleable__label-arrow:hover:before {color: black;}#sk-container-id-1 div.sk-estimator:hover label.sk-toggleable__label-arrow:before {color: black;}#sk-container-id-1 div.sk-toggleable__content {max-height: 0;max-width: 0;overflow: hidden;text-align: left;background-color: #f0f8ff;}#sk-container-id-1 div.sk-toggleable__content pre {margin: 0.2em;color: black;border-radius: 0.25em;background-color: #f0f8ff;}#sk-container-id-1 input.sk-toggleable__control:checked~div.sk-toggleable__content {max-height: 200px;max-width: 100%;overflow: auto;}#sk-container-id-1 input.sk-toggleable__control:checked~label.sk-toggleable__label-arrow:before {content: \"▾\";}#sk-container-id-1 div.sk-estimator input.sk-toggleable__control:checked~label.sk-toggleable__label {background-color: #d4ebff;}#sk-container-id-1 div.sk-label input.sk-toggleable__control:checked~label.sk-toggleable__label {background-color: #d4ebff;}#sk-container-id-1 input.sk-hidden--visually {border: 0;clip: rect(1px 1px 1px 1px);clip: rect(1px, 1px, 1px, 1px);height: 1px;margin: -1px;overflow: hidden;padding: 0;position: absolute;width: 1px;}#sk-container-id-1 div.sk-estimator {font-family: monospace;background-color: #f0f8ff;border: 1px dotted black;border-radius: 0.25em;box-sizing: border-box;margin-bottom: 0.5em;}#sk-container-id-1 div.sk-estimator:hover {background-color: #d4ebff;}#sk-container-id-1 div.sk-parallel-item::after {content: \"\";width: 100%;border-bottom: 1px solid gray;flex-grow: 1;}#sk-container-id-1 div.sk-label:hover label.sk-toggleable__label {background-color: #d4ebff;}#sk-container-id-1 div.sk-serial::before {content: \"\";position: absolute;border-left: 1px solid gray;box-sizing: border-box;top: 0;bottom: 0;left: 50%;z-index: 0;}#sk-container-id-1 div.sk-serial {display: flex;flex-direction: column;align-items: center;background-color: white;padding-right: 0.2em;padding-left: 0.2em;position: relative;}#sk-container-id-1 div.sk-item {position: relative;z-index: 1;}#sk-container-id-1 div.sk-parallel {display: flex;align-items: stretch;justify-content: center;background-color: white;position: relative;}#sk-container-id-1 div.sk-item::before, #sk-container-id-1 div.sk-parallel-item::before {content: \"\";position: absolute;border-left: 1px solid gray;box-sizing: border-box;top: 0;bottom: 0;left: 50%;z-index: -1;}#sk-container-id-1 div.sk-parallel-item {display: flex;flex-direction: column;z-index: 1;position: relative;background-color: white;}#sk-container-id-1 div.sk-parallel-item:first-child::after {align-self: flex-end;width: 50%;}#sk-container-id-1 div.sk-parallel-item:last-child::after {align-self: flex-start;width: 50%;}#sk-container-id-1 div.sk-parallel-item:only-child::after {width: 0;}#sk-container-id-1 div.sk-dashed-wrapped {border: 1px dashed gray;margin: 0 0.4em 0.5em 0.4em;box-sizing: border-box;padding-bottom: 0.4em;background-color: white;}#sk-container-id-1 div.sk-label label {font-family: monospace;font-weight: bold;display: inline-block;line-height: 1.2em;}#sk-container-id-1 div.sk-label-container {text-align: center;}#sk-container-id-1 div.sk-container {/* jupyter's `normalize.less` sets `[hidden] { display: none; }` but bootstrap.min.css set `[hidden] { display: none !important; }` so we also need the `!important` here to be able to override the default hidden behavior on the sphinx rendered scikit-learn.org. See: https://github.com/scikit-learn/scikit-learn/issues/21755 */display: inline-block !important;position: relative;}#sk-container-id-1 div.sk-text-repr-fallback {display: none;}</style><div id=\"sk-container-id-1\" class=\"sk-top-container\"><div class=\"sk-text-repr-fallback\"><pre>SelectFromModel(estimator=RandomForestClassifier(n_estimators=300,\n",
       "                                                 random_state=44))</pre><b>In a Jupyter environment, please rerun this cell to show the HTML representation or trust the notebook. <br />On GitHub, the HTML representation is unable to render, please try loading this page with nbviewer.org.</b></div><div class=\"sk-container\" hidden><div class=\"sk-item sk-dashed-wrapped\"><div class=\"sk-label-container\"><div class=\"sk-label sk-toggleable\"><input class=\"sk-toggleable__control sk-hidden--visually\" id=\"sk-estimator-id-1\" type=\"checkbox\" ><label for=\"sk-estimator-id-1\" class=\"sk-toggleable__label sk-toggleable__label-arrow\">SelectFromModel</label><div class=\"sk-toggleable__content\"><pre>SelectFromModel(estimator=RandomForestClassifier(n_estimators=300,\n",
       "                                                 random_state=44))</pre></div></div></div><div class=\"sk-parallel\"><div class=\"sk-parallel-item\"><div class=\"sk-item\"><div class=\"sk-label-container\"><div class=\"sk-label sk-toggleable\"><input class=\"sk-toggleable__control sk-hidden--visually\" id=\"sk-estimator-id-2\" type=\"checkbox\" ><label for=\"sk-estimator-id-2\" class=\"sk-toggleable__label sk-toggleable__label-arrow\">estimator: RandomForestClassifier</label><div class=\"sk-toggleable__content\"><pre>RandomForestClassifier(n_estimators=300, random_state=44)</pre></div></div></div><div class=\"sk-serial\"><div class=\"sk-item\"><div class=\"sk-estimator sk-toggleable\"><input class=\"sk-toggleable__control sk-hidden--visually\" id=\"sk-estimator-id-3\" type=\"checkbox\" ><label for=\"sk-estimator-id-3\" class=\"sk-toggleable__label sk-toggleable__label-arrow\">RandomForestClassifier</label><div class=\"sk-toggleable__content\"><pre>RandomForestClassifier(n_estimators=300, random_state=44)</pre></div></div></div></div></div></div></div></div></div></div>"
      ],
      "text/plain": [
       "SelectFromModel(estimator=RandomForestClassifier(n_estimators=300,\n",
       "                                                 random_state=44))"
      ]
     },
     "execution_count": 7,
     "metadata": {},
     "output_type": "execute_result"
    }
   ],
   "source": [
    "from sklearn.feature_selection import SelectFromModel\n",
    "sel = SelectFromModel(rf_model\n",
    "                     # , threshold = \"0.98*mean\"\n",
    "                     )\n",
    "sel.fit(X_train, y_train)"
   ]
  },
  {
   "cell_type": "markdown",
   "id": "fddd2125-7920-4e5f-8770-20f9d3396d32",
   "metadata": {},
   "source": [
    "<h4> 2.2 Finding the most relevant features in making predictions"
   ]
  },
  {
   "cell_type": "markdown",
   "id": "b8051ee1-8dd5-4db4-a2e7-4134fc6a339e",
   "metadata": {},
   "source": [
    "<h5> After the model has been fitted, we use get.support to find out which features are most relevant in the predictions"
   ]
  },
  {
   "cell_type": "code",
   "execution_count": 8,
   "id": "f22bcf7d-a087-4eb1-944c-d2707629d3d2",
   "metadata": {},
   "outputs": [],
   "source": [
    "columns = sel.get_support()\n",
    "columns = columns.tolist()"
   ]
  },
  {
   "cell_type": "markdown",
   "id": "579e2530-770f-409c-a77c-8ff97214b528",
   "metadata": {},
   "source": [
    "<h5> As column importance is given in order of appearance on the scaled set, importing column names saved in data_prep for easy visualization and identification will be performed"
   ]
  },
  {
   "cell_type": "markdown",
   "id": "1d8e19d9-0fff-40d2-9fac-a6d55a545641",
   "metadata": {},
   "source": [
    "<h5> Importing predictor column names and combining with relevant columns to find out the best feature predictors"
   ]
  },
  {
   "cell_type": "code",
   "execution_count": 9,
   "id": "04693028-5f0c-43d7-89d3-82a7c45d1b76",
   "metadata": {},
   "outputs": [],
   "source": [
    "predictors  = pd.read_csv('../data/interim/predictor_names.csv')"
   ]
  },
  {
   "cell_type": "code",
   "execution_count": 10,
   "id": "33a33d15-2458-433b-b32b-51877eb92426",
   "metadata": {},
   "outputs": [],
   "source": [
    "predictors_df = predictors.copy()"
   ]
  },
  {
   "cell_type": "code",
   "execution_count": 11,
   "id": "3d64d12d-a538-4532-8f30-139a8ff1fa30",
   "metadata": {},
   "outputs": [],
   "source": [
    "predictors = predictors['names'].tolist()"
   ]
  },
  {
   "cell_type": "code",
   "execution_count": 12,
   "id": "1a99ba35-53b2-4b82-85b4-d21eff8bdd4e",
   "metadata": {},
   "outputs": [],
   "source": [
    "predictors_df['Relevant_Feature'] = columns"
   ]
  },
  {
   "cell_type": "code",
   "execution_count": 13,
   "id": "a10c9e29-6bd0-4578-8929-cdeeabbc62a2",
   "metadata": {},
   "outputs": [
    {
     "name": "stdout",
     "output_type": "stream",
     "text": [
      "         names  Relevant_Feature\n",
      "0           GP              True\n",
      "1          MIN              True\n",
      "2          PTS              True\n",
      "3          FGM              True\n",
      "4          FGA             False\n",
      "5          FG%              True\n",
      "6      3P Made             False\n",
      "7          3PA             False\n",
      "8          3P%              True\n",
      "9          FTM             False\n",
      "10         FTA             False\n",
      "11         FT%              True\n",
      "12        OREB             False\n",
      "13        DREB             False\n",
      "14         REB             False\n",
      "15         AST             False\n",
      "16         STL             False\n",
      "17         BLK             False\n",
      "18         TOV             False\n",
      "19   3P_per_GP             False\n",
      "20  Stl_per_GP              True\n",
      "21        ORtg              True\n",
      "22         PPP              True\n",
      "23         TSP              True\n",
      "24  Reb_per_GP              True\n",
      "25  Min_per_GP              True\n",
      "26  Blk_per_GP             False\n"
     ]
    }
   ],
   "source": [
    "print(predictors_df)"
   ]
  },
  {
   "cell_type": "code",
   "execution_count": 14,
   "id": "4242914f-634f-448e-97ba-34a7a35b342e",
   "metadata": {},
   "outputs": [
    {
     "name": "stdout",
     "output_type": "stream",
     "text": [
      "         names  Relevant_Feature\n",
      "0           GP              True\n",
      "1          MIN              True\n",
      "2          PTS              True\n",
      "3          FGM              True\n",
      "5          FG%              True\n",
      "8          3P%              True\n",
      "11         FT%              True\n",
      "20  Stl_per_GP              True\n",
      "21        ORtg              True\n",
      "22         PPP              True\n",
      "23         TSP              True\n",
      "24  Reb_per_GP              True\n",
      "25  Min_per_GP              True\n"
     ]
    }
   ],
   "source": [
    "print(predictors_df.loc[predictors_df['Relevant_Feature'] == 1])"
   ]
  },
  {
   "cell_type": "markdown",
   "id": "4727b6da-c474-4ab6-b926-02e7b82e0031",
   "metadata": {},
   "source": [
    "<h5> <b>CONCLUSION ON PREDICTORS: </b> Based on the rebalanced training set from data_prep, 6 features are the most relevant predictors. Therefore new data prep will be generated for usage of these columns within the model"
   ]
  },
  {
   "cell_type": "markdown",
   "id": "b5cc2ff1-4c68-4288-8650-344b789152c3",
   "metadata": {},
   "source": [
    "<h4> 2.3 New data prep to be performed and data sets saved in the ../data/interim folder"
   ]
  },
  {
   "cell_type": "markdown",
   "id": "bf23f938-d6d7-4295-b638-66ec7f963cea",
   "metadata": {},
   "source": [
    "<h5> 2.3.1 Get a list of column names to be removed from data set"
   ]
  },
  {
   "cell_type": "code",
   "execution_count": 15,
   "id": "12ff1482-f6b1-416c-9200-c3d48bdd16f0",
   "metadata": {},
   "outputs": [],
   "source": [
    "columns_to_remove_df = predictors_df.loc[predictors_df['Relevant_Feature'] == 0]"
   ]
  },
  {
   "cell_type": "code",
   "execution_count": 16,
   "id": "35d6db27-457f-4d26-b825-8467871a9f11",
   "metadata": {},
   "outputs": [],
   "source": [
    "columns_to_remove = columns_to_remove_df.pop(\"names\")"
   ]
  },
  {
   "cell_type": "code",
   "execution_count": 17,
   "id": "b0c9be50-79e6-45ad-b79d-335402ec6b69",
   "metadata": {},
   "outputs": [],
   "source": [
    "columns_to_remove_list = columns_to_remove.values.tolist()"
   ]
  },
  {
   "cell_type": "markdown",
   "id": "35af02a5-71d2-420e-8d43-335ce8a9ecee",
   "metadata": {},
   "source": [
    "<h5> 2.3.2 Read csvs and remove unwanted columns"
   ]
  },
  {
   "cell_type": "code",
   "execution_count": 18,
   "id": "9c64a730-19f4-4d95-933c-6e3966b9a32d",
   "metadata": {},
   "outputs": [],
   "source": [
    "# Remove columns with low predictor power training set"
   ]
  },
  {
   "cell_type": "code",
   "execution_count": 19,
   "id": "b4b0dbac-c25e-4f2f-b8f1-e28d3b00390d",
   "metadata": {},
   "outputs": [],
   "source": [
    "#df_cleaned.drop(columns=columns_to_remove_list, axis=1, inplace=True)"
   ]
  },
  {
   "cell_type": "code",
   "execution_count": 20,
   "id": "5cba74da-ec0c-423a-8535-5efa2171cc27",
   "metadata": {},
   "outputs": [],
   "source": [
    "#Replace negatives with 0s as there can't be negative values"
   ]
  },
  {
   "cell_type": "code",
   "execution_count": 21,
   "id": "9ada87f3-5b1a-4514-b0e4-73a40baf7bb0",
   "metadata": {},
   "outputs": [],
   "source": [
    "#Remove unwanted columns based on previous experiments"
   ]
  },
  {
   "cell_type": "markdown",
   "id": "711511e2-699b-4232-b1e7-9917a6f173b5",
   "metadata": {},
   "source": [
    "<h5> Finally, all cleaned and transfor sets will be saved in the data/interim folder using a custom function saved in the src folder"
   ]
  },
  {
   "cell_type": "code",
   "execution_count": 22,
   "id": "ad40b5f1-18fe-42cc-b5c7-2956aa3734d4",
   "metadata": {},
   "outputs": [],
   "source": [
    "#from src.data.sets import save_sets_interim"
   ]
  },
  {
   "cell_type": "code",
   "execution_count": 23,
   "id": "6a6972e4-c669-495c-8c97-c2cbb615986f",
   "metadata": {},
   "outputs": [],
   "source": [
    "#save_sets_interim(X_train, X_val, y_train, y_val, X_test, X_test_ID)"
   ]
  },
  {
   "cell_type": "markdown",
   "id": "8249683a-d4a1-41c0-a98a-2102dc55df5f",
   "metadata": {},
   "source": [
    "<h4> 3 Train XGB Classifier with new calculated training sets"
   ]
  },
  {
   "cell_type": "markdown",
   "id": "d3e3d63e-6b67-4bd7-9e05-cb26fd1f7c31",
   "metadata": {},
   "source": [
    "<h5> Next up, the XGB classifier will be imported and trained with the new training set and saved into the models folder"
   ]
  },
  {
   "cell_type": "code",
   "execution_count": 24,
   "id": "d16f5a64-be9a-4490-b849-296495959c28",
   "metadata": {},
   "outputs": [
    {
     "data": {
      "text/html": [
       "<style>#sk-container-id-2 {color: black;background-color: white;}#sk-container-id-2 pre{padding: 0;}#sk-container-id-2 div.sk-toggleable {background-color: white;}#sk-container-id-2 label.sk-toggleable__label {cursor: pointer;display: block;width: 100%;margin-bottom: 0;padding: 0.3em;box-sizing: border-box;text-align: center;}#sk-container-id-2 label.sk-toggleable__label-arrow:before {content: \"▸\";float: left;margin-right: 0.25em;color: #696969;}#sk-container-id-2 label.sk-toggleable__label-arrow:hover:before {color: black;}#sk-container-id-2 div.sk-estimator:hover label.sk-toggleable__label-arrow:before {color: black;}#sk-container-id-2 div.sk-toggleable__content {max-height: 0;max-width: 0;overflow: hidden;text-align: left;background-color: #f0f8ff;}#sk-container-id-2 div.sk-toggleable__content pre {margin: 0.2em;color: black;border-radius: 0.25em;background-color: #f0f8ff;}#sk-container-id-2 input.sk-toggleable__control:checked~div.sk-toggleable__content {max-height: 200px;max-width: 100%;overflow: auto;}#sk-container-id-2 input.sk-toggleable__control:checked~label.sk-toggleable__label-arrow:before {content: \"▾\";}#sk-container-id-2 div.sk-estimator input.sk-toggleable__control:checked~label.sk-toggleable__label {background-color: #d4ebff;}#sk-container-id-2 div.sk-label input.sk-toggleable__control:checked~label.sk-toggleable__label {background-color: #d4ebff;}#sk-container-id-2 input.sk-hidden--visually {border: 0;clip: rect(1px 1px 1px 1px);clip: rect(1px, 1px, 1px, 1px);height: 1px;margin: -1px;overflow: hidden;padding: 0;position: absolute;width: 1px;}#sk-container-id-2 div.sk-estimator {font-family: monospace;background-color: #f0f8ff;border: 1px dotted black;border-radius: 0.25em;box-sizing: border-box;margin-bottom: 0.5em;}#sk-container-id-2 div.sk-estimator:hover {background-color: #d4ebff;}#sk-container-id-2 div.sk-parallel-item::after {content: \"\";width: 100%;border-bottom: 1px solid gray;flex-grow: 1;}#sk-container-id-2 div.sk-label:hover label.sk-toggleable__label {background-color: #d4ebff;}#sk-container-id-2 div.sk-serial::before {content: \"\";position: absolute;border-left: 1px solid gray;box-sizing: border-box;top: 0;bottom: 0;left: 50%;z-index: 0;}#sk-container-id-2 div.sk-serial {display: flex;flex-direction: column;align-items: center;background-color: white;padding-right: 0.2em;padding-left: 0.2em;position: relative;}#sk-container-id-2 div.sk-item {position: relative;z-index: 1;}#sk-container-id-2 div.sk-parallel {display: flex;align-items: stretch;justify-content: center;background-color: white;position: relative;}#sk-container-id-2 div.sk-item::before, #sk-container-id-2 div.sk-parallel-item::before {content: \"\";position: absolute;border-left: 1px solid gray;box-sizing: border-box;top: 0;bottom: 0;left: 50%;z-index: -1;}#sk-container-id-2 div.sk-parallel-item {display: flex;flex-direction: column;z-index: 1;position: relative;background-color: white;}#sk-container-id-2 div.sk-parallel-item:first-child::after {align-self: flex-end;width: 50%;}#sk-container-id-2 div.sk-parallel-item:last-child::after {align-self: flex-start;width: 50%;}#sk-container-id-2 div.sk-parallel-item:only-child::after {width: 0;}#sk-container-id-2 div.sk-dashed-wrapped {border: 1px dashed gray;margin: 0 0.4em 0.5em 0.4em;box-sizing: border-box;padding-bottom: 0.4em;background-color: white;}#sk-container-id-2 div.sk-label label {font-family: monospace;font-weight: bold;display: inline-block;line-height: 1.2em;}#sk-container-id-2 div.sk-label-container {text-align: center;}#sk-container-id-2 div.sk-container {/* jupyter's `normalize.less` sets `[hidden] { display: none; }` but bootstrap.min.css set `[hidden] { display: none !important; }` so we also need the `!important` here to be able to override the default hidden behavior on the sphinx rendered scikit-learn.org. See: https://github.com/scikit-learn/scikit-learn/issues/21755 */display: inline-block !important;position: relative;}#sk-container-id-2 div.sk-text-repr-fallback {display: none;}</style><div id=\"sk-container-id-2\" class=\"sk-top-container\"><div class=\"sk-text-repr-fallback\"><pre>RandomForestClassifier(n_estimators=300, random_state=44)</pre><b>In a Jupyter environment, please rerun this cell to show the HTML representation or trust the notebook. <br />On GitHub, the HTML representation is unable to render, please try loading this page with nbviewer.org.</b></div><div class=\"sk-container\" hidden><div class=\"sk-item\"><div class=\"sk-estimator sk-toggleable\"><input class=\"sk-toggleable__control sk-hidden--visually\" id=\"sk-estimator-id-4\" type=\"checkbox\" checked><label for=\"sk-estimator-id-4\" class=\"sk-toggleable__label sk-toggleable__label-arrow\">RandomForestClassifier</label><div class=\"sk-toggleable__content\"><pre>RandomForestClassifier(n_estimators=300, random_state=44)</pre></div></div></div></div></div>"
      ],
      "text/plain": [
       "RandomForestClassifier(n_estimators=300, random_state=44)"
      ]
     },
     "execution_count": 24,
     "metadata": {},
     "output_type": "execute_result"
    }
   ],
   "source": [
    "rf_model.fit(X_train, y_train)"
   ]
  },
  {
   "cell_type": "markdown",
   "id": "2160c5dd-64fd-43a7-8ffc-45176dc62d0e",
   "metadata": {},
   "source": [
    "<h5> After the model has been fitted, it will be saved in the models folder in case it needs to be re-called on a later process"
   ]
  },
  {
   "cell_type": "code",
   "execution_count": 25,
   "id": "e9981f3d-8bf5-41c0-8e26-c00024790792",
   "metadata": {},
   "outputs": [],
   "source": [
    "from sklearn.metrics import accuracy_score"
   ]
  },
  {
   "cell_type": "code",
   "execution_count": 26,
   "id": "c6d9f5c5-60f8-4f34-928c-0fd0fb55d5b1",
   "metadata": {},
   "outputs": [],
   "source": [
    "#Save model in the models folder\n",
    "#from joblib import dump\n",
    "#dump(rf_model, '../models/RF3.joblib')"
   ]
  },
  {
   "cell_type": "markdown",
   "id": "db6d4407-9b8c-40d8-98ce-42250adf55b0",
   "metadata": {},
   "source": [
    "<h4> 3.1 Generate predictions for training and validation sets in order to compare accuracy vs Baseline"
   ]
  },
  {
   "cell_type": "markdown",
   "id": "ae4ab9df-423e-4aed-a10c-ff2788a7a055",
   "metadata": {},
   "source": [
    "<h5> The fitted model will be used to predict the validation set and accuracy willl be calculated to compare vs the baseline"
   ]
  },
  {
   "cell_type": "code",
   "execution_count": 27,
   "id": "741ccb0d-fbd0-4a6a-8113-aac33fb9e30e",
   "metadata": {},
   "outputs": [],
   "source": [
    "y_val_preds = rf_model.predict(X_val)"
   ]
  },
  {
   "cell_type": "code",
   "execution_count": 28,
   "id": "fb4dbc32-1dde-43a0-96a0-f02be0fb726f",
   "metadata": {},
   "outputs": [],
   "source": [
    "y_trainpreds = rf_model.predict(X_train)"
   ]
  },
  {
   "cell_type": "markdown",
   "id": "170de4fd-e7eb-4bf8-aa7d-d2ff41f874b0",
   "metadata": {},
   "source": [
    "<h4> 3.2 Calculate mse and mae to assess fiting accuracy for the training and validation sets"
   ]
  },
  {
   "cell_type": "code",
   "execution_count": 29,
   "id": "198e37f0-2d94-443e-a505-136b1e8d10ad",
   "metadata": {},
   "outputs": [],
   "source": [
    "#Get error/score metrics\n",
    "from sklearn.metrics import mean_squared_error as mse\n",
    "from sklearn.metrics import mean_absolute_error as mae"
   ]
  },
  {
   "cell_type": "code",
   "execution_count": 30,
   "id": "524da714-e72a-4550-9b0d-438e68e0e0e7",
   "metadata": {},
   "outputs": [
    {
     "data": {
      "text/plain": [
       "1.0"
      ]
     },
     "execution_count": 30,
     "metadata": {},
     "output_type": "execute_result"
    }
   ],
   "source": [
    "rf_model.score(X_train, y_train)"
   ]
  },
  {
   "cell_type": "code",
   "execution_count": 31,
   "id": "77248cb8-8ef9-457e-9088-197dfbe29149",
   "metadata": {},
   "outputs": [
    {
     "data": {
      "text/plain": [
       "0.815625"
      ]
     },
     "execution_count": 31,
     "metadata": {},
     "output_type": "execute_result"
    }
   ],
   "source": [
    "rf_model.score(X_val, y_val)"
   ]
  },
  {
   "cell_type": "markdown",
   "id": "71c86383-241b-47cc-a2c7-388d02c5ff55",
   "metadata": {},
   "source": [
    "<h5> The training model shows a perfect fit, however the model score drops to 0.80 on the validation set"
   ]
  },
  {
   "cell_type": "markdown",
   "id": "da6dde7e-639d-4f88-98cb-210e2eb34873",
   "metadata": {},
   "source": [
    "<h4> 3 Analysis of the validation set"
   ]
  },
  {
   "cell_type": "markdown",
   "id": "4d914344-5105-455f-8bd5-c842bec9ee41",
   "metadata": {},
   "source": [
    "<h5> Analysis of the results will be done through a confusion matrix to gather insights as to where the accuracy/innacuracy exists in order to improve the model in future experiments <br> <br> We'll look into a confusion matrix to see the distribution of the predictions from the model"
   ]
  },
  {
   "cell_type": "code",
   "execution_count": 32,
   "id": "db6126a4-a848-472f-aa79-d3888cada307",
   "metadata": {},
   "outputs": [],
   "source": [
    "from sklearn.metrics import confusion_matrix\n",
    "from sklearn.metrics import plot_confusion_matrix\n",
    "import matplotlib.pyplot as plt"
   ]
  },
  {
   "cell_type": "code",
   "execution_count": 33,
   "id": "98143b95-42ad-4a36-b89b-ab3be1efc4af",
   "metadata": {
    "tags": []
   },
   "outputs": [
    {
     "data": {
      "image/png": "[encoded data removed]",
      "text/plain": [
       "<Figure size 500x500 with 1 Axes>"
      ]
     },
     "metadata": {},
     "output_type": "display_data"
    }
   ],
   "source": [
    "cm = confusion_matrix(y_val, y_val_preds , normalize='true'\n",
    "                     )\n",
    "\n",
    "fig, ax = plt.subplots(figsize=(5, 5))\n",
    "ax.imshow(cm)\n",
    "ax.grid(False)\n",
    "ax.xaxis.set(ticks=(0, 1), ticklabels=('Predicted 0s', 'Predicted 1s'))\n",
    "ax.yaxis.set(ticks=(0, 1), ticklabels=('Actual 0s', 'Actual 1s'))\n",
    "ax.set_ylim(1.5, -0.5)\n",
    "for i in range(2):\n",
    "    for j in range(2):\n",
    "        ax.text(j, i, cm[i, j], ha='center', va='center', color='white')\n",
    "plt.show()"
   ]
  },
  {
   "cell_type": "markdown",
   "id": "e3052554-0c95-40d8-a11c-746f8158a3ce",
   "metadata": {},
   "source": [
    "<h5> As seen in the confusion matrix, 92% of true positive target was predicted correctly, however, 81% of negative target was predicted incorrectly (false positive)"
   ]
  },
  {
   "cell_type": "code",
   "execution_count": 34,
   "id": "25162f77-d3aa-458e-b2da-3cd2be78a0d9",
   "metadata": {},
   "outputs": [],
   "source": [
    "import scikitplot as skplt\n",
    "import matplotlib.pyplot as plt"
   ]
  },
  {
   "cell_type": "code",
   "execution_count": 35,
   "id": "7b2248fa-90c6-4bf5-aee9-2af25a601a01",
   "metadata": {},
   "outputs": [],
   "source": [
    "y_val_prob = rf_model.predict_proba(X_val)"
   ]
  },
  {
   "cell_type": "code",
   "execution_count": 36,
   "id": "9afa6131-5a87-474d-b7ef-364197de664d",
   "metadata": {},
   "outputs": [
    {
     "data": {
      "image/png": "[encoded data removed]",
      "text/plain": [
       "<Figure size 640x480 with 1 Axes>"
      ]
     },
     "metadata": {},
     "output_type": "display_data"
    }
   ],
   "source": [
    "skplt.metrics.plot_roc(y_val, y_val_prob)\n",
    "plt.show()"
   ]
  },
  {
   "cell_type": "markdown",
   "id": "8e01ed36-85e1-453f-aaca-9fffb7448054",
   "metadata": {},
   "source": [
    "<h5> When analysing the results on the validation set, the AUROC is 0.68, meaning the model is predicting only 69% of the instances correctly"
   ]
  },
  {
   "cell_type": "code",
   "execution_count": 37,
   "id": "c66e89b5-01e4-4cdd-b361-d2dfe6d6f114",
   "metadata": {},
   "outputs": [],
   "source": [
    "#Analyse lines that are not predicted correctly"
   ]
  },
  {
   "cell_type": "code",
   "execution_count": 38,
   "id": "137ad5ef-2884-4bce-bf70-26cdf1a099ad",
   "metadata": {},
   "outputs": [],
   "source": [
    "#Filter Predicted 1 actual 0"
   ]
  },
  {
   "cell_type": "code",
   "execution_count": 39,
   "id": "84871292-e375-47f4-890f-9797ee88fc23",
   "metadata": {},
   "outputs": [],
   "source": [
    "X_val_df = pd. DataFrame(X_val, columns = predictors)"
   ]
  },
  {
   "cell_type": "code",
   "execution_count": 40,
   "id": "dd0421e9-009b-4146-932f-f277484311fd",
   "metadata": {},
   "outputs": [],
   "source": [
    "y_val_list = y_val.tolist()\n",
    "X_val_df['y_val']=y_val_list"
   ]
  },
  {
   "cell_type": "code",
   "execution_count": 41,
   "id": "a9bd8c4e-a766-41a8-9f72-d08cf54c5628",
   "metadata": {},
   "outputs": [],
   "source": [
    "X_val_df['y_val_preds']=y_val_preds"
   ]
  },
  {
   "cell_type": "code",
   "execution_count": 42,
   "id": "95a3fa63-a330-40c7-a5dc-5f055f99e4bf",
   "metadata": {},
   "outputs": [],
   "source": [
    "#Filter observations for Actual=0 but prediction = 1"
   ]
  },
  {
   "cell_type": "code",
   "execution_count": 43,
   "id": "cb6cae0a-8cd4-4e48-8759-ed7e27251d3c",
   "metadata": {},
   "outputs": [
    {
     "data": {
      "text/html": [
       "<div>\n",
       "<style scoped>\n",
       "    .dataframe tbody tr th:only-of-type {\n",
       "        vertical-align: middle;\n",
       "    }\n",
       "\n",
       "    .dataframe tbody tr th {\n",
       "        vertical-align: top;\n",
       "    }\n",
       "\n",
       "    .dataframe thead th {\n",
       "        text-align: right;\n",
       "    }\n",
       "</style>\n",
       "<table border=\"1\" class=\"dataframe\">\n",
       "  <thead>\n",
       "    <tr style=\"text-align: right;\">\n",
       "      <th></th>\n",
       "      <th>GP</th>\n",
       "      <th>MIN</th>\n",
       "      <th>PTS</th>\n",
       "      <th>FGM</th>\n",
       "      <th>FGA</th>\n",
       "      <th>FG%</th>\n",
       "      <th>3P Made</th>\n",
       "      <th>3PA</th>\n",
       "      <th>3P%</th>\n",
       "      <th>FTM</th>\n",
       "      <th>...</th>\n",
       "      <th>3P_per_GP</th>\n",
       "      <th>Stl_per_GP</th>\n",
       "      <th>ORtg</th>\n",
       "      <th>PPP</th>\n",
       "      <th>TSP</th>\n",
       "      <th>Reb_per_GP</th>\n",
       "      <th>Min_per_GP</th>\n",
       "      <th>Blk_per_GP</th>\n",
       "      <th>y_val</th>\n",
       "      <th>y_val_preds</th>\n",
       "    </tr>\n",
       "  </thead>\n",
       "  <tbody>\n",
       "    <tr>\n",
       "      <th>count</th>\n",
       "      <td>48.000000</td>\n",
       "      <td>48.000000</td>\n",
       "      <td>48.000000</td>\n",
       "      <td>48.000000</td>\n",
       "      <td>48.000000</td>\n",
       "      <td>48.00000</td>\n",
       "      <td>48.000000</td>\n",
       "      <td>48.000000</td>\n",
       "      <td>48.000000</td>\n",
       "      <td>48.000000</td>\n",
       "      <td>...</td>\n",
       "      <td>48.000000</td>\n",
       "      <td>48.000000</td>\n",
       "      <td>48.000000</td>\n",
       "      <td>48.000000</td>\n",
       "      <td>48.000000</td>\n",
       "      <td>48.000000</td>\n",
       "      <td>48.000000</td>\n",
       "      <td>48.000000</td>\n",
       "      <td>48.0</td>\n",
       "      <td>48.0</td>\n",
       "    </tr>\n",
       "    <tr>\n",
       "      <th>mean</th>\n",
       "      <td>33.812500</td>\n",
       "      <td>9.493750</td>\n",
       "      <td>2.845833</td>\n",
       "      <td>1.089583</td>\n",
       "      <td>2.997917</td>\n",
       "      <td>37.02500</td>\n",
       "      <td>0.256250</td>\n",
       "      <td>0.781250</td>\n",
       "      <td>22.356250</td>\n",
       "      <td>0.506250</td>\n",
       "      <td>...</td>\n",
       "      <td>0.008223</td>\n",
       "      <td>0.012709</td>\n",
       "      <td>70.658398</td>\n",
       "      <td>0.706584</td>\n",
       "      <td>0.427254</td>\n",
       "      <td>0.038522</td>\n",
       "      <td>0.312328</td>\n",
       "      <td>0.002900</td>\n",
       "      <td>0.0</td>\n",
       "      <td>0.0</td>\n",
       "    </tr>\n",
       "    <tr>\n",
       "      <th>std</th>\n",
       "      <td>11.447672</td>\n",
       "      <td>4.575485</td>\n",
       "      <td>1.666307</td>\n",
       "      <td>0.624411</td>\n",
       "      <td>1.709733</td>\n",
       "      <td>4.14916</td>\n",
       "      <td>0.315491</td>\n",
       "      <td>0.865818</td>\n",
       "      <td>18.193673</td>\n",
       "      <td>0.378916</td>\n",
       "      <td>...</td>\n",
       "      <td>0.010562</td>\n",
       "      <td>0.008710</td>\n",
       "      <td>8.425594</td>\n",
       "      <td>0.084256</td>\n",
       "      <td>0.037523</td>\n",
       "      <td>0.025015</td>\n",
       "      <td>0.176699</td>\n",
       "      <td>0.004574</td>\n",
       "      <td>0.0</td>\n",
       "      <td>0.0</td>\n",
       "    </tr>\n",
       "    <tr>\n",
       "      <th>min</th>\n",
       "      <td>4.000000</td>\n",
       "      <td>2.900000</td>\n",
       "      <td>0.800000</td>\n",
       "      <td>0.300000</td>\n",
       "      <td>0.800000</td>\n",
       "      <td>27.50000</td>\n",
       "      <td>0.000000</td>\n",
       "      <td>0.000000</td>\n",
       "      <td>0.000000</td>\n",
       "      <td>0.000000</td>\n",
       "      <td>...</td>\n",
       "      <td>0.000000</td>\n",
       "      <td>0.002564</td>\n",
       "      <td>44.426494</td>\n",
       "      <td>0.444265</td>\n",
       "      <td>0.333333</td>\n",
       "      <td>0.006383</td>\n",
       "      <td>0.082979</td>\n",
       "      <td>0.000000</td>\n",
       "      <td>0.0</td>\n",
       "      <td>0.0</td>\n",
       "    </tr>\n",
       "    <tr>\n",
       "      <th>25%</th>\n",
       "      <td>28.750000</td>\n",
       "      <td>6.100000</td>\n",
       "      <td>1.500000</td>\n",
       "      <td>0.575000</td>\n",
       "      <td>1.500000</td>\n",
       "      <td>33.60000</td>\n",
       "      <td>0.000000</td>\n",
       "      <td>0.000000</td>\n",
       "      <td>9.550000</td>\n",
       "      <td>0.200000</td>\n",
       "      <td>...</td>\n",
       "      <td>0.000000</td>\n",
       "      <td>0.006531</td>\n",
       "      <td>65.552834</td>\n",
       "      <td>0.655528</td>\n",
       "      <td>0.406624</td>\n",
       "      <td>0.020378</td>\n",
       "      <td>0.218262</td>\n",
       "      <td>0.000000</td>\n",
       "      <td>0.0</td>\n",
       "      <td>0.0</td>\n",
       "    </tr>\n",
       "    <tr>\n",
       "      <th>50%</th>\n",
       "      <td>35.500000</td>\n",
       "      <td>8.700000</td>\n",
       "      <td>2.600000</td>\n",
       "      <td>1.000000</td>\n",
       "      <td>2.750000</td>\n",
       "      <td>37.85000</td>\n",
       "      <td>0.100000</td>\n",
       "      <td>0.500000</td>\n",
       "      <td>17.150000</td>\n",
       "      <td>0.500000</td>\n",
       "      <td>...</td>\n",
       "      <td>0.003137</td>\n",
       "      <td>0.010614</td>\n",
       "      <td>70.663338</td>\n",
       "      <td>0.706633</td>\n",
       "      <td>0.427102</td>\n",
       "      <td>0.030851</td>\n",
       "      <td>0.259838</td>\n",
       "      <td>0.000000</td>\n",
       "      <td>0.0</td>\n",
       "      <td>0.0</td>\n",
       "    </tr>\n",
       "    <tr>\n",
       "      <th>75%</th>\n",
       "      <td>41.000000</td>\n",
       "      <td>12.300000</td>\n",
       "      <td>3.700000</td>\n",
       "      <td>1.325000</td>\n",
       "      <td>3.925000</td>\n",
       "      <td>40.10000</td>\n",
       "      <td>0.500000</td>\n",
       "      <td>1.350000</td>\n",
       "      <td>34.225000</td>\n",
       "      <td>0.625000</td>\n",
       "      <td>...</td>\n",
       "      <td>0.013607</td>\n",
       "      <td>0.016128</td>\n",
       "      <td>75.716408</td>\n",
       "      <td>0.757164</td>\n",
       "      <td>0.450450</td>\n",
       "      <td>0.054511</td>\n",
       "      <td>0.376896</td>\n",
       "      <td>0.004941</td>\n",
       "      <td>0.0</td>\n",
       "      <td>0.0</td>\n",
       "    </tr>\n",
       "    <tr>\n",
       "      <th>max</th>\n",
       "      <td>61.000000</td>\n",
       "      <td>24.000000</td>\n",
       "      <td>7.400000</td>\n",
       "      <td>2.700000</td>\n",
       "      <td>7.500000</td>\n",
       "      <td>44.30000</td>\n",
       "      <td>1.100000</td>\n",
       "      <td>3.000000</td>\n",
       "      <td>65.500000</td>\n",
       "      <td>1.900000</td>\n",
       "      <td>...</td>\n",
       "      <td>0.038462</td>\n",
       "      <td>0.043750</td>\n",
       "      <td>89.113680</td>\n",
       "      <td>0.891137</td>\n",
       "      <td>0.515777</td>\n",
       "      <td>0.100000</td>\n",
       "      <td>0.950000</td>\n",
       "      <td>0.025000</td>\n",
       "      <td>0.0</td>\n",
       "      <td>0.0</td>\n",
       "    </tr>\n",
       "  </tbody>\n",
       "</table>\n",
       "<p>8 rows × 29 columns</p>\n",
       "</div>"
      ],
      "text/plain": [
       "              GP        MIN        PTS        FGM        FGA       FG%  \\\n",
       "count  48.000000  48.000000  48.000000  48.000000  48.000000  48.00000   \n",
       "mean   33.812500   9.493750   2.845833   1.089583   2.997917  37.02500   \n",
       "std    11.447672   4.575485   1.666307   0.624411   1.709733   4.14916   \n",
       "min     4.000000   2.900000   0.800000   0.300000   0.800000  27.50000   \n",
       "25%    28.750000   6.100000   1.500000   0.575000   1.500000  33.60000   \n",
       "50%    35.500000   8.700000   2.600000   1.000000   2.750000  37.85000   \n",
       "75%    41.000000  12.300000   3.700000   1.325000   3.925000  40.10000   \n",
       "max    61.000000  24.000000   7.400000   2.700000   7.500000  44.30000   \n",
       "\n",
       "         3P Made        3PA        3P%        FTM  ...  3P_per_GP  Stl_per_GP  \\\n",
       "count  48.000000  48.000000  48.000000  48.000000  ...  48.000000   48.000000   \n",
       "mean    0.256250   0.781250  22.356250   0.506250  ...   0.008223    0.012709   \n",
       "std     0.315491   0.865818  18.193673   0.378916  ...   0.010562    0.008710   \n",
       "min     0.000000   0.000000   0.000000   0.000000  ...   0.000000    0.002564   \n",
       "25%     0.000000   0.000000   9.550000   0.200000  ...   0.000000    0.006531   \n",
       "50%     0.100000   0.500000  17.150000   0.500000  ...   0.003137    0.010614   \n",
       "75%     0.500000   1.350000  34.225000   0.625000  ...   0.013607    0.016128   \n",
       "max     1.100000   3.000000  65.500000   1.900000  ...   0.038462    0.043750   \n",
       "\n",
       "            ORtg        PPP        TSP  Reb_per_GP  Min_per_GP  Blk_per_GP  \\\n",
       "count  48.000000  48.000000  48.000000   48.000000   48.000000   48.000000   \n",
       "mean   70.658398   0.706584   0.427254    0.038522    0.312328    0.002900   \n",
       "std     8.425594   0.084256   0.037523    0.025015    0.176699    0.004574   \n",
       "min    44.426494   0.444265   0.333333    0.006383    0.082979    0.000000   \n",
       "25%    65.552834   0.655528   0.406624    0.020378    0.218262    0.000000   \n",
       "50%    70.663338   0.706633   0.427102    0.030851    0.259838    0.000000   \n",
       "75%    75.716408   0.757164   0.450450    0.054511    0.376896    0.004941   \n",
       "max    89.113680   0.891137   0.515777    0.100000    0.950000    0.025000   \n",
       "\n",
       "       y_val  y_val_preds  \n",
       "count   48.0         48.0  \n",
       "mean     0.0          0.0  \n",
       "std      0.0          0.0  \n",
       "min      0.0          0.0  \n",
       "25%      0.0          0.0  \n",
       "50%      0.0          0.0  \n",
       "75%      0.0          0.0  \n",
       "max      0.0          0.0  \n",
       "\n",
       "[8 rows x 29 columns]"
      ]
     },
     "execution_count": 43,
     "metadata": {},
     "output_type": "execute_result"
    }
   ],
   "source": [
    "#True Negatives\n",
    "X_val_true_neg = X_val_df[(X_val_df['y_val']==0)&(X_val_df['y_val_preds']==0)]\n",
    "X_val_true_neg.describe()"
   ]
  },
  {
   "cell_type": "code",
   "execution_count": 44,
   "id": "664d16e9-2da6-4735-8bf0-19f16274adb6",
   "metadata": {},
   "outputs": [
    {
     "data": {
      "text/html": [
       "<div>\n",
       "<style scoped>\n",
       "    .dataframe tbody tr th:only-of-type {\n",
       "        vertical-align: middle;\n",
       "    }\n",
       "\n",
       "    .dataframe tbody tr th {\n",
       "        vertical-align: top;\n",
       "    }\n",
       "\n",
       "    .dataframe thead th {\n",
       "        text-align: right;\n",
       "    }\n",
       "</style>\n",
       "<table border=\"1\" class=\"dataframe\">\n",
       "  <thead>\n",
       "    <tr style=\"text-align: right;\">\n",
       "      <th></th>\n",
       "      <th>GP</th>\n",
       "      <th>MIN</th>\n",
       "      <th>PTS</th>\n",
       "      <th>FGM</th>\n",
       "      <th>FGA</th>\n",
       "      <th>FG%</th>\n",
       "      <th>3P Made</th>\n",
       "      <th>3PA</th>\n",
       "      <th>3P%</th>\n",
       "      <th>FTM</th>\n",
       "      <th>...</th>\n",
       "      <th>3P_per_GP</th>\n",
       "      <th>Stl_per_GP</th>\n",
       "      <th>ORtg</th>\n",
       "      <th>PPP</th>\n",
       "      <th>TSP</th>\n",
       "      <th>Reb_per_GP</th>\n",
       "      <th>Min_per_GP</th>\n",
       "      <th>Blk_per_GP</th>\n",
       "      <th>y_val</th>\n",
       "      <th>y_val_preds</th>\n",
       "    </tr>\n",
       "  </thead>\n",
       "  <tbody>\n",
       "    <tr>\n",
       "      <th>count</th>\n",
       "      <td>218.000000</td>\n",
       "      <td>218.000000</td>\n",
       "      <td>218.000000</td>\n",
       "      <td>218.000000</td>\n",
       "      <td>218.000000</td>\n",
       "      <td>218.000000</td>\n",
       "      <td>218.000000</td>\n",
       "      <td>218.000000</td>\n",
       "      <td>218.000000</td>\n",
       "      <td>218.000000</td>\n",
       "      <td>...</td>\n",
       "      <td>218.000000</td>\n",
       "      <td>218.000000</td>\n",
       "      <td>218.000000</td>\n",
       "      <td>218.000000</td>\n",
       "      <td>218.000000</td>\n",
       "      <td>218.000000</td>\n",
       "      <td>218.000000</td>\n",
       "      <td>218.000000</td>\n",
       "      <td>218.0</td>\n",
       "      <td>218.0</td>\n",
       "    </tr>\n",
       "    <tr>\n",
       "      <th>mean</th>\n",
       "      <td>57.091743</td>\n",
       "      <td>15.449541</td>\n",
       "      <td>5.825688</td>\n",
       "      <td>2.242202</td>\n",
       "      <td>5.198165</td>\n",
       "      <td>43.191743</td>\n",
       "      <td>0.318807</td>\n",
       "      <td>0.956422</td>\n",
       "      <td>22.327523</td>\n",
       "      <td>1.077064</td>\n",
       "      <td>...</td>\n",
       "      <td>0.005594</td>\n",
       "      <td>0.009596</td>\n",
       "      <td>83.835000</td>\n",
       "      <td>0.838350</td>\n",
       "      <td>0.496996</td>\n",
       "      <td>0.046610</td>\n",
       "      <td>0.273520</td>\n",
       "      <td>0.004575</td>\n",
       "      <td>0.0</td>\n",
       "      <td>1.0</td>\n",
       "    </tr>\n",
       "    <tr>\n",
       "      <th>std</th>\n",
       "      <td>13.986195</td>\n",
       "      <td>6.494076</td>\n",
       "      <td>2.929617</td>\n",
       "      <td>1.151540</td>\n",
       "      <td>2.591549</td>\n",
       "      <td>5.665200</td>\n",
       "      <td>0.274684</td>\n",
       "      <td>0.800910</td>\n",
       "      <td>15.225254</td>\n",
       "      <td>0.674094</td>\n",
       "      <td>...</td>\n",
       "      <td>0.004892</td>\n",
       "      <td>0.005490</td>\n",
       "      <td>10.728494</td>\n",
       "      <td>0.107285</td>\n",
       "      <td>0.054072</td>\n",
       "      <td>0.030298</td>\n",
       "      <td>0.100591</td>\n",
       "      <td>0.009044</td>\n",
       "      <td>0.0</td>\n",
       "      <td>0.0</td>\n",
       "    </tr>\n",
       "    <tr>\n",
       "      <th>min</th>\n",
       "      <td>11.000000</td>\n",
       "      <td>4.600000</td>\n",
       "      <td>1.200000</td>\n",
       "      <td>0.400000</td>\n",
       "      <td>1.100000</td>\n",
       "      <td>31.100000</td>\n",
       "      <td>0.000000</td>\n",
       "      <td>0.000000</td>\n",
       "      <td>0.000000</td>\n",
       "      <td>0.100000</td>\n",
       "      <td>...</td>\n",
       "      <td>0.000000</td>\n",
       "      <td>0.000000</td>\n",
       "      <td>59.491617</td>\n",
       "      <td>0.594916</td>\n",
       "      <td>0.372671</td>\n",
       "      <td>0.006154</td>\n",
       "      <td>0.096053</td>\n",
       "      <td>0.000000</td>\n",
       "      <td>0.0</td>\n",
       "      <td>1.0</td>\n",
       "    </tr>\n",
       "    <tr>\n",
       "      <th>25%</th>\n",
       "      <td>48.000000</td>\n",
       "      <td>10.850000</td>\n",
       "      <td>3.800000</td>\n",
       "      <td>1.400000</td>\n",
       "      <td>3.300000</td>\n",
       "      <td>39.625000</td>\n",
       "      <td>0.100000</td>\n",
       "      <td>0.200000</td>\n",
       "      <td>10.450000</td>\n",
       "      <td>0.600000</td>\n",
       "      <td>...</td>\n",
       "      <td>0.001277</td>\n",
       "      <td>0.005195</td>\n",
       "      <td>76.776559</td>\n",
       "      <td>0.767766</td>\n",
       "      <td>0.460260</td>\n",
       "      <td>0.024034</td>\n",
       "      <td>0.202078</td>\n",
       "      <td>0.000000</td>\n",
       "      <td>0.0</td>\n",
       "      <td>1.0</td>\n",
       "    </tr>\n",
       "    <tr>\n",
       "      <th>50%</th>\n",
       "      <td>56.000000</td>\n",
       "      <td>14.250000</td>\n",
       "      <td>5.400000</td>\n",
       "      <td>2.000000</td>\n",
       "      <td>4.700000</td>\n",
       "      <td>43.050000</td>\n",
       "      <td>0.300000</td>\n",
       "      <td>0.900000</td>\n",
       "      <td>21.700000</td>\n",
       "      <td>0.900000</td>\n",
       "      <td>...</td>\n",
       "      <td>0.005357</td>\n",
       "      <td>0.009339</td>\n",
       "      <td>82.916067</td>\n",
       "      <td>0.829161</td>\n",
       "      <td>0.493014</td>\n",
       "      <td>0.038434</td>\n",
       "      <td>0.255409</td>\n",
       "      <td>0.003175</td>\n",
       "      <td>0.0</td>\n",
       "      <td>1.0</td>\n",
       "    </tr>\n",
       "    <tr>\n",
       "      <th>75%</th>\n",
       "      <td>66.000000</td>\n",
       "      <td>19.000000</td>\n",
       "      <td>7.575000</td>\n",
       "      <td>2.800000</td>\n",
       "      <td>6.500000</td>\n",
       "      <td>46.700000</td>\n",
       "      <td>0.500000</td>\n",
       "      <td>1.400000</td>\n",
       "      <td>31.475000</td>\n",
       "      <td>1.375000</td>\n",
       "      <td>...</td>\n",
       "      <td>0.008608</td>\n",
       "      <td>0.012500</td>\n",
       "      <td>90.869965</td>\n",
       "      <td>0.908700</td>\n",
       "      <td>0.531021</td>\n",
       "      <td>0.062416</td>\n",
       "      <td>0.330471</td>\n",
       "      <td>0.005920</td>\n",
       "      <td>0.0</td>\n",
       "      <td>1.0</td>\n",
       "    </tr>\n",
       "    <tr>\n",
       "      <th>max</th>\n",
       "      <td>93.000000</td>\n",
       "      <td>38.100000</td>\n",
       "      <td>15.800000</td>\n",
       "      <td>6.200000</td>\n",
       "      <td>14.800000</td>\n",
       "      <td>58.100000</td>\n",
       "      <td>1.400000</td>\n",
       "      <td>3.900000</td>\n",
       "      <td>73.700000</td>\n",
       "      <td>4.200000</td>\n",
       "      <td>...</td>\n",
       "      <td>0.026415</td>\n",
       "      <td>0.032609</td>\n",
       "      <td>128.406709</td>\n",
       "      <td>1.284067</td>\n",
       "      <td>0.717213</td>\n",
       "      <td>0.186842</td>\n",
       "      <td>0.656897</td>\n",
       "      <td>0.118182</td>\n",
       "      <td>0.0</td>\n",
       "      <td>1.0</td>\n",
       "    </tr>\n",
       "  </tbody>\n",
       "</table>\n",
       "<p>8 rows × 29 columns</p>\n",
       "</div>"
      ],
      "text/plain": [
       "               GP         MIN         PTS         FGM         FGA         FG%  \\\n",
       "count  218.000000  218.000000  218.000000  218.000000  218.000000  218.000000   \n",
       "mean    57.091743   15.449541    5.825688    2.242202    5.198165   43.191743   \n",
       "std     13.986195    6.494076    2.929617    1.151540    2.591549    5.665200   \n",
       "min     11.000000    4.600000    1.200000    0.400000    1.100000   31.100000   \n",
       "25%     48.000000   10.850000    3.800000    1.400000    3.300000   39.625000   \n",
       "50%     56.000000   14.250000    5.400000    2.000000    4.700000   43.050000   \n",
       "75%     66.000000   19.000000    7.575000    2.800000    6.500000   46.700000   \n",
       "max     93.000000   38.100000   15.800000    6.200000   14.800000   58.100000   \n",
       "\n",
       "          3P Made         3PA         3P%         FTM  ...   3P_per_GP  \\\n",
       "count  218.000000  218.000000  218.000000  218.000000  ...  218.000000   \n",
       "mean     0.318807    0.956422   22.327523    1.077064  ...    0.005594   \n",
       "std      0.274684    0.800910   15.225254    0.674094  ...    0.004892   \n",
       "min      0.000000    0.000000    0.000000    0.100000  ...    0.000000   \n",
       "25%      0.100000    0.200000   10.450000    0.600000  ...    0.001277   \n",
       "50%      0.300000    0.900000   21.700000    0.900000  ...    0.005357   \n",
       "75%      0.500000    1.400000   31.475000    1.375000  ...    0.008608   \n",
       "max      1.400000    3.900000   73.700000    4.200000  ...    0.026415   \n",
       "\n",
       "       Stl_per_GP        ORtg         PPP         TSP  Reb_per_GP  Min_per_GP  \\\n",
       "count  218.000000  218.000000  218.000000  218.000000  218.000000  218.000000   \n",
       "mean     0.009596   83.835000    0.838350    0.496996    0.046610    0.273520   \n",
       "std      0.005490   10.728494    0.107285    0.054072    0.030298    0.100591   \n",
       "min      0.000000   59.491617    0.594916    0.372671    0.006154    0.096053   \n",
       "25%      0.005195   76.776559    0.767766    0.460260    0.024034    0.202078   \n",
       "50%      0.009339   82.916067    0.829161    0.493014    0.038434    0.255409   \n",
       "75%      0.012500   90.869965    0.908700    0.531021    0.062416    0.330471   \n",
       "max      0.032609  128.406709    1.284067    0.717213    0.186842    0.656897   \n",
       "\n",
       "       Blk_per_GP  y_val  y_val_preds  \n",
       "count  218.000000  218.0        218.0  \n",
       "mean     0.004575    0.0          1.0  \n",
       "std      0.009044    0.0          0.0  \n",
       "min      0.000000    0.0          1.0  \n",
       "25%      0.000000    0.0          1.0  \n",
       "50%      0.003175    0.0          1.0  \n",
       "75%      0.005920    0.0          1.0  \n",
       "max      0.118182    0.0          1.0  \n",
       "\n",
       "[8 rows x 29 columns]"
      ]
     },
     "execution_count": 44,
     "metadata": {},
     "output_type": "execute_result"
    }
   ],
   "source": [
    "#False Positive\n",
    "X_val_false_pos = X_val_df[(X_val_df['y_val']==0)&(X_val_df['y_val_preds']==1)]\n",
    "X_val_false_pos.describe()"
   ]
  },
  {
   "cell_type": "code",
   "execution_count": 45,
   "id": "71de1250-de4d-46ef-875f-0bbe6d3d088e",
   "metadata": {},
   "outputs": [
    {
     "data": {
      "text/html": [
       "<div>\n",
       "<style scoped>\n",
       "    .dataframe tbody tr th:only-of-type {\n",
       "        vertical-align: middle;\n",
       "    }\n",
       "\n",
       "    .dataframe tbody tr th {\n",
       "        vertical-align: top;\n",
       "    }\n",
       "\n",
       "    .dataframe thead th {\n",
       "        text-align: right;\n",
       "    }\n",
       "</style>\n",
       "<table border=\"1\" class=\"dataframe\">\n",
       "  <thead>\n",
       "    <tr style=\"text-align: right;\">\n",
       "      <th></th>\n",
       "      <th>GP</th>\n",
       "      <th>MIN</th>\n",
       "      <th>PTS</th>\n",
       "      <th>FGM</th>\n",
       "      <th>FGA</th>\n",
       "      <th>FG%</th>\n",
       "      <th>3P Made</th>\n",
       "      <th>3PA</th>\n",
       "      <th>3P%</th>\n",
       "      <th>FTM</th>\n",
       "      <th>...</th>\n",
       "      <th>3P_per_GP</th>\n",
       "      <th>Stl_per_GP</th>\n",
       "      <th>ORtg</th>\n",
       "      <th>PPP</th>\n",
       "      <th>TSP</th>\n",
       "      <th>Reb_per_GP</th>\n",
       "      <th>Min_per_GP</th>\n",
       "      <th>Blk_per_GP</th>\n",
       "      <th>y_val</th>\n",
       "      <th>y_val_preds</th>\n",
       "    </tr>\n",
       "  </thead>\n",
       "  <tbody>\n",
       "    <tr>\n",
       "      <th>count</th>\n",
       "      <td>1257.000000</td>\n",
       "      <td>1257.000000</td>\n",
       "      <td>1257.000000</td>\n",
       "      <td>1257.000000</td>\n",
       "      <td>1257.000000</td>\n",
       "      <td>1257.000000</td>\n",
       "      <td>1257.000000</td>\n",
       "      <td>1257.000000</td>\n",
       "      <td>1257.000000</td>\n",
       "      <td>1257.000000</td>\n",
       "      <td>...</td>\n",
       "      <td>1257.000000</td>\n",
       "      <td>1257.000000</td>\n",
       "      <td>1257.000000</td>\n",
       "      <td>1257.000000</td>\n",
       "      <td>1257.000000</td>\n",
       "      <td>1257.000000</td>\n",
       "      <td>1257.000000</td>\n",
       "      <td>1257.000000</td>\n",
       "      <td>1257.0</td>\n",
       "      <td>1257.0</td>\n",
       "    </tr>\n",
       "    <tr>\n",
       "      <th>mean</th>\n",
       "      <td>65.918059</td>\n",
       "      <td>19.596818</td>\n",
       "      <td>7.748449</td>\n",
       "      <td>2.992522</td>\n",
       "      <td>6.576531</td>\n",
       "      <td>45.424105</td>\n",
       "      <td>0.326730</td>\n",
       "      <td>0.966348</td>\n",
       "      <td>20.375259</td>\n",
       "      <td>1.502944</td>\n",
       "      <td>...</td>\n",
       "      <td>0.005120</td>\n",
       "      <td>0.010468</td>\n",
       "      <td>87.066069</td>\n",
       "      <td>0.870661</td>\n",
       "      <td>0.514516</td>\n",
       "      <td>0.052711</td>\n",
       "      <td>0.297727</td>\n",
       "      <td>0.005257</td>\n",
       "      <td>1.0</td>\n",
       "      <td>1.0</td>\n",
       "    </tr>\n",
       "    <tr>\n",
       "      <th>std</th>\n",
       "      <td>15.700231</td>\n",
       "      <td>8.881867</td>\n",
       "      <td>4.301551</td>\n",
       "      <td>1.695082</td>\n",
       "      <td>3.617575</td>\n",
       "      <td>5.973530</td>\n",
       "      <td>0.307188</td>\n",
       "      <td>0.879629</td>\n",
       "      <td>14.459980</td>\n",
       "      <td>0.910457</td>\n",
       "      <td>...</td>\n",
       "      <td>0.005056</td>\n",
       "      <td>0.005945</td>\n",
       "      <td>10.019281</td>\n",
       "      <td>0.100193</td>\n",
       "      <td>0.052223</td>\n",
       "      <td>0.028589</td>\n",
       "      <td>0.111993</td>\n",
       "      <td>0.009673</td>\n",
       "      <td>0.0</td>\n",
       "      <td>0.0</td>\n",
       "    </tr>\n",
       "    <tr>\n",
       "      <th>min</th>\n",
       "      <td>18.000000</td>\n",
       "      <td>4.000000</td>\n",
       "      <td>1.000000</td>\n",
       "      <td>0.400000</td>\n",
       "      <td>1.100000</td>\n",
       "      <td>27.500000</td>\n",
       "      <td>0.000000</td>\n",
       "      <td>0.000000</td>\n",
       "      <td>0.000000</td>\n",
       "      <td>0.000000</td>\n",
       "      <td>...</td>\n",
       "      <td>0.000000</td>\n",
       "      <td>0.000000</td>\n",
       "      <td>58.459422</td>\n",
       "      <td>0.584594</td>\n",
       "      <td>0.355450</td>\n",
       "      <td>0.007143</td>\n",
       "      <td>0.085106</td>\n",
       "      <td>0.000000</td>\n",
       "      <td>1.0</td>\n",
       "      <td>1.0</td>\n",
       "    </tr>\n",
       "    <tr>\n",
       "      <th>25%</th>\n",
       "      <td>55.000000</td>\n",
       "      <td>13.100000</td>\n",
       "      <td>4.500000</td>\n",
       "      <td>1.800000</td>\n",
       "      <td>3.900000</td>\n",
       "      <td>41.400000</td>\n",
       "      <td>0.000000</td>\n",
       "      <td>0.100000</td>\n",
       "      <td>8.500000</td>\n",
       "      <td>0.800000</td>\n",
       "      <td>...</td>\n",
       "      <td>0.000000</td>\n",
       "      <td>0.006329</td>\n",
       "      <td>80.268535</td>\n",
       "      <td>0.802685</td>\n",
       "      <td>0.479904</td>\n",
       "      <td>0.031034</td>\n",
       "      <td>0.213559</td>\n",
       "      <td>0.001667</td>\n",
       "      <td>1.0</td>\n",
       "      <td>1.0</td>\n",
       "    </tr>\n",
       "    <tr>\n",
       "      <th>50%</th>\n",
       "      <td>65.000000</td>\n",
       "      <td>17.600000</td>\n",
       "      <td>6.900000</td>\n",
       "      <td>2.600000</td>\n",
       "      <td>5.700000</td>\n",
       "      <td>45.300000</td>\n",
       "      <td>0.300000</td>\n",
       "      <td>0.900000</td>\n",
       "      <td>19.000000</td>\n",
       "      <td>1.300000</td>\n",
       "      <td>...</td>\n",
       "      <td>0.004301</td>\n",
       "      <td>0.009231</td>\n",
       "      <td>86.830680</td>\n",
       "      <td>0.868307</td>\n",
       "      <td>0.513060</td>\n",
       "      <td>0.047826</td>\n",
       "      <td>0.281967</td>\n",
       "      <td>0.003636</td>\n",
       "      <td>1.0</td>\n",
       "      <td>1.0</td>\n",
       "    </tr>\n",
       "    <tr>\n",
       "      <th>75%</th>\n",
       "      <td>76.000000</td>\n",
       "      <td>24.600000</td>\n",
       "      <td>10.000000</td>\n",
       "      <td>3.800000</td>\n",
       "      <td>8.400000</td>\n",
       "      <td>49.400000</td>\n",
       "      <td>0.500000</td>\n",
       "      <td>1.600000</td>\n",
       "      <td>30.800000</td>\n",
       "      <td>2.000000</td>\n",
       "      <td>...</td>\n",
       "      <td>0.008197</td>\n",
       "      <td>0.013333</td>\n",
       "      <td>93.521898</td>\n",
       "      <td>0.935219</td>\n",
       "      <td>0.547014</td>\n",
       "      <td>0.066667</td>\n",
       "      <td>0.363636</td>\n",
       "      <td>0.006250</td>\n",
       "      <td>1.0</td>\n",
       "      <td>1.0</td>\n",
       "    </tr>\n",
       "    <tr>\n",
       "      <th>max</th>\n",
       "      <td>115.000000</td>\n",
       "      <td>59.400000</td>\n",
       "      <td>30.300000</td>\n",
       "      <td>12.000000</td>\n",
       "      <td>28.600000</td>\n",
       "      <td>63.600000</td>\n",
       "      <td>1.600000</td>\n",
       "      <td>4.400000</td>\n",
       "      <td>72.300000</td>\n",
       "      <td>7.000000</td>\n",
       "      <td>...</td>\n",
       "      <td>0.037500</td>\n",
       "      <td>0.044444</td>\n",
       "      <td>130.813953</td>\n",
       "      <td>1.308140</td>\n",
       "      <td>0.724249</td>\n",
       "      <td>0.257576</td>\n",
       "      <td>0.962162</td>\n",
       "      <td>0.225000</td>\n",
       "      <td>1.0</td>\n",
       "      <td>1.0</td>\n",
       "    </tr>\n",
       "  </tbody>\n",
       "</table>\n",
       "<p>8 rows × 29 columns</p>\n",
       "</div>"
      ],
      "text/plain": [
       "                GP          MIN          PTS          FGM          FGA  \\\n",
       "count  1257.000000  1257.000000  1257.000000  1257.000000  1257.000000   \n",
       "mean     65.918059    19.596818     7.748449     2.992522     6.576531   \n",
       "std      15.700231     8.881867     4.301551     1.695082     3.617575   \n",
       "min      18.000000     4.000000     1.000000     0.400000     1.100000   \n",
       "25%      55.000000    13.100000     4.500000     1.800000     3.900000   \n",
       "50%      65.000000    17.600000     6.900000     2.600000     5.700000   \n",
       "75%      76.000000    24.600000    10.000000     3.800000     8.400000   \n",
       "max     115.000000    59.400000    30.300000    12.000000    28.600000   \n",
       "\n",
       "               FG%      3P Made          3PA          3P%          FTM  ...  \\\n",
       "count  1257.000000  1257.000000  1257.000000  1257.000000  1257.000000  ...   \n",
       "mean     45.424105     0.326730     0.966348    20.375259     1.502944  ...   \n",
       "std       5.973530     0.307188     0.879629    14.459980     0.910457  ...   \n",
       "min      27.500000     0.000000     0.000000     0.000000     0.000000  ...   \n",
       "25%      41.400000     0.000000     0.100000     8.500000     0.800000  ...   \n",
       "50%      45.300000     0.300000     0.900000    19.000000     1.300000  ...   \n",
       "75%      49.400000     0.500000     1.600000    30.800000     2.000000  ...   \n",
       "max      63.600000     1.600000     4.400000    72.300000     7.000000  ...   \n",
       "\n",
       "         3P_per_GP   Stl_per_GP         ORtg          PPP          TSP  \\\n",
       "count  1257.000000  1257.000000  1257.000000  1257.000000  1257.000000   \n",
       "mean      0.005120     0.010468    87.066069     0.870661     0.514516   \n",
       "std       0.005056     0.005945    10.019281     0.100193     0.052223   \n",
       "min       0.000000     0.000000    58.459422     0.584594     0.355450   \n",
       "25%       0.000000     0.006329    80.268535     0.802685     0.479904   \n",
       "50%       0.004301     0.009231    86.830680     0.868307     0.513060   \n",
       "75%       0.008197     0.013333    93.521898     0.935219     0.547014   \n",
       "max       0.037500     0.044444   130.813953     1.308140     0.724249   \n",
       "\n",
       "        Reb_per_GP   Min_per_GP   Blk_per_GP   y_val  y_val_preds  \n",
       "count  1257.000000  1257.000000  1257.000000  1257.0       1257.0  \n",
       "mean      0.052711     0.297727     0.005257     1.0          1.0  \n",
       "std       0.028589     0.111993     0.009673     0.0          0.0  \n",
       "min       0.007143     0.085106     0.000000     1.0          1.0  \n",
       "25%       0.031034     0.213559     0.001667     1.0          1.0  \n",
       "50%       0.047826     0.281967     0.003636     1.0          1.0  \n",
       "75%       0.066667     0.363636     0.006250     1.0          1.0  \n",
       "max       0.257576     0.962162     0.225000     1.0          1.0  \n",
       "\n",
       "[8 rows x 29 columns]"
      ]
     },
     "execution_count": 45,
     "metadata": {},
     "output_type": "execute_result"
    }
   ],
   "source": [
    "# True Positives\n",
    "X_val_true_pos = X_val_df[(X_val_df['y_val']==1)&(X_val_df['y_val_preds']==1)]\n",
    "X_val_true_pos.describe()"
   ]
  },
  {
   "cell_type": "code",
   "execution_count": 46,
   "id": "90822c48-701c-4164-9740-2a83a8aeb45d",
   "metadata": {},
   "outputs": [
    {
     "data": {
      "text/html": [
       "<div>\n",
       "<style scoped>\n",
       "    .dataframe tbody tr th:only-of-type {\n",
       "        vertical-align: middle;\n",
       "    }\n",
       "\n",
       "    .dataframe tbody tr th {\n",
       "        vertical-align: top;\n",
       "    }\n",
       "\n",
       "    .dataframe thead th {\n",
       "        text-align: right;\n",
       "    }\n",
       "</style>\n",
       "<table border=\"1\" class=\"dataframe\">\n",
       "  <thead>\n",
       "    <tr style=\"text-align: right;\">\n",
       "      <th></th>\n",
       "      <th>GP</th>\n",
       "      <th>MIN</th>\n",
       "      <th>PTS</th>\n",
       "      <th>FGM</th>\n",
       "      <th>FGA</th>\n",
       "      <th>FG%</th>\n",
       "      <th>3P Made</th>\n",
       "      <th>3PA</th>\n",
       "      <th>3P%</th>\n",
       "      <th>FTM</th>\n",
       "      <th>...</th>\n",
       "      <th>3P_per_GP</th>\n",
       "      <th>Stl_per_GP</th>\n",
       "      <th>ORtg</th>\n",
       "      <th>PPP</th>\n",
       "      <th>TSP</th>\n",
       "      <th>Reb_per_GP</th>\n",
       "      <th>Min_per_GP</th>\n",
       "      <th>Blk_per_GP</th>\n",
       "      <th>y_val</th>\n",
       "      <th>y_val_preds</th>\n",
       "    </tr>\n",
       "  </thead>\n",
       "  <tbody>\n",
       "    <tr>\n",
       "      <th>count</th>\n",
       "      <td>77.000000</td>\n",
       "      <td>77.000000</td>\n",
       "      <td>77.000000</td>\n",
       "      <td>77.000000</td>\n",
       "      <td>77.000000</td>\n",
       "      <td>77.000000</td>\n",
       "      <td>77.000000</td>\n",
       "      <td>77.000000</td>\n",
       "      <td>77.000000</td>\n",
       "      <td>77.000000</td>\n",
       "      <td>...</td>\n",
       "      <td>77.000000</td>\n",
       "      <td>77.000000</td>\n",
       "      <td>77.000000</td>\n",
       "      <td>77.000000</td>\n",
       "      <td>77.000000</td>\n",
       "      <td>77.000000</td>\n",
       "      <td>77.000000</td>\n",
       "      <td>77.000000</td>\n",
       "      <td>77.0</td>\n",
       "      <td>77.0</td>\n",
       "    </tr>\n",
       "    <tr>\n",
       "      <th>mean</th>\n",
       "      <td>38.129870</td>\n",
       "      <td>10.158442</td>\n",
       "      <td>2.946753</td>\n",
       "      <td>1.107792</td>\n",
       "      <td>3.075325</td>\n",
       "      <td>37.116883</td>\n",
       "      <td>0.297403</td>\n",
       "      <td>0.923377</td>\n",
       "      <td>23.011688</td>\n",
       "      <td>0.525974</td>\n",
       "      <td>...</td>\n",
       "      <td>0.008030</td>\n",
       "      <td>0.011053</td>\n",
       "      <td>71.916863</td>\n",
       "      <td>0.719169</td>\n",
       "      <td>0.432172</td>\n",
       "      <td>0.037777</td>\n",
       "      <td>0.282855</td>\n",
       "      <td>0.003757</td>\n",
       "      <td>1.0</td>\n",
       "      <td>0.0</td>\n",
       "    </tr>\n",
       "    <tr>\n",
       "      <th>std</th>\n",
       "      <td>11.234757</td>\n",
       "      <td>4.511603</td>\n",
       "      <td>1.513238</td>\n",
       "      <td>0.545017</td>\n",
       "      <td>1.545976</td>\n",
       "      <td>4.140538</td>\n",
       "      <td>0.309062</td>\n",
       "      <td>0.874477</td>\n",
       "      <td>15.250772</td>\n",
       "      <td>0.384366</td>\n",
       "      <td>...</td>\n",
       "      <td>0.008738</td>\n",
       "      <td>0.006373</td>\n",
       "      <td>8.747515</td>\n",
       "      <td>0.087475</td>\n",
       "      <td>0.041403</td>\n",
       "      <td>0.026154</td>\n",
       "      <td>0.118288</td>\n",
       "      <td>0.009487</td>\n",
       "      <td>0.0</td>\n",
       "      <td>0.0</td>\n",
       "    </tr>\n",
       "    <tr>\n",
       "      <th>min</th>\n",
       "      <td>10.000000</td>\n",
       "      <td>4.100000</td>\n",
       "      <td>1.000000</td>\n",
       "      <td>0.400000</td>\n",
       "      <td>1.100000</td>\n",
       "      <td>27.500000</td>\n",
       "      <td>0.000000</td>\n",
       "      <td>0.000000</td>\n",
       "      <td>0.000000</td>\n",
       "      <td>0.000000</td>\n",
       "      <td>...</td>\n",
       "      <td>0.000000</td>\n",
       "      <td>0.000000</td>\n",
       "      <td>54.207537</td>\n",
       "      <td>0.542075</td>\n",
       "      <td>0.357521</td>\n",
       "      <td>0.007500</td>\n",
       "      <td>0.102500</td>\n",
       "      <td>0.000000</td>\n",
       "      <td>1.0</td>\n",
       "      <td>0.0</td>\n",
       "    </tr>\n",
       "    <tr>\n",
       "      <th>25%</th>\n",
       "      <td>31.000000</td>\n",
       "      <td>7.500000</td>\n",
       "      <td>1.800000</td>\n",
       "      <td>0.700000</td>\n",
       "      <td>2.000000</td>\n",
       "      <td>34.100000</td>\n",
       "      <td>0.000000</td>\n",
       "      <td>0.100000</td>\n",
       "      <td>10.400000</td>\n",
       "      <td>0.300000</td>\n",
       "      <td>...</td>\n",
       "      <td>0.000000</td>\n",
       "      <td>0.005769</td>\n",
       "      <td>66.176471</td>\n",
       "      <td>0.661765</td>\n",
       "      <td>0.398687</td>\n",
       "      <td>0.021429</td>\n",
       "      <td>0.200000</td>\n",
       "      <td>0.000000</td>\n",
       "      <td>1.0</td>\n",
       "      <td>0.0</td>\n",
       "    </tr>\n",
       "    <tr>\n",
       "      <th>50%</th>\n",
       "      <td>38.000000</td>\n",
       "      <td>9.900000</td>\n",
       "      <td>2.600000</td>\n",
       "      <td>1.000000</td>\n",
       "      <td>2.700000</td>\n",
       "      <td>36.900000</td>\n",
       "      <td>0.300000</td>\n",
       "      <td>0.900000</td>\n",
       "      <td>20.700000</td>\n",
       "      <td>0.400000</td>\n",
       "      <td>...</td>\n",
       "      <td>0.006522</td>\n",
       "      <td>0.010526</td>\n",
       "      <td>70.921986</td>\n",
       "      <td>0.709220</td>\n",
       "      <td>0.436954</td>\n",
       "      <td>0.033333</td>\n",
       "      <td>0.251351</td>\n",
       "      <td>0.001667</td>\n",
       "      <td>1.0</td>\n",
       "      <td>0.0</td>\n",
       "    </tr>\n",
       "    <tr>\n",
       "      <th>75%</th>\n",
       "      <td>46.000000</td>\n",
       "      <td>12.000000</td>\n",
       "      <td>3.700000</td>\n",
       "      <td>1.400000</td>\n",
       "      <td>3.700000</td>\n",
       "      <td>40.400000</td>\n",
       "      <td>0.500000</td>\n",
       "      <td>1.400000</td>\n",
       "      <td>35.000000</td>\n",
       "      <td>0.700000</td>\n",
       "      <td>...</td>\n",
       "      <td>0.011628</td>\n",
       "      <td>0.014634</td>\n",
       "      <td>75.910931</td>\n",
       "      <td>0.759109</td>\n",
       "      <td>0.454981</td>\n",
       "      <td>0.048889</td>\n",
       "      <td>0.331915</td>\n",
       "      <td>0.004348</td>\n",
       "      <td>1.0</td>\n",
       "      <td>0.0</td>\n",
       "    </tr>\n",
       "    <tr>\n",
       "      <th>max</th>\n",
       "      <td>70.000000</td>\n",
       "      <td>37.900000</td>\n",
       "      <td>9.500000</td>\n",
       "      <td>3.400000</td>\n",
       "      <td>9.400000</td>\n",
       "      <td>45.400000</td>\n",
       "      <td>1.700000</td>\n",
       "      <td>4.700000</td>\n",
       "      <td>57.000000</td>\n",
       "      <td>1.600000</td>\n",
       "      <td>...</td>\n",
       "      <td>0.050000</td>\n",
       "      <td>0.031667</td>\n",
       "      <td>102.242744</td>\n",
       "      <td>1.022427</td>\n",
       "      <td>0.547316</td>\n",
       "      <td>0.156522</td>\n",
       "      <td>0.631667</td>\n",
       "      <td>0.073913</td>\n",
       "      <td>1.0</td>\n",
       "      <td>0.0</td>\n",
       "    </tr>\n",
       "  </tbody>\n",
       "</table>\n",
       "<p>8 rows × 29 columns</p>\n",
       "</div>"
      ],
      "text/plain": [
       "              GP        MIN        PTS        FGM        FGA        FG%  \\\n",
       "count  77.000000  77.000000  77.000000  77.000000  77.000000  77.000000   \n",
       "mean   38.129870  10.158442   2.946753   1.107792   3.075325  37.116883   \n",
       "std    11.234757   4.511603   1.513238   0.545017   1.545976   4.140538   \n",
       "min    10.000000   4.100000   1.000000   0.400000   1.100000  27.500000   \n",
       "25%    31.000000   7.500000   1.800000   0.700000   2.000000  34.100000   \n",
       "50%    38.000000   9.900000   2.600000   1.000000   2.700000  36.900000   \n",
       "75%    46.000000  12.000000   3.700000   1.400000   3.700000  40.400000   \n",
       "max    70.000000  37.900000   9.500000   3.400000   9.400000  45.400000   \n",
       "\n",
       "         3P Made        3PA        3P%        FTM  ...  3P_per_GP  Stl_per_GP  \\\n",
       "count  77.000000  77.000000  77.000000  77.000000  ...  77.000000   77.000000   \n",
       "mean    0.297403   0.923377  23.011688   0.525974  ...   0.008030    0.011053   \n",
       "std     0.309062   0.874477  15.250772   0.384366  ...   0.008738    0.006373   \n",
       "min     0.000000   0.000000   0.000000   0.000000  ...   0.000000    0.000000   \n",
       "25%     0.000000   0.100000  10.400000   0.300000  ...   0.000000    0.005769   \n",
       "50%     0.300000   0.900000  20.700000   0.400000  ...   0.006522    0.010526   \n",
       "75%     0.500000   1.400000  35.000000   0.700000  ...   0.011628    0.014634   \n",
       "max     1.700000   4.700000  57.000000   1.600000  ...   0.050000    0.031667   \n",
       "\n",
       "             ORtg        PPP        TSP  Reb_per_GP  Min_per_GP  Blk_per_GP  \\\n",
       "count   77.000000  77.000000  77.000000   77.000000   77.000000   77.000000   \n",
       "mean    71.916863   0.719169   0.432172    0.037777    0.282855    0.003757   \n",
       "std      8.747515   0.087475   0.041403    0.026154    0.118288    0.009487   \n",
       "min     54.207537   0.542075   0.357521    0.007500    0.102500    0.000000   \n",
       "25%     66.176471   0.661765   0.398687    0.021429    0.200000    0.000000   \n",
       "50%     70.921986   0.709220   0.436954    0.033333    0.251351    0.001667   \n",
       "75%     75.910931   0.759109   0.454981    0.048889    0.331915    0.004348   \n",
       "max    102.242744   1.022427   0.547316    0.156522    0.631667    0.073913   \n",
       "\n",
       "       y_val  y_val_preds  \n",
       "count   77.0         77.0  \n",
       "mean     1.0          0.0  \n",
       "std      0.0          0.0  \n",
       "min      1.0          0.0  \n",
       "25%      1.0          0.0  \n",
       "50%      1.0          0.0  \n",
       "75%      1.0          0.0  \n",
       "max      1.0          0.0  \n",
       "\n",
       "[8 rows x 29 columns]"
      ]
     },
     "execution_count": 46,
     "metadata": {},
     "output_type": "execute_result"
    }
   ],
   "source": [
    "# False Negative\n",
    "X_val_false_neg = X_val_df[(X_val_df['y_val']==1)&(X_val_df['y_val_preds']==0)]\n",
    "X_val_false_neg.describe()"
   ]
  },
  {
   "cell_type": "code",
   "execution_count": null,
   "id": "93bea6fa-5f09-415a-9ca6-04aebd89ba45",
   "metadata": {},
   "outputs": [],
   "source": []
  },
  {
   "cell_type": "markdown",
   "id": "cc27377b-6186-4b9b-ba43-739046c8b30e",
   "metadata": {},
   "source": [
    "<h4> 4 Generate predictions on the test set for Kaggle submission"
   ]
  },
  {
   "cell_type": "markdown",
   "id": "6a6c50f5-0d06-4416-aa3c-7267212b8dd5",
   "metadata": {},
   "source": [
    "<h5> The final step is to generate the prediction probabilities from the test set in order to evaluate the score from Kaggle via csv upload"
   ]
  },
  {
   "cell_type": "code",
   "execution_count": 47,
   "id": "76a69c1f-3c7e-48c7-a470-d72060654870",
   "metadata": {},
   "outputs": [],
   "source": [
    "y_test_preds = rf_model.predict_proba(X_test)"
   ]
  },
  {
   "cell_type": "code",
   "execution_count": 48,
   "id": "d8b3ea43-2d09-45a1-ab43-f5c4659f0ef3",
   "metadata": {},
   "outputs": [],
   "source": [
    "#Create Data Frame for Doc printing\n",
    "df =pd.DataFrame()"
   ]
  },
  {
   "cell_type": "code",
   "execution_count": 49,
   "id": "2a395ced-dc63-4875-a0b2-972b9158d158",
   "metadata": {},
   "outputs": [
    {
     "data": {
      "text/plain": [
       "array([[0.37666667, 0.62333333],\n",
       "       [0.3       , 0.7       ],\n",
       "       [0.06666667, 0.93333333],\n",
       "       ...,\n",
       "       [0.34      , 0.66      ],\n",
       "       [0.03666667, 0.96333333],\n",
       "       [0.19      , 0.81      ]])"
      ]
     },
     "execution_count": 49,
     "metadata": {},
     "output_type": "execute_result"
    }
   ],
   "source": [
    "y_test_preds"
   ]
  },
  {
   "cell_type": "code",
   "execution_count": 50,
   "id": "b0221d9b-b513-44fd-ae69-f2979e18d266",
   "metadata": {},
   "outputs": [],
   "source": [
    "target_prob = y_test_preds\n",
    "target_prob = [item[1] for item in y_test_preds]"
   ]
  },
  {
   "cell_type": "code",
   "execution_count": 51,
   "id": "e0440476-83b2-4909-a46b-6cedfb5b8f03",
   "metadata": {},
   "outputs": [],
   "source": [
    "df['Id'] = X_test_ID\n",
    "df['TARGET_5Yrs'] = target_prob"
   ]
  },
  {
   "cell_type": "code",
   "execution_count": 52,
   "id": "4909e66f-ed64-45f5-95fd-340ad1b731d7",
   "metadata": {},
   "outputs": [
    {
     "data": {
      "text/html": [
       "<div>\n",
       "<style scoped>\n",
       "    .dataframe tbody tr th:only-of-type {\n",
       "        vertical-align: middle;\n",
       "    }\n",
       "\n",
       "    .dataframe tbody tr th {\n",
       "        vertical-align: top;\n",
       "    }\n",
       "\n",
       "    .dataframe thead th {\n",
       "        text-align: right;\n",
       "    }\n",
       "</style>\n",
       "<table border=\"1\" class=\"dataframe\">\n",
       "  <thead>\n",
       "    <tr style=\"text-align: right;\">\n",
       "      <th></th>\n",
       "      <th>Id</th>\n",
       "      <th>TARGET_5Yrs</th>\n",
       "    </tr>\n",
       "  </thead>\n",
       "  <tbody>\n",
       "    <tr>\n",
       "      <th>0</th>\n",
       "      <td>0</td>\n",
       "      <td>0.623333</td>\n",
       "    </tr>\n",
       "    <tr>\n",
       "      <th>1</th>\n",
       "      <td>1</td>\n",
       "      <td>0.700000</td>\n",
       "    </tr>\n",
       "    <tr>\n",
       "      <th>2</th>\n",
       "      <td>2</td>\n",
       "      <td>0.933333</td>\n",
       "    </tr>\n",
       "    <tr>\n",
       "      <th>3</th>\n",
       "      <td>3</td>\n",
       "      <td>0.920000</td>\n",
       "    </tr>\n",
       "    <tr>\n",
       "      <th>4</th>\n",
       "      <td>4</td>\n",
       "      <td>0.816667</td>\n",
       "    </tr>\n",
       "  </tbody>\n",
       "</table>\n",
       "</div>"
      ],
      "text/plain": [
       "   Id  TARGET_5Yrs\n",
       "0   0     0.623333\n",
       "1   1     0.700000\n",
       "2   2     0.933333\n",
       "3   3     0.920000\n",
       "4   4     0.816667"
      ]
     },
     "execution_count": 52,
     "metadata": {},
     "output_type": "execute_result"
    }
   ],
   "source": [
    "df.head()"
   ]
  },
  {
   "cell_type": "code",
   "execution_count": 53,
   "id": "d6eb3b2d-e232-4b64-a20d-169898089bdd",
   "metadata": {},
   "outputs": [],
   "source": [
    "#Saving predictions into csv\n",
    "df.to_csv('../data/external/Kaggle_submission_RF_ncr_all_cols.csv', index=False)"
   ]
  },
  {
   "cell_type": "code",
   "execution_count": null,
   "id": "00e1c6cb-993c-4e51-9d52-070faf507b3b",
   "metadata": {},
   "outputs": [],
   "source": []
  }
 ],
 "metadata": {
  "kernelspec": {
   "display_name": "Python 3 (ipykernel)",
   "language": "python",
   "name": "python3"
  },
  "language_info": {
   "codemirror_mode": {
    "name": "ipython",
    "version": 3
   },
   "file_extension": ".py",
   "mimetype": "text/x-python",
   "name": "python",
   "nbconvert_exporter": "python",
   "pygments_lexer": "ipython3",
   "version": "3.10.6"
  }
 },
 "nbformat": 4,
 "nbformat_minor": 5
}
