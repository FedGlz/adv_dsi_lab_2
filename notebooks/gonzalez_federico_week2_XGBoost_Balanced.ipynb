{
 "cells": [
  {
   "cell_type": "markdown",
   "id": "ac5718b6-58d3-4146-970c-644f1d4d57d1",
   "metadata": {},
   "source": [
    "<h3> NBA 5 year careeer prediction using XBoost Classifier"
   ]
  },
  {
   "cell_type": "code",
   "execution_count": 1,
   "id": "ca6cf86d-1201-4b42-9890-54e3132bcc93",
   "metadata": {},
   "outputs": [],
   "source": [
    "import pandas as pd\n",
    "import numpy as np"
   ]
  },
  {
   "cell_type": "markdown",
   "id": "17869c91-ff43-4c0c-b517-336880c0c840",
   "metadata": {},
   "source": [
    "<h4> 1. Load processed sets"
   ]
  },
  {
   "cell_type": "markdown",
   "id": "f5ab5745-696c-42cf-b86d-bf3225460f89",
   "metadata": {},
   "source": [
    "<h5> Loading scaled training, validation and test sets from data_prep step saved on the data/processed folder saving them into X_train, X_val, y_train, y_val, X_test, X_test_ID variables"
   ]
  },
  {
   "cell_type": "code",
   "execution_count": 2,
   "id": "33ed92b8-6971-44f6-9419-a48f8d45871b",
   "metadata": {},
   "outputs": [],
   "source": [
    "#Load Test and validation sets using custom function load_sets\n",
    "from src.data.sets import load_sets"
   ]
  },
  {
   "cell_type": "code",
   "execution_count": 3,
   "id": "8f896d87-99c8-4209-b79b-efd4c0ad28d3",
   "metadata": {},
   "outputs": [],
   "source": [
    "X_train, X_val, y_train, y_val, X_test, X_test_ID = load_sets( )"
   ]
  },
  {
   "cell_type": "markdown",
   "id": "6c9dd78f-7205-4310-9bfe-5c30cacd4c06",
   "metadata": {},
   "source": [
    "<h4> 2. Import XGBoost"
   ]
  },
  {
   "cell_type": "markdown",
   "id": "0a8f5c91-9d2e-43ef-87ba-f193bb7f8375",
   "metadata": {},
   "source": [
    "<h5> Importing and fitting XGBoost Classifier specifying scale_pos_weight =0.199 to manage overfitting of the mayority class within the model, early_stopping_rounds=10 to stop the model after 10 iterations without improving in the predictions, n_estimators=200 and evaluation metric=aucpr to meassure the accuracy of the model vs the validation set"
   ]
  },
  {
   "cell_type": "code",
   "execution_count": 4,
   "id": "49734e9d-1a7f-4e1d-9174-38a9e4a27000",
   "metadata": {},
   "outputs": [],
   "source": [
    "import xgboost as xgb"
   ]
  },
  {
   "cell_type": "code",
   "execution_count": 5,
   "id": "d16f5a64-be9a-4490-b849-296495959c28",
   "metadata": {},
   "outputs": [
    {
     "name": "stdout",
     "output_type": "stream",
     "text": [
      "[0]\tvalidation_0-aucpr:0.89250\n",
      "[1]\tvalidation_0-aucpr:0.90054\n",
      "[2]\tvalidation_0-aucpr:0.90129\n",
      "[3]\tvalidation_0-aucpr:0.90427\n",
      "[4]\tvalidation_0-aucpr:0.90253\n",
      "[5]\tvalidation_0-aucpr:0.90711\n",
      "[6]\tvalidation_0-aucpr:0.90673\n",
      "[7]\tvalidation_0-aucpr:0.90830\n",
      "[8]\tvalidation_0-aucpr:0.90938\n",
      "[9]\tvalidation_0-aucpr:0.90975\n",
      "[10]\tvalidation_0-aucpr:0.90851\n",
      "[11]\tvalidation_0-aucpr:0.90858\n",
      "[12]\tvalidation_0-aucpr:0.90801\n",
      "[13]\tvalidation_0-aucpr:0.90715\n",
      "[14]\tvalidation_0-aucpr:0.90637\n",
      "[15]\tvalidation_0-aucpr:0.90635\n",
      "[16]\tvalidation_0-aucpr:0.90685\n",
      "[17]\tvalidation_0-aucpr:0.90663\n",
      "[18]\tvalidation_0-aucpr:0.90657\n"
     ]
    },
    {
     "name": "stderr",
     "output_type": "stream",
     "text": [
      "/opt/conda/lib/python3.10/site-packages/xgboost/sklearn.py:861: UserWarning: `eval_metric` in `fit` method is deprecated for better compatibility with scikit-learn, use `eval_metric` in constructor or`set_params` instead.\n",
      "  warnings.warn(\n",
      "/opt/conda/lib/python3.10/site-packages/xgboost/sklearn.py:861: UserWarning: `early_stopping_rounds` in `fit` method is deprecated for better compatibility with scikit-learn, use `early_stopping_rounds` in constructor or`set_params` instead.\n",
      "  warnings.warn(\n"
     ]
    },
    {
     "data": {
      "text/html": [
       "<style>#sk-container-id-1 {color: black;background-color: white;}#sk-container-id-1 pre{padding: 0;}#sk-container-id-1 div.sk-toggleable {background-color: white;}#sk-container-id-1 label.sk-toggleable__label {cursor: pointer;display: block;width: 100%;margin-bottom: 0;padding: 0.3em;box-sizing: border-box;text-align: center;}#sk-container-id-1 label.sk-toggleable__label-arrow:before {content: \"▸\";float: left;margin-right: 0.25em;color: #696969;}#sk-container-id-1 label.sk-toggleable__label-arrow:hover:before {color: black;}#sk-container-id-1 div.sk-estimator:hover label.sk-toggleable__label-arrow:before {color: black;}#sk-container-id-1 div.sk-toggleable__content {max-height: 0;max-width: 0;overflow: hidden;text-align: left;background-color: #f0f8ff;}#sk-container-id-1 div.sk-toggleable__content pre {margin: 0.2em;color: black;border-radius: 0.25em;background-color: #f0f8ff;}#sk-container-id-1 input.sk-toggleable__control:checked~div.sk-toggleable__content {max-height: 200px;max-width: 100%;overflow: auto;}#sk-container-id-1 input.sk-toggleable__control:checked~label.sk-toggleable__label-arrow:before {content: \"▾\";}#sk-container-id-1 div.sk-estimator input.sk-toggleable__control:checked~label.sk-toggleable__label {background-color: #d4ebff;}#sk-container-id-1 div.sk-label input.sk-toggleable__control:checked~label.sk-toggleable__label {background-color: #d4ebff;}#sk-container-id-1 input.sk-hidden--visually {border: 0;clip: rect(1px 1px 1px 1px);clip: rect(1px, 1px, 1px, 1px);height: 1px;margin: -1px;overflow: hidden;padding: 0;position: absolute;width: 1px;}#sk-container-id-1 div.sk-estimator {font-family: monospace;background-color: #f0f8ff;border: 1px dotted black;border-radius: 0.25em;box-sizing: border-box;margin-bottom: 0.5em;}#sk-container-id-1 div.sk-estimator:hover {background-color: #d4ebff;}#sk-container-id-1 div.sk-parallel-item::after {content: \"\";width: 100%;border-bottom: 1px solid gray;flex-grow: 1;}#sk-container-id-1 div.sk-label:hover label.sk-toggleable__label {background-color: #d4ebff;}#sk-container-id-1 div.sk-serial::before {content: \"\";position: absolute;border-left: 1px solid gray;box-sizing: border-box;top: 0;bottom: 0;left: 50%;z-index: 0;}#sk-container-id-1 div.sk-serial {display: flex;flex-direction: column;align-items: center;background-color: white;padding-right: 0.2em;padding-left: 0.2em;position: relative;}#sk-container-id-1 div.sk-item {position: relative;z-index: 1;}#sk-container-id-1 div.sk-parallel {display: flex;align-items: stretch;justify-content: center;background-color: white;position: relative;}#sk-container-id-1 div.sk-item::before, #sk-container-id-1 div.sk-parallel-item::before {content: \"\";position: absolute;border-left: 1px solid gray;box-sizing: border-box;top: 0;bottom: 0;left: 50%;z-index: -1;}#sk-container-id-1 div.sk-parallel-item {display: flex;flex-direction: column;z-index: 1;position: relative;background-color: white;}#sk-container-id-1 div.sk-parallel-item:first-child::after {align-self: flex-end;width: 50%;}#sk-container-id-1 div.sk-parallel-item:last-child::after {align-self: flex-start;width: 50%;}#sk-container-id-1 div.sk-parallel-item:only-child::after {width: 0;}#sk-container-id-1 div.sk-dashed-wrapped {border: 1px dashed gray;margin: 0 0.4em 0.5em 0.4em;box-sizing: border-box;padding-bottom: 0.4em;background-color: white;}#sk-container-id-1 div.sk-label label {font-family: monospace;font-weight: bold;display: inline-block;line-height: 1.2em;}#sk-container-id-1 div.sk-label-container {text-align: center;}#sk-container-id-1 div.sk-container {/* jupyter's `normalize.less` sets `[hidden] { display: none; }` but bootstrap.min.css set `[hidden] { display: none !important; }` so we also need the `!important` here to be able to override the default hidden behavior on the sphinx rendered scikit-learn.org. See: https://github.com/scikit-learn/scikit-learn/issues/21755 */display: inline-block !important;position: relative;}#sk-container-id-1 div.sk-text-repr-fallback {display: none;}</style><div id=\"sk-container-id-1\" class=\"sk-top-container\"><div class=\"sk-text-repr-fallback\"><pre>XGBClassifier(base_score=0.5, booster=&#x27;gbtree&#x27;, callbacks=None,\n",
       "              colsample_bylevel=1, colsample_bynode=1, colsample_bytree=1,\n",
       "              early_stopping_rounds=None, enable_categorical=False,\n",
       "              eval_metric=None, feature_types=None, gamma=0, gpu_id=-1,\n",
       "              grow_policy=&#x27;depthwise&#x27;, importance_type=None,\n",
       "              interaction_constraints=&#x27;&#x27;, learning_rate=0.300000012,\n",
       "              max_bin=256, max_cat_threshold=64, max_cat_to_onehot=4,\n",
       "              max_delta_step=0, max_depth=6, max_leaves=0, min_child_weight=1,\n",
       "              missing=nan, monotone_constraints=&#x27;()&#x27;, n_estimators=200,\n",
       "              n_jobs=0, num_parallel_tree=1, predictor=&#x27;auto&#x27;, random_state=42, ...)</pre><b>In a Jupyter environment, please rerun this cell to show the HTML representation or trust the notebook. <br />On GitHub, the HTML representation is unable to render, please try loading this page with nbviewer.org.</b></div><div class=\"sk-container\" hidden><div class=\"sk-item\"><div class=\"sk-estimator sk-toggleable\"><input class=\"sk-toggleable__control sk-hidden--visually\" id=\"sk-estimator-id-1\" type=\"checkbox\" checked><label for=\"sk-estimator-id-1\" class=\"sk-toggleable__label sk-toggleable__label-arrow\">XGBClassifier</label><div class=\"sk-toggleable__content\"><pre>XGBClassifier(base_score=0.5, booster=&#x27;gbtree&#x27;, callbacks=None,\n",
       "              colsample_bylevel=1, colsample_bynode=1, colsample_bytree=1,\n",
       "              early_stopping_rounds=None, enable_categorical=False,\n",
       "              eval_metric=None, feature_types=None, gamma=0, gpu_id=-1,\n",
       "              grow_policy=&#x27;depthwise&#x27;, importance_type=None,\n",
       "              interaction_constraints=&#x27;&#x27;, learning_rate=0.300000012,\n",
       "              max_bin=256, max_cat_threshold=64, max_cat_to_onehot=4,\n",
       "              max_delta_step=0, max_depth=6, max_leaves=0, min_child_weight=1,\n",
       "              missing=nan, monotone_constraints=&#x27;()&#x27;, n_estimators=200,\n",
       "              n_jobs=0, num_parallel_tree=1, predictor=&#x27;auto&#x27;, random_state=42, ...)</pre></div></div></div></div></div>"
      ],
      "text/plain": [
       "XGBClassifier(base_score=0.5, booster='gbtree', callbacks=None,\n",
       "              colsample_bylevel=1, colsample_bynode=1, colsample_bytree=1,\n",
       "              early_stopping_rounds=None, enable_categorical=False,\n",
       "              eval_metric=None, feature_types=None, gamma=0, gpu_id=-1,\n",
       "              grow_policy='depthwise', importance_type=None,\n",
       "              interaction_constraints='', learning_rate=0.300000012,\n",
       "              max_bin=256, max_cat_threshold=64, max_cat_to_onehot=4,\n",
       "              max_delta_step=0, max_depth=6, max_leaves=0, min_child_weight=1,\n",
       "              missing=nan, monotone_constraints='()', n_estimators=200,\n",
       "              n_jobs=0, num_parallel_tree=1, predictor='auto', random_state=42, ...)"
      ]
     },
     "execution_count": 5,
     "metadata": {},
     "output_type": "execute_result"
    }
   ],
   "source": [
    "xgb_model = xgb.XGBClassifier(objective='binary:logistic', booster='gbtree', \n",
    "                              scale_pos_weight=0.199, n_estimators=200, seed=42)\n",
    "xgb_model.fit(X_train, y_train , early_stopping_rounds=10, \n",
    "              eval_metric='aucpr', eval_set=[(X_val,y_val)])"
   ]
  },
  {
   "cell_type": "markdown",
   "id": "2160c5dd-64fd-43a7-8ffc-45176dc62d0e",
   "metadata": {},
   "source": [
    "<h5> After the model has been fitted, it will be saved in the models folder in case it needs to be re-called on a later process"
   ]
  },
  {
   "cell_type": "code",
   "execution_count": 6,
   "id": "e9981f3d-8bf5-41c0-8e26-c00024790792",
   "metadata": {},
   "outputs": [],
   "source": [
    "from sklearn.metrics import accuracy_score"
   ]
  },
  {
   "cell_type": "code",
   "execution_count": 7,
   "id": "c6d9f5c5-60f8-4f34-928c-0fd0fb55d5b1",
   "metadata": {},
   "outputs": [
    {
     "data": {
      "text/plain": [
       "['../models/XGBoost.joblib']"
      ]
     },
     "execution_count": 7,
     "metadata": {},
     "output_type": "execute_result"
    }
   ],
   "source": [
    "#Save model in the models folder\n",
    "from joblib import dump\n",
    "dump(xgb_model, '../models/XGBoost.joblib')"
   ]
  },
  {
   "cell_type": "markdown",
   "id": "db6d4407-9b8c-40d8-98ce-42250adf55b0",
   "metadata": {},
   "source": [
    "<h4> 3.1 Generate predictions for training and validation sets in order to compare accuracy vs Baseline"
   ]
  },
  {
   "cell_type": "code",
   "execution_count": 8,
   "id": "741ccb0d-fbd0-4a6a-8113-aac33fb9e30e",
   "metadata": {},
   "outputs": [],
   "source": [
    "y_val_preds = xgb_model.predict(X_val)"
   ]
  },
  {
   "cell_type": "code",
   "execution_count": 9,
   "id": "fb4dbc32-1dde-43a0-96a0-f02be0fb726f",
   "metadata": {},
   "outputs": [],
   "source": [
    "y_trainpreds = xgb_model.predict(X_train)"
   ]
  },
  {
   "cell_type": "code",
   "execution_count": 10,
   "id": "969bd1bb-85f6-428f-912a-a198c24fbb9c",
   "metadata": {},
   "outputs": [
    {
     "data": {
      "text/plain": [
       "0.670625"
      ]
     },
     "execution_count": 10,
     "metadata": {},
     "output_type": "execute_result"
    }
   ],
   "source": [
    "accuracy = accuracy_score(y_val, y_val_preds)\n",
    "accuracy"
   ]
  },
  {
   "cell_type": "code",
   "execution_count": 11,
   "id": "198e37f0-2d94-443e-a505-136b1e8d10ad",
   "metadata": {},
   "outputs": [],
   "source": [
    "#Get error/score metrics\n",
    "from sklearn.metrics import mean_squared_error as mse\n",
    "from sklearn.metrics import mean_absolute_error as mae"
   ]
  },
  {
   "cell_type": "code",
   "execution_count": 12,
   "id": "b858620f-5e67-42d5-bb37-a369d7ad0160",
   "metadata": {},
   "outputs": [
    {
     "name": "stdout",
     "output_type": "stream",
     "text": [
      "0.5060570619999291\n",
      "0.25609375\n"
     ]
    }
   ],
   "source": [
    "print(mse(y_train, y_trainpreds, squared=False))\n",
    "print(mae(y_train, y_trainpreds))"
   ]
  },
  {
   "cell_type": "code",
   "execution_count": 13,
   "id": "4b79b6c2-7013-41c0-ba59-d648f2878a29",
   "metadata": {},
   "outputs": [
    {
     "name": "stdout",
     "output_type": "stream",
     "text": [
      "0.5739120141624497\n",
      "0.329375\n"
     ]
    }
   ],
   "source": [
    "print(mse(y_val, y_val_preds, squared=False))\n",
    "print(mae(y_val, y_val_preds))"
   ]
  },
  {
   "cell_type": "code",
   "execution_count": 14,
   "id": "524da714-e72a-4550-9b0d-438e68e0e0e7",
   "metadata": {},
   "outputs": [
    {
     "data": {
      "text/plain": [
       "0.74390625"
      ]
     },
     "execution_count": 14,
     "metadata": {},
     "output_type": "execute_result"
    }
   ],
   "source": [
    "xgb_model.score(X_train, y_train)"
   ]
  },
  {
   "cell_type": "code",
   "execution_count": 15,
   "id": "77248cb8-8ef9-457e-9088-197dfbe29149",
   "metadata": {},
   "outputs": [
    {
     "data": {
      "text/plain": [
       "0.670625"
      ]
     },
     "execution_count": 15,
     "metadata": {},
     "output_type": "execute_result"
    }
   ],
   "source": [
    "xgb_model.score(X_val, y_val)"
   ]
  },
  {
   "cell_type": "code",
   "execution_count": 16,
   "id": "db6126a4-a848-472f-aa79-d3888cada307",
   "metadata": {},
   "outputs": [],
   "source": [
    "from sklearn.metrics import confusion_matrix\n",
    "from sklearn.metrics import plot_confusion_matrix\n",
    "import matplotlib.pyplot as plt"
   ]
  },
  {
   "cell_type": "code",
   "execution_count": 17,
   "id": "98143b95-42ad-4a36-b89b-ab3be1efc4af",
   "metadata": {},
   "outputs": [
    {
     "data": {
      "image/png": "[encoded data removed]",
      "text/plain": [
       "<Figure size 300x300 with 1 Axes>"
      ]
     },
     "metadata": {},
     "output_type": "display_data"
    }
   ],
   "source": [
    "cm = confusion_matrix(y_val, y_val_preds)\n",
    "\n",
    "fig, ax = plt.subplots(figsize=(3, 3))\n",
    "ax.imshow(cm)\n",
    "ax.grid(False)\n",
    "ax.xaxis.set(ticks=(0, 1), ticklabels=('Predicted 0s', 'Predicted 1s'))\n",
    "ax.yaxis.set(ticks=(0, 1), ticklabels=('Actual 0s', 'Actual 1s'))\n",
    "ax.set_ylim(1.5, -0.5)\n",
    "for i in range(2):\n",
    "    for j in range(2):\n",
    "        ax.text(j, i, cm[i, j], ha='center', va='center', color='white')\n",
    "plt.show()"
   ]
  },
  {
   "cell_type": "code",
   "execution_count": 18,
   "id": "76a69c1f-3c7e-48c7-a470-d72060654870",
   "metadata": {},
   "outputs": [],
   "source": [
    "y_test_preds = xgb_model.predict_proba(X_test)"
   ]
  },
  {
   "cell_type": "code",
   "execution_count": 19,
   "id": "d8b3ea43-2d09-45a1-ab43-f5c4659f0ef3",
   "metadata": {},
   "outputs": [],
   "source": [
    "#Create Data Frame for Doc printing\n",
    "df =pd.DataFrame()"
   ]
  },
  {
   "cell_type": "code",
   "execution_count": 20,
   "id": "2a395ced-dc63-4875-a0b2-972b9158d158",
   "metadata": {},
   "outputs": [
    {
     "data": {
      "text/plain": [
       "array([[0.5973977 , 0.40260231],\n",
       "       [0.36186057, 0.6381394 ],\n",
       "       [0.19691747, 0.8030825 ],\n",
       "       ...,\n",
       "       [0.6486535 , 0.3513465 ],\n",
       "       [0.23215818, 0.7678418 ],\n",
       "       [0.30415577, 0.69584423]], dtype=float32)"
      ]
     },
     "execution_count": 20,
     "metadata": {},
     "output_type": "execute_result"
    }
   ],
   "source": [
    "y_test_preds\n"
   ]
  },
  {
   "cell_type": "code",
   "execution_count": 21,
   "id": "b0221d9b-b513-44fd-ae69-f2979e18d266",
   "metadata": {},
   "outputs": [],
   "source": [
    "target_prob = y_test_preds\n",
    "target_prob = [item[1] for item in y_test_preds]"
   ]
  },
  {
   "cell_type": "code",
   "execution_count": 22,
   "id": "e0440476-83b2-4909-a46b-6cedfb5b8f03",
   "metadata": {},
   "outputs": [],
   "source": [
    "df['Id'] = X_test_ID\n",
    "df['TARGET_5Yrs'] = target_prob"
   ]
  },
  {
   "cell_type": "code",
   "execution_count": 23,
   "id": "4909e66f-ed64-45f5-95fd-340ad1b731d7",
   "metadata": {},
   "outputs": [
    {
     "data": {
      "text/html": [
       "<div>\n",
       "<style scoped>\n",
       "    .dataframe tbody tr th:only-of-type {\n",
       "        vertical-align: middle;\n",
       "    }\n",
       "\n",
       "    .dataframe tbody tr th {\n",
       "        vertical-align: top;\n",
       "    }\n",
       "\n",
       "    .dataframe thead th {\n",
       "        text-align: right;\n",
       "    }\n",
       "</style>\n",
       "<table border=\"1\" class=\"dataframe\">\n",
       "  <thead>\n",
       "    <tr style=\"text-align: right;\">\n",
       "      <th></th>\n",
       "      <th>Id</th>\n",
       "      <th>TARGET_5Yrs</th>\n",
       "    </tr>\n",
       "  </thead>\n",
       "  <tbody>\n",
       "    <tr>\n",
       "      <th>0</th>\n",
       "      <td>0</td>\n",
       "      <td>0.402602</td>\n",
       "    </tr>\n",
       "    <tr>\n",
       "      <th>1</th>\n",
       "      <td>1</td>\n",
       "      <td>0.638139</td>\n",
       "    </tr>\n",
       "    <tr>\n",
       "      <th>2</th>\n",
       "      <td>2</td>\n",
       "      <td>0.803083</td>\n",
       "    </tr>\n",
       "    <tr>\n",
       "      <th>3</th>\n",
       "      <td>3</td>\n",
       "      <td>0.869072</td>\n",
       "    </tr>\n",
       "    <tr>\n",
       "      <th>4</th>\n",
       "      <td>4</td>\n",
       "      <td>0.413050</td>\n",
       "    </tr>\n",
       "  </tbody>\n",
       "</table>\n",
       "</div>"
      ],
      "text/plain": [
       "   Id  TARGET_5Yrs\n",
       "0   0     0.402602\n",
       "1   1     0.638139\n",
       "2   2     0.803083\n",
       "3   3     0.869072\n",
       "4   4     0.413050"
      ]
     },
     "execution_count": 23,
     "metadata": {},
     "output_type": "execute_result"
    }
   ],
   "source": [
    "df.head()"
   ]
  },
  {
   "cell_type": "code",
   "execution_count": 24,
   "id": "d6eb3b2d-e232-4b64-a20d-169898089bdd",
   "metadata": {},
   "outputs": [],
   "source": [
    "#Saving predictions into csv\n",
    "df.to_csv('../data/external/Kaggle_submission_XGBoost.csv', index=False)"
   ]
  },
  {
   "cell_type": "code",
   "execution_count": null,
   "id": "3d2d55e2-5b17-48b9-8d98-07c7ab734dc8",
   "metadata": {},
   "outputs": [],
   "source": []
  }
 ],
 "metadata": {
  "kernelspec": {
   "display_name": "Python 3 (ipykernel)",
   "language": "python",
   "name": "python3"
  },
  "language_info": {
   "codemirror_mode": {
    "name": "ipython",
    "version": 3
   },
   "file_extension": ".py",
   "mimetype": "text/x-python",
   "name": "python",
   "nbconvert_exporter": "python",
   "pygments_lexer": "ipython3",
   "version": "3.10.6"
  }
 },
 "nbformat": 4,
 "nbformat_minor": 5
}
