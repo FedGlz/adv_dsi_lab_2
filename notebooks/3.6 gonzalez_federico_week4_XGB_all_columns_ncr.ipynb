{
 "cells": [
  {
   "cell_type": "markdown",
   "id": "ac5718b6-58d3-4146-970c-644f1d4d57d1",
   "metadata": {},
   "source": [
    "<h3> NBA 5 year careeer prediction using XBoost Classifier"
   ]
  },
  {
   "cell_type": "code",
   "execution_count": 1,
   "id": "ca6cf86d-1201-4b42-9890-54e3132bcc93",
   "metadata": {},
   "outputs": [],
   "source": [
    "import pandas as pd\n",
    "import numpy as np"
   ]
  },
  {
   "cell_type": "markdown",
   "id": "17869c91-ff43-4c0c-b517-336880c0c840",
   "metadata": {},
   "source": [
    "<h4> 1. Load processed sets"
   ]
  },
  {
   "cell_type": "markdown",
   "id": "f5ab5745-696c-42cf-b86d-bf3225460f89",
   "metadata": {},
   "source": [
    "<h5> Loading scaled training, validation and test sets from data_prep step saved on the data/processed folder saving them into X_train, X_val, y_train, y_val, X_test, X_test_ID variables"
   ]
  },
  {
   "cell_type": "code",
   "execution_count": 2,
   "id": "33ed92b8-6971-44f6-9419-a48f8d45871b",
   "metadata": {},
   "outputs": [],
   "source": [
    "#Load Test and validation sets using custom function load_sets\n",
    "from src.data.sets import load_sets"
   ]
  },
  {
   "cell_type": "code",
   "execution_count": 3,
   "id": "8f896d87-99c8-4209-b79b-efd4c0ad28d3",
   "metadata": {},
   "outputs": [],
   "source": [
    "X_train, X_val, y_train, y_val, X_test, X_test_ID = load_sets()"
   ]
  },
  {
   "cell_type": "markdown",
   "id": "ec23177f-384f-465a-a8fe-6397fad3799c",
   "metadata": {},
   "source": [
    "<h5> Reviewing weight of the minority vs mayority class to be used from the imported sets that had been re-sampled. As we can see, the training sets are 50% balanced"
   ]
  },
  {
   "cell_type": "code",
   "execution_count": 4,
   "id": "3c479379-7f05-43e4-b1e9-db9b6504496c",
   "metadata": {},
   "outputs": [
    {
     "data": {
      "text/plain": [
       "0.9981255857544518"
      ]
     },
     "execution_count": 4,
     "metadata": {},
     "output_type": "execute_result"
    }
   ],
   "source": [
    "# calculating weights for unbalanced data validation\n",
    "sum_wpos = len([item for item in y_train if item==1 ])\n",
    "sum_wneg = len([item for item in y_train if item==0 ])\n",
    "sum_wneg/sum_wpos"
   ]
  },
  {
   "cell_type": "markdown",
   "id": "6c9dd78f-7205-4310-9bfe-5c30cacd4c06",
   "metadata": {},
   "source": [
    "<h4> 2. Import Random Forest"
   ]
  },
  {
   "cell_type": "markdown",
   "id": "0a8f5c91-9d2e-43ef-87ba-f193bb7f8375",
   "metadata": {},
   "source": [
    "<h5> Importing and fitting Random Forest Classifier"
   ]
  },
  {
   "cell_type": "code",
   "execution_count": 5,
   "id": "49734e9d-1a7f-4e1d-9174-38a9e4a27000",
   "metadata": {},
   "outputs": [],
   "source": [
    "import xgboost as xgb"
   ]
  },
  {
   "cell_type": "code",
   "execution_count": 6,
   "id": "5db7e76f-f01d-42b6-a74f-d154d9435236",
   "metadata": {},
   "outputs": [],
   "source": [
    "#ml_model = xgb.XGBClassifier(objective='binary:logistic', \n",
    "                              #objective='binary:hinge',\n",
    "                              #booster='gbtree', \n",
    "                              #eta=0.2, # OK\n",
    "                              #max_depth=10, #testing\n",
    "                              #n_estimators=200, #testing\n",
    "                              #subsample=0.7,\n",
    "                              #validate_parameters=True,\n",
    "                              #max_delta_step=8, #testing. 8ok\n",
    "                              #seed=42)"
   ]
  },
  {
   "cell_type": "code",
   "execution_count": null,
   "id": "d1235ddb-34a6-404d-81c2-a08eb021b8d3",
   "metadata": {},
   "outputs": [],
   "source": [
    "from sklearn.linear_model import LogisticRegression"
   ]
  },
  {
   "cell_type": "code",
   "execution_count": null,
   "id": "2ad1ae79-1129-4d82-b980-f847ada9f92e",
   "metadata": {},
   "outputs": [],
   "source": [
    "ml_model = LogisticRegression()"
   ]
  },
  {
   "cell_type": "code",
   "execution_count": null,
   "id": "979f6c93-a8e5-4b3f-a64c-574924662ee0",
   "metadata": {},
   "outputs": [],
   "source": []
  },
  {
   "cell_type": "markdown",
   "id": "fddd2125-7920-4e5f-8770-20f9d3396d32",
   "metadata": {},
   "source": [
    "<h4> 2.2 Importing predictors names saved"
   ]
  },
  {
   "cell_type": "markdown",
   "id": "579e2530-770f-409c-a77c-8ff97214b528",
   "metadata": {},
   "source": [
    "<h5> As column importance is given in order of appearance on the scaled set, importing column names saved in data_prep for easy visualization and identification will be performed"
   ]
  },
  {
   "cell_type": "markdown",
   "id": "1d8e19d9-0fff-40d2-9fac-a6d55a545641",
   "metadata": {},
   "source": [
    "<h5> Importing predictor column names and combining with relevant columns to find out the best feature predictors"
   ]
  },
  {
   "cell_type": "code",
   "execution_count": 7,
   "id": "04693028-5f0c-43d7-89d3-82a7c45d1b76",
   "metadata": {},
   "outputs": [],
   "source": [
    "predictors  = pd.read_csv('../data/interim/predictor_names.csv')"
   ]
  },
  {
   "cell_type": "code",
   "execution_count": 8,
   "id": "33a33d15-2458-433b-b32b-51877eb92426",
   "metadata": {},
   "outputs": [],
   "source": [
    "predictors_df = predictors.copy()"
   ]
  },
  {
   "cell_type": "code",
   "execution_count": 9,
   "id": "3d64d12d-a538-4532-8f30-139a8ff1fa30",
   "metadata": {},
   "outputs": [],
   "source": [
    "predictors = predictors['names'].tolist()"
   ]
  },
  {
   "cell_type": "markdown",
   "id": "8249683a-d4a1-41c0-a98a-2102dc55df5f",
   "metadata": {},
   "source": [
    "<h4> 3. Train RF Classifier with new calculated training sets"
   ]
  },
  {
   "cell_type": "markdown",
   "id": "d3e3d63e-6b67-4bd7-9e05-cb26fd1f7c31",
   "metadata": {},
   "source": [
    "<h5> Next up, the RF classifier will be imported and trained with the new training set and saved into the models folder"
   ]
  },
  {
   "cell_type": "code",
   "execution_count": 10,
   "id": "d16f5a64-be9a-4490-b849-296495959c28",
   "metadata": {},
   "outputs": [
    {
     "name": "stdout",
     "output_type": "stream",
     "text": [
      "[0]\tvalidation_0-auc:0.64893\n",
      "[1]\tvalidation_0-auc:0.66903\n",
      "[2]\tvalidation_0-auc:0.66375\n",
      "[3]\tvalidation_0-auc:0.67350\n",
      "[4]\tvalidation_0-auc:0.67705\n",
      "[5]\tvalidation_0-auc:0.67845\n",
      "[6]\tvalidation_0-auc:0.67606\n",
      "[7]\tvalidation_0-auc:0.67763\n",
      "[8]\tvalidation_0-auc:0.67974\n"
     ]
    },
    {
     "name": "stderr",
     "output_type": "stream",
     "text": [
      "/opt/conda/lib/python3.10/site-packages/xgboost/sklearn.py:861: UserWarning: `eval_metric` in `fit` method is deprecated for better compatibility with scikit-learn, use `eval_metric` in constructor or`set_params` instead.\n",
      "  warnings.warn(\n",
      "/opt/conda/lib/python3.10/site-packages/xgboost/sklearn.py:861: UserWarning: `early_stopping_rounds` in `fit` method is deprecated for better compatibility with scikit-learn, use `early_stopping_rounds` in constructor or`set_params` instead.\n",
      "  warnings.warn(\n"
     ]
    },
    {
     "name": "stdout",
     "output_type": "stream",
     "text": [
      "[9]\tvalidation_0-auc:0.67698\n",
      "[10]\tvalidation_0-auc:0.66927\n",
      "[11]\tvalidation_0-auc:0.66446\n",
      "[12]\tvalidation_0-auc:0.66456\n",
      "[13]\tvalidation_0-auc:0.66552\n",
      "[14]\tvalidation_0-auc:0.66260\n",
      "[15]\tvalidation_0-auc:0.66276\n",
      "[16]\tvalidation_0-auc:0.66242\n",
      "[17]\tvalidation_0-auc:0.66100\n",
      "[18]\tvalidation_0-auc:0.66117\n"
     ]
    },
    {
     "data": {
      "text/html": [
       "<style>#sk-container-id-1 {color: black;background-color: white;}#sk-container-id-1 pre{padding: 0;}#sk-container-id-1 div.sk-toggleable {background-color: white;}#sk-container-id-1 label.sk-toggleable__label {cursor: pointer;display: block;width: 100%;margin-bottom: 0;padding: 0.3em;box-sizing: border-box;text-align: center;}#sk-container-id-1 label.sk-toggleable__label-arrow:before {content: \"▸\";float: left;margin-right: 0.25em;color: #696969;}#sk-container-id-1 label.sk-toggleable__label-arrow:hover:before {color: black;}#sk-container-id-1 div.sk-estimator:hover label.sk-toggleable__label-arrow:before {color: black;}#sk-container-id-1 div.sk-toggleable__content {max-height: 0;max-width: 0;overflow: hidden;text-align: left;background-color: #f0f8ff;}#sk-container-id-1 div.sk-toggleable__content pre {margin: 0.2em;color: black;border-radius: 0.25em;background-color: #f0f8ff;}#sk-container-id-1 input.sk-toggleable__control:checked~div.sk-toggleable__content {max-height: 200px;max-width: 100%;overflow: auto;}#sk-container-id-1 input.sk-toggleable__control:checked~label.sk-toggleable__label-arrow:before {content: \"▾\";}#sk-container-id-1 div.sk-estimator input.sk-toggleable__control:checked~label.sk-toggleable__label {background-color: #d4ebff;}#sk-container-id-1 div.sk-label input.sk-toggleable__control:checked~label.sk-toggleable__label {background-color: #d4ebff;}#sk-container-id-1 input.sk-hidden--visually {border: 0;clip: rect(1px 1px 1px 1px);clip: rect(1px, 1px, 1px, 1px);height: 1px;margin: -1px;overflow: hidden;padding: 0;position: absolute;width: 1px;}#sk-container-id-1 div.sk-estimator {font-family: monospace;background-color: #f0f8ff;border: 1px dotted black;border-radius: 0.25em;box-sizing: border-box;margin-bottom: 0.5em;}#sk-container-id-1 div.sk-estimator:hover {background-color: #d4ebff;}#sk-container-id-1 div.sk-parallel-item::after {content: \"\";width: 100%;border-bottom: 1px solid gray;flex-grow: 1;}#sk-container-id-1 div.sk-label:hover label.sk-toggleable__label {background-color: #d4ebff;}#sk-container-id-1 div.sk-serial::before {content: \"\";position: absolute;border-left: 1px solid gray;box-sizing: border-box;top: 0;bottom: 0;left: 50%;z-index: 0;}#sk-container-id-1 div.sk-serial {display: flex;flex-direction: column;align-items: center;background-color: white;padding-right: 0.2em;padding-left: 0.2em;position: relative;}#sk-container-id-1 div.sk-item {position: relative;z-index: 1;}#sk-container-id-1 div.sk-parallel {display: flex;align-items: stretch;justify-content: center;background-color: white;position: relative;}#sk-container-id-1 div.sk-item::before, #sk-container-id-1 div.sk-parallel-item::before {content: \"\";position: absolute;border-left: 1px solid gray;box-sizing: border-box;top: 0;bottom: 0;left: 50%;z-index: -1;}#sk-container-id-1 div.sk-parallel-item {display: flex;flex-direction: column;z-index: 1;position: relative;background-color: white;}#sk-container-id-1 div.sk-parallel-item:first-child::after {align-self: flex-end;width: 50%;}#sk-container-id-1 div.sk-parallel-item:last-child::after {align-self: flex-start;width: 50%;}#sk-container-id-1 div.sk-parallel-item:only-child::after {width: 0;}#sk-container-id-1 div.sk-dashed-wrapped {border: 1px dashed gray;margin: 0 0.4em 0.5em 0.4em;box-sizing: border-box;padding-bottom: 0.4em;background-color: white;}#sk-container-id-1 div.sk-label label {font-family: monospace;font-weight: bold;display: inline-block;line-height: 1.2em;}#sk-container-id-1 div.sk-label-container {text-align: center;}#sk-container-id-1 div.sk-container {/* jupyter's `normalize.less` sets `[hidden] { display: none; }` but bootstrap.min.css set `[hidden] { display: none !important; }` so we also need the `!important` here to be able to override the default hidden behavior on the sphinx rendered scikit-learn.org. See: https://github.com/scikit-learn/scikit-learn/issues/21755 */display: inline-block !important;position: relative;}#sk-container-id-1 div.sk-text-repr-fallback {display: none;}</style><div id=\"sk-container-id-1\" class=\"sk-top-container\"><div class=\"sk-text-repr-fallback\"><pre>XGBClassifier(base_score=0.5, booster=&#x27;gbtree&#x27;, callbacks=None,\n",
       "              colsample_bylevel=1, colsample_bynode=1, colsample_bytree=1,\n",
       "              early_stopping_rounds=None, enable_categorical=False,\n",
       "              eval_metric=None, feature_types=None, gamma=0, gpu_id=-1,\n",
       "              grow_policy=&#x27;depthwise&#x27;, importance_type=None,\n",
       "              interaction_constraints=&#x27;&#x27;, learning_rate=0.300000012,\n",
       "              max_bin=256, max_cat_threshold=64, max_cat_to_onehot=4,\n",
       "              max_delta_step=0, max_depth=6, max_leaves=0, min_child_weight=1,\n",
       "              missing=nan, monotone_constraints=&#x27;()&#x27;, n_estimators=200,\n",
       "              n_jobs=0, num_parallel_tree=1, predictor=&#x27;auto&#x27;, random_state=42, ...)</pre><b>In a Jupyter environment, please rerun this cell to show the HTML representation or trust the notebook. <br />On GitHub, the HTML representation is unable to render, please try loading this page with nbviewer.org.</b></div><div class=\"sk-container\" hidden><div class=\"sk-item\"><div class=\"sk-estimator sk-toggleable\"><input class=\"sk-toggleable__control sk-hidden--visually\" id=\"sk-estimator-id-1\" type=\"checkbox\" checked><label for=\"sk-estimator-id-1\" class=\"sk-toggleable__label sk-toggleable__label-arrow\">XGBClassifier</label><div class=\"sk-toggleable__content\"><pre>XGBClassifier(base_score=0.5, booster=&#x27;gbtree&#x27;, callbacks=None,\n",
       "              colsample_bylevel=1, colsample_bynode=1, colsample_bytree=1,\n",
       "              early_stopping_rounds=None, enable_categorical=False,\n",
       "              eval_metric=None, feature_types=None, gamma=0, gpu_id=-1,\n",
       "              grow_policy=&#x27;depthwise&#x27;, importance_type=None,\n",
       "              interaction_constraints=&#x27;&#x27;, learning_rate=0.300000012,\n",
       "              max_bin=256, max_cat_threshold=64, max_cat_to_onehot=4,\n",
       "              max_delta_step=0, max_depth=6, max_leaves=0, min_child_weight=1,\n",
       "              missing=nan, monotone_constraints=&#x27;()&#x27;, n_estimators=200,\n",
       "              n_jobs=0, num_parallel_tree=1, predictor=&#x27;auto&#x27;, random_state=42, ...)</pre></div></div></div></div></div>"
      ],
      "text/plain": [
       "XGBClassifier(base_score=0.5, booster='gbtree', callbacks=None,\n",
       "              colsample_bylevel=1, colsample_bynode=1, colsample_bytree=1,\n",
       "              early_stopping_rounds=None, enable_categorical=False,\n",
       "              eval_metric=None, feature_types=None, gamma=0, gpu_id=-1,\n",
       "              grow_policy='depthwise', importance_type=None,\n",
       "              interaction_constraints='', learning_rate=0.300000012,\n",
       "              max_bin=256, max_cat_threshold=64, max_cat_to_onehot=4,\n",
       "              max_delta_step=0, max_depth=6, max_leaves=0, min_child_weight=1,\n",
       "              missing=nan, monotone_constraints='()', n_estimators=200,\n",
       "              n_jobs=0, num_parallel_tree=1, predictor='auto', random_state=42, ...)"
      ]
     },
     "execution_count": 10,
     "metadata": {},
     "output_type": "execute_result"
    }
   ],
   "source": [
    "ml_model.fit(X_train, y_train , early_stopping_rounds=10, \n",
    "              eval_metric='auc', eval_set=[(X_val,y_val)])"
   ]
  },
  {
   "cell_type": "markdown",
   "id": "2160c5dd-64fd-43a7-8ffc-45176dc62d0e",
   "metadata": {},
   "source": [
    "<h5> After the model has been fitted, it will be saved in the models folder in case it needs to be re-called on a later process"
   ]
  },
  {
   "cell_type": "code",
   "execution_count": 11,
   "id": "e9981f3d-8bf5-41c0-8e26-c00024790792",
   "metadata": {},
   "outputs": [],
   "source": [
    "from sklearn.metrics import accuracy_score"
   ]
  },
  {
   "cell_type": "code",
   "execution_count": 12,
   "id": "c6d9f5c5-60f8-4f34-928c-0fd0fb55d5b1",
   "metadata": {},
   "outputs": [],
   "source": [
    "#Save model in the models folder\n",
    "#from joblib import dump\n",
    "#dump(rf_model, '../models/RF5.joblib')"
   ]
  },
  {
   "cell_type": "markdown",
   "id": "db6d4407-9b8c-40d8-98ce-42250adf55b0",
   "metadata": {},
   "source": [
    "<h4> 3.1 Generate predictions for training and validation sets in order to compare accuracy and AUROC"
   ]
  },
  {
   "cell_type": "markdown",
   "id": "ae4ab9df-423e-4aed-a10c-ff2788a7a055",
   "metadata": {},
   "source": [
    "<h5> The fitted model will be used to predict the validation and test set"
   ]
  },
  {
   "cell_type": "code",
   "execution_count": 13,
   "id": "741ccb0d-fbd0-4a6a-8113-aac33fb9e30e",
   "metadata": {},
   "outputs": [],
   "source": [
    "y_val_preds = ml_model.predict(X_val)"
   ]
  },
  {
   "cell_type": "code",
   "execution_count": 14,
   "id": "fb4dbc32-1dde-43a0-96a0-f02be0fb726f",
   "metadata": {},
   "outputs": [],
   "source": [
    "y_trainpreds = ml_model.predict(X_train)"
   ]
  },
  {
   "cell_type": "markdown",
   "id": "170de4fd-e7eb-4bf8-aa7d-d2ff41f874b0",
   "metadata": {},
   "source": [
    "<h4> 3.2 Calculate model score in training and validation sets to assess fitting accuracy"
   ]
  },
  {
   "cell_type": "code",
   "execution_count": 15,
   "id": "524da714-e72a-4550-9b0d-438e68e0e0e7",
   "metadata": {},
   "outputs": [
    {
     "data": {
      "text/plain": [
       "0.7876172607879925"
      ]
     },
     "execution_count": 15,
     "metadata": {},
     "output_type": "execute_result"
    }
   ],
   "source": [
    "ml_model.score(X_train, y_train)"
   ]
  },
  {
   "cell_type": "code",
   "execution_count": 16,
   "id": "77248cb8-8ef9-457e-9088-197dfbe29149",
   "metadata": {},
   "outputs": [
    {
     "data": {
      "text/plain": [
       "0.655625"
      ]
     },
     "execution_count": 16,
     "metadata": {},
     "output_type": "execute_result"
    }
   ],
   "source": [
    "ml_model.score(X_val, y_val)"
   ]
  },
  {
   "cell_type": "markdown",
   "id": "71c86383-241b-47cc-a2c7-388d02c5ff55",
   "metadata": {},
   "source": [
    "<h5> The training model shows a perfect fit with the training set, however, the model score drops to 0.82 on the validation set suggesting there is overfitting in the training set"
   ]
  },
  {
   "cell_type": "markdown",
   "id": "da6dde7e-639d-4f88-98cb-210e2eb34873",
   "metadata": {},
   "source": [
    "<h4> 4 Analysis of the validation set"
   ]
  },
  {
   "cell_type": "markdown",
   "id": "db565169-7cf6-45e2-9488-ac2fa22f74a9",
   "metadata": {},
   "source": [
    "<h5> 4.1 Confusion Matrix"
   ]
  },
  {
   "cell_type": "markdown",
   "id": "4d914344-5105-455f-8bd5-c842bec9ee41",
   "metadata": {},
   "source": [
    "<h5> Analysis of the results will be done through a confusion matrix and AUROC to gather insights as to where the accuracy/innacuracy exists in order to improve the model in future experiments <br> <br> We'll look into a confusion matrix to see the distribution of the predictions from the model"
   ]
  },
  {
   "cell_type": "code",
   "execution_count": 17,
   "id": "db6126a4-a848-472f-aa79-d3888cada307",
   "metadata": {},
   "outputs": [],
   "source": [
    "from sklearn.metrics import confusion_matrix\n",
    "from sklearn.metrics import plot_confusion_matrix\n",
    "import matplotlib.pyplot as plt"
   ]
  },
  {
   "cell_type": "code",
   "execution_count": 18,
   "id": "98143b95-42ad-4a36-b89b-ab3be1efc4af",
   "metadata": {
    "tags": []
   },
   "outputs": [
    {
     "data": {
      "image/png": "[encoded data removed]",
      "text/plain": [
       "<Figure size 500x500 with 1 Axes>"
      ]
     },
     "metadata": {},
     "output_type": "display_data"
    }
   ],
   "source": [
    "cm = confusion_matrix(y_val, y_val_preds , normalize='true'\n",
    "                     )\n",
    "\n",
    "fig, ax = plt.subplots(figsize=(5, 5))\n",
    "ax.imshow(cm)\n",
    "ax.grid(False)\n",
    "ax.xaxis.set(ticks=(0, 1), ticklabels=('Predicted 0s', 'Predicted 1s'))\n",
    "ax.yaxis.set(ticks=(0, 1), ticklabels=('Actual 0s', 'Actual 1s'))\n",
    "ax.set_ylim(1.5, -0.5)\n",
    "for i in range(2):\n",
    "    for j in range(2):\n",
    "        ax.text(j, i, cm[i, j], ha='center', va='center', color='white')\n",
    "plt.show()"
   ]
  },
  {
   "cell_type": "markdown",
   "id": "e3052554-0c95-40d8-a11c-746f8158a3ce",
   "metadata": {},
   "source": [
    "<h5> As seen in the confusion matrix, 92% of true positive target was predicted correctly, however, 97% of negative target was predicted incorrectly (false positive)"
   ]
  },
  {
   "cell_type": "markdown",
   "id": "a603580b-d49d-490a-ae94-b901bdc8e830",
   "metadata": {},
   "source": [
    "<h5> 4.2 AUROC"
   ]
  },
  {
   "cell_type": "code",
   "execution_count": 19,
   "id": "25162f77-d3aa-458e-b2da-3cd2be78a0d9",
   "metadata": {},
   "outputs": [],
   "source": [
    "import scikitplot as skplt\n",
    "import matplotlib.pyplot as plt"
   ]
  },
  {
   "cell_type": "code",
   "execution_count": 20,
   "id": "7b2248fa-90c6-4bf5-aee9-2af25a601a01",
   "metadata": {},
   "outputs": [],
   "source": [
    "y_val_prob = ml_model.predict_proba(X_val)"
   ]
  },
  {
   "cell_type": "code",
   "execution_count": 21,
   "id": "9afa6131-5a87-474d-b7ef-364197de664d",
   "metadata": {},
   "outputs": [
    {
     "data": {
      "image/png": "[encoded data removed]",
      "text/plain": [
       "<Figure size 640x480 with 1 Axes>"
      ]
     },
     "metadata": {},
     "output_type": "display_data"
    }
   ],
   "source": [
    "skplt.metrics.plot_roc(y_val, y_val_prob)\n",
    "plt.show()"
   ]
  },
  {
   "cell_type": "markdown",
   "id": "8e01ed36-85e1-453f-aaca-9fffb7448054",
   "metadata": {},
   "source": [
    "<h5> When analysing AUROC on the validation set, the mean ROC AUC is 0.67, meaning the model is predicting only 69% of the instances correctly"
   ]
  },
  {
   "cell_type": "markdown",
   "id": "e5262103-a90d-4a4e-a822-10bfa9be3b55",
   "metadata": {},
   "source": [
    "<h5> 4.3 Analysis of false positives vs positives to identify patterns"
   ]
  },
  {
   "cell_type": "markdown",
   "id": "388c73ce-1172-40a6-a3d6-11729cdf9eb6",
   "metadata": {},
   "source": [
    "<h5> Analysing true positives vs false positives as this is where the model is not accurately predicting the target"
   ]
  },
  {
   "cell_type": "code",
   "execution_count": 22,
   "id": "84871292-e375-47f4-890f-9797ee88fc23",
   "metadata": {},
   "outputs": [],
   "source": [
    "X_val_df = pd. DataFrame(X_val, columns = predictors)"
   ]
  },
  {
   "cell_type": "code",
   "execution_count": 23,
   "id": "dd0421e9-009b-4146-932f-f277484311fd",
   "metadata": {},
   "outputs": [],
   "source": [
    "y_val_list = y_val.tolist()\n",
    "X_val_df['y_val']=y_val_list"
   ]
  },
  {
   "cell_type": "code",
   "execution_count": 24,
   "id": "a9bd8c4e-a766-41a8-9f72-d08cf54c5628",
   "metadata": {},
   "outputs": [],
   "source": [
    "X_val_df['y_val_preds']=y_val_preds"
   ]
  },
  {
   "cell_type": "code",
   "execution_count": 25,
   "id": "cb6cae0a-8cd4-4e48-8759-ed7e27251d3c",
   "metadata": {},
   "outputs": [
    {
     "data": {
      "text/html": [
       "<div>\n",
       "<style scoped>\n",
       "    .dataframe tbody tr th:only-of-type {\n",
       "        vertical-align: middle;\n",
       "    }\n",
       "\n",
       "    .dataframe tbody tr th {\n",
       "        vertical-align: top;\n",
       "    }\n",
       "\n",
       "    .dataframe thead th {\n",
       "        text-align: right;\n",
       "    }\n",
       "</style>\n",
       "<table border=\"1\" class=\"dataframe\">\n",
       "  <thead>\n",
       "    <tr style=\"text-align: right;\">\n",
       "      <th></th>\n",
       "      <th>GP</th>\n",
       "      <th>MIN</th>\n",
       "      <th>PTS</th>\n",
       "      <th>FGM</th>\n",
       "      <th>FGA</th>\n",
       "      <th>FG%</th>\n",
       "      <th>3P Made</th>\n",
       "      <th>3PA</th>\n",
       "      <th>3P%</th>\n",
       "      <th>FTM</th>\n",
       "      <th>...</th>\n",
       "      <th>Min_per_GP</th>\n",
       "      <th>3P_per_GP</th>\n",
       "      <th>Stl_per_GP</th>\n",
       "      <th>Blk_per_GP</th>\n",
       "      <th>Reb_per_GP</th>\n",
       "      <th>ORtg</th>\n",
       "      <th>PPP</th>\n",
       "      <th>TSP</th>\n",
       "      <th>y_val</th>\n",
       "      <th>y_val_preds</th>\n",
       "    </tr>\n",
       "  </thead>\n",
       "  <tbody>\n",
       "    <tr>\n",
       "      <th>count</th>\n",
       "      <td>151.000000</td>\n",
       "      <td>151.000000</td>\n",
       "      <td>151.000000</td>\n",
       "      <td>151.000000</td>\n",
       "      <td>151.000000</td>\n",
       "      <td>151.000000</td>\n",
       "      <td>151.000000</td>\n",
       "      <td>151.000000</td>\n",
       "      <td>151.000000</td>\n",
       "      <td>151.000000</td>\n",
       "      <td>...</td>\n",
       "      <td>151.000000</td>\n",
       "      <td>151.000000</td>\n",
       "      <td>151.000000</td>\n",
       "      <td>151.000000</td>\n",
       "      <td>151.000000</td>\n",
       "      <td>151.000000</td>\n",
       "      <td>151.000000</td>\n",
       "      <td>151.000000</td>\n",
       "      <td>151.0</td>\n",
       "      <td>151.0</td>\n",
       "    </tr>\n",
       "    <tr>\n",
       "      <th>mean</th>\n",
       "      <td>45.304636</td>\n",
       "      <td>11.928477</td>\n",
       "      <td>4.136424</td>\n",
       "      <td>1.601987</td>\n",
       "      <td>3.998675</td>\n",
       "      <td>40.310596</td>\n",
       "      <td>0.355629</td>\n",
       "      <td>1.013907</td>\n",
       "      <td>22.356291</td>\n",
       "      <td>0.734437</td>\n",
       "      <td>...</td>\n",
       "      <td>0.277843</td>\n",
       "      <td>0.008907</td>\n",
       "      <td>0.010527</td>\n",
       "      <td>0.009985</td>\n",
       "      <td>0.042120</td>\n",
       "      <td>78.010512</td>\n",
       "      <td>0.780105</td>\n",
       "      <td>0.462959</td>\n",
       "      <td>0.0</td>\n",
       "      <td>0.0</td>\n",
       "    </tr>\n",
       "    <tr>\n",
       "      <th>std</th>\n",
       "      <td>13.425346</td>\n",
       "      <td>5.086051</td>\n",
       "      <td>2.171957</td>\n",
       "      <td>0.851937</td>\n",
       "      <td>2.098380</td>\n",
       "      <td>5.578974</td>\n",
       "      <td>0.256550</td>\n",
       "      <td>0.755781</td>\n",
       "      <td>14.614863</td>\n",
       "      <td>0.493430</td>\n",
       "      <td>...</td>\n",
       "      <td>0.126533</td>\n",
       "      <td>0.008031</td>\n",
       "      <td>0.006457</td>\n",
       "      <td>0.024473</td>\n",
       "      <td>0.027700</td>\n",
       "      <td>11.068489</td>\n",
       "      <td>0.110685</td>\n",
       "      <td>0.055281</td>\n",
       "      <td>0.0</td>\n",
       "      <td>0.0</td>\n",
       "    </tr>\n",
       "    <tr>\n",
       "      <th>min</th>\n",
       "      <td>4.000000</td>\n",
       "      <td>2.900000</td>\n",
       "      <td>0.800000</td>\n",
       "      <td>0.300000</td>\n",
       "      <td>0.800000</td>\n",
       "      <td>27.500000</td>\n",
       "      <td>0.000000</td>\n",
       "      <td>0.000000</td>\n",
       "      <td>0.000000</td>\n",
       "      <td>0.000000</td>\n",
       "      <td>...</td>\n",
       "      <td>0.082979</td>\n",
       "      <td>0.000000</td>\n",
       "      <td>0.001852</td>\n",
       "      <td>0.000000</td>\n",
       "      <td>0.006383</td>\n",
       "      <td>44.426494</td>\n",
       "      <td>0.444265</td>\n",
       "      <td>0.333333</td>\n",
       "      <td>0.0</td>\n",
       "      <td>0.0</td>\n",
       "    </tr>\n",
       "    <tr>\n",
       "      <th>25%</th>\n",
       "      <td>37.000000</td>\n",
       "      <td>8.300000</td>\n",
       "      <td>2.550000</td>\n",
       "      <td>0.950000</td>\n",
       "      <td>2.350000</td>\n",
       "      <td>36.350000</td>\n",
       "      <td>0.100000</td>\n",
       "      <td>0.500000</td>\n",
       "      <td>11.000000</td>\n",
       "      <td>0.400000</td>\n",
       "      <td>...</td>\n",
       "      <td>0.195658</td>\n",
       "      <td>0.003479</td>\n",
       "      <td>0.006253</td>\n",
       "      <td>0.002000</td>\n",
       "      <td>0.023431</td>\n",
       "      <td>71.261461</td>\n",
       "      <td>0.712615</td>\n",
       "      <td>0.425560</td>\n",
       "      <td>0.0</td>\n",
       "      <td>0.0</td>\n",
       "    </tr>\n",
       "    <tr>\n",
       "      <th>50%</th>\n",
       "      <td>47.000000</td>\n",
       "      <td>11.400000</td>\n",
       "      <td>4.000000</td>\n",
       "      <td>1.500000</td>\n",
       "      <td>3.800000</td>\n",
       "      <td>39.800000</td>\n",
       "      <td>0.300000</td>\n",
       "      <td>0.800000</td>\n",
       "      <td>20.800000</td>\n",
       "      <td>0.700000</td>\n",
       "      <td>...</td>\n",
       "      <td>0.251111</td>\n",
       "      <td>0.007143</td>\n",
       "      <td>0.009804</td>\n",
       "      <td>0.005000</td>\n",
       "      <td>0.033333</td>\n",
       "      <td>77.197150</td>\n",
       "      <td>0.771971</td>\n",
       "      <td>0.460025</td>\n",
       "      <td>0.0</td>\n",
       "      <td>0.0</td>\n",
       "    </tr>\n",
       "    <tr>\n",
       "      <th>75%</th>\n",
       "      <td>54.000000</td>\n",
       "      <td>15.450000</td>\n",
       "      <td>5.450000</td>\n",
       "      <td>2.000000</td>\n",
       "      <td>5.200000</td>\n",
       "      <td>43.800000</td>\n",
       "      <td>0.500000</td>\n",
       "      <td>1.400000</td>\n",
       "      <td>31.500000</td>\n",
       "      <td>0.900000</td>\n",
       "      <td>...</td>\n",
       "      <td>0.330804</td>\n",
       "      <td>0.012034</td>\n",
       "      <td>0.013270</td>\n",
       "      <td>0.008248</td>\n",
       "      <td>0.051800</td>\n",
       "      <td>83.346263</td>\n",
       "      <td>0.833463</td>\n",
       "      <td>0.488013</td>\n",
       "      <td>0.0</td>\n",
       "      <td>0.0</td>\n",
       "    </tr>\n",
       "    <tr>\n",
       "      <th>max</th>\n",
       "      <td>72.000000</td>\n",
       "      <td>26.500000</td>\n",
       "      <td>11.100000</td>\n",
       "      <td>4.000000</td>\n",
       "      <td>10.500000</td>\n",
       "      <td>58.100000</td>\n",
       "      <td>1.400000</td>\n",
       "      <td>3.900000</td>\n",
       "      <td>73.700000</td>\n",
       "      <td>2.900000</td>\n",
       "      <td>...</td>\n",
       "      <td>0.950000</td>\n",
       "      <td>0.046667</td>\n",
       "      <td>0.043750</td>\n",
       "      <td>0.200000</td>\n",
       "      <td>0.162162</td>\n",
       "      <td>128.406709</td>\n",
       "      <td>1.284067</td>\n",
       "      <td>0.717213</td>\n",
       "      <td>0.0</td>\n",
       "      <td>0.0</td>\n",
       "    </tr>\n",
       "  </tbody>\n",
       "</table>\n",
       "<p>8 rows × 29 columns</p>\n",
       "</div>"
      ],
      "text/plain": [
       "               GP         MIN         PTS         FGM         FGA         FG%  \\\n",
       "count  151.000000  151.000000  151.000000  151.000000  151.000000  151.000000   \n",
       "mean    45.304636   11.928477    4.136424    1.601987    3.998675   40.310596   \n",
       "std     13.425346    5.086051    2.171957    0.851937    2.098380    5.578974   \n",
       "min      4.000000    2.900000    0.800000    0.300000    0.800000   27.500000   \n",
       "25%     37.000000    8.300000    2.550000    0.950000    2.350000   36.350000   \n",
       "50%     47.000000   11.400000    4.000000    1.500000    3.800000   39.800000   \n",
       "75%     54.000000   15.450000    5.450000    2.000000    5.200000   43.800000   \n",
       "max     72.000000   26.500000   11.100000    4.000000   10.500000   58.100000   \n",
       "\n",
       "          3P Made         3PA         3P%         FTM  ...  Min_per_GP  \\\n",
       "count  151.000000  151.000000  151.000000  151.000000  ...  151.000000   \n",
       "mean     0.355629    1.013907   22.356291    0.734437  ...    0.277843   \n",
       "std      0.256550    0.755781   14.614863    0.493430  ...    0.126533   \n",
       "min      0.000000    0.000000    0.000000    0.000000  ...    0.082979   \n",
       "25%      0.100000    0.500000   11.000000    0.400000  ...    0.195658   \n",
       "50%      0.300000    0.800000   20.800000    0.700000  ...    0.251111   \n",
       "75%      0.500000    1.400000   31.500000    0.900000  ...    0.330804   \n",
       "max      1.400000    3.900000   73.700000    2.900000  ...    0.950000   \n",
       "\n",
       "        3P_per_GP  Stl_per_GP  Blk_per_GP  Reb_per_GP        ORtg         PPP  \\\n",
       "count  151.000000  151.000000  151.000000  151.000000  151.000000  151.000000   \n",
       "mean     0.008907    0.010527    0.009985    0.042120   78.010512    0.780105   \n",
       "std      0.008031    0.006457    0.024473    0.027700   11.068489    0.110685   \n",
       "min      0.000000    0.001852    0.000000    0.006383   44.426494    0.444265   \n",
       "25%      0.003479    0.006253    0.002000    0.023431   71.261461    0.712615   \n",
       "50%      0.007143    0.009804    0.005000    0.033333   77.197150    0.771971   \n",
       "75%      0.012034    0.013270    0.008248    0.051800   83.346263    0.833463   \n",
       "max      0.046667    0.043750    0.200000    0.162162  128.406709    1.284067   \n",
       "\n",
       "              TSP  y_val  y_val_preds  \n",
       "count  151.000000  151.0        151.0  \n",
       "mean     0.462959    0.0          0.0  \n",
       "std      0.055281    0.0          0.0  \n",
       "min      0.333333    0.0          0.0  \n",
       "25%      0.425560    0.0          0.0  \n",
       "50%      0.460025    0.0          0.0  \n",
       "75%      0.488013    0.0          0.0  \n",
       "max      0.717213    0.0          0.0  \n",
       "\n",
       "[8 rows x 29 columns]"
      ]
     },
     "execution_count": 25,
     "metadata": {},
     "output_type": "execute_result"
    }
   ],
   "source": [
    "#True Negatives\n",
    "X_val_true_neg = X_val_df[(X_val_df['y_val']==0)&(X_val_df['y_val_preds']==0)]\n",
    "X_val_true_neg.describe()"
   ]
  },
  {
   "cell_type": "code",
   "execution_count": 26,
   "id": "05b1aa3a-96ad-4a18-933f-7e3701a3a370",
   "metadata": {},
   "outputs": [
    {
     "data": {
      "text/plain": [
       "(151, 29)"
      ]
     },
     "execution_count": 26,
     "metadata": {},
     "output_type": "execute_result"
    }
   ],
   "source": [
    "X_val_true_neg.shape"
   ]
  },
  {
   "cell_type": "code",
   "execution_count": 27,
   "id": "664d16e9-2da6-4735-8bf0-19f16274adb6",
   "metadata": {},
   "outputs": [
    {
     "data": {
      "text/html": [
       "<div>\n",
       "<style scoped>\n",
       "    .dataframe tbody tr th:only-of-type {\n",
       "        vertical-align: middle;\n",
       "    }\n",
       "\n",
       "    .dataframe tbody tr th {\n",
       "        vertical-align: top;\n",
       "    }\n",
       "\n",
       "    .dataframe thead th {\n",
       "        text-align: right;\n",
       "    }\n",
       "</style>\n",
       "<table border=\"1\" class=\"dataframe\">\n",
       "  <thead>\n",
       "    <tr style=\"text-align: right;\">\n",
       "      <th></th>\n",
       "      <th>GP</th>\n",
       "      <th>MIN</th>\n",
       "      <th>PTS</th>\n",
       "      <th>FGM</th>\n",
       "      <th>FGA</th>\n",
       "      <th>FG%</th>\n",
       "      <th>3P Made</th>\n",
       "      <th>3PA</th>\n",
       "      <th>3P%</th>\n",
       "      <th>FTM</th>\n",
       "      <th>...</th>\n",
       "      <th>Min_per_GP</th>\n",
       "      <th>3P_per_GP</th>\n",
       "      <th>Stl_per_GP</th>\n",
       "      <th>Blk_per_GP</th>\n",
       "      <th>Reb_per_GP</th>\n",
       "      <th>ORtg</th>\n",
       "      <th>PPP</th>\n",
       "      <th>TSP</th>\n",
       "      <th>y_val</th>\n",
       "      <th>y_val_preds</th>\n",
       "    </tr>\n",
       "  </thead>\n",
       "  <tbody>\n",
       "    <tr>\n",
       "      <th>count</th>\n",
       "      <td>115.000000</td>\n",
       "      <td>115.000000</td>\n",
       "      <td>115.000000</td>\n",
       "      <td>115.000000</td>\n",
       "      <td>115.000000</td>\n",
       "      <td>115.000000</td>\n",
       "      <td>115.000000</td>\n",
       "      <td>115.000000</td>\n",
       "      <td>115.000000</td>\n",
       "      <td>115.000000</td>\n",
       "      <td>...</td>\n",
       "      <td>115.000000</td>\n",
       "      <td>115.000000</td>\n",
       "      <td>115.000000</td>\n",
       "      <td>115.000000</td>\n",
       "      <td>115.000000</td>\n",
       "      <td>115.000000</td>\n",
       "      <td>115.000000</td>\n",
       "      <td>115.000000</td>\n",
       "      <td>115.0</td>\n",
       "      <td>115.0</td>\n",
       "    </tr>\n",
       "    <tr>\n",
       "      <th>mean</th>\n",
       "      <td>62.852174</td>\n",
       "      <td>17.586957</td>\n",
       "      <td>6.800000</td>\n",
       "      <td>2.601739</td>\n",
       "      <td>5.854783</td>\n",
       "      <td>44.400870</td>\n",
       "      <td>0.395652</td>\n",
       "      <td>1.147826</td>\n",
       "      <td>23.777391</td>\n",
       "      <td>1.288696</td>\n",
       "      <td>...</td>\n",
       "      <td>0.284042</td>\n",
       "      <td>0.006692</td>\n",
       "      <td>0.009674</td>\n",
       "      <td>0.006356</td>\n",
       "      <td>0.049130</td>\n",
       "      <td>85.983008</td>\n",
       "      <td>0.859830</td>\n",
       "      <td>0.512578</td>\n",
       "      <td>0.0</td>\n",
       "      <td>1.0</td>\n",
       "    </tr>\n",
       "    <tr>\n",
       "      <th>std</th>\n",
       "      <td>14.138565</td>\n",
       "      <td>6.983986</td>\n",
       "      <td>3.205642</td>\n",
       "      <td>1.271205</td>\n",
       "      <td>2.809515</td>\n",
       "      <td>5.547791</td>\n",
       "      <td>0.255944</td>\n",
       "      <td>0.708884</td>\n",
       "      <td>15.730014</td>\n",
       "      <td>0.735058</td>\n",
       "      <td>...</td>\n",
       "      <td>0.107538</td>\n",
       "      <td>0.004714</td>\n",
       "      <td>0.006060</td>\n",
       "      <td>0.011589</td>\n",
       "      <td>0.031466</td>\n",
       "      <td>10.520379</td>\n",
       "      <td>0.105204</td>\n",
       "      <td>0.048923</td>\n",
       "      <td>0.0</td>\n",
       "      <td>0.0</td>\n",
       "    </tr>\n",
       "    <tr>\n",
       "      <th>min</th>\n",
       "      <td>27.000000</td>\n",
       "      <td>4.900000</td>\n",
       "      <td>1.300000</td>\n",
       "      <td>0.500000</td>\n",
       "      <td>1.100000</td>\n",
       "      <td>31.700000</td>\n",
       "      <td>0.000000</td>\n",
       "      <td>0.000000</td>\n",
       "      <td>0.300000</td>\n",
       "      <td>0.100000</td>\n",
       "      <td>...</td>\n",
       "      <td>0.096053</td>\n",
       "      <td>0.000000</td>\n",
       "      <td>0.000000</td>\n",
       "      <td>0.000000</td>\n",
       "      <td>0.006154</td>\n",
       "      <td>62.611807</td>\n",
       "      <td>0.626118</td>\n",
       "      <td>0.408401</td>\n",
       "      <td>0.0</td>\n",
       "      <td>1.0</td>\n",
       "    </tr>\n",
       "    <tr>\n",
       "      <th>25%</th>\n",
       "      <td>53.500000</td>\n",
       "      <td>12.450000</td>\n",
       "      <td>4.500000</td>\n",
       "      <td>1.700000</td>\n",
       "      <td>3.600000</td>\n",
       "      <td>40.650000</td>\n",
       "      <td>0.200000</td>\n",
       "      <td>0.600000</td>\n",
       "      <td>11.700000</td>\n",
       "      <td>0.800000</td>\n",
       "      <td>...</td>\n",
       "      <td>0.212702</td>\n",
       "      <td>0.003460</td>\n",
       "      <td>0.005196</td>\n",
       "      <td>0.001924</td>\n",
       "      <td>0.022381</td>\n",
       "      <td>78.477774</td>\n",
       "      <td>0.784778</td>\n",
       "      <td>0.485553</td>\n",
       "      <td>0.0</td>\n",
       "      <td>1.0</td>\n",
       "    </tr>\n",
       "    <tr>\n",
       "      <th>50%</th>\n",
       "      <td>63.000000</td>\n",
       "      <td>16.700000</td>\n",
       "      <td>6.200000</td>\n",
       "      <td>2.400000</td>\n",
       "      <td>5.700000</td>\n",
       "      <td>43.900000</td>\n",
       "      <td>0.400000</td>\n",
       "      <td>1.100000</td>\n",
       "      <td>23.200000</td>\n",
       "      <td>1.100000</td>\n",
       "      <td>...</td>\n",
       "      <td>0.257447</td>\n",
       "      <td>0.006098</td>\n",
       "      <td>0.008929</td>\n",
       "      <td>0.003750</td>\n",
       "      <td>0.041558</td>\n",
       "      <td>85.014409</td>\n",
       "      <td>0.850144</td>\n",
       "      <td>0.516262</td>\n",
       "      <td>0.0</td>\n",
       "      <td>1.0</td>\n",
       "    </tr>\n",
       "    <tr>\n",
       "      <th>75%</th>\n",
       "      <td>72.500000</td>\n",
       "      <td>21.600000</td>\n",
       "      <td>9.200000</td>\n",
       "      <td>3.450000</td>\n",
       "      <td>7.450000</td>\n",
       "      <td>47.250000</td>\n",
       "      <td>0.500000</td>\n",
       "      <td>1.500000</td>\n",
       "      <td>32.000000</td>\n",
       "      <td>1.800000</td>\n",
       "      <td>...</td>\n",
       "      <td>0.338237</td>\n",
       "      <td>0.009010</td>\n",
       "      <td>0.012404</td>\n",
       "      <td>0.008020</td>\n",
       "      <td>0.065844</td>\n",
       "      <td>92.311668</td>\n",
       "      <td>0.923117</td>\n",
       "      <td>0.538112</td>\n",
       "      <td>0.0</td>\n",
       "      <td>1.0</td>\n",
       "    </tr>\n",
       "    <tr>\n",
       "      <th>max</th>\n",
       "      <td>93.000000</td>\n",
       "      <td>38.100000</td>\n",
       "      <td>15.800000</td>\n",
       "      <td>6.200000</td>\n",
       "      <td>14.800000</td>\n",
       "      <td>58.100000</td>\n",
       "      <td>1.100000</td>\n",
       "      <td>3.200000</td>\n",
       "      <td>72.800000</td>\n",
       "      <td>4.200000</td>\n",
       "      <td>...</td>\n",
       "      <td>0.656897</td>\n",
       "      <td>0.023077</td>\n",
       "      <td>0.032609</td>\n",
       "      <td>0.118182</td>\n",
       "      <td>0.186842</td>\n",
       "      <td>119.132290</td>\n",
       "      <td>1.191323</td>\n",
       "      <td>0.653786</td>\n",
       "      <td>0.0</td>\n",
       "      <td>1.0</td>\n",
       "    </tr>\n",
       "  </tbody>\n",
       "</table>\n",
       "<p>8 rows × 29 columns</p>\n",
       "</div>"
      ],
      "text/plain": [
       "               GP         MIN         PTS         FGM         FGA         FG%  \\\n",
       "count  115.000000  115.000000  115.000000  115.000000  115.000000  115.000000   \n",
       "mean    62.852174   17.586957    6.800000    2.601739    5.854783   44.400870   \n",
       "std     14.138565    6.983986    3.205642    1.271205    2.809515    5.547791   \n",
       "min     27.000000    4.900000    1.300000    0.500000    1.100000   31.700000   \n",
       "25%     53.500000   12.450000    4.500000    1.700000    3.600000   40.650000   \n",
       "50%     63.000000   16.700000    6.200000    2.400000    5.700000   43.900000   \n",
       "75%     72.500000   21.600000    9.200000    3.450000    7.450000   47.250000   \n",
       "max     93.000000   38.100000   15.800000    6.200000   14.800000   58.100000   \n",
       "\n",
       "          3P Made         3PA         3P%         FTM  ...  Min_per_GP  \\\n",
       "count  115.000000  115.000000  115.000000  115.000000  ...  115.000000   \n",
       "mean     0.395652    1.147826   23.777391    1.288696  ...    0.284042   \n",
       "std      0.255944    0.708884   15.730014    0.735058  ...    0.107538   \n",
       "min      0.000000    0.000000    0.300000    0.100000  ...    0.096053   \n",
       "25%      0.200000    0.600000   11.700000    0.800000  ...    0.212702   \n",
       "50%      0.400000    1.100000   23.200000    1.100000  ...    0.257447   \n",
       "75%      0.500000    1.500000   32.000000    1.800000  ...    0.338237   \n",
       "max      1.100000    3.200000   72.800000    4.200000  ...    0.656897   \n",
       "\n",
       "        3P_per_GP  Stl_per_GP  Blk_per_GP  Reb_per_GP        ORtg         PPP  \\\n",
       "count  115.000000  115.000000  115.000000  115.000000  115.000000  115.000000   \n",
       "mean     0.006692    0.009674    0.006356    0.049130   85.983008    0.859830   \n",
       "std      0.004714    0.006060    0.011589    0.031466   10.520379    0.105204   \n",
       "min      0.000000    0.000000    0.000000    0.006154   62.611807    0.626118   \n",
       "25%      0.003460    0.005196    0.001924    0.022381   78.477774    0.784778   \n",
       "50%      0.006098    0.008929    0.003750    0.041558   85.014409    0.850144   \n",
       "75%      0.009010    0.012404    0.008020    0.065844   92.311668    0.923117   \n",
       "max      0.023077    0.032609    0.118182    0.186842  119.132290    1.191323   \n",
       "\n",
       "              TSP  y_val  y_val_preds  \n",
       "count  115.000000  115.0        115.0  \n",
       "mean     0.512578    0.0          1.0  \n",
       "std      0.048923    0.0          0.0  \n",
       "min      0.408401    0.0          1.0  \n",
       "25%      0.485553    0.0          1.0  \n",
       "50%      0.516262    0.0          1.0  \n",
       "75%      0.538112    0.0          1.0  \n",
       "max      0.653786    0.0          1.0  \n",
       "\n",
       "[8 rows x 29 columns]"
      ]
     },
     "execution_count": 27,
     "metadata": {},
     "output_type": "execute_result"
    }
   ],
   "source": [
    "#False Positive\n",
    "X_val_false_pos = X_val_df[(X_val_df['y_val']==0)&(X_val_df['y_val_preds']==1)]\n",
    "X_val_false_pos.describe()"
   ]
  },
  {
   "cell_type": "code",
   "execution_count": 28,
   "id": "6cb03f9c-a7de-4012-93de-47a2d940f8f9",
   "metadata": {},
   "outputs": [
    {
     "data": {
      "text/plain": [
       "(115, 29)"
      ]
     },
     "execution_count": 28,
     "metadata": {},
     "output_type": "execute_result"
    }
   ],
   "source": [
    "X_val_false_pos.shape"
   ]
  },
  {
   "cell_type": "code",
   "execution_count": 29,
   "id": "71de1250-de4d-46ef-875f-0bbe6d3d088e",
   "metadata": {},
   "outputs": [
    {
     "data": {
      "text/html": [
       "<div>\n",
       "<style scoped>\n",
       "    .dataframe tbody tr th:only-of-type {\n",
       "        vertical-align: middle;\n",
       "    }\n",
       "\n",
       "    .dataframe tbody tr th {\n",
       "        vertical-align: top;\n",
       "    }\n",
       "\n",
       "    .dataframe thead th {\n",
       "        text-align: right;\n",
       "    }\n",
       "</style>\n",
       "<table border=\"1\" class=\"dataframe\">\n",
       "  <thead>\n",
       "    <tr style=\"text-align: right;\">\n",
       "      <th></th>\n",
       "      <th>GP</th>\n",
       "      <th>MIN</th>\n",
       "      <th>PTS</th>\n",
       "      <th>FGM</th>\n",
       "      <th>FGA</th>\n",
       "      <th>FG%</th>\n",
       "      <th>3P Made</th>\n",
       "      <th>3PA</th>\n",
       "      <th>3P%</th>\n",
       "      <th>FTM</th>\n",
       "      <th>...</th>\n",
       "      <th>Min_per_GP</th>\n",
       "      <th>3P_per_GP</th>\n",
       "      <th>Stl_per_GP</th>\n",
       "      <th>Blk_per_GP</th>\n",
       "      <th>Reb_per_GP</th>\n",
       "      <th>ORtg</th>\n",
       "      <th>PPP</th>\n",
       "      <th>TSP</th>\n",
       "      <th>y_val</th>\n",
       "      <th>y_val_preds</th>\n",
       "    </tr>\n",
       "  </thead>\n",
       "  <tbody>\n",
       "    <tr>\n",
       "      <th>count</th>\n",
       "      <td>898.000000</td>\n",
       "      <td>898.000000</td>\n",
       "      <td>898.000000</td>\n",
       "      <td>898.000000</td>\n",
       "      <td>898.000000</td>\n",
       "      <td>898.000000</td>\n",
       "      <td>898.000000</td>\n",
       "      <td>898.000000</td>\n",
       "      <td>898.000000</td>\n",
       "      <td>898.000000</td>\n",
       "      <td>...</td>\n",
       "      <td>898.000000</td>\n",
       "      <td>898.000000</td>\n",
       "      <td>898.000000</td>\n",
       "      <td>898.000000</td>\n",
       "      <td>898.000000</td>\n",
       "      <td>898.000000</td>\n",
       "      <td>898.000000</td>\n",
       "      <td>898.000000</td>\n",
       "      <td>898.0</td>\n",
       "      <td>898.0</td>\n",
       "    </tr>\n",
       "    <tr>\n",
       "      <th>mean</th>\n",
       "      <td>70.811804</td>\n",
       "      <td>21.645546</td>\n",
       "      <td>8.769822</td>\n",
       "      <td>3.389866</td>\n",
       "      <td>7.326615</td>\n",
       "      <td>46.423274</td>\n",
       "      <td>0.392316</td>\n",
       "      <td>1.125724</td>\n",
       "      <td>21.209800</td>\n",
       "      <td>1.712584</td>\n",
       "      <td>...</td>\n",
       "      <td>0.306244</td>\n",
       "      <td>0.005738</td>\n",
       "      <td>0.010596</td>\n",
       "      <td>0.005978</td>\n",
       "      <td>0.055834</td>\n",
       "      <td>88.689445</td>\n",
       "      <td>0.886894</td>\n",
       "      <td>0.523966</td>\n",
       "      <td>1.0</td>\n",
       "      <td>1.0</td>\n",
       "    </tr>\n",
       "    <tr>\n",
       "      <th>std</th>\n",
       "      <td>14.560419</td>\n",
       "      <td>9.162834</td>\n",
       "      <td>4.422552</td>\n",
       "      <td>1.750795</td>\n",
       "      <td>3.750917</td>\n",
       "      <td>5.772986</td>\n",
       "      <td>0.272396</td>\n",
       "      <td>0.783623</td>\n",
       "      <td>13.521277</td>\n",
       "      <td>0.932354</td>\n",
       "      <td>...</td>\n",
       "      <td>0.113470</td>\n",
       "      <td>0.004171</td>\n",
       "      <td>0.005786</td>\n",
       "      <td>0.010526</td>\n",
       "      <td>0.028652</td>\n",
       "      <td>9.410286</td>\n",
       "      <td>0.094103</td>\n",
       "      <td>0.048684</td>\n",
       "      <td>0.0</td>\n",
       "      <td>0.0</td>\n",
       "    </tr>\n",
       "    <tr>\n",
       "      <th>min</th>\n",
       "      <td>25.000000</td>\n",
       "      <td>4.000000</td>\n",
       "      <td>1.000000</td>\n",
       "      <td>0.400000</td>\n",
       "      <td>1.100000</td>\n",
       "      <td>27.500000</td>\n",
       "      <td>0.000000</td>\n",
       "      <td>0.000000</td>\n",
       "      <td>0.100000</td>\n",
       "      <td>0.000000</td>\n",
       "      <td>...</td>\n",
       "      <td>0.085106</td>\n",
       "      <td>0.000000</td>\n",
       "      <td>0.001299</td>\n",
       "      <td>0.000000</td>\n",
       "      <td>0.007143</td>\n",
       "      <td>65.274151</td>\n",
       "      <td>0.652742</td>\n",
       "      <td>0.355450</td>\n",
       "      <td>1.0</td>\n",
       "      <td>1.0</td>\n",
       "    </tr>\n",
       "    <tr>\n",
       "      <th>25%</th>\n",
       "      <td>61.000000</td>\n",
       "      <td>15.000000</td>\n",
       "      <td>5.400000</td>\n",
       "      <td>2.100000</td>\n",
       "      <td>4.600000</td>\n",
       "      <td>42.525000</td>\n",
       "      <td>0.200000</td>\n",
       "      <td>0.500000</td>\n",
       "      <td>10.400000</td>\n",
       "      <td>1.000000</td>\n",
       "      <td>...</td>\n",
       "      <td>0.223465</td>\n",
       "      <td>0.002532</td>\n",
       "      <td>0.006452</td>\n",
       "      <td>0.002439</td>\n",
       "      <td>0.034726</td>\n",
       "      <td>82.461551</td>\n",
       "      <td>0.824616</td>\n",
       "      <td>0.493239</td>\n",
       "      <td>1.0</td>\n",
       "      <td>1.0</td>\n",
       "    </tr>\n",
       "    <tr>\n",
       "      <th>50%</th>\n",
       "      <td>70.000000</td>\n",
       "      <td>19.800000</td>\n",
       "      <td>7.850000</td>\n",
       "      <td>3.000000</td>\n",
       "      <td>6.500000</td>\n",
       "      <td>46.200000</td>\n",
       "      <td>0.300000</td>\n",
       "      <td>1.000000</td>\n",
       "      <td>19.350000</td>\n",
       "      <td>1.600000</td>\n",
       "      <td>...</td>\n",
       "      <td>0.291968</td>\n",
       "      <td>0.005032</td>\n",
       "      <td>0.009459</td>\n",
       "      <td>0.004054</td>\n",
       "      <td>0.051759</td>\n",
       "      <td>88.090481</td>\n",
       "      <td>0.880905</td>\n",
       "      <td>0.520833</td>\n",
       "      <td>1.0</td>\n",
       "      <td>1.0</td>\n",
       "    </tr>\n",
       "    <tr>\n",
       "      <th>75%</th>\n",
       "      <td>81.000000</td>\n",
       "      <td>27.475000</td>\n",
       "      <td>11.200000</td>\n",
       "      <td>4.300000</td>\n",
       "      <td>9.500000</td>\n",
       "      <td>50.175000</td>\n",
       "      <td>0.600000</td>\n",
       "      <td>1.600000</td>\n",
       "      <td>30.400000</td>\n",
       "      <td>2.200000</td>\n",
       "      <td>...</td>\n",
       "      <td>0.368525</td>\n",
       "      <td>0.008219</td>\n",
       "      <td>0.013454</td>\n",
       "      <td>0.006579</td>\n",
       "      <td>0.070419</td>\n",
       "      <td>94.207787</td>\n",
       "      <td>0.942078</td>\n",
       "      <td>0.551788</td>\n",
       "      <td>1.0</td>\n",
       "      <td>1.0</td>\n",
       "    </tr>\n",
       "    <tr>\n",
       "      <th>max</th>\n",
       "      <td>115.000000</td>\n",
       "      <td>59.400000</td>\n",
       "      <td>30.300000</td>\n",
       "      <td>12.000000</td>\n",
       "      <td>28.600000</td>\n",
       "      <td>63.600000</td>\n",
       "      <td>1.300000</td>\n",
       "      <td>4.000000</td>\n",
       "      <td>72.300000</td>\n",
       "      <td>7.000000</td>\n",
       "      <td>...</td>\n",
       "      <td>0.962162</td>\n",
       "      <td>0.027027</td>\n",
       "      <td>0.040541</td>\n",
       "      <td>0.225000</td>\n",
       "      <td>0.257576</td>\n",
       "      <td>130.813953</td>\n",
       "      <td>1.308140</td>\n",
       "      <td>0.724249</td>\n",
       "      <td>1.0</td>\n",
       "      <td>1.0</td>\n",
       "    </tr>\n",
       "  </tbody>\n",
       "</table>\n",
       "<p>8 rows × 29 columns</p>\n",
       "</div>"
      ],
      "text/plain": [
       "               GP         MIN         PTS         FGM         FGA         FG%  \\\n",
       "count  898.000000  898.000000  898.000000  898.000000  898.000000  898.000000   \n",
       "mean    70.811804   21.645546    8.769822    3.389866    7.326615   46.423274   \n",
       "std     14.560419    9.162834    4.422552    1.750795    3.750917    5.772986   \n",
       "min     25.000000    4.000000    1.000000    0.400000    1.100000   27.500000   \n",
       "25%     61.000000   15.000000    5.400000    2.100000    4.600000   42.525000   \n",
       "50%     70.000000   19.800000    7.850000    3.000000    6.500000   46.200000   \n",
       "75%     81.000000   27.475000   11.200000    4.300000    9.500000   50.175000   \n",
       "max    115.000000   59.400000   30.300000   12.000000   28.600000   63.600000   \n",
       "\n",
       "          3P Made         3PA         3P%         FTM  ...  Min_per_GP  \\\n",
       "count  898.000000  898.000000  898.000000  898.000000  ...  898.000000   \n",
       "mean     0.392316    1.125724   21.209800    1.712584  ...    0.306244   \n",
       "std      0.272396    0.783623   13.521277    0.932354  ...    0.113470   \n",
       "min      0.000000    0.000000    0.100000    0.000000  ...    0.085106   \n",
       "25%      0.200000    0.500000   10.400000    1.000000  ...    0.223465   \n",
       "50%      0.300000    1.000000   19.350000    1.600000  ...    0.291968   \n",
       "75%      0.600000    1.600000   30.400000    2.200000  ...    0.368525   \n",
       "max      1.300000    4.000000   72.300000    7.000000  ...    0.962162   \n",
       "\n",
       "        3P_per_GP  Stl_per_GP  Blk_per_GP  Reb_per_GP        ORtg         PPP  \\\n",
       "count  898.000000  898.000000  898.000000  898.000000  898.000000  898.000000   \n",
       "mean     0.005738    0.010596    0.005978    0.055834   88.689445    0.886894   \n",
       "std      0.004171    0.005786    0.010526    0.028652    9.410286    0.094103   \n",
       "min      0.000000    0.001299    0.000000    0.007143   65.274151    0.652742   \n",
       "25%      0.002532    0.006452    0.002439    0.034726   82.461551    0.824616   \n",
       "50%      0.005032    0.009459    0.004054    0.051759   88.090481    0.880905   \n",
       "75%      0.008219    0.013454    0.006579    0.070419   94.207787    0.942078   \n",
       "max      0.027027    0.040541    0.225000    0.257576  130.813953    1.308140   \n",
       "\n",
       "              TSP  y_val  y_val_preds  \n",
       "count  898.000000  898.0        898.0  \n",
       "mean     0.523966    1.0          1.0  \n",
       "std      0.048684    0.0          0.0  \n",
       "min      0.355450    1.0          1.0  \n",
       "25%      0.493239    1.0          1.0  \n",
       "50%      0.520833    1.0          1.0  \n",
       "75%      0.551788    1.0          1.0  \n",
       "max      0.724249    1.0          1.0  \n",
       "\n",
       "[8 rows x 29 columns]"
      ]
     },
     "execution_count": 29,
     "metadata": {},
     "output_type": "execute_result"
    }
   ],
   "source": [
    "# True Positives\n",
    "X_val_true_pos = X_val_df[(X_val_df['y_val']==1)&(X_val_df['y_val_preds']==1)]\n",
    "X_val_true_pos.describe()"
   ]
  },
  {
   "cell_type": "code",
   "execution_count": 30,
   "id": "c052876d-0f70-4012-adcd-baa51b9eb228",
   "metadata": {},
   "outputs": [
    {
     "data": {
      "text/plain": [
       "(898, 29)"
      ]
     },
     "execution_count": 30,
     "metadata": {},
     "output_type": "execute_result"
    }
   ],
   "source": [
    "X_val_true_pos.shape"
   ]
  },
  {
   "cell_type": "code",
   "execution_count": 31,
   "id": "90822c48-701c-4164-9740-2a83a8aeb45d",
   "metadata": {},
   "outputs": [
    {
     "data": {
      "text/html": [
       "<div>\n",
       "<style scoped>\n",
       "    .dataframe tbody tr th:only-of-type {\n",
       "        vertical-align: middle;\n",
       "    }\n",
       "\n",
       "    .dataframe tbody tr th {\n",
       "        vertical-align: top;\n",
       "    }\n",
       "\n",
       "    .dataframe thead th {\n",
       "        text-align: right;\n",
       "    }\n",
       "</style>\n",
       "<table border=\"1\" class=\"dataframe\">\n",
       "  <thead>\n",
       "    <tr style=\"text-align: right;\">\n",
       "      <th></th>\n",
       "      <th>GP</th>\n",
       "      <th>MIN</th>\n",
       "      <th>PTS</th>\n",
       "      <th>FGM</th>\n",
       "      <th>FGA</th>\n",
       "      <th>FG%</th>\n",
       "      <th>3P Made</th>\n",
       "      <th>3PA</th>\n",
       "      <th>3P%</th>\n",
       "      <th>FTM</th>\n",
       "      <th>...</th>\n",
       "      <th>Min_per_GP</th>\n",
       "      <th>3P_per_GP</th>\n",
       "      <th>Stl_per_GP</th>\n",
       "      <th>Blk_per_GP</th>\n",
       "      <th>Reb_per_GP</th>\n",
       "      <th>ORtg</th>\n",
       "      <th>PPP</th>\n",
       "      <th>TSP</th>\n",
       "      <th>y_val</th>\n",
       "      <th>y_val_preds</th>\n",
       "    </tr>\n",
       "  </thead>\n",
       "  <tbody>\n",
       "    <tr>\n",
       "      <th>count</th>\n",
       "      <td>436.000000</td>\n",
       "      <td>436.000000</td>\n",
       "      <td>436.000000</td>\n",
       "      <td>436.000000</td>\n",
       "      <td>436.000000</td>\n",
       "      <td>436.000000</td>\n",
       "      <td>436.000000</td>\n",
       "      <td>436.000000</td>\n",
       "      <td>436.000000</td>\n",
       "      <td>436.000000</td>\n",
       "      <td>...</td>\n",
       "      <td>436.000000</td>\n",
       "      <td>436.000000</td>\n",
       "      <td>436.000000</td>\n",
       "      <td>436.000000</td>\n",
       "      <td>436.000000</td>\n",
       "      <td>436.000000</td>\n",
       "      <td>436.000000</td>\n",
       "      <td>436.000000</td>\n",
       "      <td>436.0</td>\n",
       "      <td>436.0</td>\n",
       "    </tr>\n",
       "    <tr>\n",
       "      <th>mean</th>\n",
       "      <td>50.931193</td>\n",
       "      <td>13.710321</td>\n",
       "      <td>4.796789</td>\n",
       "      <td>1.841284</td>\n",
       "      <td>4.413303</td>\n",
       "      <td>41.899083</td>\n",
       "      <td>0.364450</td>\n",
       "      <td>1.055046</td>\n",
       "      <td>21.376606</td>\n",
       "      <td>0.898624</td>\n",
       "      <td>...</td>\n",
       "      <td>0.277560</td>\n",
       "      <td>0.007496</td>\n",
       "      <td>0.010308</td>\n",
       "      <td>0.006500</td>\n",
       "      <td>0.043642</td>\n",
       "      <td>81.047075</td>\n",
       "      <td>0.810471</td>\n",
       "      <td>0.480510</td>\n",
       "      <td>1.0</td>\n",
       "      <td>0.0</td>\n",
       "    </tr>\n",
       "    <tr>\n",
       "      <th>std</th>\n",
       "      <td>12.598845</td>\n",
       "      <td>5.529911</td>\n",
       "      <td>2.586355</td>\n",
       "      <td>1.000893</td>\n",
       "      <td>2.347345</td>\n",
       "      <td>5.916243</td>\n",
       "      <td>0.287913</td>\n",
       "      <td>0.820091</td>\n",
       "      <td>14.133301</td>\n",
       "      <td>0.582147</td>\n",
       "      <td>...</td>\n",
       "      <td>0.107659</td>\n",
       "      <td>0.006388</td>\n",
       "      <td>0.006332</td>\n",
       "      <td>0.009549</td>\n",
       "      <td>0.026898</td>\n",
       "      <td>10.931036</td>\n",
       "      <td>0.109310</td>\n",
       "      <td>0.056068</td>\n",
       "      <td>0.0</td>\n",
       "      <td>0.0</td>\n",
       "    </tr>\n",
       "    <tr>\n",
       "      <th>min</th>\n",
       "      <td>10.000000</td>\n",
       "      <td>4.100000</td>\n",
       "      <td>1.000000</td>\n",
       "      <td>0.400000</td>\n",
       "      <td>1.100000</td>\n",
       "      <td>27.500000</td>\n",
       "      <td>0.000000</td>\n",
       "      <td>0.000000</td>\n",
       "      <td>0.000000</td>\n",
       "      <td>0.000000</td>\n",
       "      <td>...</td>\n",
       "      <td>0.088060</td>\n",
       "      <td>0.000000</td>\n",
       "      <td>0.000000</td>\n",
       "      <td>0.000000</td>\n",
       "      <td>0.007246</td>\n",
       "      <td>54.207537</td>\n",
       "      <td>0.542075</td>\n",
       "      <td>0.357521</td>\n",
       "      <td>1.0</td>\n",
       "      <td>0.0</td>\n",
       "    </tr>\n",
       "    <tr>\n",
       "      <th>25%</th>\n",
       "      <td>44.000000</td>\n",
       "      <td>9.900000</td>\n",
       "      <td>3.000000</td>\n",
       "      <td>1.100000</td>\n",
       "      <td>2.700000</td>\n",
       "      <td>37.600000</td>\n",
       "      <td>0.100000</td>\n",
       "      <td>0.400000</td>\n",
       "      <td>9.325000</td>\n",
       "      <td>0.500000</td>\n",
       "      <td>...</td>\n",
       "      <td>0.198161</td>\n",
       "      <td>0.003008</td>\n",
       "      <td>0.006000</td>\n",
       "      <td>0.001961</td>\n",
       "      <td>0.026087</td>\n",
       "      <td>73.717145</td>\n",
       "      <td>0.737171</td>\n",
       "      <td>0.442629</td>\n",
       "      <td>1.0</td>\n",
       "      <td>0.0</td>\n",
       "    </tr>\n",
       "    <tr>\n",
       "      <th>50%</th>\n",
       "      <td>51.000000</td>\n",
       "      <td>12.600000</td>\n",
       "      <td>4.300000</td>\n",
       "      <td>1.600000</td>\n",
       "      <td>3.900000</td>\n",
       "      <td>41.650000</td>\n",
       "      <td>0.300000</td>\n",
       "      <td>0.900000</td>\n",
       "      <td>19.200000</td>\n",
       "      <td>0.800000</td>\n",
       "      <td>...</td>\n",
       "      <td>0.251482</td>\n",
       "      <td>0.006339</td>\n",
       "      <td>0.008772</td>\n",
       "      <td>0.004082</td>\n",
       "      <td>0.036201</td>\n",
       "      <td>79.787234</td>\n",
       "      <td>0.797872</td>\n",
       "      <td>0.474785</td>\n",
       "      <td>1.0</td>\n",
       "      <td>0.0</td>\n",
       "    </tr>\n",
       "    <tr>\n",
       "      <th>75%</th>\n",
       "      <td>60.000000</td>\n",
       "      <td>16.800000</td>\n",
       "      <td>6.100000</td>\n",
       "      <td>2.400000</td>\n",
       "      <td>5.600000</td>\n",
       "      <td>45.625000</td>\n",
       "      <td>0.500000</td>\n",
       "      <td>1.500000</td>\n",
       "      <td>31.525000</td>\n",
       "      <td>1.200000</td>\n",
       "      <td>...</td>\n",
       "      <td>0.348093</td>\n",
       "      <td>0.010345</td>\n",
       "      <td>0.013333</td>\n",
       "      <td>0.007018</td>\n",
       "      <td>0.053803</td>\n",
       "      <td>89.193857</td>\n",
       "      <td>0.891939</td>\n",
       "      <td>0.515238</td>\n",
       "      <td>1.0</td>\n",
       "      <td>0.0</td>\n",
       "    </tr>\n",
       "    <tr>\n",
       "      <th>max</th>\n",
       "      <td>87.000000</td>\n",
       "      <td>37.900000</td>\n",
       "      <td>16.000000</td>\n",
       "      <td>6.400000</td>\n",
       "      <td>14.700000</td>\n",
       "      <td>62.600000</td>\n",
       "      <td>1.700000</td>\n",
       "      <td>4.700000</td>\n",
       "      <td>62.600000</td>\n",
       "      <td>3.500000</td>\n",
       "      <td>...</td>\n",
       "      <td>0.737778</td>\n",
       "      <td>0.050000</td>\n",
       "      <td>0.044444</td>\n",
       "      <td>0.104478</td>\n",
       "      <td>0.168293</td>\n",
       "      <td>118.938701</td>\n",
       "      <td>1.189387</td>\n",
       "      <td>0.689290</td>\n",
       "      <td>1.0</td>\n",
       "      <td>0.0</td>\n",
       "    </tr>\n",
       "  </tbody>\n",
       "</table>\n",
       "<p>8 rows × 29 columns</p>\n",
       "</div>"
      ],
      "text/plain": [
       "               GP         MIN         PTS         FGM         FGA         FG%  \\\n",
       "count  436.000000  436.000000  436.000000  436.000000  436.000000  436.000000   \n",
       "mean    50.931193   13.710321    4.796789    1.841284    4.413303   41.899083   \n",
       "std     12.598845    5.529911    2.586355    1.000893    2.347345    5.916243   \n",
       "min     10.000000    4.100000    1.000000    0.400000    1.100000   27.500000   \n",
       "25%     44.000000    9.900000    3.000000    1.100000    2.700000   37.600000   \n",
       "50%     51.000000   12.600000    4.300000    1.600000    3.900000   41.650000   \n",
       "75%     60.000000   16.800000    6.100000    2.400000    5.600000   45.625000   \n",
       "max     87.000000   37.900000   16.000000    6.400000   14.700000   62.600000   \n",
       "\n",
       "          3P Made         3PA         3P%         FTM  ...  Min_per_GP  \\\n",
       "count  436.000000  436.000000  436.000000  436.000000  ...  436.000000   \n",
       "mean     0.364450    1.055046   21.376606    0.898624  ...    0.277560   \n",
       "std      0.287913    0.820091   14.133301    0.582147  ...    0.107659   \n",
       "min      0.000000    0.000000    0.000000    0.000000  ...    0.088060   \n",
       "25%      0.100000    0.400000    9.325000    0.500000  ...    0.198161   \n",
       "50%      0.300000    0.900000   19.200000    0.800000  ...    0.251482   \n",
       "75%      0.500000    1.500000   31.525000    1.200000  ...    0.348093   \n",
       "max      1.700000    4.700000   62.600000    3.500000  ...    0.737778   \n",
       "\n",
       "        3P_per_GP  Stl_per_GP  Blk_per_GP  Reb_per_GP        ORtg         PPP  \\\n",
       "count  436.000000  436.000000  436.000000  436.000000  436.000000  436.000000   \n",
       "mean     0.007496    0.010308    0.006500    0.043642   81.047075    0.810471   \n",
       "std      0.006388    0.006332    0.009549    0.026898   10.931036    0.109310   \n",
       "min      0.000000    0.000000    0.000000    0.007246   54.207537    0.542075   \n",
       "25%      0.003008    0.006000    0.001961    0.026087   73.717145    0.737171   \n",
       "50%      0.006339    0.008772    0.004082    0.036201   79.787234    0.797872   \n",
       "75%      0.010345    0.013333    0.007018    0.053803   89.193857    0.891939   \n",
       "max      0.050000    0.044444    0.104478    0.168293  118.938701    1.189387   \n",
       "\n",
       "              TSP  y_val  y_val_preds  \n",
       "count  436.000000  436.0        436.0  \n",
       "mean     0.480510    1.0          0.0  \n",
       "std      0.056068    0.0          0.0  \n",
       "min      0.357521    1.0          0.0  \n",
       "25%      0.442629    1.0          0.0  \n",
       "50%      0.474785    1.0          0.0  \n",
       "75%      0.515238    1.0          0.0  \n",
       "max      0.689290    1.0          0.0  \n",
       "\n",
       "[8 rows x 29 columns]"
      ]
     },
     "execution_count": 31,
     "metadata": {},
     "output_type": "execute_result"
    }
   ],
   "source": [
    "# False Negative\n",
    "X_val_false_neg = X_val_df[(X_val_df['y_val']==1)&(X_val_df['y_val_preds']==0)]\n",
    "X_val_false_neg.describe()"
   ]
  },
  {
   "cell_type": "code",
   "execution_count": 32,
   "id": "93bea6fa-5f09-415a-9ca6-04aebd89ba45",
   "metadata": {},
   "outputs": [
    {
     "data": {
      "text/plain": [
       "(436, 29)"
      ]
     },
     "execution_count": 32,
     "metadata": {},
     "output_type": "execute_result"
    }
   ],
   "source": [
    "X_val_false_neg.shape"
   ]
  },
  {
   "cell_type": "markdown",
   "id": "a150af8a-3989-4085-b7e9-1c4200eccd64",
   "metadata": {},
   "source": [
    "<h5> True positives have very similar statistics than false positives making it difficult for the model to correclty classify the observations from that boundary <br> <br>\n",
    "    additional sampling experimentation needs to be done for the observations in this boundary\n",
    "    "
   ]
  },
  {
   "cell_type": "markdown",
   "id": "cc27377b-6186-4b9b-ba43-739046c8b30e",
   "metadata": {},
   "source": [
    "<h4> 5 Generate predictions on the test set for Kaggle submission"
   ]
  },
  {
   "cell_type": "markdown",
   "id": "6a6c50f5-0d06-4416-aa3c-7267212b8dd5",
   "metadata": {},
   "source": [
    "<h5> The final step is to generate the prediction probabilities from the test set in order to evaluate the score from Kaggle via csv upload"
   ]
  },
  {
   "cell_type": "code",
   "execution_count": 33,
   "id": "76a69c1f-3c7e-48c7-a470-d72060654870",
   "metadata": {},
   "outputs": [],
   "source": [
    "y_test_preds = ml_model.predict_proba(X_test)"
   ]
  },
  {
   "cell_type": "code",
   "execution_count": 34,
   "id": "d8b3ea43-2d09-45a1-ab43-f5c4659f0ef3",
   "metadata": {},
   "outputs": [],
   "source": [
    "#Create Data Frame for Doc printing\n",
    "df =pd.DataFrame()"
   ]
  },
  {
   "cell_type": "code",
   "execution_count": 35,
   "id": "2a395ced-dc63-4875-a0b2-972b9158d158",
   "metadata": {},
   "outputs": [
    {
     "data": {
      "text/plain": [
       "array([[0.71436584, 0.28563413],\n",
       "       [0.4868273 , 0.5131727 ],\n",
       "       [0.21738541, 0.7826146 ],\n",
       "       ...,\n",
       "       [0.6399026 , 0.36009738],\n",
       "       [0.26312327, 0.7368767 ],\n",
       "       [0.39202565, 0.60797435]], dtype=float32)"
      ]
     },
     "execution_count": 35,
     "metadata": {},
     "output_type": "execute_result"
    }
   ],
   "source": [
    "y_test_preds"
   ]
  },
  {
   "cell_type": "code",
   "execution_count": 36,
   "id": "b0221d9b-b513-44fd-ae69-f2979e18d266",
   "metadata": {},
   "outputs": [],
   "source": [
    "target_prob = y_test_preds\n",
    "target_prob = [item[1] for item in y_test_preds]"
   ]
  },
  {
   "cell_type": "code",
   "execution_count": 37,
   "id": "e0440476-83b2-4909-a46b-6cedfb5b8f03",
   "metadata": {},
   "outputs": [],
   "source": [
    "df['Id'] = X_test_ID\n",
    "df['TARGET_5Yrs'] = target_prob"
   ]
  },
  {
   "cell_type": "code",
   "execution_count": 38,
   "id": "4909e66f-ed64-45f5-95fd-340ad1b731d7",
   "metadata": {},
   "outputs": [
    {
     "data": {
      "text/html": [
       "<div>\n",
       "<style scoped>\n",
       "    .dataframe tbody tr th:only-of-type {\n",
       "        vertical-align: middle;\n",
       "    }\n",
       "\n",
       "    .dataframe tbody tr th {\n",
       "        vertical-align: top;\n",
       "    }\n",
       "\n",
       "    .dataframe thead th {\n",
       "        text-align: right;\n",
       "    }\n",
       "</style>\n",
       "<table border=\"1\" class=\"dataframe\">\n",
       "  <thead>\n",
       "    <tr style=\"text-align: right;\">\n",
       "      <th></th>\n",
       "      <th>Id</th>\n",
       "      <th>TARGET_5Yrs</th>\n",
       "    </tr>\n",
       "  </thead>\n",
       "  <tbody>\n",
       "    <tr>\n",
       "      <th>0</th>\n",
       "      <td>0</td>\n",
       "      <td>0.285634</td>\n",
       "    </tr>\n",
       "    <tr>\n",
       "      <th>1</th>\n",
       "      <td>1</td>\n",
       "      <td>0.513173</td>\n",
       "    </tr>\n",
       "    <tr>\n",
       "      <th>2</th>\n",
       "      <td>2</td>\n",
       "      <td>0.782615</td>\n",
       "    </tr>\n",
       "    <tr>\n",
       "      <th>3</th>\n",
       "      <td>3</td>\n",
       "      <td>0.890414</td>\n",
       "    </tr>\n",
       "    <tr>\n",
       "      <th>4</th>\n",
       "      <td>4</td>\n",
       "      <td>0.584440</td>\n",
       "    </tr>\n",
       "  </tbody>\n",
       "</table>\n",
       "</div>"
      ],
      "text/plain": [
       "   Id  TARGET_5Yrs\n",
       "0   0     0.285634\n",
       "1   1     0.513173\n",
       "2   2     0.782615\n",
       "3   3     0.890414\n",
       "4   4     0.584440"
      ]
     },
     "execution_count": 38,
     "metadata": {},
     "output_type": "execute_result"
    }
   ],
   "source": [
    "df.head()"
   ]
  },
  {
   "cell_type": "code",
   "execution_count": 39,
   "id": "d6eb3b2d-e232-4b64-a20d-169898089bdd",
   "metadata": {},
   "outputs": [],
   "source": [
    "#Saving predictions into csv\n",
    "#df.to_csv('../data/external/Kaggle_submission_RF_ncr_all_cols.csv', index=False)"
   ]
  },
  {
   "cell_type": "markdown",
   "id": "8896664f-a046-4a8b-bd39-789705b4c09f",
   "metadata": {},
   "source": [
    "<h5> Kaggle submission score is 0.68 which is in line with the AUROC metric"
   ]
  }
 ],
 "metadata": {
  "kernelspec": {
   "display_name": "Python 3 (ipykernel)",
   "language": "python",
   "name": "python3"
  },
  "language_info": {
   "codemirror_mode": {
    "name": "ipython",
    "version": 3
   },
   "file_extension": ".py",
   "mimetype": "text/x-python",
   "name": "python",
   "nbconvert_exporter": "python",
   "pygments_lexer": "ipython3",
   "version": "3.10.6"
  }
 },
 "nbformat": 4,
 "nbformat_minor": 5
}
