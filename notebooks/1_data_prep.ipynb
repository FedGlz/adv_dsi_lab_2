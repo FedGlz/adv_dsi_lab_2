{
 "cells": [
  {
   "cell_type": "markdown",
   "id": "0f4dee4f-f0d6-40dc-9334-7ae3893d5d9d",
   "metadata": {},
   "source": [
    "<h3> NBA 5 year careeer prediction data set prep"
   ]
  },
  {
   "cell_type": "markdown",
   "id": "d2019d37-5c6f-4616-93f7-08447d303d95",
   "metadata": {},
   "source": [
    "<h5> The aim is to explore and analyse data sets provided and feature engineer them in order to obtain reliable predictions"
   ]
  },
  {
   "cell_type": "code",
   "execution_count": 31,
   "id": "55dcd123-292b-4063-8d73-5c383a339798",
   "metadata": {},
   "outputs": [],
   "source": [
    "#Import initial packages\n",
    "import pandas as pd\n",
    "import numpy as np"
   ]
  },
  {
   "cell_type": "markdown",
   "id": "47af757d-228a-46fa-841a-505b3c3d98fd",
   "metadata": {},
   "source": [
    "<h4> 1. Load and Explore Train Dataset"
   ]
  },
  {
   "cell_type": "code",
   "execution_count": 32,
   "id": "cabdfd59-ae6e-43ab-8e2c-e279442ddd60",
   "metadata": {},
   "outputs": [],
   "source": [
    "df = pd.read_csv('../data/raw/2022_train.csv')"
   ]
  },
  {
   "cell_type": "code",
   "execution_count": 33,
   "id": "d8d21339-b9b6-4b2f-b0b4-a4de7a064ac6",
   "metadata": {},
   "outputs": [
    {
     "data": {
      "text/plain": [
       "(8000, 21)"
      ]
     },
     "execution_count": 33,
     "metadata": {},
     "output_type": "execute_result"
    }
   ],
   "source": [
    "df.shape"
   ]
  },
  {
   "cell_type": "code",
   "execution_count": 34,
   "id": "191dac1b-3d12-4064-82eb-7599ea964061",
   "metadata": {},
   "outputs": [
    {
     "name": "stdout",
     "output_type": "stream",
     "text": [
      "<class 'pandas.core.frame.DataFrame'>\n",
      "RangeIndex: 8000 entries, 0 to 7999\n",
      "Data columns (total 21 columns):\n",
      " #   Column       Non-Null Count  Dtype  \n",
      "---  ------       --------------  -----  \n",
      " 0   Id           8000 non-null   int64  \n",
      " 1   GP           8000 non-null   int64  \n",
      " 2   MIN          8000 non-null   float64\n",
      " 3   PTS          8000 non-null   float64\n",
      " 4   FGM          8000 non-null   float64\n",
      " 5   FGA          8000 non-null   float64\n",
      " 6   FG%          8000 non-null   float64\n",
      " 7   3P Made      8000 non-null   float64\n",
      " 8   3PA          8000 non-null   float64\n",
      " 9   3P%          8000 non-null   float64\n",
      " 10  FTM          8000 non-null   float64\n",
      " 11  FTA          8000 non-null   float64\n",
      " 12  FT%          8000 non-null   float64\n",
      " 13  OREB         8000 non-null   float64\n",
      " 14  DREB         8000 non-null   float64\n",
      " 15  REB          8000 non-null   float64\n",
      " 16  AST          8000 non-null   float64\n",
      " 17  STL          8000 non-null   float64\n",
      " 18  BLK          8000 non-null   float64\n",
      " 19  TOV          8000 non-null   float64\n",
      " 20  TARGET_5Yrs  8000 non-null   int64  \n",
      "dtypes: float64(18), int64(3)\n",
      "memory usage: 1.3 MB\n"
     ]
    }
   ],
   "source": [
    "df.info()"
   ]
  },
  {
   "cell_type": "code",
   "execution_count": 5,
   "id": "028afd79-e6c3-4424-8147-22e51e34a170",
   "metadata": {},
   "outputs": [
    {
     "data": {
      "text/html": [
       "<div>\n",
       "<style scoped>\n",
       "    .dataframe tbody tr th:only-of-type {\n",
       "        vertical-align: middle;\n",
       "    }\n",
       "\n",
       "    .dataframe tbody tr th {\n",
       "        vertical-align: top;\n",
       "    }\n",
       "\n",
       "    .dataframe thead th {\n",
       "        text-align: right;\n",
       "    }\n",
       "</style>\n",
       "<table border=\"1\" class=\"dataframe\">\n",
       "  <thead>\n",
       "    <tr style=\"text-align: right;\">\n",
       "      <th></th>\n",
       "      <th>Id</th>\n",
       "      <th>GP</th>\n",
       "      <th>MIN</th>\n",
       "      <th>PTS</th>\n",
       "      <th>FGM</th>\n",
       "      <th>FGA</th>\n",
       "      <th>FG%</th>\n",
       "      <th>3P Made</th>\n",
       "      <th>3PA</th>\n",
       "      <th>3P%</th>\n",
       "      <th>...</th>\n",
       "      <th>FTA</th>\n",
       "      <th>FT%</th>\n",
       "      <th>OREB</th>\n",
       "      <th>DREB</th>\n",
       "      <th>REB</th>\n",
       "      <th>AST</th>\n",
       "      <th>STL</th>\n",
       "      <th>BLK</th>\n",
       "      <th>TOV</th>\n",
       "      <th>TARGET_5Yrs</th>\n",
       "    </tr>\n",
       "  </thead>\n",
       "  <tbody>\n",
       "    <tr>\n",
       "      <th>count</th>\n",
       "      <td>8000.00000</td>\n",
       "      <td>8000.000000</td>\n",
       "      <td>8000.000000</td>\n",
       "      <td>8000.000000</td>\n",
       "      <td>8000.000000</td>\n",
       "      <td>8000.000000</td>\n",
       "      <td>8000.000000</td>\n",
       "      <td>8000.000000</td>\n",
       "      <td>8000.000000</td>\n",
       "      <td>8000.000000</td>\n",
       "      <td>...</td>\n",
       "      <td>8000.000000</td>\n",
       "      <td>8000.000000</td>\n",
       "      <td>8000.000000</td>\n",
       "      <td>8000.000000</td>\n",
       "      <td>8000.000000</td>\n",
       "      <td>8000.000000</td>\n",
       "      <td>8000.000000</td>\n",
       "      <td>8000.000000</td>\n",
       "      <td>8000.000000</td>\n",
       "      <td>8000.000000</td>\n",
       "    </tr>\n",
       "    <tr>\n",
       "      <th>mean</th>\n",
       "      <td>7798.50000</td>\n",
       "      <td>62.777875</td>\n",
       "      <td>18.576662</td>\n",
       "      <td>7.267088</td>\n",
       "      <td>2.807037</td>\n",
       "      <td>6.231212</td>\n",
       "      <td>44.608900</td>\n",
       "      <td>0.264525</td>\n",
       "      <td>0.816562</td>\n",
       "      <td>19.583700</td>\n",
       "      <td>...</td>\n",
       "      <td>1.947788</td>\n",
       "      <td>71.365825</td>\n",
       "      <td>1.077838</td>\n",
       "      <td>2.168500</td>\n",
       "      <td>3.245300</td>\n",
       "      <td>1.624513</td>\n",
       "      <td>0.648687</td>\n",
       "      <td>0.245212</td>\n",
       "      <td>1.257763</td>\n",
       "      <td>0.833625</td>\n",
       "    </tr>\n",
       "    <tr>\n",
       "      <th>std</th>\n",
       "      <td>2309.54541</td>\n",
       "      <td>17.118774</td>\n",
       "      <td>8.935263</td>\n",
       "      <td>4.318732</td>\n",
       "      <td>1.693373</td>\n",
       "      <td>3.584559</td>\n",
       "      <td>6.155453</td>\n",
       "      <td>0.384093</td>\n",
       "      <td>1.060964</td>\n",
       "      <td>16.003155</td>\n",
       "      <td>...</td>\n",
       "      <td>1.252352</td>\n",
       "      <td>10.430447</td>\n",
       "      <td>0.785670</td>\n",
       "      <td>1.392224</td>\n",
       "      <td>2.085154</td>\n",
       "      <td>1.355986</td>\n",
       "      <td>0.407626</td>\n",
       "      <td>0.821037</td>\n",
       "      <td>0.723270</td>\n",
       "      <td>0.372440</td>\n",
       "    </tr>\n",
       "    <tr>\n",
       "      <th>min</th>\n",
       "      <td>3799.00000</td>\n",
       "      <td>-8.000000</td>\n",
       "      <td>2.900000</td>\n",
       "      <td>0.800000</td>\n",
       "      <td>0.300000</td>\n",
       "      <td>0.800000</td>\n",
       "      <td>21.300000</td>\n",
       "      <td>-1.100000</td>\n",
       "      <td>-3.100000</td>\n",
       "      <td>-38.500000</td>\n",
       "      <td>...</td>\n",
       "      <td>0.000000</td>\n",
       "      <td>-13.300000</td>\n",
       "      <td>0.000000</td>\n",
       "      <td>0.200000</td>\n",
       "      <td>0.300000</td>\n",
       "      <td>0.000000</td>\n",
       "      <td>0.000000</td>\n",
       "      <td>-17.900000</td>\n",
       "      <td>0.100000</td>\n",
       "      <td>0.000000</td>\n",
       "    </tr>\n",
       "    <tr>\n",
       "      <th>25%</th>\n",
       "      <td>5798.75000</td>\n",
       "      <td>51.000000</td>\n",
       "      <td>12.000000</td>\n",
       "      <td>4.100000</td>\n",
       "      <td>1.600000</td>\n",
       "      <td>3.600000</td>\n",
       "      <td>40.400000</td>\n",
       "      <td>0.000000</td>\n",
       "      <td>0.100000</td>\n",
       "      <td>8.400000</td>\n",
       "      <td>...</td>\n",
       "      <td>1.000000</td>\n",
       "      <td>65.000000</td>\n",
       "      <td>0.500000</td>\n",
       "      <td>1.100000</td>\n",
       "      <td>1.700000</td>\n",
       "      <td>0.700000</td>\n",
       "      <td>0.300000</td>\n",
       "      <td>0.100000</td>\n",
       "      <td>0.700000</td>\n",
       "      <td>1.000000</td>\n",
       "    </tr>\n",
       "    <tr>\n",
       "      <th>50%</th>\n",
       "      <td>7798.50000</td>\n",
       "      <td>63.000000</td>\n",
       "      <td>16.800000</td>\n",
       "      <td>6.300000</td>\n",
       "      <td>2.400000</td>\n",
       "      <td>5.400000</td>\n",
       "      <td>44.400000</td>\n",
       "      <td>0.300000</td>\n",
       "      <td>0.800000</td>\n",
       "      <td>19.500000</td>\n",
       "      <td>...</td>\n",
       "      <td>1.700000</td>\n",
       "      <td>71.400000</td>\n",
       "      <td>0.900000</td>\n",
       "      <td>1.900000</td>\n",
       "      <td>2.800000</td>\n",
       "      <td>1.300000</td>\n",
       "      <td>0.600000</td>\n",
       "      <td>0.200000</td>\n",
       "      <td>1.100000</td>\n",
       "      <td>1.000000</td>\n",
       "    </tr>\n",
       "    <tr>\n",
       "      <th>75%</th>\n",
       "      <td>9798.25000</td>\n",
       "      <td>74.000000</td>\n",
       "      <td>23.500000</td>\n",
       "      <td>9.500000</td>\n",
       "      <td>3.700000</td>\n",
       "      <td>8.100000</td>\n",
       "      <td>48.700000</td>\n",
       "      <td>0.500000</td>\n",
       "      <td>1.500000</td>\n",
       "      <td>30.600000</td>\n",
       "      <td>...</td>\n",
       "      <td>2.600000</td>\n",
       "      <td>77.500000</td>\n",
       "      <td>1.500000</td>\n",
       "      <td>2.900000</td>\n",
       "      <td>4.300000</td>\n",
       "      <td>2.200000</td>\n",
       "      <td>0.900000</td>\n",
       "      <td>0.400000</td>\n",
       "      <td>1.600000</td>\n",
       "      <td>1.000000</td>\n",
       "    </tr>\n",
       "    <tr>\n",
       "      <th>max</th>\n",
       "      <td>11798.00000</td>\n",
       "      <td>123.000000</td>\n",
       "      <td>73.800000</td>\n",
       "      <td>34.200000</td>\n",
       "      <td>13.100000</td>\n",
       "      <td>28.900000</td>\n",
       "      <td>67.200000</td>\n",
       "      <td>1.700000</td>\n",
       "      <td>4.700000</td>\n",
       "      <td>82.100000</td>\n",
       "      <td>...</td>\n",
       "      <td>11.100000</td>\n",
       "      <td>168.900000</td>\n",
       "      <td>5.500000</td>\n",
       "      <td>11.000000</td>\n",
       "      <td>15.900000</td>\n",
       "      <td>12.800000</td>\n",
       "      <td>3.600000</td>\n",
       "      <td>18.900000</td>\n",
       "      <td>5.300000</td>\n",
       "      <td>1.000000</td>\n",
       "    </tr>\n",
       "  </tbody>\n",
       "</table>\n",
       "<p>8 rows × 21 columns</p>\n",
       "</div>"
      ],
      "text/plain": [
       "                Id           GP          MIN          PTS          FGM  \\\n",
       "count   8000.00000  8000.000000  8000.000000  8000.000000  8000.000000   \n",
       "mean    7798.50000    62.777875    18.576662     7.267088     2.807037   \n",
       "std     2309.54541    17.118774     8.935263     4.318732     1.693373   \n",
       "min     3799.00000    -8.000000     2.900000     0.800000     0.300000   \n",
       "25%     5798.75000    51.000000    12.000000     4.100000     1.600000   \n",
       "50%     7798.50000    63.000000    16.800000     6.300000     2.400000   \n",
       "75%     9798.25000    74.000000    23.500000     9.500000     3.700000   \n",
       "max    11798.00000   123.000000    73.800000    34.200000    13.100000   \n",
       "\n",
       "               FGA          FG%      3P Made          3PA          3P%  ...  \\\n",
       "count  8000.000000  8000.000000  8000.000000  8000.000000  8000.000000  ...   \n",
       "mean      6.231212    44.608900     0.264525     0.816562    19.583700  ...   \n",
       "std       3.584559     6.155453     0.384093     1.060964    16.003155  ...   \n",
       "min       0.800000    21.300000    -1.100000    -3.100000   -38.500000  ...   \n",
       "25%       3.600000    40.400000     0.000000     0.100000     8.400000  ...   \n",
       "50%       5.400000    44.400000     0.300000     0.800000    19.500000  ...   \n",
       "75%       8.100000    48.700000     0.500000     1.500000    30.600000  ...   \n",
       "max      28.900000    67.200000     1.700000     4.700000    82.100000  ...   \n",
       "\n",
       "               FTA          FT%         OREB         DREB          REB  \\\n",
       "count  8000.000000  8000.000000  8000.000000  8000.000000  8000.000000   \n",
       "mean      1.947788    71.365825     1.077838     2.168500     3.245300   \n",
       "std       1.252352    10.430447     0.785670     1.392224     2.085154   \n",
       "min       0.000000   -13.300000     0.000000     0.200000     0.300000   \n",
       "25%       1.000000    65.000000     0.500000     1.100000     1.700000   \n",
       "50%       1.700000    71.400000     0.900000     1.900000     2.800000   \n",
       "75%       2.600000    77.500000     1.500000     2.900000     4.300000   \n",
       "max      11.100000   168.900000     5.500000    11.000000    15.900000   \n",
       "\n",
       "               AST          STL          BLK          TOV  TARGET_5Yrs  \n",
       "count  8000.000000  8000.000000  8000.000000  8000.000000  8000.000000  \n",
       "mean      1.624513     0.648687     0.245212     1.257763     0.833625  \n",
       "std       1.355986     0.407626     0.821037     0.723270     0.372440  \n",
       "min       0.000000     0.000000   -17.900000     0.100000     0.000000  \n",
       "25%       0.700000     0.300000     0.100000     0.700000     1.000000  \n",
       "50%       1.300000     0.600000     0.200000     1.100000     1.000000  \n",
       "75%       2.200000     0.900000     0.400000     1.600000     1.000000  \n",
       "max      12.800000     3.600000    18.900000     5.300000     1.000000  \n",
       "\n",
       "[8 rows x 21 columns]"
      ]
     },
     "execution_count": 5,
     "metadata": {},
     "output_type": "execute_result"
    }
   ],
   "source": [
    "df.describe()"
   ]
  },
  {
   "cell_type": "markdown",
   "id": "b02a63d6-d5d2-4dd5-85fd-74c7f5e48c82",
   "metadata": {},
   "source": [
    "<h4> 1.1 Training sets results "
   ]
  },
  {
   "cell_type": "markdown",
   "id": "e0ff9339-00e7-4352-9108-9d757ff98755",
   "metadata": {},
   "source": [
    "<h5> There are 8000 rows with 20 predictors and 1 binary target (0 or 1) with no null or missing values"
   ]
  },
  {
   "cell_type": "markdown",
   "id": "4b236cab-7dc2-4138-afd4-b433eba1df87",
   "metadata": {},
   "source": [
    "<h4> 1.2 Review if dataset is balanced"
   ]
  },
  {
   "cell_type": "markdown",
   "id": "b3df1315-c591-44f2-a034-1159f3ac524d",
   "metadata": {},
   "source": [
    "<h5> As dataset is binary classification of 0 and 1, balance on the two classes needs to be assessed in order to not overfit the learning model. This will be assessed with a custom function that returns a table with the number of records for each class"
   ]
  },
  {
   "cell_type": "code",
   "execution_count": 6,
   "id": "22961f2c-fdd3-400c-aeeb-5b780db76a79",
   "metadata": {},
   "outputs": [],
   "source": [
    "#Reviewing if data is imbalanced with custom function\n",
    "from src.data.sets import review_balance_df"
   ]
  },
  {
   "cell_type": "code",
   "execution_count": 7,
   "id": "a60eb963-d06d-480d-a290-2bda1242ed6d",
   "metadata": {},
   "outputs": [
    {
     "data": {
      "text/html": [
       "<div>\n",
       "<style scoped>\n",
       "    .dataframe tbody tr th:only-of-type {\n",
       "        vertical-align: middle;\n",
       "    }\n",
       "\n",
       "    .dataframe tbody tr th {\n",
       "        vertical-align: top;\n",
       "    }\n",
       "\n",
       "    .dataframe thead th {\n",
       "        text-align: right;\n",
       "    }\n",
       "</style>\n",
       "<table border=\"1\" class=\"dataframe\">\n",
       "  <thead>\n",
       "    <tr style=\"text-align: right;\">\n",
       "      <th></th>\n",
       "      <th>No. of 1</th>\n",
       "      <th>No. of 0</th>\n",
       "    </tr>\n",
       "  </thead>\n",
       "  <tbody>\n",
       "    <tr>\n",
       "      <th>0</th>\n",
       "      <td>6669</td>\n",
       "      <td>1331</td>\n",
       "    </tr>\n",
       "  </tbody>\n",
       "</table>\n",
       "</div>"
      ],
      "text/plain": [
       "   No. of 1  No. of 0\n",
       "0      6669      1331"
      ]
     },
     "execution_count": 7,
     "metadata": {},
     "output_type": "execute_result"
    }
   ],
   "source": [
    "review_balance_df(df,\"TARGET_5Yrs\")"
   ]
  },
  {
   "cell_type": "markdown",
   "id": "e2329454-9b44-44e6-b224-cbe95502737b",
   "metadata": {},
   "source": [
    "<h5> The results show an overweith of 83% for the overweighted class compared to the minority class. Thus, dataset is imbalanced towards the positive target"
   ]
  },
  {
   "cell_type": "markdown",
   "id": "c5386783-2e55-402e-9af7-4b9134b7b1da",
   "metadata": {},
   "source": [
    "<h4> 2. Clean Dataset"
   ]
  },
  {
   "cell_type": "markdown",
   "id": "10fae3f8-ae56-4ebc-b0f2-b9b84f43d96d",
   "metadata": {},
   "source": [
    "<h5> Firstly, the unique identifier needs to be removed from the data set"
   ]
  },
  {
   "cell_type": "code",
   "execution_count": 35,
   "id": "bacb5886-91c2-418b-99a3-e5d8f24b6f04",
   "metadata": {},
   "outputs": [
    {
     "data": {
      "text/html": [
       "<div>\n",
       "<style scoped>\n",
       "    .dataframe tbody tr th:only-of-type {\n",
       "        vertical-align: middle;\n",
       "    }\n",
       "\n",
       "    .dataframe tbody tr th {\n",
       "        vertical-align: top;\n",
       "    }\n",
       "\n",
       "    .dataframe thead th {\n",
       "        text-align: right;\n",
       "    }\n",
       "</style>\n",
       "<table border=\"1\" class=\"dataframe\">\n",
       "  <thead>\n",
       "    <tr style=\"text-align: right;\">\n",
       "      <th></th>\n",
       "      <th>GP</th>\n",
       "      <th>MIN</th>\n",
       "      <th>PTS</th>\n",
       "      <th>FGM</th>\n",
       "      <th>FGA</th>\n",
       "      <th>FG%</th>\n",
       "      <th>3P Made</th>\n",
       "      <th>3PA</th>\n",
       "      <th>3P%</th>\n",
       "      <th>FTM</th>\n",
       "      <th>FTA</th>\n",
       "      <th>FT%</th>\n",
       "      <th>OREB</th>\n",
       "      <th>DREB</th>\n",
       "      <th>REB</th>\n",
       "      <th>AST</th>\n",
       "      <th>STL</th>\n",
       "      <th>BLK</th>\n",
       "      <th>TOV</th>\n",
       "      <th>TARGET_5Yrs</th>\n",
       "    </tr>\n",
       "  </thead>\n",
       "  <tbody>\n",
       "    <tr>\n",
       "      <th>0</th>\n",
       "      <td>80</td>\n",
       "      <td>24.3</td>\n",
       "      <td>7.8</td>\n",
       "      <td>3.0</td>\n",
       "      <td>6.4</td>\n",
       "      <td>45.7</td>\n",
       "      <td>0.1</td>\n",
       "      <td>0.3</td>\n",
       "      <td>22.6</td>\n",
       "      <td>2.0</td>\n",
       "      <td>2.9</td>\n",
       "      <td>72.1</td>\n",
       "      <td>2.2</td>\n",
       "      <td>2.0</td>\n",
       "      <td>3.8</td>\n",
       "      <td>3.2</td>\n",
       "      <td>1.1</td>\n",
       "      <td>0.2</td>\n",
       "      <td>1.6</td>\n",
       "      <td>1</td>\n",
       "    </tr>\n",
       "    <tr>\n",
       "      <th>1</th>\n",
       "      <td>75</td>\n",
       "      <td>21.8</td>\n",
       "      <td>10.5</td>\n",
       "      <td>4.2</td>\n",
       "      <td>7.9</td>\n",
       "      <td>55.1</td>\n",
       "      <td>-0.3</td>\n",
       "      <td>-1.0</td>\n",
       "      <td>34.9</td>\n",
       "      <td>2.4</td>\n",
       "      <td>3.6</td>\n",
       "      <td>67.8</td>\n",
       "      <td>3.6</td>\n",
       "      <td>3.7</td>\n",
       "      <td>6.6</td>\n",
       "      <td>0.7</td>\n",
       "      <td>0.5</td>\n",
       "      <td>0.6</td>\n",
       "      <td>1.4</td>\n",
       "      <td>1</td>\n",
       "    </tr>\n",
       "    <tr>\n",
       "      <th>2</th>\n",
       "      <td>85</td>\n",
       "      <td>19.1</td>\n",
       "      <td>4.5</td>\n",
       "      <td>1.9</td>\n",
       "      <td>4.5</td>\n",
       "      <td>42.8</td>\n",
       "      <td>0.4</td>\n",
       "      <td>1.2</td>\n",
       "      <td>34.3</td>\n",
       "      <td>0.4</td>\n",
       "      <td>0.6</td>\n",
       "      <td>75.7</td>\n",
       "      <td>0.6</td>\n",
       "      <td>1.8</td>\n",
       "      <td>2.4</td>\n",
       "      <td>0.8</td>\n",
       "      <td>0.4</td>\n",
       "      <td>0.2</td>\n",
       "      <td>0.6</td>\n",
       "      <td>1</td>\n",
       "    </tr>\n",
       "    <tr>\n",
       "      <th>3</th>\n",
       "      <td>63</td>\n",
       "      <td>19.1</td>\n",
       "      <td>8.2</td>\n",
       "      <td>3.5</td>\n",
       "      <td>6.7</td>\n",
       "      <td>52.5</td>\n",
       "      <td>0.3</td>\n",
       "      <td>0.8</td>\n",
       "      <td>23.7</td>\n",
       "      <td>0.9</td>\n",
       "      <td>1.5</td>\n",
       "      <td>66.9</td>\n",
       "      <td>0.8</td>\n",
       "      <td>2.0</td>\n",
       "      <td>3.0</td>\n",
       "      <td>1.8</td>\n",
       "      <td>0.4</td>\n",
       "      <td>0.1</td>\n",
       "      <td>1.9</td>\n",
       "      <td>1</td>\n",
       "    </tr>\n",
       "    <tr>\n",
       "      <th>4</th>\n",
       "      <td>63</td>\n",
       "      <td>17.8</td>\n",
       "      <td>3.7</td>\n",
       "      <td>1.7</td>\n",
       "      <td>3.4</td>\n",
       "      <td>50.8</td>\n",
       "      <td>0.5</td>\n",
       "      <td>1.4</td>\n",
       "      <td>13.7</td>\n",
       "      <td>0.2</td>\n",
       "      <td>0.5</td>\n",
       "      <td>54.0</td>\n",
       "      <td>2.4</td>\n",
       "      <td>2.7</td>\n",
       "      <td>4.9</td>\n",
       "      <td>0.4</td>\n",
       "      <td>0.4</td>\n",
       "      <td>0.6</td>\n",
       "      <td>0.7</td>\n",
       "      <td>1</td>\n",
       "    </tr>\n",
       "  </tbody>\n",
       "</table>\n",
       "</div>"
      ],
      "text/plain": [
       "   GP   MIN   PTS  FGM  FGA   FG%  3P Made  3PA   3P%  FTM  FTA   FT%  OREB  \\\n",
       "0  80  24.3   7.8  3.0  6.4  45.7      0.1  0.3  22.6  2.0  2.9  72.1   2.2   \n",
       "1  75  21.8  10.5  4.2  7.9  55.1     -0.3 -1.0  34.9  2.4  3.6  67.8   3.6   \n",
       "2  85  19.1   4.5  1.9  4.5  42.8      0.4  1.2  34.3  0.4  0.6  75.7   0.6   \n",
       "3  63  19.1   8.2  3.5  6.7  52.5      0.3  0.8  23.7  0.9  1.5  66.9   0.8   \n",
       "4  63  17.8   3.7  1.7  3.4  50.8      0.5  1.4  13.7  0.2  0.5  54.0   2.4   \n",
       "\n",
       "   DREB  REB  AST  STL  BLK  TOV  TARGET_5Yrs  \n",
       "0   2.0  3.8  3.2  1.1  0.2  1.6            1  \n",
       "1   3.7  6.6  0.7  0.5  0.6  1.4            1  \n",
       "2   1.8  2.4  0.8  0.4  0.2  0.6            1  \n",
       "3   2.0  3.0  1.8  0.4  0.1  1.9            1  \n",
       "4   2.7  4.9  0.4  0.4  0.6  0.7            1  "
      ]
     },
     "execution_count": 35,
     "metadata": {},
     "output_type": "execute_result"
    }
   ],
   "source": [
    "df_cleaned = df.copy()\n",
    "df_cleaned.drop('Id', axis=1, inplace=True)\n",
    "df_cleaned.head()"
   ]
  },
  {
   "cell_type": "markdown",
   "id": "d88bb71c-9906-42a1-9191-4b0ae5159bed",
   "metadata": {},
   "source": [
    "<h4> 2.1 Saving column names from cleaned data set into a csv for model analysis"
   ]
  },
  {
   "cell_type": "markdown",
   "id": "189cdc0f-e613-47e6-b831-f8429b19546a",
   "metadata": {},
   "source": [
    "<h5> Then, the feature names will be saved within the data/interim folder as they will be used within the model experiments to asses which features have the most predictor relevance"
   ]
  },
  {
   "cell_type": "code",
   "execution_count": 36,
   "id": "ef769974-802a-480f-b585-1332d961e94f",
   "metadata": {},
   "outputs": [],
   "source": [
    "predictors = df_cleaned.copy()"
   ]
  },
  {
   "cell_type": "code",
   "execution_count": 37,
   "id": "167af7e8-9a71-41f3-aa86-4f3b9819f6d3",
   "metadata": {},
   "outputs": [],
   "source": [
    "predictors.drop('TARGET_5Yrs', axis=1, inplace=True)"
   ]
  },
  {
   "cell_type": "code",
   "execution_count": 38,
   "id": "3ee0ca22-ca3f-4fb4-b273-17eb009085b4",
   "metadata": {},
   "outputs": [],
   "source": [
    "predictors = predictors.columns.tolist()"
   ]
  },
  {
   "cell_type": "code",
   "execution_count": 39,
   "id": "2f7cfa40-08a1-43c0-be6c-4bfbfcb9df2e",
   "metadata": {},
   "outputs": [],
   "source": [
    "predictors_df = pd.DataFrame(data= {\"names\":predictors})\n",
    "predictors_df.to_csv('../data/interim/predictor_names.csv', index=False)"
   ]
  },
  {
   "cell_type": "markdown",
   "id": "f9af6dd6-30bd-4f9f-ace4-2cc18ed03374",
   "metadata": {},
   "source": [
    "<h4> 3. Rebalancing Test set"
   ]
  },
  {
   "cell_type": "markdown",
   "id": "52bca62b-e0d0-4adb-b6fc-1f94f65f8fb6",
   "metadata": {},
   "source": [
    "<h5> As mentioned previously, the training data set is imbalanced, therefore, an undersampling of the minority class will be performed in order to balance the data set for future usage within the experiment models"
   ]
  },
  {
   "cell_type": "markdown",
   "id": "ffc0c41a-6662-4dbf-a4fd-116c6abcf6dd",
   "metadata": {},
   "source": [
    "<h5> The apporach is to randomly reduce the mayority class to the same number of records of the minoriry class in order to get a balnanced representation of both classes in the training set"
   ]
  },
  {
   "cell_type": "markdown",
   "id": "fc8dedc0-b625-4ca7-85b4-e391c5107885",
   "metadata": {},
   "source": [
    "<h5> A custom function within the src folder is used to undersample the mayority class in a 2 class dataset "
   ]
  },
  {
   "cell_type": "code",
   "execution_count": 13,
   "id": "0cfb1544-f5b2-462d-ae4d-4af14eda7274",
   "metadata": {},
   "outputs": [],
   "source": [
    "from src.data.sets import rebalance_mayority_class"
   ]
  },
  {
   "cell_type": "code",
   "execution_count": 43,
   "id": "84c23ec4-80ae-444f-bb1c-295a6d432af0",
   "metadata": {},
   "outputs": [],
   "source": [
    "df_rebalanced = df_cleaned.copy()"
   ]
  },
  {
   "cell_type": "code",
   "execution_count": 15,
   "id": "659e19ac-e58d-4f5a-b955-6bb82779819e",
   "metadata": {},
   "outputs": [],
   "source": [
    "df_rebalanced = rebalance_mayority_class(df_cleaned, \"TARGET_5Yrs\")"
   ]
  },
  {
   "cell_type": "code",
   "execution_count": 16,
   "id": "055524bb-5c3e-42bd-997b-0f238dd0be1c",
   "metadata": {},
   "outputs": [
    {
     "data": {
      "text/plain": [
       "(2662, 20)"
      ]
     },
     "execution_count": 16,
     "metadata": {},
     "output_type": "execute_result"
    }
   ],
   "source": [
    "df_rebalanced.shape"
   ]
  },
  {
   "cell_type": "markdown",
   "id": "9b1b910e-4d7a-4f92-adba-0870ccc106c6",
   "metadata": {},
   "source": [
    "<h5> The resulting data frame is a 50% balanced 2 class data set. equal number of observations per class is obtained"
   ]
  },
  {
   "cell_type": "markdown",
   "id": "0ce01322-ea47-4367-9596-338e6007e7ec",
   "metadata": {},
   "source": [
    "<h4> 4. Scaling and subset test set into test and validation"
   ]
  },
  {
   "cell_type": "markdown",
   "id": "41b12d75-7ac9-4675-bd68-c14c7bd95740",
   "metadata": {},
   "source": [
    "<h5> In order to standarize the data, the training, validation and test sets will be scaled"
   ]
  },
  {
   "cell_type": "code",
   "execution_count": 17,
   "id": "0b5ef62f-6c49-4d8e-90b4-7ec212b215d8",
   "metadata": {},
   "outputs": [],
   "source": [
    "# Scaling sets with scaler model saved for the baseline"
   ]
  },
  {
   "cell_type": "code",
   "execution_count": 40,
   "id": "fab230b5-6fff-406a-bf2a-08cdfe6abc8b",
   "metadata": {},
   "outputs": [],
   "source": [
    "import joblib\n",
    "scaler = joblib.load('../models/scaler.joblib') "
   ]
  },
  {
   "cell_type": "code",
   "execution_count": 44,
   "id": "770c3178-8163-4d8c-b6ed-75099e7956b2",
   "metadata": {},
   "outputs": [],
   "source": [
    "target = df_rebalanced.pop(\"TARGET_5Yrs\")"
   ]
  },
  {
   "cell_type": "code",
   "execution_count": 45,
   "id": "7e1913d7-8cde-4666-85f3-419747388d99",
   "metadata": {},
   "outputs": [],
   "source": [
    "df_rebalanced_clean = scaler.fit_transform(df_rebalanced)"
   ]
  },
  {
   "cell_type": "code",
   "execution_count": 46,
   "id": "94a3c4c9-3030-4276-a2f1-3ee1f9a13b3a",
   "metadata": {},
   "outputs": [],
   "source": [
    "#Import subset function for getting training and evaluate\n",
    "from src.data.sets import subset_x_y"
   ]
  },
  {
   "cell_type": "code",
   "execution_count": 47,
   "id": "766f2d0f-6c41-4765-b1e9-f10253d86946",
   "metadata": {},
   "outputs": [],
   "source": [
    "X_train, X_val, y_train, y_val = subset_x_y(df_rebalanced_clean, target)"
   ]
  },
  {
   "cell_type": "markdown",
   "id": "bea281e7-e9ec-45d3-b58a-2b33857676f1",
   "metadata": {},
   "source": [
    "<h4> 5. Test dataset cleaning and scaling"
   ]
  },
  {
   "cell_type": "markdown",
   "id": "f5fb67e5-7a48-4fa9-b8a5-4da252b0a8f4",
   "metadata": {},
   "source": [
    "<h5> The same process from the training set of cleaning and scaling is performed for the test set"
   ]
  },
  {
   "cell_type": "code",
   "execution_count": 48,
   "id": "8221fea5-1d72-4aac-9bd0-e03388b764b2",
   "metadata": {},
   "outputs": [],
   "source": [
    "df_test = pd.read_csv('../data/raw/2022_test.csv')"
   ]
  },
  {
   "cell_type": "code",
   "execution_count": 49,
   "id": "0b3df93a-768f-428e-8032-5d3259ade9c7",
   "metadata": {},
   "outputs": [
    {
     "data": {
      "text/html": [
       "<div>\n",
       "<style scoped>\n",
       "    .dataframe tbody tr th:only-of-type {\n",
       "        vertical-align: middle;\n",
       "    }\n",
       "\n",
       "    .dataframe tbody tr th {\n",
       "        vertical-align: top;\n",
       "    }\n",
       "\n",
       "    .dataframe thead th {\n",
       "        text-align: right;\n",
       "    }\n",
       "</style>\n",
       "<table border=\"1\" class=\"dataframe\">\n",
       "  <thead>\n",
       "    <tr style=\"text-align: right;\">\n",
       "      <th></th>\n",
       "      <th>Id</th>\n",
       "      <th>GP</th>\n",
       "      <th>MIN</th>\n",
       "      <th>PTS</th>\n",
       "      <th>FGM</th>\n",
       "      <th>FGA</th>\n",
       "      <th>FG%</th>\n",
       "      <th>3P Made</th>\n",
       "      <th>3PA</th>\n",
       "      <th>3P%</th>\n",
       "      <th>FTM</th>\n",
       "      <th>FTA</th>\n",
       "      <th>FT%</th>\n",
       "      <th>OREB</th>\n",
       "      <th>DREB</th>\n",
       "      <th>REB</th>\n",
       "      <th>AST</th>\n",
       "      <th>STL</th>\n",
       "      <th>BLK</th>\n",
       "      <th>TOV</th>\n",
       "    </tr>\n",
       "  </thead>\n",
       "  <tbody>\n",
       "    <tr>\n",
       "      <th>0</th>\n",
       "      <td>0</td>\n",
       "      <td>56</td>\n",
       "      <td>9.1</td>\n",
       "      <td>4.0</td>\n",
       "      <td>1.6</td>\n",
       "      <td>3.7</td>\n",
       "      <td>43.7</td>\n",
       "      <td>0.1</td>\n",
       "      <td>0.3</td>\n",
       "      <td>7.3</td>\n",
       "      <td>0.7</td>\n",
       "      <td>1.2</td>\n",
       "      <td>63.4</td>\n",
       "      <td>1.2</td>\n",
       "      <td>0.8</td>\n",
       "      <td>1.7</td>\n",
       "      <td>0.4</td>\n",
       "      <td>0.2</td>\n",
       "      <td>0.3</td>\n",
       "      <td>0.8</td>\n",
       "    </tr>\n",
       "    <tr>\n",
       "      <th>1</th>\n",
       "      <td>1</td>\n",
       "      <td>43</td>\n",
       "      <td>19.3</td>\n",
       "      <td>10.1</td>\n",
       "      <td>3.7</td>\n",
       "      <td>8.1</td>\n",
       "      <td>46.0</td>\n",
       "      <td>0.6</td>\n",
       "      <td>1.7</td>\n",
       "      <td>35.1</td>\n",
       "      <td>1.8</td>\n",
       "      <td>2.5</td>\n",
       "      <td>75.3</td>\n",
       "      <td>0.5</td>\n",
       "      <td>0.9</td>\n",
       "      <td>1.5</td>\n",
       "      <td>3.5</td>\n",
       "      <td>0.6</td>\n",
       "      <td>0.0</td>\n",
       "      <td>1.8</td>\n",
       "    </tr>\n",
       "    <tr>\n",
       "      <th>2</th>\n",
       "      <td>2</td>\n",
       "      <td>82</td>\n",
       "      <td>33.9</td>\n",
       "      <td>11.3</td>\n",
       "      <td>4.9</td>\n",
       "      <td>10.6</td>\n",
       "      <td>45.6</td>\n",
       "      <td>0.5</td>\n",
       "      <td>1.9</td>\n",
       "      <td>44.8</td>\n",
       "      <td>1.8</td>\n",
       "      <td>2.7</td>\n",
       "      <td>71.2</td>\n",
       "      <td>1.3</td>\n",
       "      <td>3.3</td>\n",
       "      <td>4.5</td>\n",
       "      <td>2.5</td>\n",
       "      <td>1.3</td>\n",
       "      <td>0.3</td>\n",
       "      <td>2.0</td>\n",
       "    </tr>\n",
       "    <tr>\n",
       "      <th>3</th>\n",
       "      <td>3</td>\n",
       "      <td>86</td>\n",
       "      <td>44.7</td>\n",
       "      <td>18.8</td>\n",
       "      <td>6.8</td>\n",
       "      <td>15.9</td>\n",
       "      <td>42.9</td>\n",
       "      <td>0.5</td>\n",
       "      <td>1.8</td>\n",
       "      <td>13.5</td>\n",
       "      <td>4.5</td>\n",
       "      <td>6.3</td>\n",
       "      <td>70.9</td>\n",
       "      <td>1.5</td>\n",
       "      <td>3.2</td>\n",
       "      <td>5.0</td>\n",
       "      <td>4.1</td>\n",
       "      <td>0.9</td>\n",
       "      <td>0.1</td>\n",
       "      <td>3.6</td>\n",
       "    </tr>\n",
       "    <tr>\n",
       "      <th>4</th>\n",
       "      <td>4</td>\n",
       "      <td>58</td>\n",
       "      <td>12.3</td>\n",
       "      <td>4.7</td>\n",
       "      <td>1.6</td>\n",
       "      <td>4.0</td>\n",
       "      <td>40.0</td>\n",
       "      <td>0.5</td>\n",
       "      <td>1.7</td>\n",
       "      <td>38.7</td>\n",
       "      <td>1.1</td>\n",
       "      <td>1.3</td>\n",
       "      <td>76.9</td>\n",
       "      <td>0.2</td>\n",
       "      <td>0.6</td>\n",
       "      <td>0.9</td>\n",
       "      <td>1.5</td>\n",
       "      <td>0.5</td>\n",
       "      <td>-0.4</td>\n",
       "      <td>0.9</td>\n",
       "    </tr>\n",
       "  </tbody>\n",
       "</table>\n",
       "</div>"
      ],
      "text/plain": [
       "   Id  GP   MIN   PTS  FGM   FGA   FG%  3P Made  3PA   3P%  FTM  FTA   FT%  \\\n",
       "0   0  56   9.1   4.0  1.6   3.7  43.7      0.1  0.3   7.3  0.7  1.2  63.4   \n",
       "1   1  43  19.3  10.1  3.7   8.1  46.0      0.6  1.7  35.1  1.8  2.5  75.3   \n",
       "2   2  82  33.9  11.3  4.9  10.6  45.6      0.5  1.9  44.8  1.8  2.7  71.2   \n",
       "3   3  86  44.7  18.8  6.8  15.9  42.9      0.5  1.8  13.5  4.5  6.3  70.9   \n",
       "4   4  58  12.3   4.7  1.6   4.0  40.0      0.5  1.7  38.7  1.1  1.3  76.9   \n",
       "\n",
       "   OREB  DREB  REB  AST  STL  BLK  TOV  \n",
       "0   1.2   0.8  1.7  0.4  0.2  0.3  0.8  \n",
       "1   0.5   0.9  1.5  3.5  0.6  0.0  1.8  \n",
       "2   1.3   3.3  4.5  2.5  1.3  0.3  2.0  \n",
       "3   1.5   3.2  5.0  4.1  0.9  0.1  3.6  \n",
       "4   0.2   0.6  0.9  1.5  0.5 -0.4  0.9  "
      ]
     },
     "execution_count": 49,
     "metadata": {},
     "output_type": "execute_result"
    }
   ],
   "source": [
    "df_test.head()"
   ]
  },
  {
   "cell_type": "code",
   "execution_count": 50,
   "id": "18ebdb17-502a-4787-9091-9e7abf57227b",
   "metadata": {},
   "outputs": [],
   "source": [
    "X_test_ID = df_test.pop('Id')"
   ]
  },
  {
   "cell_type": "code",
   "execution_count": 51,
   "id": "8b8ce7a4-f5ac-4e95-af72-91a0ad2189a2",
   "metadata": {},
   "outputs": [],
   "source": [
    "X_test = df_test.copy()"
   ]
  },
  {
   "cell_type": "code",
   "execution_count": 53,
   "id": "6ef04bfc-22d4-4586-af46-85e4e3d389d3",
   "metadata": {},
   "outputs": [],
   "source": [
    "X_test = scaler.fit_transform(X_test)"
   ]
  },
  {
   "cell_type": "code",
   "execution_count": 54,
   "id": "f5b687a7-4dd7-48d9-a271-fa5ab5326625",
   "metadata": {},
   "outputs": [],
   "source": [
    "#Save new test and validation sets \n",
    "from src.data.sets import save_sets"
   ]
  },
  {
   "cell_type": "code",
   "execution_count": 55,
   "id": "2bef79f2-92ea-4fe0-bc9b-8f50e4b8a918",
   "metadata": {},
   "outputs": [],
   "source": [
    "save_sets(X_train, X_val, y_train, y_val, X_test, X_test_ID)"
   ]
  },
  {
   "cell_type": "markdown",
   "id": "9e340389-3d3a-4dfb-96df-6860218a7c1d",
   "metadata": {},
   "source": [
    "<h5> Resulting training, validation and test sets are saved with a custom function into the ../data/processed folder that will be accessable for usage within future models and team members"
   ]
  },
  {
   "cell_type": "code",
   "execution_count": null,
   "id": "d35620f0-8694-412c-97c6-0a2c3563ef9f",
   "metadata": {},
   "outputs": [],
   "source": []
  }
 ],
 "metadata": {
  "kernelspec": {
   "display_name": "Python 3 (ipykernel)",
   "language": "python",
   "name": "python3"
  },
  "language_info": {
   "codemirror_mode": {
    "name": "ipython",
    "version": 3
   },
   "file_extension": ".py",
   "mimetype": "text/x-python",
   "name": "python",
   "nbconvert_exporter": "python",
   "pygments_lexer": "ipython3",
   "version": "3.10.6"
  }
 },
 "nbformat": 4,
 "nbformat_minor": 5
}
